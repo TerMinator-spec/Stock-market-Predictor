{
  "nbformat": 4,
  "nbformat_minor": 5,
  "metadata": {
    "kernelspec": {
      "display_name": "Python 3",
      "language": "python",
      "name": "python3"
    },
    "language_info": {
      "codemirror_mode": {
        "name": "ipython",
        "version": 3
      },
      "file_extension": ".py",
      "mimetype": "text/x-python",
      "name": "python",
      "nbconvert_exporter": "python",
      "pygments_lexer": "ipython3",
      "version": "3.5.2"
    },
    "colab": {
      "name": "Copy of gpu_lstm.ipynb",
      "provenance": [],
      "include_colab_link": true
    },
    "accelerator": "TPU"
  },
  "cells": [
    {
      "cell_type": "markdown",
      "metadata": {
        "id": "view-in-github",
        "colab_type": "text"
      },
      "source": [
        "<a href=\"https://colab.research.google.com/github/TerMinator-spec/Stock-market-predictor/blob/master/Copy_of_gpu_lstm.ipynb\" target=\"_parent\"><img src=\"https://colab.research.google.com/assets/colab-badge.svg\" alt=\"Open In Colab\"/></a>"
      ]
    },
    {
      "cell_type": "code",
      "metadata": {
        "id": "br5byCgciJwi",
        "colab": {
          "base_uri": "https://localhost:8080/"
        },
        "outputId": "a142fc13-89ec-43ab-f00c-f7b78fd427af"
      },
      "source": [
        "from google.colab import drive\r\n",
        "drive.mount('/content/gdrive')"
      ],
      "id": "br5byCgciJwi",
      "execution_count": 1,
      "outputs": [
        {
          "output_type": "stream",
          "text": [
            "Mounted at /content/gdrive\n"
          ],
          "name": "stdout"
        }
      ]
    },
    {
      "cell_type": "code",
      "metadata": {
        "id": "NnLSZ7teiuJQ",
        "colab": {
          "base_uri": "https://localhost:8080/"
        },
        "outputId": "bdecda16-4803-4080-fd88-725dfb43015f"
      },
      "source": [
        "import os\r\n",
        "%cd /content/gdrive/My Drive"
      ],
      "id": "NnLSZ7teiuJQ",
      "execution_count": 2,
      "outputs": [
        {
          "output_type": "stream",
          "text": [
            "/content/gdrive/My Drive\n"
          ],
          "name": "stdout"
        }
      ]
    },
    {
      "cell_type": "code",
      "metadata": {
        "id": "respected-belfast"
      },
      "source": [
        "from keras.models import Sequential\n",
        "from keras.layers import Dense, Dropout, Activation, Input, LSTM, Dense, merge, Flatten\n",
        "from keras.models import load_model\n",
        "from sklearn.preprocessing import MinMaxScaler\n",
        "from sklearn.metrics import mean_squared_error\n",
        "from sklearn.decomposition import PCA, KernelPCA\n",
        "import pandas as pd\n",
        "import numpy as np\n",
        "import matplotlib.pyplot as plt\n",
        "import seaborn as sns\n",
        "from pyti.exponential_moving_average import exponential_moving_average as ema\n",
        "from pyti.relative_strength_index import relative_strength_index as rsi\n",
        "from pyti.moving_average_convergence_divergence import moving_average_convergence_divergence as macd\n",
        "#Used TA-Lib for creating additional features. More on this later.\n",
        "# from talib.abstract import *\n",
        "# from talib import MA_Type"
      ],
      "id": "respected-belfast",
      "execution_count": 359,
      "outputs": []
    },
    {
      "cell_type": "code",
      "metadata": {
        "id": "mature-sensitivity",
        "colab": {
          "base_uri": "https://localhost:8080/"
        },
        "outputId": "30fe8b40-8c83-443e-a1f0-8cfae11ae1c7"
      },
      "source": [
        "!pip install pyti"
      ],
      "id": "mature-sensitivity",
      "execution_count": 4,
      "outputs": [
        {
          "output_type": "stream",
          "text": [
            "Collecting pyti\n",
            "  Downloading https://files.pythonhosted.org/packages/0f/9a/913e5bc3c3e812b490338fc9096b608cf0e19d1c3cd5b1c2b58b77b69b85/pyti-0.2.2-py2.py3-none-any.whl\n",
            "Requirement already satisfied: pandas in /usr/local/lib/python3.7/dist-packages (from pyti) (1.1.5)\n",
            "Requirement already satisfied: numpy in /usr/local/lib/python3.7/dist-packages (from pyti) (1.19.5)\n",
            "Requirement already satisfied: python-dateutil>=2.7.3 in /usr/local/lib/python3.7/dist-packages (from pandas->pyti) (2.8.1)\n",
            "Requirement already satisfied: pytz>=2017.2 in /usr/local/lib/python3.7/dist-packages (from pandas->pyti) (2018.9)\n",
            "Requirement already satisfied: six>=1.5 in /usr/local/lib/python3.7/dist-packages (from python-dateutil>=2.7.3->pandas->pyti) (1.15.0)\n",
            "Installing collected packages: pyti\n",
            "Successfully installed pyti-0.2.2\n"
          ],
          "name": "stdout"
        }
      ]
    },
    {
      "cell_type": "code",
      "metadata": {
        "id": "adolescent-swift",
        "outputId": "12d990a6-1a6a-47d6-cc4b-0996f9bd1634"
      },
      "source": [
        "# import tensorflow as tf\n",
        "# sess = tf.compat.v1.Session(config=tf.compat.v1.ConfigProto(log_device_placement=True))\n"
      ],
      "id": "adolescent-swift",
      "execution_count": null,
      "outputs": [
        {
          "output_type": "stream",
          "text": [
            "Device mapping:\n",
            "/job:localhost/replica:0/task:0/device:XLA_CPU:0 -> device: XLA_CPU device\n",
            "/job:localhost/replica:0/task:0/device:XLA_GPU:0 -> device: XLA_GPU device\n",
            "\n"
          ],
          "name": "stdout"
        }
      ]
    },
    {
      "cell_type": "code",
      "metadata": {
        "id": "static-terrain"
      },
      "source": [
        "def resample_stock_data(df, timedelta):\n",
        "    # make a copy\n",
        "        df = df.copy()\n",
        "\n",
        "        # convert index to datetime\n",
        "        df.index = pd.to_datetime(df.index)\n",
        "\n",
        "        # sort the index (evidently required by resample())\n",
        "        df = df.sort_index()\n",
        "\n",
        "        aggregation_dict = {\n",
        "             'open': 'first', \n",
        "             'high': 'max',\n",
        "             'low': 'min',\n",
        "             'close': 'last',\n",
        "\n",
        "        }\n",
        "\n",
        "        rename_dict = {\n",
        "            'open': 'open',\n",
        "            'high': 'high',\n",
        "            'low': 'low',\n",
        "            'close': 'close',\n",
        "\n",
        "        }\n",
        "\n",
        "\n",
        "        return (df\n",
        "          .resample(timedelta)\n",
        "          .agg(aggregation_dict)\n",
        "          .rename(columns=rename_dict)\n",
        "        )"
      ],
      "id": "static-terrain",
      "execution_count": 360,
      "outputs": []
    },
    {
      "cell_type": "code",
      "metadata": {
        "id": "initial-corrections"
      },
      "source": [
        "import pandas as pd\n",
        "import numpy as np\n",
        "data=pd.read_csv('bankniftyoneminutefinal.csv')"
      ],
      "id": "initial-corrections",
      "execution_count": 361,
      "outputs": []
    },
    {
      "cell_type": "code",
      "metadata": {
        "id": "ecological-turkey"
      },
      "source": [
        "data['date_time']=pd.to_datetime(data['date'] + ' ' + data['time'])"
      ],
      "id": "ecological-turkey",
      "execution_count": 362,
      "outputs": []
    },
    {
      "cell_type": "code",
      "metadata": {
        "colab": {
          "base_uri": "https://localhost:8080/",
          "height": 198
        },
        "id": "0r63jHjqgw3d",
        "outputId": "2ee310d5-3fb3-445f-895e-1fd2263852da"
      },
      "source": [
        "data.head()"
      ],
      "id": "0r63jHjqgw3d",
      "execution_count": 363,
      "outputs": [
        {
          "output_type": "execute_result",
          "data": {
            "text/html": [
              "<div>\n",
              "<style scoped>\n",
              "    .dataframe tbody tr th:only-of-type {\n",
              "        vertical-align: middle;\n",
              "    }\n",
              "\n",
              "    .dataframe tbody tr th {\n",
              "        vertical-align: top;\n",
              "    }\n",
              "\n",
              "    .dataframe thead th {\n",
              "        text-align: right;\n",
              "    }\n",
              "</style>\n",
              "<table border=\"1\" class=\"dataframe\">\n",
              "  <thead>\n",
              "    <tr style=\"text-align: right;\">\n",
              "      <th></th>\n",
              "      <th>date</th>\n",
              "      <th>time</th>\n",
              "      <th>open</th>\n",
              "      <th>high</th>\n",
              "      <th>low</th>\n",
              "      <th>close</th>\n",
              "      <th>Unnamed: 6</th>\n",
              "      <th>date_time</th>\n",
              "    </tr>\n",
              "  </thead>\n",
              "  <tbody>\n",
              "    <tr>\n",
              "      <th>0</th>\n",
              "      <td>1/9/2015</td>\n",
              "      <td>9:15:00</td>\n",
              "      <td>18845.9</td>\n",
              "      <td>18845.90</td>\n",
              "      <td>18801.70</td>\n",
              "      <td>18801.70</td>\n",
              "      <td>NaN</td>\n",
              "      <td>2015-01-09 09:15:00</td>\n",
              "    </tr>\n",
              "    <tr>\n",
              "      <th>1</th>\n",
              "      <td>1/9/2015</td>\n",
              "      <td>9:16:00</td>\n",
              "      <td>18801.7</td>\n",
              "      <td>18806.05</td>\n",
              "      <td>18790.20</td>\n",
              "      <td>18794.65</td>\n",
              "      <td>NaN</td>\n",
              "      <td>2015-01-09 09:16:00</td>\n",
              "    </tr>\n",
              "    <tr>\n",
              "      <th>2</th>\n",
              "      <td>1/9/2015</td>\n",
              "      <td>9:17:00</td>\n",
              "      <td>18796.0</td>\n",
              "      <td>18829.00</td>\n",
              "      <td>18794.65</td>\n",
              "      <td>18827.30</td>\n",
              "      <td>NaN</td>\n",
              "      <td>2015-01-09 09:17:00</td>\n",
              "    </tr>\n",
              "    <tr>\n",
              "      <th>3</th>\n",
              "      <td>1/9/2015</td>\n",
              "      <td>9:18:00</td>\n",
              "      <td>18827.3</td>\n",
              "      <td>18864.00</td>\n",
              "      <td>18827.30</td>\n",
              "      <td>18862.10</td>\n",
              "      <td>NaN</td>\n",
              "      <td>2015-01-09 09:18:00</td>\n",
              "    </tr>\n",
              "    <tr>\n",
              "      <th>4</th>\n",
              "      <td>1/9/2015</td>\n",
              "      <td>9:19:00</td>\n",
              "      <td>18862.1</td>\n",
              "      <td>18862.10</td>\n",
              "      <td>18843.55</td>\n",
              "      <td>18849.25</td>\n",
              "      <td>NaN</td>\n",
              "      <td>2015-01-09 09:19:00</td>\n",
              "    </tr>\n",
              "  </tbody>\n",
              "</table>\n",
              "</div>"
            ],
            "text/plain": [
              "       date     time     open  ...     close  Unnamed: 6           date_time\n",
              "0  1/9/2015  9:15:00  18845.9  ...  18801.70         NaN 2015-01-09 09:15:00\n",
              "1  1/9/2015  9:16:00  18801.7  ...  18794.65         NaN 2015-01-09 09:16:00\n",
              "2  1/9/2015  9:17:00  18796.0  ...  18827.30         NaN 2015-01-09 09:17:00\n",
              "3  1/9/2015  9:18:00  18827.3  ...  18862.10         NaN 2015-01-09 09:18:00\n",
              "4  1/9/2015  9:19:00  18862.1  ...  18849.25         NaN 2015-01-09 09:19:00\n",
              "\n",
              "[5 rows x 8 columns]"
            ]
          },
          "metadata": {
            "tags": []
          },
          "execution_count": 363
        }
      ]
    },
    {
      "cell_type": "code",
      "metadata": {
        "id": "demonstrated-feelings"
      },
      "source": [
        "data=data.drop('Unnamed: 6',axis=1)"
      ],
      "id": "demonstrated-feelings",
      "execution_count": 364,
      "outputs": []
    },
    {
      "cell_type": "code",
      "metadata": {
        "id": "major-first"
      },
      "source": [
        "data=data.set_index('date_time')"
      ],
      "id": "major-first",
      "execution_count": 365,
      "outputs": []
    },
    {
      "cell_type": "code",
      "metadata": {
        "id": "missing-warrior"
      },
      "source": [
        "data_10=resample_stock_data(data,'10min')"
      ],
      "id": "missing-warrior",
      "execution_count": 366,
      "outputs": []
    },
    {
      "cell_type": "code",
      "metadata": {
        "id": "beneficial-grave"
      },
      "source": [
        "data_10=data_10.dropna()"
      ],
      "id": "beneficial-grave",
      "execution_count": 367,
      "outputs": []
    },
    {
      "cell_type": "code",
      "metadata": {
        "id": "immune-labor",
        "colab": {
          "base_uri": "https://localhost:8080/",
          "height": 228
        },
        "outputId": "f6f45139-8c80-42d0-e30a-5bfd92a39200"
      },
      "source": [
        "data_10.head()\r\n"
      ],
      "id": "immune-labor",
      "execution_count": 368,
      "outputs": [
        {
          "output_type": "execute_result",
          "data": {
            "text/html": [
              "<div>\n",
              "<style scoped>\n",
              "    .dataframe tbody tr th:only-of-type {\n",
              "        vertical-align: middle;\n",
              "    }\n",
              "\n",
              "    .dataframe tbody tr th {\n",
              "        vertical-align: top;\n",
              "    }\n",
              "\n",
              "    .dataframe thead th {\n",
              "        text-align: right;\n",
              "    }\n",
              "</style>\n",
              "<table border=\"1\" class=\"dataframe\">\n",
              "  <thead>\n",
              "    <tr style=\"text-align: right;\">\n",
              "      <th></th>\n",
              "      <th>open</th>\n",
              "      <th>high</th>\n",
              "      <th>low</th>\n",
              "      <th>close</th>\n",
              "    </tr>\n",
              "    <tr>\n",
              "      <th>date_time</th>\n",
              "      <th></th>\n",
              "      <th></th>\n",
              "      <th></th>\n",
              "      <th></th>\n",
              "    </tr>\n",
              "  </thead>\n",
              "  <tbody>\n",
              "    <tr>\n",
              "      <th>2015-01-09 09:10:00</th>\n",
              "      <td>18845.90</td>\n",
              "      <td>18864.00</td>\n",
              "      <td>18790.2</td>\n",
              "      <td>18849.25</td>\n",
              "    </tr>\n",
              "    <tr>\n",
              "      <th>2015-01-09 09:20:00</th>\n",
              "      <td>18849.25</td>\n",
              "      <td>18859.65</td>\n",
              "      <td>18799.4</td>\n",
              "      <td>18815.15</td>\n",
              "    </tr>\n",
              "    <tr>\n",
              "      <th>2015-01-09 09:30:00</th>\n",
              "      <td>18815.15</td>\n",
              "      <td>18821.40</td>\n",
              "      <td>18772.9</td>\n",
              "      <td>18800.05</td>\n",
              "    </tr>\n",
              "    <tr>\n",
              "      <th>2015-01-09 09:40:00</th>\n",
              "      <td>18800.05</td>\n",
              "      <td>18814.25</td>\n",
              "      <td>18758.5</td>\n",
              "      <td>18779.40</td>\n",
              "    </tr>\n",
              "    <tr>\n",
              "      <th>2015-01-09 09:50:00</th>\n",
              "      <td>18783.05</td>\n",
              "      <td>18808.30</td>\n",
              "      <td>18761.1</td>\n",
              "      <td>18802.90</td>\n",
              "    </tr>\n",
              "  </tbody>\n",
              "</table>\n",
              "</div>"
            ],
            "text/plain": [
              "                         open      high      low     close\n",
              "date_time                                                 \n",
              "2015-01-09 09:10:00  18845.90  18864.00  18790.2  18849.25\n",
              "2015-01-09 09:20:00  18849.25  18859.65  18799.4  18815.15\n",
              "2015-01-09 09:30:00  18815.15  18821.40  18772.9  18800.05\n",
              "2015-01-09 09:40:00  18800.05  18814.25  18758.5  18779.40\n",
              "2015-01-09 09:50:00  18783.05  18808.30  18761.1  18802.90"
            ]
          },
          "metadata": {
            "tags": []
          },
          "execution_count": 368
        }
      ]
    },
    {
      "cell_type": "code",
      "metadata": {
        "id": "close-exemption"
      },
      "source": [
        "DATA=data_10"
      ],
      "id": "close-exemption",
      "execution_count": 369,
      "outputs": []
    },
    {
      "cell_type": "code",
      "metadata": {
        "id": "surrounded-worth",
        "colab": {
          "base_uri": "https://localhost:8080/"
        },
        "outputId": "9cf26f1b-853a-45eb-a356-cb7f65af6f34"
      },
      "source": [
        "DATA['hour'] = DATA.index.hour\n",
        "DATA['day']  = DATA.index.weekday\n",
        "DATA['week'] = DATA.index.week\n",
        "\n",
        "DATA['close']  = pd.to_numeric(DATA['close'])\n",
        "DATA['open']   = pd.to_numeric(DATA['open'])\n",
        "\n",
        "DATA['avg_price']  = (DATA['low'] + DATA['high'])/2\n",
        "DATA['range']      = DATA['high'] - DATA['low']\n",
        "DATA['ohlc_price'] = (DATA['low'] + DATA['high'] + DATA['open'] + DATA['close'])/4\n",
        "DATA['oc_diff']      = DATA['open'] - DATA['close']\n",
        "DATA['RSI'] = rsi(DATA['close'],  14)\n",
        "DATA['MACD'] = macd(DATA['close'], 12, 26)\n",
        "\n",
        "# inputs = {\n",
        "#     'open'   : DATA['open'].values,\n",
        "#     'high'   : DATA['high'].values,\n",
        "#     'low'    : DATA['low'].values,\n",
        "#     'close'  : DATA['close'].values,\n",
        "    \n",
        "# }\n",
        "DATA['ema'] = ema(DATA[\"close\"], 15)\n",
        "#DATA['ema'] = MA(inputs, timeperiod=15, matype=MA_Type.T3)\n",
        "DATA['bear_power'] = DATA['low'] - DATA['ema']\n",
        "DATA['bull_power'] = DATA['high'] - DATA['ema']\n",
        "# Since computing EMA leave some of the rows empty, we want to remove them. (EMA is a lagging indicator)\n",
        "DATA.dropna(inplace=True)\n",
        "# Add 1D PCA vector as a feature as well. This helped increasing the accuracy by adding more variance to the feature set\n",
        "pca_input = DATA.drop('close',1).copy()\n",
        "pca_features = pca_input.columns.tolist()\n",
        "pca = PCA(n_components=1)\n",
        "DATA['pca'] = pca.fit_transform(pca_input.values.astype('float32'))"
      ],
      "id": "surrounded-worth",
      "execution_count": 370,
      "outputs": [
        {
          "output_type": "stream",
          "text": [
            "/usr/local/lib/python3.7/dist-packages/ipykernel_launcher.py:3: FutureWarning: weekofyear and week have been deprecated, please use DatetimeIndex.isocalendar().week instead, which returns a Series.  To exactly reproduce the behavior of week and weekofyear and return an Index, you may call pd.Int64Index(idx.isocalendar().week)\n",
            "  This is separate from the ipykernel package so we can avoid doing imports until\n"
          ],
          "name": "stderr"
        }
      ]
    },
    {
      "cell_type": "code",
      "metadata": {
        "id": "dental-exhibit",
        "colab": {
          "base_uri": "https://localhost:8080/",
          "height": 421
        },
        "outputId": "444974cf-8743-4280-b5b6-d569790663e1"
      },
      "source": [
        "DATA.head()"
      ],
      "id": "dental-exhibit",
      "execution_count": 371,
      "outputs": [
        {
          "output_type": "execute_result",
          "data": {
            "text/html": [
              "<div>\n",
              "<style scoped>\n",
              "    .dataframe tbody tr th:only-of-type {\n",
              "        vertical-align: middle;\n",
              "    }\n",
              "\n",
              "    .dataframe tbody tr th {\n",
              "        vertical-align: top;\n",
              "    }\n",
              "\n",
              "    .dataframe thead th {\n",
              "        text-align: right;\n",
              "    }\n",
              "</style>\n",
              "<table border=\"1\" class=\"dataframe\">\n",
              "  <thead>\n",
              "    <tr style=\"text-align: right;\">\n",
              "      <th></th>\n",
              "      <th>open</th>\n",
              "      <th>high</th>\n",
              "      <th>low</th>\n",
              "      <th>close</th>\n",
              "      <th>hour</th>\n",
              "      <th>day</th>\n",
              "      <th>week</th>\n",
              "      <th>avg_price</th>\n",
              "      <th>range</th>\n",
              "      <th>ohlc_price</th>\n",
              "      <th>oc_diff</th>\n",
              "      <th>RSI</th>\n",
              "      <th>MACD</th>\n",
              "      <th>ema</th>\n",
              "      <th>bear_power</th>\n",
              "      <th>bull_power</th>\n",
              "      <th>pca</th>\n",
              "    </tr>\n",
              "    <tr>\n",
              "      <th>date_time</th>\n",
              "      <th></th>\n",
              "      <th></th>\n",
              "      <th></th>\n",
              "      <th></th>\n",
              "      <th></th>\n",
              "      <th></th>\n",
              "      <th></th>\n",
              "      <th></th>\n",
              "      <th></th>\n",
              "      <th></th>\n",
              "      <th></th>\n",
              "      <th></th>\n",
              "      <th></th>\n",
              "      <th></th>\n",
              "      <th></th>\n",
              "      <th></th>\n",
              "      <th></th>\n",
              "    </tr>\n",
              "  </thead>\n",
              "  <tbody>\n",
              "    <tr>\n",
              "      <th>2015-01-09 13:20:00</th>\n",
              "      <td>18597.30</td>\n",
              "      <td>18606.10</td>\n",
              "      <td>18570.30</td>\n",
              "      <td>18600.15</td>\n",
              "      <td>13</td>\n",
              "      <td>4</td>\n",
              "      <td>2</td>\n",
              "      <td>18588.200</td>\n",
              "      <td>35.80</td>\n",
              "      <td>18593.4625</td>\n",
              "      <td>-2.85</td>\n",
              "      <td>35.446717</td>\n",
              "      <td>-57.375399</td>\n",
              "      <td>18621.286213</td>\n",
              "      <td>-50.986213</td>\n",
              "      <td>-15.186213</td>\n",
              "      <td>-10850.430664</td>\n",
              "    </tr>\n",
              "    <tr>\n",
              "      <th>2015-01-09 13:30:00</th>\n",
              "      <td>18600.15</td>\n",
              "      <td>18605.85</td>\n",
              "      <td>18568.80</td>\n",
              "      <td>18588.25</td>\n",
              "      <td>13</td>\n",
              "      <td>4</td>\n",
              "      <td>2</td>\n",
              "      <td>18587.325</td>\n",
              "      <td>37.05</td>\n",
              "      <td>18590.7625</td>\n",
              "      <td>11.90</td>\n",
              "      <td>34.374929</td>\n",
              "      <td>-54.296261</td>\n",
              "      <td>18613.478461</td>\n",
              "      <td>-44.678461</td>\n",
              "      <td>-7.628461</td>\n",
              "      <td>-10854.422852</td>\n",
              "    </tr>\n",
              "    <tr>\n",
              "      <th>2015-01-09 13:40:00</th>\n",
              "      <td>18590.00</td>\n",
              "      <td>18597.50</td>\n",
              "      <td>18571.30</td>\n",
              "      <td>18582.35</td>\n",
              "      <td>13</td>\n",
              "      <td>4</td>\n",
              "      <td>2</td>\n",
              "      <td>18584.400</td>\n",
              "      <td>26.20</td>\n",
              "      <td>18585.2875</td>\n",
              "      <td>7.65</td>\n",
              "      <td>33.828783</td>\n",
              "      <td>-52.099189</td>\n",
              "      <td>18606.025190</td>\n",
              "      <td>-34.725190</td>\n",
              "      <td>-8.525190</td>\n",
              "      <td>-10867.430664</td>\n",
              "    </tr>\n",
              "    <tr>\n",
              "      <th>2015-01-09 13:50:00</th>\n",
              "      <td>18578.00</td>\n",
              "      <td>18592.00</td>\n",
              "      <td>18493.80</td>\n",
              "      <td>18519.10</td>\n",
              "      <td>13</td>\n",
              "      <td>4</td>\n",
              "      <td>2</td>\n",
              "      <td>18542.900</td>\n",
              "      <td>98.20</td>\n",
              "      <td>18545.7250</td>\n",
              "      <td>58.90</td>\n",
              "      <td>28.585470</td>\n",
              "      <td>-55.830937</td>\n",
              "      <td>18590.966579</td>\n",
              "      <td>-97.166579</td>\n",
              "      <td>1.033421</td>\n",
              "      <td>-10945.405273</td>\n",
              "    </tr>\n",
              "    <tr>\n",
              "      <th>2015-01-09 14:00:00</th>\n",
              "      <td>18519.10</td>\n",
              "      <td>18529.30</td>\n",
              "      <td>18479.65</td>\n",
              "      <td>18521.25</td>\n",
              "      <td>14</td>\n",
              "      <td>4</td>\n",
              "      <td>2</td>\n",
              "      <td>18504.475</td>\n",
              "      <td>49.65</td>\n",
              "      <td>18512.3250</td>\n",
              "      <td>-2.15</td>\n",
              "      <td>28.988383</td>\n",
              "      <td>-55.531696</td>\n",
              "      <td>18578.798979</td>\n",
              "      <td>-99.148979</td>\n",
              "      <td>-49.498979</td>\n",
              "      <td>-11035.163086</td>\n",
              "    </tr>\n",
              "  </tbody>\n",
              "</table>\n",
              "</div>"
            ],
            "text/plain": [
              "                         open      high  ...  bull_power           pca\n",
              "date_time                                ...                          \n",
              "2015-01-09 13:20:00  18597.30  18606.10  ...  -15.186213 -10850.430664\n",
              "2015-01-09 13:30:00  18600.15  18605.85  ...   -7.628461 -10854.422852\n",
              "2015-01-09 13:40:00  18590.00  18597.50  ...   -8.525190 -10867.430664\n",
              "2015-01-09 13:50:00  18578.00  18592.00  ...    1.033421 -10945.405273\n",
              "2015-01-09 14:00:00  18519.10  18529.30  ...  -49.498979 -11035.163086\n",
              "\n",
              "[5 rows x 17 columns]"
            ]
          },
          "metadata": {
            "tags": []
          },
          "execution_count": 371
        }
      ]
    },
    {
      "cell_type": "code",
      "metadata": {
        "colab": {
          "base_uri": "https://localhost:8080/"
        },
        "id": "7EqXHOR_5nqC",
        "outputId": "a874ef2e-fe7d-4ae8-a783-95a6de1b23b1"
      },
      "source": [
        "len(DATA)"
      ],
      "id": "7EqXHOR_5nqC",
      "execution_count": 372,
      "outputs": [
        {
          "output_type": "execute_result",
          "data": {
            "text/plain": [
              "55075"
            ]
          },
          "metadata": {
            "tags": []
          },
          "execution_count": 372
        }
      ]
    },
    {
      "cell_type": "code",
      "metadata": {
        "id": "designing-contributor"
      },
      "source": [
        "dates=DATA.index"
      ],
      "id": "designing-contributor",
      "execution_count": 373,
      "outputs": []
    },
    {
      "cell_type": "code",
      "metadata": {
        "id": "suspected-store",
        "colab": {
          "base_uri": "https://localhost:8080/"
        },
        "outputId": "2c328df5-d6bd-4cfe-ecb1-ba21209922e7"
      },
      "source": [
        "len(dates)"
      ],
      "id": "suspected-store",
      "execution_count": 374,
      "outputs": [
        {
          "output_type": "execute_result",
          "data": {
            "text/plain": [
              "55075"
            ]
          },
          "metadata": {
            "tags": []
          },
          "execution_count": 374
        }
      ]
    },
    {
      "cell_type": "code",
      "metadata": {
        "id": "employed-interstate",
        "colab": {
          "base_uri": "https://localhost:8080/",
          "height": 385
        },
        "outputId": "594d0628-526e-4014-a10c-b427eb28440b"
      },
      "source": [
        "t = DATA[['close', 'bull_power', 'bear_power']].copy()\n",
        "t['pct_change'] = t['close'].pct_change()\n",
        "t.dropna(inplace=True)\n",
        "corr =  t.corr()\n",
        "mask = np.zeros_like(corr, dtype=np.bool)\n",
        "mask[np.triu_indices_from(mask)] = True\n",
        "f, ax = plt.subplots(figsize=(5, 5))\n",
        "cmap = sns.diverging_palette(220, 10, as_cmap=True)\n",
        "sns.heatmap(corr, mask=mask, cmap=cmap, ax=ax)"
      ],
      "id": "employed-interstate",
      "execution_count": null,
      "outputs": [
        {
          "output_type": "execute_result",
          "data": {
            "text/plain": [
              "<matplotlib.axes._subplots.AxesSubplot at 0x7f82951ea110>"
            ]
          },
          "metadata": {
            "tags": []
          },
          "execution_count": 42
        },
        {
          "output_type": "display_data",
          "data": {
            "image/png": "[encoded data removed]",
            "text/plain": [
              "<Figure size 360x360 with 2 Axes>"
            ]
          },
          "metadata": {
            "tags": [],
            "needs_background": "light"
          }
        }
      ]
    },
    {
      "cell_type": "code",
      "metadata": {
        "id": "substantial-haven"
      },
      "source": [
        "def create_dataset(dataset, look_back=10):\n",
        "    dataX, dataY = [], []\n",
        "    for i in range(len(dataset)-look_back-1):\n",
        "        a = dataset[i:(i+look_back)]\n",
        "        dataX.append(a)\n",
        "        dataY.append(dataset[i + look_back])\n",
        "    return np.array(dataX), np.array(dataY)"
      ],
      "id": "substantial-haven",
      "execution_count": 375,
      "outputs": []
    },
    {
      "cell_type": "code",
      "metadata": {
        "id": "wicked-compiler"
      },
      "source": [
        "#TARGET     = 'USD_CAD'\n",
        "#granuality = 'H1'\n",
        "LOOK_BACK  = 30\n",
        "SPLIT      = 0.80     # data split ration for training and testing"
      ],
      "id": "wicked-compiler",
      "execution_count": 376,
      "outputs": []
    },
    {
      "cell_type": "code",
      "metadata": {
        "id": "searching-privacy"
      },
      "source": [
        "# Create scalers\n",
        "scaler = MinMaxScaler()\n",
        "scaled = pd.DataFrame(scaler.fit_transform(DATA), columns=DATA.columns)\n",
        "x_scaler = MinMaxScaler(feature_range=(0, 1))\n",
        "x_scaler = x_scaler.fit(DATA.drop('high', axis=1).values.astype('float32'))\n",
        "y_scaler = MinMaxScaler(feature_range=(0, 1))\n",
        "y_scaler = y_scaler.fit(DATA['high'].values.astype('float32').reshape(-1,1))\n"
      ],
      "id": "searching-privacy",
      "execution_count": 298,
      "outputs": []
    },
    {
      "cell_type": "code",
      "metadata": {
        "id": "LSdzv95WWVqK"
      },
      "source": [
        "# testing  dataset\r\n",
        "# Create scalers\r\n",
        "scaler = MinMaxScaler()\r\n",
        "scaled = pd.DataFrame(scaler.fit_transform(DATA), columns=DATA.columns)\r\n",
        "x_scaler = MinMaxScaler(feature_range=(0, 1))\r\n",
        "x_scaler = x_scaler.fit(DATA.drop('close', axis=1).values.astype('float32'))\r\n",
        "y_scaler = MinMaxScaler(feature_range=(0, 1))\r\n",
        "y_scaler = y_scaler.fit(DATA['close'].values.astype('float32').reshape(-1,1))"
      ],
      "id": "LSdzv95WWVqK",
      "execution_count": 377,
      "outputs": []
    },
    {
      "cell_type": "code",
      "metadata": {
        "id": "agreed-smile",
        "outputId": "0f0cb5b9-ef57-4c45-b37e-73ce152f183f"
      },
      "source": [
        "y_scaler"
      ],
      "id": "agreed-smile",
      "execution_count": null,
      "outputs": [
        {
          "output_type": "execute_result",
          "data": {
            "text/plain": [
              "MinMaxScaler(copy=True, feature_range=(0, 1))"
            ]
          },
          "metadata": {
            "tags": []
          },
          "execution_count": 24
        }
      ]
    },
    {
      "cell_type": "code",
      "metadata": {
        "id": "sorted-raleigh",
        "outputId": "c4d8374b-3e10-470d-80f2-26410259e337"
      },
      "source": [
        "scaled.columns.tolist().index('high')"
      ],
      "id": "sorted-raleigh",
      "execution_count": null,
      "outputs": [
        {
          "output_type": "execute_result",
          "data": {
            "text/plain": [
              "2"
            ]
          },
          "metadata": {
            "tags": []
          },
          "execution_count": 25
        }
      ]
    },
    {
      "cell_type": "code",
      "metadata": {
        "id": "stainless-bruce"
      },
      "source": [
        "# Create dataset\n",
        "target_index = scaled.columns.tolist().index('close')\n",
        "dataset = scaled.values.astype('float32')\n",
        "X, y = create_dataset(dataset, look_back=LOOK_BACK)\n",
        "y = y[:,target_index]\n",
        "train_size = int(len(X) * SPLIT)\n",
        "trainX = X[:train_size]\n",
        "trainY = y[:train_size]\n",
        "testX = X[train_size:]\n",
        "testY = y[train_size:]"
      ],
      "id": "stainless-bruce",
      "execution_count": 378,
      "outputs": []
    },
    {
      "cell_type": "code",
      "metadata": {
        "colab": {
          "base_uri": "https://localhost:8080/"
        },
        "id": "iIUNP_sMW-Te",
        "outputId": "0f2b0288-032a-439a-ceb6-661f7007ec57"
      },
      "source": [
        "len(testY)"
      ],
      "id": "iIUNP_sMW-Te",
      "execution_count": 380,
      "outputs": [
        {
          "output_type": "execute_result",
          "data": {
            "text/plain": [
              "11009"
            ]
          },
          "metadata": {
            "tags": []
          },
          "execution_count": 380
        }
      ]
    },
    {
      "cell_type": "code",
      "metadata": {
        "id": "54PzNk-sYsDz"
      },
      "source": [
        "dates_train, dates_test=create_dataset(dates, look_back=LOOK_BACK)"
      ],
      "id": "54PzNk-sYsDz",
      "execution_count": 381,
      "outputs": []
    },
    {
      "cell_type": "code",
      "metadata": {
        "colab": {
          "base_uri": "https://localhost:8080/"
        },
        "id": "8QIdHflL4C-O",
        "outputId": "db2a5483-44cf-487d-ac9c-92aa96161049"
      },
      "source": [
        "len(dates_test)"
      ],
      "id": "8QIdHflL4C-O",
      "execution_count": 382,
      "outputs": [
        {
          "output_type": "execute_result",
          "data": {
            "text/plain": [
              "55044"
            ]
          },
          "metadata": {
            "tags": []
          },
          "execution_count": 382
        }
      ]
    },
    {
      "cell_type": "code",
      "metadata": {
        "colab": {
          "base_uri": "https://localhost:8080/"
        },
        "id": "eeZJDztg4PTp",
        "outputId": "21e80b4e-1753-4a08-a66f-e86abdee67da"
      },
      "source": [
        "len(dates_test[train_size:])"
      ],
      "id": "eeZJDztg4PTp",
      "execution_count": 383,
      "outputs": [
        {
          "output_type": "execute_result",
          "data": {
            "text/plain": [
              "11009"
            ]
          },
          "metadata": {
            "tags": []
          },
          "execution_count": 383
        }
      ]
    },
    {
      "cell_type": "code",
      "metadata": {
        "id": "filled-correlation"
      },
      "source": [
        "model = Sequential()\n",
        "model.add(LSTM(20, input_shape=(X.shape[1], X.shape[2]), return_sequences=True))\n",
        "model.add(LSTM(20, return_sequences=True))\n",
        "model.add(LSTM(10, return_sequences=True))\n",
        "model.add(Dropout(0.2))\n",
        "model.add(LSTM(10, return_sequences=False))\n",
        "model.add(Dense(4, kernel_initializer='random_uniform', activation='relu'))\n",
        "model.add(Dense(1, kernel_initializer='random_uniform', activation='relu'))"
      ],
      "id": "filled-correlation",
      "execution_count": 301,
      "outputs": []
    },
    {
      "cell_type": "code",
      "metadata": {
        "id": "fitted-stylus"
      },
      "source": [
        "model = Sequential()\n",
        "model.add(LSTM(50, input_shape=(X.shape[1], X.shape[2]), return_sequences=True))\n",
        "model.add(LSTM(50, return_sequences=True))\n",
        "model.add(LSTM(30, return_sequences=True))\n",
        "model.add(Dropout(0.2))\n",
        "model.add(LSTM(10, return_sequences=False))\n",
        "model.add(Dense(4, kernel_initializer='random_uniform', activation='relu'))\n",
        "model.add(Dense(1, kernel_initializer='random_uniform', activation='relu'))"
      ],
      "id": "fitted-stylus",
      "execution_count": null,
      "outputs": []
    },
    {
      "cell_type": "code",
      "metadata": {
        "id": "drawn-sunglasses"
      },
      "source": [
        "from keras.callbacks import ModelCheckpoint\n",
        "from keras.callbacks import TensorBoard as tensorboard"
      ],
      "id": "drawn-sunglasses",
      "execution_count": 75,
      "outputs": []
    },
    {
      "cell_type": "code",
      "metadata": {
        "id": "verified-appendix"
      },
      "source": [
        "model.compile(loss='mean_squared_error', optimizer='adam', metrics=['mae', 'mse'])"
      ],
      "id": "verified-appendix",
      "execution_count": 302,
      "outputs": []
    },
    {
      "cell_type": "code",
      "metadata": {
        "id": "fiscal-first",
        "colab": {
          "base_uri": "https://localhost:8080/"
        },
        "outputId": "37fb6341-9492-4e0a-ddf9-ad26904e5986"
      },
      "source": [
        "filepath=\"weights.best.hdf5\"\n",
        "checkpoint = ModelCheckpoint(filepath, monitor='val_mean_squared_error', verbose=1, save_best_only=True, mode='min')\n",
        "# Enable this line if you want to monitor the trianing progress via TensorBoard\n",
        "# tensorboard = TensorBoard(log_dir=\"logs/{}\".format(time()))\n",
        "callbacks_list = [checkpoint]\n",
        "history = model.fit(trainX, trainY, epochs=100, batch_size=500, callbacks=callbacks_list, validation_split=0.1)"
      ],
      "id": "fiscal-first",
      "execution_count": 303,
      "outputs": [
        {
          "output_type": "stream",
          "text": [
            "Epoch 1/100\n",
            "80/80 [==============================] - 15s 126ms/step - loss: 0.2280 - mae: 0.4265 - mse: 0.2280 - val_loss: 0.7099 - val_mae: 0.8394 - val_mse: 0.7099\n",
            "WARNING:tensorflow:Can save best model only with val_mean_squared_error available, skipping.\n",
            "Epoch 2/100\n",
            "80/80 [==============================] - 8s 105ms/step - loss: 0.2279 - mae: 0.4260 - mse: 0.2279 - val_loss: 0.7078 - val_mae: 0.8382 - val_mse: 0.7078\n",
            "WARNING:tensorflow:Can save best model only with val_mean_squared_error available, skipping.\n",
            "Epoch 3/100\n",
            "80/80 [==============================] - 9s 108ms/step - loss: 0.1574 - mae: 0.3344 - mse: 0.1574 - val_loss: 0.1807 - val_mae: 0.4188 - val_mse: 0.1807\n",
            "WARNING:tensorflow:Can save best model only with val_mean_squared_error available, skipping.\n",
            "Epoch 4/100\n",
            "80/80 [==============================] - 9s 109ms/step - loss: 0.0441 - mae: 0.1896 - mse: 0.0441 - val_loss: 0.0389 - val_mae: 0.1833 - val_mse: 0.0389\n",
            "WARNING:tensorflow:Can save best model only with val_mean_squared_error available, skipping.\n",
            "Epoch 5/100\n",
            "80/80 [==============================] - 9s 108ms/step - loss: 0.0015 - mae: 0.0267 - mse: 0.0015 - val_loss: 0.0092 - val_mae: 0.0780 - val_mse: 0.0092\n",
            "WARNING:tensorflow:Can save best model only with val_mean_squared_error available, skipping.\n",
            "Epoch 6/100\n",
            "80/80 [==============================] - 9s 108ms/step - loss: 3.8298e-04 - mae: 0.0123 - mse: 3.8298e-04 - val_loss: 0.0051 - val_mae: 0.0553 - val_mse: 0.0051\n",
            "WARNING:tensorflow:Can save best model only with val_mean_squared_error available, skipping.\n",
            "Epoch 7/100\n",
            "80/80 [==============================] - 9s 108ms/step - loss: 2.7324e-04 - mae: 0.0104 - mse: 2.7324e-04 - val_loss: 0.0031 - val_mae: 0.0418 - val_mse: 0.0031\n",
            "WARNING:tensorflow:Can save best model only with val_mean_squared_error available, skipping.\n",
            "Epoch 8/100\n",
            "80/80 [==============================] - 9s 107ms/step - loss: 2.2443e-04 - mae: 0.0094 - mse: 2.2443e-04 - val_loss: 0.0022 - val_mae: 0.0344 - val_mse: 0.0022\n",
            "WARNING:tensorflow:Can save best model only with val_mean_squared_error available, skipping.\n",
            "Epoch 9/100\n",
            "80/80 [==============================] - 9s 108ms/step - loss: 2.0056e-04 - mae: 0.0089 - mse: 2.0056e-04 - val_loss: 0.0017 - val_mae: 0.0303 - val_mse: 0.0017\n",
            "WARNING:tensorflow:Can save best model only with val_mean_squared_error available, skipping.\n",
            "Epoch 10/100\n",
            "80/80 [==============================] - 9s 108ms/step - loss: 1.7596e-04 - mae: 0.0082 - mse: 1.7596e-04 - val_loss: 0.0014 - val_mae: 0.0278 - val_mse: 0.0014\n",
            "WARNING:tensorflow:Can save best model only with val_mean_squared_error available, skipping.\n",
            "Epoch 11/100\n",
            "80/80 [==============================] - 9s 110ms/step - loss: 1.6916e-04 - mae: 0.0080 - mse: 1.6916e-04 - val_loss: 0.0013 - val_mae: 0.0261 - val_mse: 0.0013\n",
            "WARNING:tensorflow:Can save best model only with val_mean_squared_error available, skipping.\n",
            "Epoch 12/100\n",
            "80/80 [==============================] - 9s 110ms/step - loss: 1.5920e-04 - mae: 0.0077 - mse: 1.5920e-04 - val_loss: 0.0012 - val_mae: 0.0252 - val_mse: 0.0012\n",
            "WARNING:tensorflow:Can save best model only with val_mean_squared_error available, skipping.\n",
            "Epoch 13/100\n",
            "80/80 [==============================] - 9s 108ms/step - loss: 1.4933e-04 - mae: 0.0075 - mse: 1.4933e-04 - val_loss: 0.0011 - val_mae: 0.0241 - val_mse: 0.0011\n",
            "WARNING:tensorflow:Can save best model only with val_mean_squared_error available, skipping.\n",
            "Epoch 14/100\n",
            "80/80 [==============================] - 9s 110ms/step - loss: 1.4353e-04 - mae: 0.0075 - mse: 1.4353e-04 - val_loss: 0.0010 - val_mae: 0.0235 - val_mse: 0.0010\n",
            "WARNING:tensorflow:Can save best model only with val_mean_squared_error available, skipping.\n",
            "Epoch 15/100\n",
            "80/80 [==============================] - 9s 109ms/step - loss: 1.3861e-04 - mae: 0.0072 - mse: 1.3861e-04 - val_loss: 0.0010 - val_mae: 0.0236 - val_mse: 0.0010\n",
            "WARNING:tensorflow:Can save best model only with val_mean_squared_error available, skipping.\n",
            "Epoch 16/100\n",
            "80/80 [==============================] - 9s 109ms/step - loss: 1.3099e-04 - mae: 0.0070 - mse: 1.3099e-04 - val_loss: 9.6288e-04 - val_mae: 0.0223 - val_mse: 9.6288e-04\n",
            "WARNING:tensorflow:Can save best model only with val_mean_squared_error available, skipping.\n",
            "Epoch 17/100\n",
            "80/80 [==============================] - 9s 109ms/step - loss: 1.2433e-04 - mae: 0.0070 - mse: 1.2433e-04 - val_loss: 9.4293e-04 - val_mae: 0.0226 - val_mse: 9.4293e-04\n",
            "WARNING:tensorflow:Can save best model only with val_mean_squared_error available, skipping.\n",
            "Epoch 18/100\n",
            "80/80 [==============================] - 9s 107ms/step - loss: 1.1920e-04 - mae: 0.0068 - mse: 1.1920e-04 - val_loss: 9.2083e-04 - val_mae: 0.0224 - val_mse: 9.2083e-04\n",
            "WARNING:tensorflow:Can save best model only with val_mean_squared_error available, skipping.\n",
            "Epoch 19/100\n",
            "80/80 [==============================] - 9s 108ms/step - loss: 1.2377e-04 - mae: 0.0072 - mse: 1.2377e-04 - val_loss: 8.9000e-04 - val_mae: 0.0211 - val_mse: 8.9000e-04\n",
            "WARNING:tensorflow:Can save best model only with val_mean_squared_error available, skipping.\n",
            "Epoch 20/100\n",
            "80/80 [==============================] - 9s 109ms/step - loss: 1.1152e-04 - mae: 0.0068 - mse: 1.1152e-04 - val_loss: 8.8447e-04 - val_mae: 0.0216 - val_mse: 8.8447e-04\n",
            "WARNING:tensorflow:Can save best model only with val_mean_squared_error available, skipping.\n",
            "Epoch 21/100\n",
            "80/80 [==============================] - 9s 110ms/step - loss: 1.0404e-04 - mae: 0.0064 - mse: 1.0404e-04 - val_loss: 8.8180e-04 - val_mae: 0.0218 - val_mse: 8.8180e-04\n",
            "WARNING:tensorflow:Can save best model only with val_mean_squared_error available, skipping.\n",
            "Epoch 22/100\n",
            "80/80 [==============================] - 9s 110ms/step - loss: 1.0428e-04 - mae: 0.0067 - mse: 1.0428e-04 - val_loss: 8.7162e-04 - val_mae: 0.0214 - val_mse: 8.7162e-04\n",
            "WARNING:tensorflow:Can save best model only with val_mean_squared_error available, skipping.\n",
            "Epoch 23/100\n",
            "80/80 [==============================] - 9s 108ms/step - loss: 9.3456e-05 - mae: 0.0063 - mse: 9.3456e-05 - val_loss: 8.2494e-04 - val_mae: 0.0205 - val_mse: 8.2494e-04\n",
            "WARNING:tensorflow:Can save best model only with val_mean_squared_error available, skipping.\n",
            "Epoch 24/100\n",
            "80/80 [==============================] - 9s 110ms/step - loss: 8.7094e-05 - mae: 0.0061 - mse: 8.7094e-05 - val_loss: 8.0190e-04 - val_mae: 0.0199 - val_mse: 8.0190e-04\n",
            "WARNING:tensorflow:Can save best model only with val_mean_squared_error available, skipping.\n",
            "Epoch 25/100\n",
            "80/80 [==============================] - 9s 111ms/step - loss: 9.0059e-05 - mae: 0.0061 - mse: 9.0059e-05 - val_loss: 7.8249e-04 - val_mae: 0.0197 - val_mse: 7.8249e-04\n",
            "WARNING:tensorflow:Can save best model only with val_mean_squared_error available, skipping.\n",
            "Epoch 26/100\n",
            "80/80 [==============================] - 9s 111ms/step - loss: 8.9102e-05 - mae: 0.0063 - mse: 8.9102e-05 - val_loss: 7.7371e-04 - val_mae: 0.0199 - val_mse: 7.7371e-04\n",
            "WARNING:tensorflow:Can save best model only with val_mean_squared_error available, skipping.\n",
            "Epoch 27/100\n",
            "80/80 [==============================] - 9s 109ms/step - loss: 8.0208e-05 - mae: 0.0058 - mse: 8.0208e-05 - val_loss: 7.7842e-04 - val_mae: 0.0201 - val_mse: 7.7842e-04\n",
            "WARNING:tensorflow:Can save best model only with val_mean_squared_error available, skipping.\n",
            "Epoch 28/100\n",
            "80/80 [==============================] - 9s 109ms/step - loss: 9.0107e-05 - mae: 0.0066 - mse: 9.0107e-05 - val_loss: 7.7571e-04 - val_mae: 0.0194 - val_mse: 7.7571e-04\n",
            "WARNING:tensorflow:Can save best model only with val_mean_squared_error available, skipping.\n",
            "Epoch 29/100\n",
            "80/80 [==============================] - 9s 111ms/step - loss: 7.7318e-05 - mae: 0.0059 - mse: 7.7318e-05 - val_loss: 7.4065e-04 - val_mae: 0.0193 - val_mse: 7.4065e-04\n",
            "WARNING:tensorflow:Can save best model only with val_mean_squared_error available, skipping.\n",
            "Epoch 30/100\n",
            "80/80 [==============================] - 9s 110ms/step - loss: 7.0107e-05 - mae: 0.0056 - mse: 7.0107e-05 - val_loss: 7.2312e-04 - val_mae: 0.0190 - val_mse: 7.2312e-04\n",
            "WARNING:tensorflow:Can save best model only with val_mean_squared_error available, skipping.\n",
            "Epoch 31/100\n",
            "80/80 [==============================] - 9s 110ms/step - loss: 7.4222e-05 - mae: 0.0058 - mse: 7.4222e-05 - val_loss: 7.1463e-04 - val_mae: 0.0187 - val_mse: 7.1463e-04\n",
            "WARNING:tensorflow:Can save best model only with val_mean_squared_error available, skipping.\n",
            "Epoch 32/100\n",
            "80/80 [==============================] - 9s 111ms/step - loss: 6.5130e-05 - mae: 0.0055 - mse: 6.5130e-05 - val_loss: 7.0045e-04 - val_mae: 0.0185 - val_mse: 7.0045e-04\n",
            "WARNING:tensorflow:Can save best model only with val_mean_squared_error available, skipping.\n",
            "Epoch 33/100\n",
            "80/80 [==============================] - 9s 111ms/step - loss: 7.1217e-05 - mae: 0.0058 - mse: 7.1217e-05 - val_loss: 6.9597e-04 - val_mae: 0.0183 - val_mse: 6.9597e-04\n",
            "WARNING:tensorflow:Can save best model only with val_mean_squared_error available, skipping.\n",
            "Epoch 34/100\n",
            "80/80 [==============================] - 9s 111ms/step - loss: 6.4062e-05 - mae: 0.0056 - mse: 6.4062e-05 - val_loss: 6.7345e-04 - val_mae: 0.0187 - val_mse: 6.7345e-04\n",
            "WARNING:tensorflow:Can save best model only with val_mean_squared_error available, skipping.\n",
            "Epoch 35/100\n",
            "80/80 [==============================] - 9s 112ms/step - loss: 7.4753e-05 - mae: 0.0064 - mse: 7.4753e-05 - val_loss: 7.0665e-04 - val_mae: 0.0193 - val_mse: 7.0665e-04\n",
            "WARNING:tensorflow:Can save best model only with val_mean_squared_error available, skipping.\n",
            "Epoch 36/100\n",
            "80/80 [==============================] - 9s 111ms/step - loss: 5.9587e-05 - mae: 0.0055 - mse: 5.9587e-05 - val_loss: 6.8604e-04 - val_mae: 0.0185 - val_mse: 6.8604e-04\n",
            "WARNING:tensorflow:Can save best model only with val_mean_squared_error available, skipping.\n",
            "Epoch 37/100\n",
            "80/80 [==============================] - 9s 112ms/step - loss: 5.7960e-05 - mae: 0.0055 - mse: 5.7960e-05 - val_loss: 6.7434e-04 - val_mae: 0.0185 - val_mse: 6.7434e-04\n",
            "WARNING:tensorflow:Can save best model only with val_mean_squared_error available, skipping.\n",
            "Epoch 38/100\n",
            "80/80 [==============================] - 9s 109ms/step - loss: 5.6862e-05 - mae: 0.0054 - mse: 5.6862e-05 - val_loss: 6.4983e-04 - val_mae: 0.0184 - val_mse: 6.4983e-04\n",
            "WARNING:tensorflow:Can save best model only with val_mean_squared_error available, skipping.\n",
            "Epoch 39/100\n",
            "80/80 [==============================] - 9s 110ms/step - loss: 5.3712e-05 - mae: 0.0052 - mse: 5.3712e-05 - val_loss: 6.1012e-04 - val_mae: 0.0179 - val_mse: 6.1012e-04\n",
            "WARNING:tensorflow:Can save best model only with val_mean_squared_error available, skipping.\n",
            "Epoch 40/100\n",
            "80/80 [==============================] - 9s 110ms/step - loss: 5.3179e-05 - mae: 0.0052 - mse: 5.3179e-05 - val_loss: 6.2328e-04 - val_mae: 0.0172 - val_mse: 6.2328e-04\n",
            "WARNING:tensorflow:Can save best model only with val_mean_squared_error available, skipping.\n",
            "Epoch 41/100\n",
            "80/80 [==============================] - 9s 110ms/step - loss: 5.9913e-05 - mae: 0.0057 - mse: 5.9913e-05 - val_loss: 6.3095e-04 - val_mae: 0.0173 - val_mse: 6.3095e-04\n",
            "WARNING:tensorflow:Can save best model only with val_mean_squared_error available, skipping.\n",
            "Epoch 42/100\n",
            "80/80 [==============================] - 9s 110ms/step - loss: 4.9482e-05 - mae: 0.0051 - mse: 4.9482e-05 - val_loss: 6.1181e-04 - val_mae: 0.0175 - val_mse: 6.1181e-04\n",
            "WARNING:tensorflow:Can save best model only with val_mean_squared_error available, skipping.\n",
            "Epoch 43/100\n",
            "80/80 [==============================] - 9s 113ms/step - loss: 4.5953e-05 - mae: 0.0048 - mse: 4.5953e-05 - val_loss: 5.9662e-04 - val_mae: 0.0171 - val_mse: 5.9662e-04\n",
            "WARNING:tensorflow:Can save best model only with val_mean_squared_error available, skipping.\n",
            "Epoch 44/100\n",
            "80/80 [==============================] - 9s 110ms/step - loss: 4.6638e-05 - mae: 0.0050 - mse: 4.6638e-05 - val_loss: 5.9900e-04 - val_mae: 0.0167 - val_mse: 5.9900e-04\n",
            "WARNING:tensorflow:Can save best model only with val_mean_squared_error available, skipping.\n",
            "Epoch 45/100\n",
            "80/80 [==============================] - 9s 109ms/step - loss: 4.4315e-05 - mae: 0.0048 - mse: 4.4315e-05 - val_loss: 5.6624e-04 - val_mae: 0.0163 - val_mse: 5.6624e-04\n",
            "WARNING:tensorflow:Can save best model only with val_mean_squared_error available, skipping.\n",
            "Epoch 46/100\n",
            "80/80 [==============================] - 9s 111ms/step - loss: 4.5120e-05 - mae: 0.0050 - mse: 4.5120e-05 - val_loss: 5.7900e-04 - val_mae: 0.0173 - val_mse: 5.7900e-04\n",
            "WARNING:tensorflow:Can save best model only with val_mean_squared_error available, skipping.\n",
            "Epoch 47/100\n",
            "80/80 [==============================] - 9s 109ms/step - loss: 4.5008e-05 - mae: 0.0049 - mse: 4.5008e-05 - val_loss: 5.7440e-04 - val_mae: 0.0176 - val_mse: 5.7440e-04\n",
            "WARNING:tensorflow:Can save best model only with val_mean_squared_error available, skipping.\n",
            "Epoch 48/100\n",
            "80/80 [==============================] - 9s 111ms/step - loss: 4.0349e-05 - mae: 0.0047 - mse: 4.0349e-05 - val_loss: 5.6167e-04 - val_mae: 0.0161 - val_mse: 5.6167e-04\n",
            "WARNING:tensorflow:Can save best model only with val_mean_squared_error available, skipping.\n",
            "Epoch 49/100\n",
            "80/80 [==============================] - 9s 113ms/step - loss: 4.5647e-05 - mae: 0.0051 - mse: 4.5647e-05 - val_loss: 5.7031e-04 - val_mae: 0.0163 - val_mse: 5.7031e-04\n",
            "WARNING:tensorflow:Can save best model only with val_mean_squared_error available, skipping.\n",
            "Epoch 50/100\n",
            "80/80 [==============================] - 9s 110ms/step - loss: 4.8338e-05 - mae: 0.0052 - mse: 4.8338e-05 - val_loss: 5.7055e-04 - val_mae: 0.0172 - val_mse: 5.7055e-04\n",
            "WARNING:tensorflow:Can save best model only with val_mean_squared_error available, skipping.\n",
            "Epoch 51/100\n",
            "80/80 [==============================] - 9s 111ms/step - loss: 4.0047e-05 - mae: 0.0047 - mse: 4.0047e-05 - val_loss: 5.6377e-04 - val_mae: 0.0163 - val_mse: 5.6377e-04\n",
            "WARNING:tensorflow:Can save best model only with val_mean_squared_error available, skipping.\n",
            "Epoch 52/100\n",
            "80/80 [==============================] - 9s 113ms/step - loss: 4.1276e-05 - mae: 0.0048 - mse: 4.1276e-05 - val_loss: 5.6470e-04 - val_mae: 0.0163 - val_mse: 5.6470e-04\n",
            "WARNING:tensorflow:Can save best model only with val_mean_squared_error available, skipping.\n",
            "Epoch 53/100\n",
            "80/80 [==============================] - 9s 112ms/step - loss: 3.9108e-05 - mae: 0.0046 - mse: 3.9108e-05 - val_loss: 5.4404e-04 - val_mae: 0.0159 - val_mse: 5.4404e-04\n",
            "WARNING:tensorflow:Can save best model only with val_mean_squared_error available, skipping.\n",
            "Epoch 54/100\n",
            "80/80 [==============================] - 9s 110ms/step - loss: 3.9191e-05 - mae: 0.0047 - mse: 3.9191e-05 - val_loss: 5.3236e-04 - val_mae: 0.0161 - val_mse: 5.3236e-04\n",
            "WARNING:tensorflow:Can save best model only with val_mean_squared_error available, skipping.\n",
            "Epoch 55/100\n",
            "80/80 [==============================] - 9s 110ms/step - loss: 3.9921e-05 - mae: 0.0047 - mse: 3.9921e-05 - val_loss: 5.1851e-04 - val_mae: 0.0154 - val_mse: 5.1851e-04\n",
            "WARNING:tensorflow:Can save best model only with val_mean_squared_error available, skipping.\n",
            "Epoch 56/100\n",
            "80/80 [==============================] - 9s 109ms/step - loss: 3.8585e-05 - mae: 0.0046 - mse: 3.8585e-05 - val_loss: 5.2039e-04 - val_mae: 0.0154 - val_mse: 5.2039e-04\n",
            "WARNING:tensorflow:Can save best model only with val_mean_squared_error available, skipping.\n",
            "Epoch 57/100\n",
            "80/80 [==============================] - 9s 112ms/step - loss: 3.8259e-05 - mae: 0.0046 - mse: 3.8259e-05 - val_loss: 5.1747e-04 - val_mae: 0.0166 - val_mse: 5.1747e-04\n",
            "WARNING:tensorflow:Can save best model only with val_mean_squared_error available, skipping.\n",
            "Epoch 58/100\n",
            "80/80 [==============================] - 9s 111ms/step - loss: 3.8679e-05 - mae: 0.0047 - mse: 3.8679e-05 - val_loss: 5.1481e-04 - val_mae: 0.0162 - val_mse: 5.1481e-04\n",
            "WARNING:tensorflow:Can save best model only with val_mean_squared_error available, skipping.\n",
            "Epoch 59/100\n",
            "80/80 [==============================] - 9s 111ms/step - loss: 3.6262e-05 - mae: 0.0045 - mse: 3.6262e-05 - val_loss: 5.0132e-04 - val_mae: 0.0152 - val_mse: 5.0132e-04\n",
            "WARNING:tensorflow:Can save best model only with val_mean_squared_error available, skipping.\n",
            "Epoch 60/100\n",
            "80/80 [==============================] - 9s 111ms/step - loss: 4.9101e-05 - mae: 0.0054 - mse: 4.9101e-05 - val_loss: 5.1811e-04 - val_mae: 0.0157 - val_mse: 5.1811e-04\n",
            "WARNING:tensorflow:Can save best model only with val_mean_squared_error available, skipping.\n",
            "Epoch 61/100\n",
            "80/80 [==============================] - 9s 109ms/step - loss: 3.9085e-05 - mae: 0.0047 - mse: 3.9085e-05 - val_loss: 5.1288e-04 - val_mae: 0.0152 - val_mse: 5.1288e-04\n",
            "WARNING:tensorflow:Can save best model only with val_mean_squared_error available, skipping.\n",
            "Epoch 62/100\n",
            "80/80 [==============================] - 9s 110ms/step - loss: 3.7433e-05 - mae: 0.0046 - mse: 3.7433e-05 - val_loss: 4.8432e-04 - val_mae: 0.0154 - val_mse: 4.8432e-04\n",
            "WARNING:tensorflow:Can save best model only with val_mean_squared_error available, skipping.\n",
            "Epoch 63/100\n",
            "80/80 [==============================] - 9s 112ms/step - loss: 3.2866e-05 - mae: 0.0043 - mse: 3.2866e-05 - val_loss: 4.4447e-04 - val_mae: 0.0144 - val_mse: 4.4447e-04\n",
            "WARNING:tensorflow:Can save best model only with val_mean_squared_error available, skipping.\n",
            "Epoch 64/100\n",
            "80/80 [==============================] - 9s 108ms/step - loss: 3.5850e-05 - mae: 0.0045 - mse: 3.5850e-05 - val_loss: 4.6360e-04 - val_mae: 0.0153 - val_mse: 4.6360e-04\n",
            "WARNING:tensorflow:Can save best model only with val_mean_squared_error available, skipping.\n",
            "Epoch 65/100\n",
            "80/80 [==============================] - 9s 110ms/step - loss: 3.7349e-05 - mae: 0.0047 - mse: 3.7349e-05 - val_loss: 4.6164e-04 - val_mae: 0.0142 - val_mse: 4.6164e-04\n",
            "WARNING:tensorflow:Can save best model only with val_mean_squared_error available, skipping.\n",
            "Epoch 66/100\n",
            "80/80 [==============================] - 9s 112ms/step - loss: 3.3170e-05 - mae: 0.0043 - mse: 3.3170e-05 - val_loss: 4.4381e-04 - val_mae: 0.0146 - val_mse: 4.4381e-04\n",
            "WARNING:tensorflow:Can save best model only with val_mean_squared_error available, skipping.\n",
            "Epoch 67/100\n",
            "80/80 [==============================] - 9s 114ms/step - loss: 3.4927e-05 - mae: 0.0045 - mse: 3.4927e-05 - val_loss: 4.4267e-04 - val_mae: 0.0145 - val_mse: 4.4267e-04\n",
            "WARNING:tensorflow:Can save best model only with val_mean_squared_error available, skipping.\n",
            "Epoch 68/100\n",
            "80/80 [==============================] - 9s 114ms/step - loss: 3.3452e-05 - mae: 0.0044 - mse: 3.3452e-05 - val_loss: 4.2487e-04 - val_mae: 0.0139 - val_mse: 4.2487e-04\n",
            "WARNING:tensorflow:Can save best model only with val_mean_squared_error available, skipping.\n",
            "Epoch 69/100\n",
            "80/80 [==============================] - 9s 111ms/step - loss: 3.3034e-05 - mae: 0.0044 - mse: 3.3034e-05 - val_loss: 4.1812e-04 - val_mae: 0.0135 - val_mse: 4.1812e-04\n",
            "WARNING:tensorflow:Can save best model only with val_mean_squared_error available, skipping.\n",
            "Epoch 70/100\n",
            "80/80 [==============================] - 9s 112ms/step - loss: 3.0713e-05 - mae: 0.0042 - mse: 3.0713e-05 - val_loss: 4.1732e-04 - val_mae: 0.0146 - val_mse: 4.1732e-04\n",
            "WARNING:tensorflow:Can save best model only with val_mean_squared_error available, skipping.\n",
            "Epoch 71/100\n",
            "80/80 [==============================] - 9s 114ms/step - loss: 3.1581e-05 - mae: 0.0042 - mse: 3.1581e-05 - val_loss: 4.2156e-04 - val_mae: 0.0136 - val_mse: 4.2156e-04\n",
            "WARNING:tensorflow:Can save best model only with val_mean_squared_error available, skipping.\n",
            "Epoch 72/100\n",
            "80/80 [==============================] - 9s 110ms/step - loss: 3.0383e-05 - mae: 0.0042 - mse: 3.0383e-05 - val_loss: 4.0711e-04 - val_mae: 0.0139 - val_mse: 4.0711e-04\n",
            "WARNING:tensorflow:Can save best model only with val_mean_squared_error available, skipping.\n",
            "Epoch 73/100\n",
            "80/80 [==============================] - 9s 110ms/step - loss: 3.0131e-05 - mae: 0.0041 - mse: 3.0131e-05 - val_loss: 4.0530e-04 - val_mae: 0.0138 - val_mse: 4.0530e-04\n",
            "WARNING:tensorflow:Can save best model only with val_mean_squared_error available, skipping.\n",
            "Epoch 74/100\n",
            "80/80 [==============================] - 9s 111ms/step - loss: 3.5664e-05 - mae: 0.0046 - mse: 3.5664e-05 - val_loss: 4.1542e-04 - val_mae: 0.0134 - val_mse: 4.1542e-04\n",
            "WARNING:tensorflow:Can save best model only with val_mean_squared_error available, skipping.\n",
            "Epoch 75/100\n",
            "80/80 [==============================] - 9s 112ms/step - loss: 2.8703e-05 - mae: 0.0040 - mse: 2.8703e-05 - val_loss: 4.0186e-04 - val_mae: 0.0132 - val_mse: 4.0186e-04\n",
            "WARNING:tensorflow:Can save best model only with val_mean_squared_error available, skipping.\n",
            "Epoch 76/100\n",
            "80/80 [==============================] - 9s 112ms/step - loss: 3.4603e-05 - mae: 0.0046 - mse: 3.4603e-05 - val_loss: 4.0545e-04 - val_mae: 0.0132 - val_mse: 4.0545e-04\n",
            "WARNING:tensorflow:Can save best model only with val_mean_squared_error available, skipping.\n",
            "Epoch 77/100\n",
            "80/80 [==============================] - 9s 112ms/step - loss: 2.7903e-05 - mae: 0.0039 - mse: 2.7903e-05 - val_loss: 3.8475e-04 - val_mae: 0.0130 - val_mse: 3.8475e-04\n",
            "WARNING:tensorflow:Can save best model only with val_mean_squared_error available, skipping.\n",
            "Epoch 78/100\n",
            "80/80 [==============================] - 9s 113ms/step - loss: 2.8483e-05 - mae: 0.0040 - mse: 2.8483e-05 - val_loss: 3.7544e-04 - val_mae: 0.0133 - val_mse: 3.7544e-04\n",
            "WARNING:tensorflow:Can save best model only with val_mean_squared_error available, skipping.\n",
            "Epoch 79/100\n",
            "80/80 [==============================] - 9s 111ms/step - loss: 3.0082e-05 - mae: 0.0041 - mse: 3.0082e-05 - val_loss: 3.5525e-04 - val_mae: 0.0129 - val_mse: 3.5525e-04\n",
            "WARNING:tensorflow:Can save best model only with val_mean_squared_error available, skipping.\n",
            "Epoch 80/100\n",
            "80/80 [==============================] - 9s 110ms/step - loss: 3.2035e-05 - mae: 0.0043 - mse: 3.2035e-05 - val_loss: 3.6977e-04 - val_mae: 0.0127 - val_mse: 3.6977e-04\n",
            "WARNING:tensorflow:Can save best model only with val_mean_squared_error available, skipping.\n",
            "Epoch 81/100\n",
            "80/80 [==============================] - 9s 112ms/step - loss: 2.7777e-05 - mae: 0.0040 - mse: 2.7777e-05 - val_loss: 3.9224e-04 - val_mae: 0.0142 - val_mse: 3.9224e-04\n",
            "WARNING:tensorflow:Can save best model only with val_mean_squared_error available, skipping.\n",
            "Epoch 82/100\n",
            "80/80 [==============================] - 9s 113ms/step - loss: 2.9005e-05 - mae: 0.0041 - mse: 2.9005e-05 - val_loss: 3.8146e-04 - val_mae: 0.0128 - val_mse: 3.8146e-04\n",
            "WARNING:tensorflow:Can save best model only with val_mean_squared_error available, skipping.\n",
            "Epoch 83/100\n",
            "80/80 [==============================] - 9s 113ms/step - loss: 2.8102e-05 - mae: 0.0040 - mse: 2.8102e-05 - val_loss: 3.7339e-04 - val_mae: 0.0126 - val_mse: 3.7339e-04\n",
            "WARNING:tensorflow:Can save best model only with val_mean_squared_error available, skipping.\n",
            "Epoch 84/100\n",
            "80/80 [==============================] - 9s 112ms/step - loss: 2.5743e-05 - mae: 0.0038 - mse: 2.5743e-05 - val_loss: 3.6318e-04 - val_mae: 0.0134 - val_mse: 3.6318e-04\n",
            "WARNING:tensorflow:Can save best model only with val_mean_squared_error available, skipping.\n",
            "Epoch 85/100\n",
            "80/80 [==============================] - 9s 112ms/step - loss: 2.7937e-05 - mae: 0.0040 - mse: 2.7937e-05 - val_loss: 3.6405e-04 - val_mae: 0.0129 - val_mse: 3.6405e-04\n",
            "WARNING:tensorflow:Can save best model only with val_mean_squared_error available, skipping.\n",
            "Epoch 86/100\n",
            "80/80 [==============================] - 9s 112ms/step - loss: 2.8193e-05 - mae: 0.0040 - mse: 2.8193e-05 - val_loss: 3.8942e-04 - val_mae: 0.0128 - val_mse: 3.8942e-04\n",
            "WARNING:tensorflow:Can save best model only with val_mean_squared_error available, skipping.\n",
            "Epoch 87/100\n",
            "80/80 [==============================] - 9s 112ms/step - loss: 2.6117e-05 - mae: 0.0038 - mse: 2.6117e-05 - val_loss: 3.5407e-04 - val_mae: 0.0129 - val_mse: 3.5407e-04\n",
            "WARNING:tensorflow:Can save best model only with val_mean_squared_error available, skipping.\n",
            "Epoch 88/100\n",
            "80/80 [==============================] - 9s 112ms/step - loss: 2.8627e-05 - mae: 0.0040 - mse: 2.8627e-05 - val_loss: 3.7430e-04 - val_mae: 0.0127 - val_mse: 3.7430e-04\n",
            "WARNING:tensorflow:Can save best model only with val_mean_squared_error available, skipping.\n",
            "Epoch 89/100\n",
            "80/80 [==============================] - 9s 114ms/step - loss: 2.4940e-05 - mae: 0.0037 - mse: 2.4940e-05 - val_loss: 3.6477e-04 - val_mae: 0.0128 - val_mse: 3.6477e-04\n",
            "WARNING:tensorflow:Can save best model only with val_mean_squared_error available, skipping.\n",
            "Epoch 90/100\n",
            "80/80 [==============================] - 9s 110ms/step - loss: 2.5973e-05 - mae: 0.0038 - mse: 2.5973e-05 - val_loss: 3.9595e-04 - val_mae: 0.0131 - val_mse: 3.9595e-04\n",
            "WARNING:tensorflow:Can save best model only with val_mean_squared_error available, skipping.\n",
            "Epoch 91/100\n",
            "80/80 [==============================] - 9s 111ms/step - loss: 2.8492e-05 - mae: 0.0040 - mse: 2.8492e-05 - val_loss: 3.6523e-04 - val_mae: 0.0133 - val_mse: 3.6523e-04\n",
            "WARNING:tensorflow:Can save best model only with val_mean_squared_error available, skipping.\n",
            "Epoch 92/100\n",
            "80/80 [==============================] - 9s 109ms/step - loss: 3.3288e-05 - mae: 0.0045 - mse: 3.3288e-05 - val_loss: 3.7706e-04 - val_mae: 0.0126 - val_mse: 3.7706e-04\n",
            "WARNING:tensorflow:Can save best model only with val_mean_squared_error available, skipping.\n",
            "Epoch 93/100\n",
            "80/80 [==============================] - 9s 114ms/step - loss: 2.5024e-05 - mae: 0.0038 - mse: 2.5024e-05 - val_loss: 3.6490e-04 - val_mae: 0.0125 - val_mse: 3.6490e-04\n",
            "WARNING:tensorflow:Can save best model only with val_mean_squared_error available, skipping.\n",
            "Epoch 94/100\n",
            "80/80 [==============================] - 9s 112ms/step - loss: 2.2943e-05 - mae: 0.0035 - mse: 2.2943e-05 - val_loss: 3.1924e-04 - val_mae: 0.0115 - val_mse: 3.1924e-04\n",
            "WARNING:tensorflow:Can save best model only with val_mean_squared_error available, skipping.\n",
            "Epoch 95/100\n",
            "80/80 [==============================] - 9s 115ms/step - loss: 2.9166e-05 - mae: 0.0041 - mse: 2.9166e-05 - val_loss: 3.4339e-04 - val_mae: 0.0118 - val_mse: 3.4339e-04\n",
            "WARNING:tensorflow:Can save best model only with val_mean_squared_error available, skipping.\n",
            "Epoch 96/100\n",
            "80/80 [==============================] - 9s 114ms/step - loss: 2.6891e-05 - mae: 0.0039 - mse: 2.6891e-05 - val_loss: 3.5544e-04 - val_mae: 0.0123 - val_mse: 3.5544e-04\n",
            "WARNING:tensorflow:Can save best model only with val_mean_squared_error available, skipping.\n",
            "Epoch 97/100\n",
            "80/80 [==============================] - 9s 114ms/step - loss: 2.2106e-05 - mae: 0.0035 - mse: 2.2106e-05 - val_loss: 3.4824e-04 - val_mae: 0.0129 - val_mse: 3.4824e-04\n",
            "WARNING:tensorflow:Can save best model only with val_mean_squared_error available, skipping.\n",
            "Epoch 98/100\n",
            "80/80 [==============================] - 9s 113ms/step - loss: 2.4315e-05 - mae: 0.0037 - mse: 2.4315e-05 - val_loss: 3.1651e-04 - val_mae: 0.0116 - val_mse: 3.1651e-04\n",
            "WARNING:tensorflow:Can save best model only with val_mean_squared_error available, skipping.\n",
            "Epoch 99/100\n",
            "80/80 [==============================] - 9s 113ms/step - loss: 2.4263e-05 - mae: 0.0037 - mse: 2.4263e-05 - val_loss: 3.3489e-04 - val_mae: 0.0120 - val_mse: 3.3489e-04\n",
            "WARNING:tensorflow:Can save best model only with val_mean_squared_error available, skipping.\n",
            "Epoch 100/100\n",
            "80/80 [==============================] - 9s 114ms/step - loss: 2.3609e-05 - mae: 0.0037 - mse: 2.3609e-05 - val_loss: 3.4366e-04 - val_mae: 0.0120 - val_mse: 3.4366e-04\n",
            "WARNING:tensorflow:Can save best model only with val_mean_squared_error available, skipping.\n"
          ],
          "name": "stdout"
        }
      ]
    },
    {
      "cell_type": "code",
      "metadata": {
        "id": "fantastic-switzerland",
        "colab": {
          "base_uri": "https://localhost:8080/",
          "height": 295
        },
        "outputId": "d2aa6f5a-f361-4022-8c11-715b15e2f677"
      },
      "source": [
        "loss_train = history.history['loss']\n",
        "loss_val = history.history['val_loss']\n",
        "epochs = range(1,101)\n",
        "plt.plot(epochs, loss_train, 'g', label='Training loss')\n",
        "plt.plot(epochs, loss_val, 'b', label='validation loss')\n",
        "plt.title('Training and Validation loss')\n",
        "plt.xlabel('Epochs')\n",
        "plt.ylabel('Loss')\n",
        "plt.legend()\n",
        "plt.show()"
      ],
      "id": "fantastic-switzerland",
      "execution_count": 305,
      "outputs": [
        {
          "output_type": "display_data",
          "data": {
            "image/png": "[encoded data removed]",
            "text/plain": [
              "<Figure size 432x288 with 1 Axes>"
            ]
          },
          "metadata": {
            "tags": [],
            "needs_background": "light"
          }
        }
      ]
    },
    {
      "cell_type": "code",
      "metadata": {
        "id": "working-synthetic",
        "colab": {
          "base_uri": "https://localhost:8080/"
        },
        "outputId": "cbf7a589-991f-40f3-b6e0-9c64950e40e1"
      },
      "source": [
        "from keras.callbacks import LearningRateScheduler\n",
        "import keras.backend as K\n",
        "\n",
        "def scheduler(epoch):\n",
        "    if epoch%10==0 and epoch!=0:\n",
        "        lr = K.get_value(model.optimizer.lr)\n",
        "        K.set_value(model.optimizer.lr, lr*.9)\n",
        "        print(\"lr changed to {}\".format(lr*.9))\n",
        "    return K.get_value(model.optimizer.lr)\n",
        "lr_decay = LearningRateScheduler(scheduler)\n",
        "callbacks_list = [checkpoint, lr_decay]\n",
        "history = model.fit(trainX, trainY, epochs=100, batch_size=500, callbacks=callbacks_list, validation_split=0.1)"
      ],
      "id": "working-synthetic",
      "execution_count": 109,
      "outputs": [
        {
          "output_type": "stream",
          "text": [
            "Epoch 1/100\n",
            "80/80 [==============================] - 11s 88ms/step - loss: 0.1994 - mae: 0.3900 - mse: 0.1994 - val_loss: 0.3051 - val_mae: 0.5476 - val_mse: 0.3051\n",
            "WARNING:tensorflow:Can save best model only with val_mean_squared_error available, skipping.\n",
            "Epoch 2/100\n",
            "80/80 [==============================] - 6s 75ms/step - loss: 0.0512 - mae: 0.1974 - mse: 0.0512 - val_loss: 0.1461 - val_mae: 0.3753 - val_mse: 0.1461\n",
            "WARNING:tensorflow:Can save best model only with val_mean_squared_error available, skipping.\n",
            "Epoch 3/100\n",
            "80/80 [==============================] - 6s 76ms/step - loss: 0.0084 - mae: 0.0608 - mse: 0.0084 - val_loss: 0.0204 - val_mae: 0.1248 - val_mse: 0.0204\n",
            "WARNING:tensorflow:Can save best model only with val_mean_squared_error available, skipping.\n",
            "Epoch 4/100\n",
            "80/80 [==============================] - 6s 75ms/step - loss: 7.1899e-04 - mae: 0.0179 - mse: 7.1899e-04 - val_loss: 0.0131 - val_mae: 0.0954 - val_mse: 0.0131\n",
            "WARNING:tensorflow:Can save best model only with val_mean_squared_error available, skipping.\n",
            "Epoch 5/100\n",
            "80/80 [==============================] - 6s 75ms/step - loss: 4.7915e-04 - mae: 0.0148 - mse: 4.7915e-04 - val_loss: 0.0029 - val_mae: 0.0411 - val_mse: 0.0029\n",
            "WARNING:tensorflow:Can save best model only with val_mean_squared_error available, skipping.\n",
            "Epoch 6/100\n",
            "80/80 [==============================] - 6s 74ms/step - loss: 3.2098e-04 - mae: 0.0133 - mse: 3.2098e-04 - val_loss: 0.0021 - val_mae: 0.0345 - val_mse: 0.0021\n",
            "WARNING:tensorflow:Can save best model only with val_mean_squared_error available, skipping.\n",
            "Epoch 7/100\n",
            "80/80 [==============================] - 6s 77ms/step - loss: 2.4974e-04 - mae: 0.0115 - mse: 2.4974e-04 - val_loss: 0.0016 - val_mae: 0.0304 - val_mse: 0.0016\n",
            "WARNING:tensorflow:Can save best model only with val_mean_squared_error available, skipping.\n",
            "Epoch 8/100\n",
            "80/80 [==============================] - 6s 76ms/step - loss: 2.0894e-04 - mae: 0.0104 - mse: 2.0894e-04 - val_loss: 0.0013 - val_mae: 0.0263 - val_mse: 0.0013\n",
            "WARNING:tensorflow:Can save best model only with val_mean_squared_error available, skipping.\n",
            "Epoch 9/100\n",
            "80/80 [==============================] - 6s 77ms/step - loss: 1.7184e-04 - mae: 0.0094 - mse: 1.7184e-04 - val_loss: 0.0011 - val_mae: 0.0244 - val_mse: 0.0011\n",
            "WARNING:tensorflow:Can save best model only with val_mean_squared_error available, skipping.\n",
            "Epoch 10/100\n",
            "80/80 [==============================] - 6s 75ms/step - loss: 1.4248e-04 - mae: 0.0087 - mse: 1.4248e-04 - val_loss: 9.5742e-04 - val_mae: 0.0232 - val_mse: 9.5742e-04\n",
            "WARNING:tensorflow:Can save best model only with val_mean_squared_error available, skipping.\n",
            "Epoch 11/100\n",
            "lr changed to 0.0009000000427477062\n",
            "80/80 [==============================] - 6s 75ms/step - loss: 1.1640e-04 - mae: 0.0080 - mse: 1.1640e-04 - val_loss: 9.2275e-04 - val_mae: 0.0233 - val_mse: 9.2275e-04\n",
            "WARNING:tensorflow:Can save best model only with val_mean_squared_error available, skipping.\n",
            "Epoch 12/100\n",
            "80/80 [==============================] - 6s 75ms/step - loss: 1.0577e-04 - mae: 0.0078 - mse: 1.0577e-04 - val_loss: 8.3848e-04 - val_mae: 0.0209 - val_mse: 8.3848e-04\n",
            "WARNING:tensorflow:Can save best model only with val_mean_squared_error available, skipping.\n",
            "Epoch 13/100\n",
            "80/80 [==============================] - 6s 74ms/step - loss: 9.3973e-05 - mae: 0.0074 - mse: 9.3973e-05 - val_loss: 7.8679e-04 - val_mae: 0.0207 - val_mse: 7.8679e-04\n",
            "WARNING:tensorflow:Can save best model only with val_mean_squared_error available, skipping.\n",
            "Epoch 14/100\n",
            "80/80 [==============================] - 6s 75ms/step - loss: 9.0719e-05 - mae: 0.0073 - mse: 9.0719e-05 - val_loss: 7.8693e-04 - val_mae: 0.0197 - val_mse: 7.8693e-04\n",
            "WARNING:tensorflow:Can save best model only with val_mean_squared_error available, skipping.\n",
            "Epoch 15/100\n",
            "80/80 [==============================] - 6s 77ms/step - loss: 7.8860e-05 - mae: 0.0068 - mse: 7.8860e-05 - val_loss: 7.6705e-04 - val_mae: 0.0202 - val_mse: 7.6705e-04\n",
            "WARNING:tensorflow:Can save best model only with val_mean_squared_error available, skipping.\n",
            "Epoch 16/100\n",
            "80/80 [==============================] - 6s 76ms/step - loss: 7.4118e-05 - mae: 0.0066 - mse: 7.4118e-05 - val_loss: 7.1654e-04 - val_mae: 0.0198 - val_mse: 7.1654e-04\n",
            "WARNING:tensorflow:Can save best model only with val_mean_squared_error available, skipping.\n",
            "Epoch 17/100\n",
            "80/80 [==============================] - 6s 75ms/step - loss: 6.9742e-05 - mae: 0.0064 - mse: 6.9742e-05 - val_loss: 6.7161e-04 - val_mae: 0.0183 - val_mse: 6.7161e-04\n",
            "WARNING:tensorflow:Can save best model only with val_mean_squared_error available, skipping.\n",
            "Epoch 18/100\n",
            "80/80 [==============================] - 6s 76ms/step - loss: 7.2083e-05 - mae: 0.0065 - mse: 7.2083e-05 - val_loss: 6.1603e-04 - val_mae: 0.0176 - val_mse: 6.1603e-04\n",
            "WARNING:tensorflow:Can save best model only with val_mean_squared_error available, skipping.\n",
            "Epoch 19/100\n",
            "80/80 [==============================] - 6s 75ms/step - loss: 6.4507e-05 - mae: 0.0062 - mse: 6.4507e-05 - val_loss: 6.2029e-04 - val_mae: 0.0174 - val_mse: 6.2029e-04\n",
            "WARNING:tensorflow:Can save best model only with val_mean_squared_error available, skipping.\n",
            "Epoch 20/100\n",
            "80/80 [==============================] - 6s 76ms/step - loss: 6.3442e-05 - mae: 0.0061 - mse: 6.3442e-05 - val_loss: 6.1235e-04 - val_mae: 0.0169 - val_mse: 6.1235e-04\n",
            "WARNING:tensorflow:Can save best model only with val_mean_squared_error available, skipping.\n",
            "Epoch 21/100\n",
            "lr changed to 0.0008100000384729356\n",
            "80/80 [==============================] - 6s 76ms/step - loss: 6.2838e-05 - mae: 0.0061 - mse: 6.2838e-05 - val_loss: 5.7383e-04 - val_mae: 0.0165 - val_mse: 5.7383e-04\n",
            "WARNING:tensorflow:Can save best model only with val_mean_squared_error available, skipping.\n",
            "Epoch 22/100\n",
            "80/80 [==============================] - 6s 75ms/step - loss: 5.5760e-05 - mae: 0.0057 - mse: 5.5760e-05 - val_loss: 5.7693e-04 - val_mae: 0.0167 - val_mse: 5.7693e-04\n",
            "WARNING:tensorflow:Can save best model only with val_mean_squared_error available, skipping.\n",
            "Epoch 23/100\n",
            "80/80 [==============================] - 6s 74ms/step - loss: 5.5332e-05 - mae: 0.0057 - mse: 5.5332e-05 - val_loss: 5.0765e-04 - val_mae: 0.0158 - val_mse: 5.0765e-04\n",
            "WARNING:tensorflow:Can save best model only with val_mean_squared_error available, skipping.\n",
            "Epoch 24/100\n",
            "80/80 [==============================] - 6s 74ms/step - loss: 5.5735e-05 - mae: 0.0057 - mse: 5.5735e-05 - val_loss: 5.4093e-04 - val_mae: 0.0158 - val_mse: 5.4093e-04\n",
            "WARNING:tensorflow:Can save best model only with val_mean_squared_error available, skipping.\n",
            "Epoch 25/100\n",
            "80/80 [==============================] - 6s 75ms/step - loss: 5.1512e-05 - mae: 0.0055 - mse: 5.1512e-05 - val_loss: 5.2287e-04 - val_mae: 0.0157 - val_mse: 5.2287e-04\n",
            "WARNING:tensorflow:Can save best model only with val_mean_squared_error available, skipping.\n",
            "Epoch 26/100\n",
            "80/80 [==============================] - 6s 77ms/step - loss: 5.0299e-05 - mae: 0.0054 - mse: 5.0299e-05 - val_loss: 5.0509e-04 - val_mae: 0.0159 - val_mse: 5.0509e-04\n",
            "WARNING:tensorflow:Can save best model only with val_mean_squared_error available, skipping.\n",
            "Epoch 27/100\n",
            "80/80 [==============================] - 6s 79ms/step - loss: 4.9080e-05 - mae: 0.0053 - mse: 4.9080e-05 - val_loss: 5.0012e-04 - val_mae: 0.0155 - val_mse: 5.0012e-04\n",
            "WARNING:tensorflow:Can save best model only with val_mean_squared_error available, skipping.\n",
            "Epoch 28/100\n",
            "80/80 [==============================] - 6s 75ms/step - loss: 5.3931e-05 - mae: 0.0057 - mse: 5.3931e-05 - val_loss: 4.8352e-04 - val_mae: 0.0151 - val_mse: 4.8352e-04\n",
            "WARNING:tensorflow:Can save best model only with val_mean_squared_error available, skipping.\n",
            "Epoch 29/100\n",
            "80/80 [==============================] - 6s 75ms/step - loss: 4.8816e-05 - mae: 0.0054 - mse: 4.8816e-05 - val_loss: 4.8466e-04 - val_mae: 0.0155 - val_mse: 4.8466e-04\n",
            "WARNING:tensorflow:Can save best model only with val_mean_squared_error available, skipping.\n",
            "Epoch 30/100\n",
            "80/80 [==============================] - 6s 74ms/step - loss: 4.6914e-05 - mae: 0.0053 - mse: 4.6914e-05 - val_loss: 5.0038e-04 - val_mae: 0.0159 - val_mse: 5.0038e-04\n",
            "WARNING:tensorflow:Can save best model only with val_mean_squared_error available, skipping.\n",
            "Epoch 31/100\n",
            "lr changed to 0.0007290000503417104\n",
            "80/80 [==============================] - 6s 75ms/step - loss: 4.5460e-05 - mae: 0.0051 - mse: 4.5460e-05 - val_loss: 4.6715e-04 - val_mae: 0.0146 - val_mse: 4.6715e-04\n",
            "WARNING:tensorflow:Can save best model only with val_mean_squared_error available, skipping.\n",
            "Epoch 32/100\n",
            "80/80 [==============================] - 6s 75ms/step - loss: 4.8130e-05 - mae: 0.0053 - mse: 4.8130e-05 - val_loss: 4.7611e-04 - val_mae: 0.0148 - val_mse: 4.7611e-04\n",
            "WARNING:tensorflow:Can save best model only with val_mean_squared_error available, skipping.\n",
            "Epoch 33/100\n",
            "80/80 [==============================] - 6s 75ms/step - loss: 4.1708e-05 - mae: 0.0049 - mse: 4.1708e-05 - val_loss: 4.5305e-04 - val_mae: 0.0147 - val_mse: 4.5305e-04\n",
            "WARNING:tensorflow:Can save best model only with val_mean_squared_error available, skipping.\n",
            "Epoch 34/100\n",
            "80/80 [==============================] - 6s 75ms/step - loss: 4.2782e-05 - mae: 0.0050 - mse: 4.2782e-05 - val_loss: 4.4204e-04 - val_mae: 0.0139 - val_mse: 4.4204e-04\n",
            "WARNING:tensorflow:Can save best model only with val_mean_squared_error available, skipping.\n",
            "Epoch 35/100\n",
            "80/80 [==============================] - 6s 77ms/step - loss: 4.1881e-05 - mae: 0.0050 - mse: 4.1881e-05 - val_loss: 4.2041e-04 - val_mae: 0.0135 - val_mse: 4.2041e-04\n",
            "WARNING:tensorflow:Can save best model only with val_mean_squared_error available, skipping.\n",
            "Epoch 36/100\n",
            "80/80 [==============================] - 6s 76ms/step - loss: 3.9605e-05 - mae: 0.0048 - mse: 3.9605e-05 - val_loss: 4.3712e-04 - val_mae: 0.0137 - val_mse: 4.3712e-04\n",
            "WARNING:tensorflow:Can save best model only with val_mean_squared_error available, skipping.\n",
            "Epoch 37/100\n",
            "80/80 [==============================] - 6s 75ms/step - loss: 4.1673e-05 - mae: 0.0049 - mse: 4.1673e-05 - val_loss: 4.1442e-04 - val_mae: 0.0136 - val_mse: 4.1442e-04\n",
            "WARNING:tensorflow:Can save best model only with val_mean_squared_error available, skipping.\n",
            "Epoch 38/100\n",
            "80/80 [==============================] - 6s 75ms/step - loss: 3.8519e-05 - mae: 0.0047 - mse: 3.8519e-05 - val_loss: 4.1915e-04 - val_mae: 0.0136 - val_mse: 4.1915e-04\n",
            "WARNING:tensorflow:Can save best model only with val_mean_squared_error available, skipping.\n",
            "Epoch 39/100\n",
            "80/80 [==============================] - 6s 75ms/step - loss: 3.8540e-05 - mae: 0.0047 - mse: 3.8540e-05 - val_loss: 4.0870e-04 - val_mae: 0.0133 - val_mse: 4.0870e-04\n",
            "WARNING:tensorflow:Can save best model only with val_mean_squared_error available, skipping.\n",
            "Epoch 40/100\n",
            "80/80 [==============================] - 6s 76ms/step - loss: 3.9392e-05 - mae: 0.0048 - mse: 3.9392e-05 - val_loss: 4.4570e-04 - val_mae: 0.0142 - val_mse: 4.4570e-04\n",
            "WARNING:tensorflow:Can save best model only with val_mean_squared_error available, skipping.\n",
            "Epoch 41/100\n",
            "lr changed to 0.0006561000715009868\n",
            "80/80 [==============================] - 6s 75ms/step - loss: 3.7406e-05 - mae: 0.0047 - mse: 3.7406e-05 - val_loss: 4.3306e-04 - val_mae: 0.0139 - val_mse: 4.3306e-04\n",
            "WARNING:tensorflow:Can save best model only with val_mean_squared_error available, skipping.\n",
            "Epoch 42/100\n",
            "80/80 [==============================] - 6s 76ms/step - loss: 3.8271e-05 - mae: 0.0047 - mse: 3.8271e-05 - val_loss: 4.3879e-04 - val_mae: 0.0140 - val_mse: 4.3879e-04\n",
            "WARNING:tensorflow:Can save best model only with val_mean_squared_error available, skipping.\n",
            "Epoch 43/100\n",
            "80/80 [==============================] - 6s 75ms/step - loss: 3.5299e-05 - mae: 0.0046 - mse: 3.5299e-05 - val_loss: 4.4488e-04 - val_mae: 0.0146 - val_mse: 4.4488e-04\n",
            "WARNING:tensorflow:Can save best model only with val_mean_squared_error available, skipping.\n",
            "Epoch 44/100\n",
            "80/80 [==============================] - 6s 77ms/step - loss: 3.5660e-05 - mae: 0.0045 - mse: 3.5660e-05 - val_loss: 4.2496e-04 - val_mae: 0.0135 - val_mse: 4.2496e-04\n",
            "WARNING:tensorflow:Can save best model only with val_mean_squared_error available, skipping.\n",
            "Epoch 45/100\n",
            "80/80 [==============================] - 6s 74ms/step - loss: 3.5305e-05 - mae: 0.0045 - mse: 3.5305e-05 - val_loss: 4.1044e-04 - val_mae: 0.0132 - val_mse: 4.1044e-04\n",
            "WARNING:tensorflow:Can save best model only with val_mean_squared_error available, skipping.\n",
            "Epoch 46/100\n",
            "80/80 [==============================] - 6s 75ms/step - loss: 3.3637e-05 - mae: 0.0044 - mse: 3.3637e-05 - val_loss: 4.1576e-04 - val_mae: 0.0133 - val_mse: 4.1576e-04\n",
            "WARNING:tensorflow:Can save best model only with val_mean_squared_error available, skipping.\n",
            "Epoch 47/100\n",
            "80/80 [==============================] - 6s 76ms/step - loss: 3.6191e-05 - mae: 0.0046 - mse: 3.6191e-05 - val_loss: 4.1433e-04 - val_mae: 0.0133 - val_mse: 4.1433e-04\n",
            "WARNING:tensorflow:Can save best model only with val_mean_squared_error available, skipping.\n",
            "Epoch 48/100\n",
            "80/80 [==============================] - 6s 74ms/step - loss: 3.4153e-05 - mae: 0.0045 - mse: 3.4153e-05 - val_loss: 4.3457e-04 - val_mae: 0.0142 - val_mse: 4.3457e-04\n",
            "WARNING:tensorflow:Can save best model only with val_mean_squared_error available, skipping.\n",
            "Epoch 49/100\n",
            "80/80 [==============================] - 6s 75ms/step - loss: 3.5886e-05 - mae: 0.0046 - mse: 3.5886e-05 - val_loss: 4.4833e-04 - val_mae: 0.0144 - val_mse: 4.4833e-04\n",
            "WARNING:tensorflow:Can save best model only with val_mean_squared_error available, skipping.\n",
            "Epoch 50/100\n",
            "80/80 [==============================] - 6s 78ms/step - loss: 3.4370e-05 - mae: 0.0045 - mse: 3.4370e-05 - val_loss: 4.2654e-04 - val_mae: 0.0134 - val_mse: 4.2654e-04\n",
            "WARNING:tensorflow:Can save best model only with val_mean_squared_error available, skipping.\n",
            "Epoch 51/100\n",
            "lr changed to 0.0005904900433961303\n",
            "80/80 [==============================] - 6s 76ms/step - loss: 3.2264e-05 - mae: 0.0043 - mse: 3.2264e-05 - val_loss: 4.2223e-04 - val_mae: 0.0136 - val_mse: 4.2223e-04\n",
            "WARNING:tensorflow:Can save best model only with val_mean_squared_error available, skipping.\n",
            "Epoch 52/100\n",
            "80/80 [==============================] - 6s 76ms/step - loss: 3.2453e-05 - mae: 0.0043 - mse: 3.2453e-05 - val_loss: 4.1860e-04 - val_mae: 0.0140 - val_mse: 4.1860e-04\n",
            "WARNING:tensorflow:Can save best model only with val_mean_squared_error available, skipping.\n",
            "Epoch 53/100\n",
            "80/80 [==============================] - 6s 76ms/step - loss: 3.4745e-05 - mae: 0.0045 - mse: 3.4745e-05 - val_loss: 4.5391e-04 - val_mae: 0.0141 - val_mse: 4.5391e-04\n",
            "WARNING:tensorflow:Can save best model only with val_mean_squared_error available, skipping.\n",
            "Epoch 54/100\n",
            "80/80 [==============================] - 6s 76ms/step - loss: 3.0888e-05 - mae: 0.0042 - mse: 3.0888e-05 - val_loss: 4.1945e-04 - val_mae: 0.0139 - val_mse: 4.1945e-04\n",
            "WARNING:tensorflow:Can save best model only with val_mean_squared_error available, skipping.\n",
            "Epoch 55/100\n",
            "80/80 [==============================] - 6s 77ms/step - loss: 3.2527e-05 - mae: 0.0043 - mse: 3.2527e-05 - val_loss: 4.4018e-04 - val_mae: 0.0140 - val_mse: 4.4018e-04\n",
            "WARNING:tensorflow:Can save best model only with val_mean_squared_error available, skipping.\n",
            "Epoch 56/100\n",
            "80/80 [==============================] - 6s 76ms/step - loss: 3.0506e-05 - mae: 0.0042 - mse: 3.0506e-05 - val_loss: 4.3240e-04 - val_mae: 0.0134 - val_mse: 4.3240e-04\n",
            "WARNING:tensorflow:Can save best model only with val_mean_squared_error available, skipping.\n",
            "Epoch 57/100\n",
            "80/80 [==============================] - 6s 78ms/step - loss: 3.1686e-05 - mae: 0.0043 - mse: 3.1686e-05 - val_loss: 4.5131e-04 - val_mae: 0.0139 - val_mse: 4.5131e-04\n",
            "WARNING:tensorflow:Can save best model only with val_mean_squared_error available, skipping.\n",
            "Epoch 58/100\n",
            "80/80 [==============================] - 6s 76ms/step - loss: 3.0517e-05 - mae: 0.0042 - mse: 3.0517e-05 - val_loss: 4.4050e-04 - val_mae: 0.0138 - val_mse: 4.4050e-04\n",
            "WARNING:tensorflow:Can save best model only with val_mean_squared_error available, skipping.\n",
            "Epoch 59/100\n",
            "80/80 [==============================] - 6s 77ms/step - loss: 3.0712e-05 - mae: 0.0042 - mse: 3.0712e-05 - val_loss: 4.3844e-04 - val_mae: 0.0140 - val_mse: 4.3844e-04\n",
            "WARNING:tensorflow:Can save best model only with val_mean_squared_error available, skipping.\n",
            "Epoch 60/100\n",
            "80/80 [==============================] - 6s 75ms/step - loss: 2.9541e-05 - mae: 0.0041 - mse: 2.9541e-05 - val_loss: 4.4132e-04 - val_mae: 0.0136 - val_mse: 4.4132e-04\n",
            "WARNING:tensorflow:Can save best model only with val_mean_squared_error available, skipping.\n",
            "Epoch 61/100\n",
            "lr changed to 0.0005314410547725857\n",
            "80/80 [==============================] - 6s 77ms/step - loss: 2.8977e-05 - mae: 0.0041 - mse: 2.8977e-05 - val_loss: 4.3755e-04 - val_mae: 0.0136 - val_mse: 4.3755e-04\n",
            "WARNING:tensorflow:Can save best model only with val_mean_squared_error available, skipping.\n",
            "Epoch 62/100\n",
            "80/80 [==============================] - 6s 76ms/step - loss: 2.9961e-05 - mae: 0.0042 - mse: 2.9961e-05 - val_loss: 4.3670e-04 - val_mae: 0.0139 - val_mse: 4.3670e-04\n",
            "WARNING:tensorflow:Can save best model only with val_mean_squared_error available, skipping.\n",
            "Epoch 63/100\n",
            "80/80 [==============================] - 6s 77ms/step - loss: 2.9961e-05 - mae: 0.0042 - mse: 2.9961e-05 - val_loss: 4.2912e-04 - val_mae: 0.0140 - val_mse: 4.2912e-04\n",
            "WARNING:tensorflow:Can save best model only with val_mean_squared_error available, skipping.\n",
            "Epoch 64/100\n",
            "80/80 [==============================] - 6s 75ms/step - loss: 2.9262e-05 - mae: 0.0041 - mse: 2.9262e-05 - val_loss: 4.2215e-04 - val_mae: 0.0138 - val_mse: 4.2215e-04\n",
            "WARNING:tensorflow:Can save best model only with val_mean_squared_error available, skipping.\n",
            "Epoch 65/100\n",
            "80/80 [==============================] - 6s 76ms/step - loss: 2.8317e-05 - mae: 0.0040 - mse: 2.8317e-05 - val_loss: 4.2244e-04 - val_mae: 0.0132 - val_mse: 4.2244e-04\n",
            "WARNING:tensorflow:Can save best model only with val_mean_squared_error available, skipping.\n",
            "Epoch 66/100\n",
            "80/80 [==============================] - 6s 76ms/step - loss: 2.9679e-05 - mae: 0.0041 - mse: 2.9679e-05 - val_loss: 4.2261e-04 - val_mae: 0.0133 - val_mse: 4.2261e-04\n",
            "WARNING:tensorflow:Can save best model only with val_mean_squared_error available, skipping.\n",
            "Epoch 67/100\n",
            "80/80 [==============================] - 6s 77ms/step - loss: 2.7539e-05 - mae: 0.0040 - mse: 2.7539e-05 - val_loss: 4.1962e-04 - val_mae: 0.0133 - val_mse: 4.1962e-04\n",
            "WARNING:tensorflow:Can save best model only with val_mean_squared_error available, skipping.\n",
            "Epoch 68/100\n",
            "80/80 [==============================] - 6s 76ms/step - loss: 2.8084e-05 - mae: 0.0040 - mse: 2.8084e-05 - val_loss: 4.2587e-04 - val_mae: 0.0137 - val_mse: 4.2587e-04\n",
            "WARNING:tensorflow:Can save best model only with val_mean_squared_error available, skipping.\n",
            "Epoch 69/100\n",
            "80/80 [==============================] - 6s 77ms/step - loss: 2.8025e-05 - mae: 0.0040 - mse: 2.8025e-05 - val_loss: 4.1652e-04 - val_mae: 0.0131 - val_mse: 4.1652e-04\n",
            "WARNING:tensorflow:Can save best model only with val_mean_squared_error available, skipping.\n",
            "Epoch 70/100\n",
            "80/80 [==============================] - 6s 75ms/step - loss: 2.6799e-05 - mae: 0.0039 - mse: 2.6799e-05 - val_loss: 4.1913e-04 - val_mae: 0.0132 - val_mse: 4.1913e-04\n",
            "WARNING:tensorflow:Can save best model only with val_mean_squared_error available, skipping.\n",
            "Epoch 71/100\n",
            "lr changed to 0.00047829695977270604\n",
            "80/80 [==============================] - 6s 78ms/step - loss: 2.8984e-05 - mae: 0.0041 - mse: 2.8984e-05 - val_loss: 4.3269e-04 - val_mae: 0.0134 - val_mse: 4.3269e-04\n",
            "WARNING:tensorflow:Can save best model only with val_mean_squared_error available, skipping.\n",
            "Epoch 72/100\n",
            "80/80 [==============================] - 6s 76ms/step - loss: 2.6925e-05 - mae: 0.0039 - mse: 2.6925e-05 - val_loss: 4.2624e-04 - val_mae: 0.0133 - val_mse: 4.2624e-04\n",
            "WARNING:tensorflow:Can save best model only with val_mean_squared_error available, skipping.\n",
            "Epoch 73/100\n",
            "80/80 [==============================] - 6s 78ms/step - loss: 2.7019e-05 - mae: 0.0039 - mse: 2.7019e-05 - val_loss: 4.4075e-04 - val_mae: 0.0136 - val_mse: 4.4075e-04\n",
            "WARNING:tensorflow:Can save best model only with val_mean_squared_error available, skipping.\n",
            "Epoch 74/100\n",
            "80/80 [==============================] - 6s 78ms/step - loss: 2.6012e-05 - mae: 0.0039 - mse: 2.6012e-05 - val_loss: 4.3687e-04 - val_mae: 0.0140 - val_mse: 4.3687e-04\n",
            "WARNING:tensorflow:Can save best model only with val_mean_squared_error available, skipping.\n",
            "Epoch 75/100\n",
            "80/80 [==============================] - 6s 76ms/step - loss: 2.5155e-05 - mae: 0.0038 - mse: 2.5155e-05 - val_loss: 4.3271e-04 - val_mae: 0.0136 - val_mse: 4.3271e-04\n",
            "WARNING:tensorflow:Can save best model only with val_mean_squared_error available, skipping.\n",
            "Epoch 76/100\n",
            "80/80 [==============================] - 6s 76ms/step - loss: 2.7004e-05 - mae: 0.0039 - mse: 2.7004e-05 - val_loss: 4.1937e-04 - val_mae: 0.0133 - val_mse: 4.1937e-04\n",
            "WARNING:tensorflow:Can save best model only with val_mean_squared_error available, skipping.\n",
            "Epoch 77/100\n",
            "80/80 [==============================] - 6s 76ms/step - loss: 2.6454e-05 - mae: 0.0039 - mse: 2.6454e-05 - val_loss: 4.3302e-04 - val_mae: 0.0144 - val_mse: 4.3302e-04\n",
            "WARNING:tensorflow:Can save best model only with val_mean_squared_error available, skipping.\n",
            "Epoch 78/100\n",
            "80/80 [==============================] - 6s 78ms/step - loss: 2.8298e-05 - mae: 0.0041 - mse: 2.8298e-05 - val_loss: 4.3452e-04 - val_mae: 0.0138 - val_mse: 4.3452e-04\n",
            "WARNING:tensorflow:Can save best model only with val_mean_squared_error available, skipping.\n",
            "Epoch 79/100\n",
            "80/80 [==============================] - 6s 78ms/step - loss: 2.4503e-05 - mae: 0.0037 - mse: 2.4503e-05 - val_loss: 4.2731e-04 - val_mae: 0.0139 - val_mse: 4.2731e-04\n",
            "WARNING:tensorflow:Can save best model only with val_mean_squared_error available, skipping.\n",
            "Epoch 80/100\n",
            "80/80 [==============================] - 6s 76ms/step - loss: 2.6160e-05 - mae: 0.0039 - mse: 2.6160e-05 - val_loss: 4.3148e-04 - val_mae: 0.0134 - val_mse: 4.3148e-04\n",
            "WARNING:tensorflow:Can save best model only with val_mean_squared_error available, skipping.\n",
            "Epoch 81/100\n",
            "lr changed to 0.0004304672533180565\n",
            "80/80 [==============================] - 6s 76ms/step - loss: 2.4844e-05 - mae: 0.0038 - mse: 2.4844e-05 - val_loss: 4.1893e-04 - val_mae: 0.0132 - val_mse: 4.1893e-04\n",
            "WARNING:tensorflow:Can save best model only with val_mean_squared_error available, skipping.\n",
            "Epoch 82/100\n",
            "80/80 [==============================] - 6s 76ms/step - loss: 2.5591e-05 - mae: 0.0038 - mse: 2.5591e-05 - val_loss: 4.3951e-04 - val_mae: 0.0145 - val_mse: 4.3951e-04\n",
            "WARNING:tensorflow:Can save best model only with val_mean_squared_error available, skipping.\n",
            "Epoch 83/100\n",
            "80/80 [==============================] - 6s 77ms/step - loss: 2.4418e-05 - mae: 0.0037 - mse: 2.4418e-05 - val_loss: 4.2371e-04 - val_mae: 0.0133 - val_mse: 4.2371e-04\n",
            "WARNING:tensorflow:Can save best model only with val_mean_squared_error available, skipping.\n",
            "Epoch 84/100\n",
            "80/80 [==============================] - 6s 75ms/step - loss: 2.6059e-05 - mae: 0.0039 - mse: 2.6059e-05 - val_loss: 4.1802e-04 - val_mae: 0.0134 - val_mse: 4.1802e-04\n",
            "WARNING:tensorflow:Can save best model only with val_mean_squared_error available, skipping.\n",
            "Epoch 85/100\n",
            "80/80 [==============================] - 6s 75ms/step - loss: 2.4107e-05 - mae: 0.0037 - mse: 2.4107e-05 - val_loss: 4.0411e-04 - val_mae: 0.0132 - val_mse: 4.0411e-04\n",
            "WARNING:tensorflow:Can save best model only with val_mean_squared_error available, skipping.\n",
            "Epoch 86/100\n",
            "80/80 [==============================] - 6s 77ms/step - loss: 2.5820e-05 - mae: 0.0038 - mse: 2.5820e-05 - val_loss: 4.1330e-04 - val_mae: 0.0135 - val_mse: 4.1330e-04\n",
            "WARNING:tensorflow:Can save best model only with val_mean_squared_error available, skipping.\n",
            "Epoch 87/100\n",
            "80/80 [==============================] - 6s 76ms/step - loss: 2.5325e-05 - mae: 0.0038 - mse: 2.5325e-05 - val_loss: 4.0984e-04 - val_mae: 0.0130 - val_mse: 4.0984e-04\n",
            "WARNING:tensorflow:Can save best model only with val_mean_squared_error available, skipping.\n",
            "Epoch 88/100\n",
            "80/80 [==============================] - 6s 76ms/step - loss: 2.4402e-05 - mae: 0.0037 - mse: 2.4402e-05 - val_loss: 4.2397e-04 - val_mae: 0.0139 - val_mse: 4.2397e-04\n",
            "WARNING:tensorflow:Can save best model only with val_mean_squared_error available, skipping.\n",
            "Epoch 89/100\n",
            "80/80 [==============================] - 6s 76ms/step - loss: 2.3755e-05 - mae: 0.0036 - mse: 2.3755e-05 - val_loss: 3.8641e-04 - val_mae: 0.0128 - val_mse: 3.8641e-04\n",
            "WARNING:tensorflow:Can save best model only with val_mean_squared_error available, skipping.\n",
            "Epoch 90/100\n",
            "80/80 [==============================] - 6s 76ms/step - loss: 2.4325e-05 - mae: 0.0037 - mse: 2.4325e-05 - val_loss: 4.0187e-04 - val_mae: 0.0129 - val_mse: 4.0187e-04\n",
            "WARNING:tensorflow:Can save best model only with val_mean_squared_error available, skipping.\n",
            "Epoch 91/100\n",
            "lr changed to 0.00038742052274756136\n",
            "80/80 [==============================] - 6s 77ms/step - loss: 2.3508e-05 - mae: 0.0036 - mse: 2.3508e-05 - val_loss: 4.0098e-04 - val_mae: 0.0129 - val_mse: 4.0098e-04\n",
            "WARNING:tensorflow:Can save best model only with val_mean_squared_error available, skipping.\n",
            "Epoch 92/100\n",
            "80/80 [==============================] - 6s 77ms/step - loss: 2.2939e-05 - mae: 0.0036 - mse: 2.2939e-05 - val_loss: 3.9113e-04 - val_mae: 0.0129 - val_mse: 3.9113e-04\n",
            "WARNING:tensorflow:Can save best model only with val_mean_squared_error available, skipping.\n",
            "Epoch 93/100\n",
            "80/80 [==============================] - 6s 77ms/step - loss: 2.2628e-05 - mae: 0.0036 - mse: 2.2628e-05 - val_loss: 4.0493e-04 - val_mae: 0.0132 - val_mse: 4.0493e-04\n",
            "WARNING:tensorflow:Can save best model only with val_mean_squared_error available, skipping.\n",
            "Epoch 94/100\n",
            "80/80 [==============================] - 6s 76ms/step - loss: 2.2452e-05 - mae: 0.0036 - mse: 2.2452e-05 - val_loss: 4.1258e-04 - val_mae: 0.0130 - val_mse: 4.1258e-04\n",
            "WARNING:tensorflow:Can save best model only with val_mean_squared_error available, skipping.\n",
            "Epoch 95/100\n",
            "80/80 [==============================] - 6s 77ms/step - loss: 2.3014e-05 - mae: 0.0036 - mse: 2.3014e-05 - val_loss: 4.1006e-04 - val_mae: 0.0130 - val_mse: 4.1006e-04\n",
            "WARNING:tensorflow:Can save best model only with val_mean_squared_error available, skipping.\n",
            "Epoch 96/100\n",
            "80/80 [==============================] - 6s 77ms/step - loss: 2.2153e-05 - mae: 0.0035 - mse: 2.2153e-05 - val_loss: 4.0073e-04 - val_mae: 0.0132 - val_mse: 4.0073e-04\n",
            "WARNING:tensorflow:Can save best model only with val_mean_squared_error available, skipping.\n",
            "Epoch 97/100\n",
            "80/80 [==============================] - 6s 76ms/step - loss: 2.2835e-05 - mae: 0.0036 - mse: 2.2835e-05 - val_loss: 3.9265e-04 - val_mae: 0.0127 - val_mse: 3.9265e-04\n",
            "WARNING:tensorflow:Can save best model only with val_mean_squared_error available, skipping.\n",
            "Epoch 98/100\n",
            "80/80 [==============================] - 6s 77ms/step - loss: 2.2062e-05 - mae: 0.0035 - mse: 2.2062e-05 - val_loss: 3.9886e-04 - val_mae: 0.0129 - val_mse: 3.9886e-04\n",
            "WARNING:tensorflow:Can save best model only with val_mean_squared_error available, skipping.\n",
            "Epoch 99/100\n",
            "80/80 [==============================] - 6s 77ms/step - loss: 2.2608e-05 - mae: 0.0036 - mse: 2.2608e-05 - val_loss: 3.8762e-04 - val_mae: 0.0127 - val_mse: 3.8762e-04\n",
            "WARNING:tensorflow:Can save best model only with val_mean_squared_error available, skipping.\n",
            "Epoch 100/100\n",
            "80/80 [==============================] - 6s 76ms/step - loss: 2.3829e-05 - mae: 0.0037 - mse: 2.3829e-05 - val_loss: 3.9689e-04 - val_mae: 0.0127 - val_mse: 3.9689e-04\n",
            "WARNING:tensorflow:Can save best model only with val_mean_squared_error available, skipping.\n"
          ],
          "name": "stdout"
        }
      ]
    },
    {
      "cell_type": "code",
      "metadata": {
        "id": "fossil-austin"
      },
      "source": [
        "pred=model.predict(testX)"
      ],
      "id": "fossil-austin",
      "execution_count": 384,
      "outputs": []
    },
    {
      "cell_type": "code",
      "metadata": {
        "id": "clinical-survey"
      },
      "source": [
        "test2=y_scaler.inverse_transform(testY.reshape(-1,1))"
      ],
      "id": "clinical-survey",
      "execution_count": 385,
      "outputs": []
    },
    {
      "cell_type": "code",
      "metadata": {
        "id": "engaging-journal"
      },
      "source": [
        "pred2=y_scaler.inverse_transform(pred.reshape(-1,1))"
      ],
      "id": "engaging-journal",
      "execution_count": 386,
      "outputs": []
    },
    {
      "cell_type": "code",
      "metadata": {
        "colab": {
          "base_uri": "https://localhost:8080/"
        },
        "id": "xEEa5aC76dn5",
        "outputId": "0f8a1d69-eb45-45fd-fdb0-b6345d978ca1"
      },
      "source": [
        "len(test2)"
      ],
      "id": "xEEa5aC76dn5",
      "execution_count": 387,
      "outputs": [
        {
          "output_type": "execute_result",
          "data": {
            "text/plain": [
              "11009"
            ]
          },
          "metadata": {
            "tags": []
          },
          "execution_count": 387
        }
      ]
    },
    {
      "cell_type": "code",
      "metadata": {
        "id": "spiritual-bryan",
        "outputId": "84553efe-2b0f-4260-c0d6-c151f151c74e"
      },
      "source": [
        "pred2"
      ],
      "id": "spiritual-bryan",
      "execution_count": null,
      "outputs": [
        {
          "output_type": "execute_result",
          "data": {
            "text/plain": [
              "array([[19292.383],\n",
              "       [19248.344],\n",
              "       [19274.38 ],\n",
              "       ...,\n",
              "       [29605.65 ],\n",
              "       [29597.336],\n",
              "       [29622.723]], dtype=float32)"
            ]
          },
          "metadata": {
            "tags": []
          },
          "execution_count": 85
        }
      ]
    },
    {
      "cell_type": "code",
      "metadata": {
        "id": "ecological-electron",
        "outputId": "7e8c23ed-bb6b-4f8b-f4d7-86aa5b7001fe"
      },
      "source": [
        "test2"
      ],
      "id": "ecological-electron",
      "execution_count": null,
      "outputs": [
        {
          "output_type": "execute_result",
          "data": {
            "text/plain": [
              "array([[19055.8  ],\n",
              "       [19453.25 ],\n",
              "       [19483.049],\n",
              "       ...,\n",
              "       [29586.6  ],\n",
              "       [29644.15 ],\n",
              "       [29643.049]], dtype=float32)"
            ]
          },
          "metadata": {
            "tags": []
          },
          "execution_count": 86
        }
      ]
    },
    {
      "cell_type": "code",
      "metadata": {
        "id": "pacific-sessions"
      },
      "source": [
        "from sklearn.metrics import mean_squared_error\n",
        "mse=mean_squared_error(test2,pred2)"
      ],
      "id": "pacific-sessions",
      "execution_count": 388,
      "outputs": []
    },
    {
      "cell_type": "code",
      "metadata": {
        "id": "interested-secretary",
        "colab": {
          "base_uri": "https://localhost:8080/"
        },
        "outputId": "c375cb2b-d0ce-4dde-f9c5-42337f5ef82e"
      },
      "source": [
        "mse"
      ],
      "id": "interested-secretary",
      "execution_count": 389,
      "outputs": [
        {
          "output_type": "execute_result",
          "data": {
            "text/plain": [
              "303651.78"
            ]
          },
          "metadata": {
            "tags": []
          },
          "execution_count": 389
        }
      ]
    },
    {
      "cell_type": "code",
      "metadata": {
        "id": "3wUux8Ds6rxw"
      },
      "source": [
        "from sklearn.model_selection import GridSearchCV\r\n",
        "from keras.wrappers.scikit_learn import KerasRegressor"
      ],
      "id": "3wUux8Ds6rxw",
      "execution_count": null,
      "outputs": []
    },
    {
      "cell_type": "code",
      "metadata": {
        "id": "FhNg6DvPCpL-"
      },
      "source": [
        "def create_model(dropout_rate=0.0, optimizer=\"adam\"):\r\n",
        "  model = Sequential()\r\n",
        "  model.add(LSTM(20, input_shape=(X.shape[1], X.shape[2]), return_sequences=True))\r\n",
        "  model.add(LSTM(20, return_sequences=True))\r\n",
        "  #model.add(LSTM(10, return_sequences=True))\r\n",
        "  model.add(Dropout(dropout_rate))\r\n",
        "  model.add(LSTM(10, return_sequences=False))\r\n",
        "  model.add(Dense(4, kernel_initializer='random_uniform', activation='relu'))\r\n",
        "  model.add(Dense(1, kernel_initializer='random_uniform', activation='relu'))\r\n",
        "  model.compile(optimizer = optimizer, loss='mean_squared_error', metrics=['mae', 'mse'])\r\n",
        "  return model"
      ],
      "id": "FhNg6DvPCpL-",
      "execution_count": null,
      "outputs": []
    },
    {
      "cell_type": "code",
      "metadata": {
        "id": "9yVC7lKhD_YW"
      },
      "source": [
        "seed = 7\r\n",
        "np.random.seed(seed)\r\n",
        "model = KerasRegressor(build_fn=create_model, verbose=0)"
      ],
      "id": "9yVC7lKhD_YW",
      "execution_count": null,
      "outputs": []
    },
    {
      "cell_type": "code",
      "metadata": {
        "id": "KaHrYAag6kOp"
      },
      "source": [
        "batch_size = [ 25, 100, 300]\r\n",
        "epochs = [20, 40, 90]\r\n",
        "optimizer = ['SGD', 'RMSprop', 'Adam']\r\n",
        "dropout_rate = [0.2, 0.3, 0.4]\r\n",
        "\r\n",
        "param_grid = dict(batch_size=batch_size, epochs=epochs, optimizer=optimizer, dropout_rate=dropout_rate)\r\n",
        "grid = GridSearchCV(estimator=model, param_grid=param_grid, n_jobs=-1)\r\n",
        "grid_result = grid.fit(trainX, trainY)"
      ],
      "id": "KaHrYAag6kOp",
      "execution_count": null,
      "outputs": []
    },
    {
      "cell_type": "code",
      "metadata": {
        "id": "FvruYi_OEWzG"
      },
      "source": [
        "print(\"Best: %f using %s\" % (grid_result.best_score_, grid_result.best_params_))"
      ],
      "id": "FvruYi_OEWzG",
      "execution_count": null,
      "outputs": []
    },
    {
      "cell_type": "code",
      "metadata": {
        "id": "turned-gabriel"
      },
      "source": [
        "import seaborn as sns"
      ],
      "id": "turned-gabriel",
      "execution_count": null,
      "outputs": []
    },
    {
      "cell_type": "code",
      "metadata": {
        "id": "freelance-minute"
      },
      "source": [
        "import matplotlib.pyplot as plt"
      ],
      "id": "freelance-minute",
      "execution_count": null,
      "outputs": []
    },
    {
      "cell_type": "code",
      "metadata": {
        "id": "similar-attachment",
        "outputId": "e9250df7-fd04-4c23-9e44-8f1f65ad8ff8"
      },
      "source": [
        "plt.plot(df[-100:])"
      ],
      "id": "similar-attachment",
      "execution_count": null,
      "outputs": [
        {
          "output_type": "execute_result",
          "data": {
            "text/plain": [
              "[<matplotlib.lines.Line2D at 0x17ac2d2cef0>,\n",
              " <matplotlib.lines.Line2D at 0x17ac2d2c588>]"
            ]
          },
          "metadata": {
            "tags": []
          },
          "execution_count": 43
        },
        {
          "output_type": "display_data",
          "data": {
            "image/png": "[encoded data removed]",
            "text/plain": [
              "<Figure size 432x288 with 1 Axes>"
            ]
          },
          "metadata": {
            "tags": [],
            "needs_background": "light"
          }
        }
      ]
    },
    {
      "cell_type": "code",
      "metadata": {
        "id": "former-pointer",
        "outputId": "7f94abdc-39e6-4363-efb6-fe4a20dc2781"
      },
      "source": [
        "regressor.save('my_model')"
      ],
      "id": "former-pointer",
      "execution_count": null,
      "outputs": [
        {
          "output_type": "stream",
          "text": [
            "WARNING:tensorflow:From c:\\users\\harneet singh\\anaconda3\\envs\\tensorflow-gpu\\lib\\site-packages\\tensorflow\\python\\training\\tracking\\tracking.py:111: Model.state_updates (from tensorflow.python.keras.engine.training) is deprecated and will be removed in a future version.\n",
            "Instructions for updating:\n",
            "This property should not be used in TensorFlow 2.0, as updates are applied automatically.\n",
            "WARNING:tensorflow:From c:\\users\\harneet singh\\anaconda3\\envs\\tensorflow-gpu\\lib\\site-packages\\tensorflow\\python\\training\\tracking\\tracking.py:111: Layer.updates (from tensorflow.python.keras.engine.base_layer) is deprecated and will be removed in a future version.\n",
            "Instructions for updating:\n",
            "This property should not be used in TensorFlow 2.0, as updates are applied automatically.\n",
            "INFO:tensorflow:Assets written to: my_model\\assets\n"
          ],
          "name": "stdout"
        }
      ]
    },
    {
      "cell_type": "code",
      "metadata": {
        "id": "comfortable-canal"
      },
      "source": [
        "model.save(\"model.h5\")"
      ],
      "id": "comfortable-canal",
      "execution_count": 189,
      "outputs": []
    },
    {
      "cell_type": "code",
      "metadata": {
        "id": "mb-jizswtpDP"
      },
      "source": [
        "model.save('model2.h5')"
      ],
      "id": "mb-jizswtpDP",
      "execution_count": 328,
      "outputs": []
    },
    {
      "cell_type": "code",
      "metadata": {
        "id": "latter-berry"
      },
      "source": [
        "from keras.models import load_model"
      ],
      "id": "latter-berry",
      "execution_count": null,
      "outputs": []
    },
    {
      "cell_type": "code",
      "metadata": {
        "id": "sexual-forge"
      },
      "source": [
        "model = load_model('model.h5')"
      ],
      "id": "sexual-forge",
      "execution_count": 234,
      "outputs": []
    },
    {
      "cell_type": "code",
      "metadata": {
        "id": "optical-uncle",
        "colab": {
          "base_uri": "https://localhost:8080/",
          "height": 166
        },
        "outputId": "98836698-f131-4552-d84a-84c082146481"
      },
      "source": [
        "pred=model.predict(X_test)"
      ],
      "id": "optical-uncle",
      "execution_count": 235,
      "outputs": [
        {
          "output_type": "error",
          "ename": "NameError",
          "evalue": "ignored",
          "traceback": [
            "\u001b[0;31m---------------------------------------------------------------------------\u001b[0m",
            "\u001b[0;31mNameError\u001b[0m                                 Traceback (most recent call last)",
            "\u001b[0;32m<ipython-input-235-b716f10de431>\u001b[0m in \u001b[0;36m<module>\u001b[0;34m()\u001b[0m\n\u001b[0;32m----> 1\u001b[0;31m \u001b[0mpred\u001b[0m\u001b[0;34m=\u001b[0m\u001b[0mmodel\u001b[0m\u001b[0;34m.\u001b[0m\u001b[0mpredict\u001b[0m\u001b[0;34m(\u001b[0m\u001b[0mX_test\u001b[0m\u001b[0;34m)\u001b[0m\u001b[0;34m\u001b[0m\u001b[0;34m\u001b[0m\u001b[0m\n\u001b[0m",
            "\u001b[0;31mNameError\u001b[0m: name 'X_test' is not defined"
          ]
        }
      ]
    },
    {
      "cell_type": "code",
      "metadata": {
        "id": "legislative-piece",
        "outputId": "66623fc3-9d8e-4f57-d666-551c49c6f62c"
      },
      "source": [
        "len(y_test_dates[120:])"
      ],
      "id": "legislative-piece",
      "execution_count": null,
      "outputs": [
        {
          "output_type": "execute_result",
          "data": {
            "text/plain": [
              "10900"
            ]
          },
          "metadata": {
            "tags": []
          },
          "execution_count": 27
        }
      ]
    },
    {
      "cell_type": "code",
      "metadata": {
        "colab": {
          "base_uri": "https://localhost:8080/"
        },
        "id": "EiXo0-9e6zm6",
        "outputId": "147059d9-7ef8-4c07-e178-b7a073543e80"
      },
      "source": [
        "dates_test"
      ],
      "id": "EiXo0-9e6zm6",
      "execution_count": 390,
      "outputs": [
        {
          "output_type": "execute_result",
          "data": {
            "text/plain": [
              "array([Timestamp('2015-01-12 12:00:00'), Timestamp('2015-01-12 12:10:00'),\n",
              "       Timestamp('2015-01-12 12:20:00'), ...,\n",
              "       Timestamp('2020-11-27 14:50:00'), Timestamp('2020-11-27 15:00:00'),\n",
              "       Timestamp('2020-11-27 15:10:00')], dtype=object)"
            ]
          },
          "metadata": {
            "tags": []
          },
          "execution_count": 390
        }
      ]
    },
    {
      "cell_type": "code",
      "metadata": {
        "id": "secure-chapter"
      },
      "source": [
        "dicts={\"test\":list(test2.reshape(len(test2),)), 'pred': list(pred2.reshape(len(pred2),)), \"datetime\":dates_test[train_size:]}"
      ],
      "id": "secure-chapter",
      "execution_count": 394,
      "outputs": []
    },
    {
      "cell_type": "code",
      "metadata": {
        "colab": {
          "base_uri": "https://localhost:8080/"
        },
        "id": "dTDGYHkY7GFq",
        "outputId": "3b3335d0-0c7b-49dd-eb94-ae97c9e7f8e2"
      },
      "source": [
        "len(dates_test)"
      ],
      "id": "dTDGYHkY7GFq",
      "execution_count": 393,
      "outputs": [
        {
          "output_type": "execute_result",
          "data": {
            "text/plain": [
              "55044"
            ]
          },
          "metadata": {
            "tags": []
          },
          "execution_count": 393
        }
      ]
    },
    {
      "cell_type": "code",
      "metadata": {
        "id": "democratic-disposition"
      },
      "source": [
        "df=pd.DataFrame(dicts)"
      ],
      "id": "democratic-disposition",
      "execution_count": 395,
      "outputs": []
    },
    {
      "cell_type": "code",
      "metadata": {
        "id": "assured-puppy",
        "colab": {
          "base_uri": "https://localhost:8080/",
          "height": 1000
        },
        "outputId": "cd2e4b62-fa7b-4d9b-c835-68103fd5f06e"
      },
      "source": [
        "df.head(60)"
      ],
      "id": "assured-puppy",
      "execution_count": 396,
      "outputs": [
        {
          "output_type": "execute_result",
          "data": {
            "text/html": [
              "<div>\n",
              "<style scoped>\n",
              "    .dataframe tbody tr th:only-of-type {\n",
              "        vertical-align: middle;\n",
              "    }\n",
              "\n",
              "    .dataframe tbody tr th {\n",
              "        vertical-align: top;\n",
              "    }\n",
              "\n",
              "    .dataframe thead th {\n",
              "        text-align: right;\n",
              "    }\n",
              "</style>\n",
              "<table border=\"1\" class=\"dataframe\">\n",
              "  <thead>\n",
              "    <tr style=\"text-align: right;\">\n",
              "      <th></th>\n",
              "      <th>test</th>\n",
              "      <th>pred</th>\n",
              "      <th>datetime</th>\n",
              "    </tr>\n",
              "  </thead>\n",
              "  <tbody>\n",
              "    <tr>\n",
              "      <th>0</th>\n",
              "      <td>29183.300781</td>\n",
              "      <td>29633.730469</td>\n",
              "      <td>2019-09-30 10:50:00</td>\n",
              "    </tr>\n",
              "    <tr>\n",
              "      <th>1</th>\n",
              "      <td>29211.701172</td>\n",
              "      <td>29611.185547</td>\n",
              "      <td>2019-09-30 11:00:00</td>\n",
              "    </tr>\n",
              "    <tr>\n",
              "      <th>2</th>\n",
              "      <td>29179.849609</td>\n",
              "      <td>29593.371094</td>\n",
              "      <td>2019-09-30 11:10:00</td>\n",
              "    </tr>\n",
              "    <tr>\n",
              "      <th>3</th>\n",
              "      <td>29161.199219</td>\n",
              "      <td>29576.556641</td>\n",
              "      <td>2019-09-30 11:20:00</td>\n",
              "    </tr>\n",
              "    <tr>\n",
              "      <th>4</th>\n",
              "      <td>29151.199219</td>\n",
              "      <td>29553.341797</td>\n",
              "      <td>2019-09-30 11:30:00</td>\n",
              "    </tr>\n",
              "    <tr>\n",
              "      <th>5</th>\n",
              "      <td>29226.001953</td>\n",
              "      <td>29522.302734</td>\n",
              "      <td>2019-09-30 11:40:00</td>\n",
              "    </tr>\n",
              "    <tr>\n",
              "      <th>6</th>\n",
              "      <td>29198.349609</td>\n",
              "      <td>29491.601562</td>\n",
              "      <td>2019-09-30 11:50:00</td>\n",
              "    </tr>\n",
              "    <tr>\n",
              "      <th>7</th>\n",
              "      <td>29170.701172</td>\n",
              "      <td>29472.636719</td>\n",
              "      <td>2019-09-30 12:00:00</td>\n",
              "    </tr>\n",
              "    <tr>\n",
              "      <th>8</th>\n",
              "      <td>29101.900391</td>\n",
              "      <td>29451.253906</td>\n",
              "      <td>2019-09-30 12:10:00</td>\n",
              "    </tr>\n",
              "    <tr>\n",
              "      <th>9</th>\n",
              "      <td>29057.750000</td>\n",
              "      <td>29415.572266</td>\n",
              "      <td>2019-09-30 12:20:00</td>\n",
              "    </tr>\n",
              "    <tr>\n",
              "      <th>10</th>\n",
              "      <td>29054.550781</td>\n",
              "      <td>29377.900391</td>\n",
              "      <td>2019-09-30 12:30:00</td>\n",
              "    </tr>\n",
              "    <tr>\n",
              "      <th>11</th>\n",
              "      <td>29019.101562</td>\n",
              "      <td>29334.314453</td>\n",
              "      <td>2019-09-30 12:40:00</td>\n",
              "    </tr>\n",
              "    <tr>\n",
              "      <th>12</th>\n",
              "      <td>29056.650391</td>\n",
              "      <td>29296.306641</td>\n",
              "      <td>2019-09-30 12:50:00</td>\n",
              "    </tr>\n",
              "    <tr>\n",
              "      <th>13</th>\n",
              "      <td>29130.748047</td>\n",
              "      <td>29264.160156</td>\n",
              "      <td>2019-09-30 13:00:00</td>\n",
              "    </tr>\n",
              "    <tr>\n",
              "      <th>14</th>\n",
              "      <td>29177.250000</td>\n",
              "      <td>29249.130859</td>\n",
              "      <td>2019-09-30 13:10:00</td>\n",
              "    </tr>\n",
              "    <tr>\n",
              "      <th>15</th>\n",
              "      <td>29074.900391</td>\n",
              "      <td>29246.093750</td>\n",
              "      <td>2019-09-30 13:20:00</td>\n",
              "    </tr>\n",
              "    <tr>\n",
              "      <th>16</th>\n",
              "      <td>29086.699219</td>\n",
              "      <td>29251.882812</td>\n",
              "      <td>2019-09-30 13:30:00</td>\n",
              "    </tr>\n",
              "    <tr>\n",
              "      <th>17</th>\n",
              "      <td>29052.849609</td>\n",
              "      <td>29248.734375</td>\n",
              "      <td>2019-09-30 13:40:00</td>\n",
              "    </tr>\n",
              "    <tr>\n",
              "      <th>18</th>\n",
              "      <td>29080.750000</td>\n",
              "      <td>29237.755859</td>\n",
              "      <td>2019-09-30 13:50:00</td>\n",
              "    </tr>\n",
              "    <tr>\n",
              "      <th>19</th>\n",
              "      <td>29087.802734</td>\n",
              "      <td>29229.187500</td>\n",
              "      <td>2019-09-30 14:00:00</td>\n",
              "    </tr>\n",
              "    <tr>\n",
              "      <th>20</th>\n",
              "      <td>29188.347656</td>\n",
              "      <td>29224.574219</td>\n",
              "      <td>2019-09-30 14:10:00</td>\n",
              "    </tr>\n",
              "    <tr>\n",
              "      <th>21</th>\n",
              "      <td>29325.498047</td>\n",
              "      <td>29217.777344</td>\n",
              "      <td>2019-09-30 14:20:00</td>\n",
              "    </tr>\n",
              "    <tr>\n",
              "      <th>22</th>\n",
              "      <td>29181.101562</td>\n",
              "      <td>29238.679688</td>\n",
              "      <td>2019-09-30 14:30:00</td>\n",
              "    </tr>\n",
              "    <tr>\n",
              "      <th>23</th>\n",
              "      <td>29140.199219</td>\n",
              "      <td>29259.097656</td>\n",
              "      <td>2019-09-30 14:40:00</td>\n",
              "    </tr>\n",
              "    <tr>\n",
              "      <th>24</th>\n",
              "      <td>29084.951172</td>\n",
              "      <td>29262.490234</td>\n",
              "      <td>2019-09-30 14:50:00</td>\n",
              "    </tr>\n",
              "    <tr>\n",
              "      <th>25</th>\n",
              "      <td>29102.451172</td>\n",
              "      <td>29241.039062</td>\n",
              "      <td>2019-09-30 15:00:00</td>\n",
              "    </tr>\n",
              "    <tr>\n",
              "      <th>26</th>\n",
              "      <td>29122.099609</td>\n",
              "      <td>29224.070312</td>\n",
              "      <td>2019-09-30 15:10:00</td>\n",
              "    </tr>\n",
              "    <tr>\n",
              "      <th>27</th>\n",
              "      <td>29098.300781</td>\n",
              "      <td>29217.345703</td>\n",
              "      <td>2019-09-30 15:20:00</td>\n",
              "    </tr>\n",
              "    <tr>\n",
              "      <th>28</th>\n",
              "      <td>29478.900391</td>\n",
              "      <td>29201.857422</td>\n",
              "      <td>2019-10-01 09:10:00</td>\n",
              "    </tr>\n",
              "    <tr>\n",
              "      <th>29</th>\n",
              "      <td>29442.800781</td>\n",
              "      <td>29212.865234</td>\n",
              "      <td>2019-10-01 09:20:00</td>\n",
              "    </tr>\n",
              "    <tr>\n",
              "      <th>30</th>\n",
              "      <td>29467.599609</td>\n",
              "      <td>29237.619141</td>\n",
              "      <td>2019-10-01 09:30:00</td>\n",
              "    </tr>\n",
              "    <tr>\n",
              "      <th>31</th>\n",
              "      <td>29229.951172</td>\n",
              "      <td>29275.904297</td>\n",
              "      <td>2019-10-01 09:40:00</td>\n",
              "    </tr>\n",
              "    <tr>\n",
              "      <th>32</th>\n",
              "      <td>29087.349609</td>\n",
              "      <td>29284.152344</td>\n",
              "      <td>2019-10-01 09:50:00</td>\n",
              "    </tr>\n",
              "    <tr>\n",
              "      <th>33</th>\n",
              "      <td>28892.052734</td>\n",
              "      <td>29269.244141</td>\n",
              "      <td>2019-10-01 10:00:00</td>\n",
              "    </tr>\n",
              "    <tr>\n",
              "      <th>34</th>\n",
              "      <td>29064.802734</td>\n",
              "      <td>29228.068359</td>\n",
              "      <td>2019-10-01 10:10:00</td>\n",
              "    </tr>\n",
              "    <tr>\n",
              "      <th>35</th>\n",
              "      <td>28982.800781</td>\n",
              "      <td>29192.605469</td>\n",
              "      <td>2019-10-01 10:20:00</td>\n",
              "    </tr>\n",
              "    <tr>\n",
              "      <th>36</th>\n",
              "      <td>29072.248047</td>\n",
              "      <td>29160.519531</td>\n",
              "      <td>2019-10-01 10:30:00</td>\n",
              "    </tr>\n",
              "    <tr>\n",
              "      <th>37</th>\n",
              "      <td>29247.451172</td>\n",
              "      <td>29146.441406</td>\n",
              "      <td>2019-10-01 10:40:00</td>\n",
              "    </tr>\n",
              "    <tr>\n",
              "      <th>38</th>\n",
              "      <td>29231.250000</td>\n",
              "      <td>29150.812500</td>\n",
              "      <td>2019-10-01 10:50:00</td>\n",
              "    </tr>\n",
              "    <tr>\n",
              "      <th>39</th>\n",
              "      <td>29250.650391</td>\n",
              "      <td>29169.447266</td>\n",
              "      <td>2019-10-01 11:00:00</td>\n",
              "    </tr>\n",
              "    <tr>\n",
              "      <th>40</th>\n",
              "      <td>29203.751953</td>\n",
              "      <td>29190.490234</td>\n",
              "      <td>2019-10-01 11:10:00</td>\n",
              "    </tr>\n",
              "    <tr>\n",
              "      <th>41</th>\n",
              "      <td>29199.449219</td>\n",
              "      <td>29203.587891</td>\n",
              "      <td>2019-10-01 11:20:00</td>\n",
              "    </tr>\n",
              "    <tr>\n",
              "      <th>42</th>\n",
              "      <td>29217.951172</td>\n",
              "      <td>29215.621094</td>\n",
              "      <td>2019-10-01 11:30:00</td>\n",
              "    </tr>\n",
              "    <tr>\n",
              "      <th>43</th>\n",
              "      <td>29232.000000</td>\n",
              "      <td>29219.902344</td>\n",
              "      <td>2019-10-01 11:40:00</td>\n",
              "    </tr>\n",
              "    <tr>\n",
              "      <th>44</th>\n",
              "      <td>29200.250000</td>\n",
              "      <td>29224.316406</td>\n",
              "      <td>2019-10-01 11:50:00</td>\n",
              "    </tr>\n",
              "    <tr>\n",
              "      <th>45</th>\n",
              "      <td>29162.050781</td>\n",
              "      <td>29226.869141</td>\n",
              "      <td>2019-10-01 12:00:00</td>\n",
              "    </tr>\n",
              "    <tr>\n",
              "      <th>46</th>\n",
              "      <td>29101.851562</td>\n",
              "      <td>29231.599609</td>\n",
              "      <td>2019-10-01 12:10:00</td>\n",
              "    </tr>\n",
              "    <tr>\n",
              "      <th>47</th>\n",
              "      <td>29113.550781</td>\n",
              "      <td>29216.810547</td>\n",
              "      <td>2019-10-01 12:20:00</td>\n",
              "    </tr>\n",
              "    <tr>\n",
              "      <th>48</th>\n",
              "      <td>29054.451172</td>\n",
              "      <td>29200.505859</td>\n",
              "      <td>2019-10-01 12:30:00</td>\n",
              "    </tr>\n",
              "    <tr>\n",
              "      <th>49</th>\n",
              "      <td>29166.201172</td>\n",
              "      <td>29174.119141</td>\n",
              "      <td>2019-10-01 12:40:00</td>\n",
              "    </tr>\n",
              "    <tr>\n",
              "      <th>50</th>\n",
              "      <td>29104.798828</td>\n",
              "      <td>29159.533203</td>\n",
              "      <td>2019-10-01 12:50:00</td>\n",
              "    </tr>\n",
              "    <tr>\n",
              "      <th>51</th>\n",
              "      <td>29101.501953</td>\n",
              "      <td>29146.306641</td>\n",
              "      <td>2019-10-01 13:00:00</td>\n",
              "    </tr>\n",
              "    <tr>\n",
              "      <th>52</th>\n",
              "      <td>29058.699219</td>\n",
              "      <td>29134.269531</td>\n",
              "      <td>2019-10-01 13:10:00</td>\n",
              "    </tr>\n",
              "    <tr>\n",
              "      <th>53</th>\n",
              "      <td>28959.949219</td>\n",
              "      <td>29135.050781</td>\n",
              "      <td>2019-10-01 13:20:00</td>\n",
              "    </tr>\n",
              "    <tr>\n",
              "      <th>54</th>\n",
              "      <td>28758.250000</td>\n",
              "      <td>29114.818359</td>\n",
              "      <td>2019-10-01 13:30:00</td>\n",
              "    </tr>\n",
              "    <tr>\n",
              "      <th>55</th>\n",
              "      <td>28563.900391</td>\n",
              "      <td>29071.162109</td>\n",
              "      <td>2019-10-01 13:40:00</td>\n",
              "    </tr>\n",
              "    <tr>\n",
              "      <th>56</th>\n",
              "      <td>28542.798828</td>\n",
              "      <td>29005.652344</td>\n",
              "      <td>2019-10-01 13:50:00</td>\n",
              "    </tr>\n",
              "    <tr>\n",
              "      <th>57</th>\n",
              "      <td>28389.250000</td>\n",
              "      <td>28940.123047</td>\n",
              "      <td>2019-10-01 14:00:00</td>\n",
              "    </tr>\n",
              "    <tr>\n",
              "      <th>58</th>\n",
              "      <td>28290.050781</td>\n",
              "      <td>28888.085938</td>\n",
              "      <td>2019-10-01 14:10:00</td>\n",
              "    </tr>\n",
              "    <tr>\n",
              "      <th>59</th>\n",
              "      <td>28463.550781</td>\n",
              "      <td>28802.263672</td>\n",
              "      <td>2019-10-01 14:20:00</td>\n",
              "    </tr>\n",
              "  </tbody>\n",
              "</table>\n",
              "</div>"
            ],
            "text/plain": [
              "            test          pred            datetime\n",
              "0   29183.300781  29633.730469 2019-09-30 10:50:00\n",
              "1   29211.701172  29611.185547 2019-09-30 11:00:00\n",
              "2   29179.849609  29593.371094 2019-09-30 11:10:00\n",
              "3   29161.199219  29576.556641 2019-09-30 11:20:00\n",
              "4   29151.199219  29553.341797 2019-09-30 11:30:00\n",
              "5   29226.001953  29522.302734 2019-09-30 11:40:00\n",
              "6   29198.349609  29491.601562 2019-09-30 11:50:00\n",
              "7   29170.701172  29472.636719 2019-09-30 12:00:00\n",
              "8   29101.900391  29451.253906 2019-09-30 12:10:00\n",
              "9   29057.750000  29415.572266 2019-09-30 12:20:00\n",
              "10  29054.550781  29377.900391 2019-09-30 12:30:00\n",
              "11  29019.101562  29334.314453 2019-09-30 12:40:00\n",
              "12  29056.650391  29296.306641 2019-09-30 12:50:00\n",
              "13  29130.748047  29264.160156 2019-09-30 13:00:00\n",
              "14  29177.250000  29249.130859 2019-09-30 13:10:00\n",
              "15  29074.900391  29246.093750 2019-09-30 13:20:00\n",
              "16  29086.699219  29251.882812 2019-09-30 13:30:00\n",
              "17  29052.849609  29248.734375 2019-09-30 13:40:00\n",
              "18  29080.750000  29237.755859 2019-09-30 13:50:00\n",
              "19  29087.802734  29229.187500 2019-09-30 14:00:00\n",
              "20  29188.347656  29224.574219 2019-09-30 14:10:00\n",
              "21  29325.498047  29217.777344 2019-09-30 14:20:00\n",
              "22  29181.101562  29238.679688 2019-09-30 14:30:00\n",
              "23  29140.199219  29259.097656 2019-09-30 14:40:00\n",
              "24  29084.951172  29262.490234 2019-09-30 14:50:00\n",
              "25  29102.451172  29241.039062 2019-09-30 15:00:00\n",
              "26  29122.099609  29224.070312 2019-09-30 15:10:00\n",
              "27  29098.300781  29217.345703 2019-09-30 15:20:00\n",
              "28  29478.900391  29201.857422 2019-10-01 09:10:00\n",
              "29  29442.800781  29212.865234 2019-10-01 09:20:00\n",
              "30  29467.599609  29237.619141 2019-10-01 09:30:00\n",
              "31  29229.951172  29275.904297 2019-10-01 09:40:00\n",
              "32  29087.349609  29284.152344 2019-10-01 09:50:00\n",
              "33  28892.052734  29269.244141 2019-10-01 10:00:00\n",
              "34  29064.802734  29228.068359 2019-10-01 10:10:00\n",
              "35  28982.800781  29192.605469 2019-10-01 10:20:00\n",
              "36  29072.248047  29160.519531 2019-10-01 10:30:00\n",
              "37  29247.451172  29146.441406 2019-10-01 10:40:00\n",
              "38  29231.250000  29150.812500 2019-10-01 10:50:00\n",
              "39  29250.650391  29169.447266 2019-10-01 11:00:00\n",
              "40  29203.751953  29190.490234 2019-10-01 11:10:00\n",
              "41  29199.449219  29203.587891 2019-10-01 11:20:00\n",
              "42  29217.951172  29215.621094 2019-10-01 11:30:00\n",
              "43  29232.000000  29219.902344 2019-10-01 11:40:00\n",
              "44  29200.250000  29224.316406 2019-10-01 11:50:00\n",
              "45  29162.050781  29226.869141 2019-10-01 12:00:00\n",
              "46  29101.851562  29231.599609 2019-10-01 12:10:00\n",
              "47  29113.550781  29216.810547 2019-10-01 12:20:00\n",
              "48  29054.451172  29200.505859 2019-10-01 12:30:00\n",
              "49  29166.201172  29174.119141 2019-10-01 12:40:00\n",
              "50  29104.798828  29159.533203 2019-10-01 12:50:00\n",
              "51  29101.501953  29146.306641 2019-10-01 13:00:00\n",
              "52  29058.699219  29134.269531 2019-10-01 13:10:00\n",
              "53  28959.949219  29135.050781 2019-10-01 13:20:00\n",
              "54  28758.250000  29114.818359 2019-10-01 13:30:00\n",
              "55  28563.900391  29071.162109 2019-10-01 13:40:00\n",
              "56  28542.798828  29005.652344 2019-10-01 13:50:00\n",
              "57  28389.250000  28940.123047 2019-10-01 14:00:00\n",
              "58  28290.050781  28888.085938 2019-10-01 14:10:00\n",
              "59  28463.550781  28802.263672 2019-10-01 14:20:00"
            ]
          },
          "metadata": {
            "tags": []
          },
          "execution_count": 396
        }
      ]
    },
    {
      "cell_type": "code",
      "metadata": {
        "id": "aIlXtzwQ7Zoj"
      },
      "source": [
        "df.set_index('datetime', inplace=True)"
      ],
      "id": "aIlXtzwQ7Zoj",
      "execution_count": 397,
      "outputs": []
    },
    {
      "cell_type": "code",
      "metadata": {
        "colab": {
          "base_uri": "https://localhost:8080/",
          "height": 228
        },
        "id": "deA8hDxh7iyJ",
        "outputId": "e1b1ce89-26af-4e25-b4b4-9614f9fd2e79"
      },
      "source": [
        "df.head()"
      ],
      "id": "deA8hDxh7iyJ",
      "execution_count": 398,
      "outputs": [
        {
          "output_type": "execute_result",
          "data": {
            "text/html": [
              "<div>\n",
              "<style scoped>\n",
              "    .dataframe tbody tr th:only-of-type {\n",
              "        vertical-align: middle;\n",
              "    }\n",
              "\n",
              "    .dataframe tbody tr th {\n",
              "        vertical-align: top;\n",
              "    }\n",
              "\n",
              "    .dataframe thead th {\n",
              "        text-align: right;\n",
              "    }\n",
              "</style>\n",
              "<table border=\"1\" class=\"dataframe\">\n",
              "  <thead>\n",
              "    <tr style=\"text-align: right;\">\n",
              "      <th></th>\n",
              "      <th>test</th>\n",
              "      <th>pred</th>\n",
              "    </tr>\n",
              "    <tr>\n",
              "      <th>datetime</th>\n",
              "      <th></th>\n",
              "      <th></th>\n",
              "    </tr>\n",
              "  </thead>\n",
              "  <tbody>\n",
              "    <tr>\n",
              "      <th>2019-09-30 10:50:00</th>\n",
              "      <td>29183.300781</td>\n",
              "      <td>29633.730469</td>\n",
              "    </tr>\n",
              "    <tr>\n",
              "      <th>2019-09-30 11:00:00</th>\n",
              "      <td>29211.701172</td>\n",
              "      <td>29611.185547</td>\n",
              "    </tr>\n",
              "    <tr>\n",
              "      <th>2019-09-30 11:10:00</th>\n",
              "      <td>29179.849609</td>\n",
              "      <td>29593.371094</td>\n",
              "    </tr>\n",
              "    <tr>\n",
              "      <th>2019-09-30 11:20:00</th>\n",
              "      <td>29161.199219</td>\n",
              "      <td>29576.556641</td>\n",
              "    </tr>\n",
              "    <tr>\n",
              "      <th>2019-09-30 11:30:00</th>\n",
              "      <td>29151.199219</td>\n",
              "      <td>29553.341797</td>\n",
              "    </tr>\n",
              "  </tbody>\n",
              "</table>\n",
              "</div>"
            ],
            "text/plain": [
              "                             test          pred\n",
              "datetime                                       \n",
              "2019-09-30 10:50:00  29183.300781  29633.730469\n",
              "2019-09-30 11:00:00  29211.701172  29611.185547\n",
              "2019-09-30 11:10:00  29179.849609  29593.371094\n",
              "2019-09-30 11:20:00  29161.199219  29576.556641\n",
              "2019-09-30 11:30:00  29151.199219  29553.341797"
            ]
          },
          "metadata": {
            "tags": []
          },
          "execution_count": 398
        }
      ]
    },
    {
      "cell_type": "code",
      "metadata": {
        "id": "laughing-perth",
        "outputId": "c8d90177-3051-4fa0-da1a-2b2569ec53ae"
      },
      "source": [
        "import matplotlib.pyplot as plt\n",
        "import seaborn as sns\n",
        "sns.set_style('whitegrid')\n",
        "sns.set_context('poster')\n",
        "fig = plt.figure(figsize = (20,7))\n",
        "\n",
        "sns.lineplot(x = \"date\", y = \"pred\", data=df[-200:],\n",
        "             palette = \"hot\"\n",
        "             ,color=\"green\"\n",
        "            )\n",
        "sns.lineplot(x = \"date\", y = \"test\", data=df[-200:],\n",
        "             palette = \"hot\"\n",
        "             ,color=\"blue\"\n",
        "            )\n",
        "\n",
        "fig.autofmt_xdate()\n",
        "\n",
        "plt.title(\"LSTM-10-minutes\") # for title\n",
        "plt.xlabel(\"Date\") # label for x-axis\n",
        "plt.ylabel(\"Closing price\") # label for y-axis\n",
        "plt.show()"
      ],
      "id": "laughing-perth",
      "execution_count": null,
      "outputs": [
        {
          "output_type": "display_data",
          "data": {
            "image/png": "[encoded data removed]",
            "text/plain": [
              "<Figure size 1440x504 with 1 Axes>"
            ]
          },
          "metadata": {
            "tags": []
          }
        }
      ]
    },
    {
      "cell_type": "code",
      "metadata": {
        "id": "middle-township"
      },
      "source": [
        "df['pred_lag']=df['pred'].shift(1)"
      ],
      "id": "middle-township",
      "execution_count": 399,
      "outputs": []
    },
    {
      "cell_type": "code",
      "metadata": {
        "id": "multiple-cookie"
      },
      "source": [
        "df['test_lag']=df['test'].shift(1)"
      ],
      "id": "multiple-cookie",
      "execution_count": 400,
      "outputs": []
    },
    {
      "cell_type": "code",
      "metadata": {
        "id": "behind-permit"
      },
      "source": [
        "df=df.dropna()"
      ],
      "id": "behind-permit",
      "execution_count": 401,
      "outputs": []
    },
    {
      "cell_type": "code",
      "metadata": {
        "id": "optical-hamilton"
      },
      "source": [
        "r=0"
      ],
      "id": "optical-hamilton",
      "execution_count": 402,
      "outputs": []
    },
    {
      "cell_type": "code",
      "metadata": {
        "id": "rotary-battle"
      },
      "source": [
        "df['position'] = np.where(df['pred']> (1+r)*df['pred_lag'], 1, -1) "
      ],
      "id": "rotary-battle",
      "execution_count": 403,
      "outputs": []
    },
    {
      "cell_type": "code",
      "metadata": {
        "id": "worldwide-screw"
      },
      "source": [
        "df['position_act']= np.where(df['test']> (1+r)*df['test_lag'], 1, -1) "
      ],
      "id": "worldwide-screw",
      "execution_count": 404,
      "outputs": []
    },
    {
      "cell_type": "code",
      "metadata": {
        "id": "raised-fortune",
        "colab": {
          "base_uri": "https://localhost:8080/",
          "height": 1000
        },
        "outputId": "c2358a6b-5891-4f9f-9e9b-bd6032f9d516"
      },
      "source": [
        "df.head(60)"
      ],
      "id": "raised-fortune",
      "execution_count": 405,
      "outputs": [
        {
          "output_type": "execute_result",
          "data": {
            "text/html": [
              "<div>\n",
              "<style scoped>\n",
              "    .dataframe tbody tr th:only-of-type {\n",
              "        vertical-align: middle;\n",
              "    }\n",
              "\n",
              "    .dataframe tbody tr th {\n",
              "        vertical-align: top;\n",
              "    }\n",
              "\n",
              "    .dataframe thead th {\n",
              "        text-align: right;\n",
              "    }\n",
              "</style>\n",
              "<table border=\"1\" class=\"dataframe\">\n",
              "  <thead>\n",
              "    <tr style=\"text-align: right;\">\n",
              "      <th></th>\n",
              "      <th>test</th>\n",
              "      <th>pred</th>\n",
              "      <th>pred_lag</th>\n",
              "      <th>test_lag</th>\n",
              "      <th>position</th>\n",
              "      <th>position_act</th>\n",
              "    </tr>\n",
              "    <tr>\n",
              "      <th>datetime</th>\n",
              "      <th></th>\n",
              "      <th></th>\n",
              "      <th></th>\n",
              "      <th></th>\n",
              "      <th></th>\n",
              "      <th></th>\n",
              "    </tr>\n",
              "  </thead>\n",
              "  <tbody>\n",
              "    <tr>\n",
              "      <th>2019-09-30 11:00:00</th>\n",
              "      <td>29211.701172</td>\n",
              "      <td>29611.185547</td>\n",
              "      <td>29633.730469</td>\n",
              "      <td>29183.300781</td>\n",
              "      <td>-1</td>\n",
              "      <td>1</td>\n",
              "    </tr>\n",
              "    <tr>\n",
              "      <th>2019-09-30 11:10:00</th>\n",
              "      <td>29179.849609</td>\n",
              "      <td>29593.371094</td>\n",
              "      <td>29611.185547</td>\n",
              "      <td>29211.701172</td>\n",
              "      <td>-1</td>\n",
              "      <td>-1</td>\n",
              "    </tr>\n",
              "    <tr>\n",
              "      <th>2019-09-30 11:20:00</th>\n",
              "      <td>29161.199219</td>\n",
              "      <td>29576.556641</td>\n",
              "      <td>29593.371094</td>\n",
              "      <td>29179.849609</td>\n",
              "      <td>-1</td>\n",
              "      <td>-1</td>\n",
              "    </tr>\n",
              "    <tr>\n",
              "      <th>2019-09-30 11:30:00</th>\n",
              "      <td>29151.199219</td>\n",
              "      <td>29553.341797</td>\n",
              "      <td>29576.556641</td>\n",
              "      <td>29161.199219</td>\n",
              "      <td>-1</td>\n",
              "      <td>-1</td>\n",
              "    </tr>\n",
              "    <tr>\n",
              "      <th>2019-09-30 11:40:00</th>\n",
              "      <td>29226.001953</td>\n",
              "      <td>29522.302734</td>\n",
              "      <td>29553.341797</td>\n",
              "      <td>29151.199219</td>\n",
              "      <td>-1</td>\n",
              "      <td>1</td>\n",
              "    </tr>\n",
              "    <tr>\n",
              "      <th>2019-09-30 11:50:00</th>\n",
              "      <td>29198.349609</td>\n",
              "      <td>29491.601562</td>\n",
              "      <td>29522.302734</td>\n",
              "      <td>29226.001953</td>\n",
              "      <td>-1</td>\n",
              "      <td>-1</td>\n",
              "    </tr>\n",
              "    <tr>\n",
              "      <th>2019-09-30 12:00:00</th>\n",
              "      <td>29170.701172</td>\n",
              "      <td>29472.636719</td>\n",
              "      <td>29491.601562</td>\n",
              "      <td>29198.349609</td>\n",
              "      <td>-1</td>\n",
              "      <td>-1</td>\n",
              "    </tr>\n",
              "    <tr>\n",
              "      <th>2019-09-30 12:10:00</th>\n",
              "      <td>29101.900391</td>\n",
              "      <td>29451.253906</td>\n",
              "      <td>29472.636719</td>\n",
              "      <td>29170.701172</td>\n",
              "      <td>-1</td>\n",
              "      <td>-1</td>\n",
              "    </tr>\n",
              "    <tr>\n",
              "      <th>2019-09-30 12:20:00</th>\n",
              "      <td>29057.750000</td>\n",
              "      <td>29415.572266</td>\n",
              "      <td>29451.253906</td>\n",
              "      <td>29101.900391</td>\n",
              "      <td>-1</td>\n",
              "      <td>-1</td>\n",
              "    </tr>\n",
              "    <tr>\n",
              "      <th>2019-09-30 12:30:00</th>\n",
              "      <td>29054.550781</td>\n",
              "      <td>29377.900391</td>\n",
              "      <td>29415.572266</td>\n",
              "      <td>29057.750000</td>\n",
              "      <td>-1</td>\n",
              "      <td>-1</td>\n",
              "    </tr>\n",
              "    <tr>\n",
              "      <th>2019-09-30 12:40:00</th>\n",
              "      <td>29019.101562</td>\n",
              "      <td>29334.314453</td>\n",
              "      <td>29377.900391</td>\n",
              "      <td>29054.550781</td>\n",
              "      <td>-1</td>\n",
              "      <td>-1</td>\n",
              "    </tr>\n",
              "    <tr>\n",
              "      <th>2019-09-30 12:50:00</th>\n",
              "      <td>29056.650391</td>\n",
              "      <td>29296.306641</td>\n",
              "      <td>29334.314453</td>\n",
              "      <td>29019.101562</td>\n",
              "      <td>-1</td>\n",
              "      <td>1</td>\n",
              "    </tr>\n",
              "    <tr>\n",
              "      <th>2019-09-30 13:00:00</th>\n",
              "      <td>29130.748047</td>\n",
              "      <td>29264.160156</td>\n",
              "      <td>29296.306641</td>\n",
              "      <td>29056.650391</td>\n",
              "      <td>-1</td>\n",
              "      <td>1</td>\n",
              "    </tr>\n",
              "    <tr>\n",
              "      <th>2019-09-30 13:10:00</th>\n",
              "      <td>29177.250000</td>\n",
              "      <td>29249.130859</td>\n",
              "      <td>29264.160156</td>\n",
              "      <td>29130.748047</td>\n",
              "      <td>-1</td>\n",
              "      <td>1</td>\n",
              "    </tr>\n",
              "    <tr>\n",
              "      <th>2019-09-30 13:20:00</th>\n",
              "      <td>29074.900391</td>\n",
              "      <td>29246.093750</td>\n",
              "      <td>29249.130859</td>\n",
              "      <td>29177.250000</td>\n",
              "      <td>-1</td>\n",
              "      <td>-1</td>\n",
              "    </tr>\n",
              "    <tr>\n",
              "      <th>2019-09-30 13:30:00</th>\n",
              "      <td>29086.699219</td>\n",
              "      <td>29251.882812</td>\n",
              "      <td>29246.093750</td>\n",
              "      <td>29074.900391</td>\n",
              "      <td>1</td>\n",
              "      <td>1</td>\n",
              "    </tr>\n",
              "    <tr>\n",
              "      <th>2019-09-30 13:40:00</th>\n",
              "      <td>29052.849609</td>\n",
              "      <td>29248.734375</td>\n",
              "      <td>29251.882812</td>\n",
              "      <td>29086.699219</td>\n",
              "      <td>-1</td>\n",
              "      <td>-1</td>\n",
              "    </tr>\n",
              "    <tr>\n",
              "      <th>2019-09-30 13:50:00</th>\n",
              "      <td>29080.750000</td>\n",
              "      <td>29237.755859</td>\n",
              "      <td>29248.734375</td>\n",
              "      <td>29052.849609</td>\n",
              "      <td>-1</td>\n",
              "      <td>1</td>\n",
              "    </tr>\n",
              "    <tr>\n",
              "      <th>2019-09-30 14:00:00</th>\n",
              "      <td>29087.802734</td>\n",
              "      <td>29229.187500</td>\n",
              "      <td>29237.755859</td>\n",
              "      <td>29080.750000</td>\n",
              "      <td>-1</td>\n",
              "      <td>1</td>\n",
              "    </tr>\n",
              "    <tr>\n",
              "      <th>2019-09-30 14:10:00</th>\n",
              "      <td>29188.347656</td>\n",
              "      <td>29224.574219</td>\n",
              "      <td>29229.187500</td>\n",
              "      <td>29087.802734</td>\n",
              "      <td>-1</td>\n",
              "      <td>1</td>\n",
              "    </tr>\n",
              "    <tr>\n",
              "      <th>2019-09-30 14:20:00</th>\n",
              "      <td>29325.498047</td>\n",
              "      <td>29217.777344</td>\n",
              "      <td>29224.574219</td>\n",
              "      <td>29188.347656</td>\n",
              "      <td>-1</td>\n",
              "      <td>1</td>\n",
              "    </tr>\n",
              "    <tr>\n",
              "      <th>2019-09-30 14:30:00</th>\n",
              "      <td>29181.101562</td>\n",
              "      <td>29238.679688</td>\n",
              "      <td>29217.777344</td>\n",
              "      <td>29325.498047</td>\n",
              "      <td>1</td>\n",
              "      <td>-1</td>\n",
              "    </tr>\n",
              "    <tr>\n",
              "      <th>2019-09-30 14:40:00</th>\n",
              "      <td>29140.199219</td>\n",
              "      <td>29259.097656</td>\n",
              "      <td>29238.679688</td>\n",
              "      <td>29181.101562</td>\n",
              "      <td>1</td>\n",
              "      <td>-1</td>\n",
              "    </tr>\n",
              "    <tr>\n",
              "      <th>2019-09-30 14:50:00</th>\n",
              "      <td>29084.951172</td>\n",
              "      <td>29262.490234</td>\n",
              "      <td>29259.097656</td>\n",
              "      <td>29140.199219</td>\n",
              "      <td>1</td>\n",
              "      <td>-1</td>\n",
              "    </tr>\n",
              "    <tr>\n",
              "      <th>2019-09-30 15:00:00</th>\n",
              "      <td>29102.451172</td>\n",
              "      <td>29241.039062</td>\n",
              "      <td>29262.490234</td>\n",
              "      <td>29084.951172</td>\n",
              "      <td>-1</td>\n",
              "      <td>1</td>\n",
              "    </tr>\n",
              "    <tr>\n",
              "      <th>2019-09-30 15:10:00</th>\n",
              "      <td>29122.099609</td>\n",
              "      <td>29224.070312</td>\n",
              "      <td>29241.039062</td>\n",
              "      <td>29102.451172</td>\n",
              "      <td>-1</td>\n",
              "      <td>1</td>\n",
              "    </tr>\n",
              "    <tr>\n",
              "      <th>2019-09-30 15:20:00</th>\n",
              "      <td>29098.300781</td>\n",
              "      <td>29217.345703</td>\n",
              "      <td>29224.070312</td>\n",
              "      <td>29122.099609</td>\n",
              "      <td>-1</td>\n",
              "      <td>-1</td>\n",
              "    </tr>\n",
              "    <tr>\n",
              "      <th>2019-10-01 09:10:00</th>\n",
              "      <td>29478.900391</td>\n",
              "      <td>29201.857422</td>\n",
              "      <td>29217.345703</td>\n",
              "      <td>29098.300781</td>\n",
              "      <td>-1</td>\n",
              "      <td>1</td>\n",
              "    </tr>\n",
              "    <tr>\n",
              "      <th>2019-10-01 09:20:00</th>\n",
              "      <td>29442.800781</td>\n",
              "      <td>29212.865234</td>\n",
              "      <td>29201.857422</td>\n",
              "      <td>29478.900391</td>\n",
              "      <td>1</td>\n",
              "      <td>-1</td>\n",
              "    </tr>\n",
              "    <tr>\n",
              "      <th>2019-10-01 09:30:00</th>\n",
              "      <td>29467.599609</td>\n",
              "      <td>29237.619141</td>\n",
              "      <td>29212.865234</td>\n",
              "      <td>29442.800781</td>\n",
              "      <td>1</td>\n",
              "      <td>1</td>\n",
              "    </tr>\n",
              "    <tr>\n",
              "      <th>2019-10-01 09:40:00</th>\n",
              "      <td>29229.951172</td>\n",
              "      <td>29275.904297</td>\n",
              "      <td>29237.619141</td>\n",
              "      <td>29467.599609</td>\n",
              "      <td>1</td>\n",
              "      <td>-1</td>\n",
              "    </tr>\n",
              "    <tr>\n",
              "      <th>2019-10-01 09:50:00</th>\n",
              "      <td>29087.349609</td>\n",
              "      <td>29284.152344</td>\n",
              "      <td>29275.904297</td>\n",
              "      <td>29229.951172</td>\n",
              "      <td>1</td>\n",
              "      <td>-1</td>\n",
              "    </tr>\n",
              "    <tr>\n",
              "      <th>2019-10-01 10:00:00</th>\n",
              "      <td>28892.052734</td>\n",
              "      <td>29269.244141</td>\n",
              "      <td>29284.152344</td>\n",
              "      <td>29087.349609</td>\n",
              "      <td>-1</td>\n",
              "      <td>-1</td>\n",
              "    </tr>\n",
              "    <tr>\n",
              "      <th>2019-10-01 10:10:00</th>\n",
              "      <td>29064.802734</td>\n",
              "      <td>29228.068359</td>\n",
              "      <td>29269.244141</td>\n",
              "      <td>28892.052734</td>\n",
              "      <td>-1</td>\n",
              "      <td>1</td>\n",
              "    </tr>\n",
              "    <tr>\n",
              "      <th>2019-10-01 10:20:00</th>\n",
              "      <td>28982.800781</td>\n",
              "      <td>29192.605469</td>\n",
              "      <td>29228.068359</td>\n",
              "      <td>29064.802734</td>\n",
              "      <td>-1</td>\n",
              "      <td>-1</td>\n",
              "    </tr>\n",
              "    <tr>\n",
              "      <th>2019-10-01 10:30:00</th>\n",
              "      <td>29072.248047</td>\n",
              "      <td>29160.519531</td>\n",
              "      <td>29192.605469</td>\n",
              "      <td>28982.800781</td>\n",
              "      <td>-1</td>\n",
              "      <td>1</td>\n",
              "    </tr>\n",
              "    <tr>\n",
              "      <th>2019-10-01 10:40:00</th>\n",
              "      <td>29247.451172</td>\n",
              "      <td>29146.441406</td>\n",
              "      <td>29160.519531</td>\n",
              "      <td>29072.248047</td>\n",
              "      <td>-1</td>\n",
              "      <td>1</td>\n",
              "    </tr>\n",
              "    <tr>\n",
              "      <th>2019-10-01 10:50:00</th>\n",
              "      <td>29231.250000</td>\n",
              "      <td>29150.812500</td>\n",
              "      <td>29146.441406</td>\n",
              "      <td>29247.451172</td>\n",
              "      <td>1</td>\n",
              "      <td>-1</td>\n",
              "    </tr>\n",
              "    <tr>\n",
              "      <th>2019-10-01 11:00:00</th>\n",
              "      <td>29250.650391</td>\n",
              "      <td>29169.447266</td>\n",
              "      <td>29150.812500</td>\n",
              "      <td>29231.250000</td>\n",
              "      <td>1</td>\n",
              "      <td>1</td>\n",
              "    </tr>\n",
              "    <tr>\n",
              "      <th>2019-10-01 11:10:00</th>\n",
              "      <td>29203.751953</td>\n",
              "      <td>29190.490234</td>\n",
              "      <td>29169.447266</td>\n",
              "      <td>29250.650391</td>\n",
              "      <td>1</td>\n",
              "      <td>-1</td>\n",
              "    </tr>\n",
              "    <tr>\n",
              "      <th>2019-10-01 11:20:00</th>\n",
              "      <td>29199.449219</td>\n",
              "      <td>29203.587891</td>\n",
              "      <td>29190.490234</td>\n",
              "      <td>29203.751953</td>\n",
              "      <td>1</td>\n",
              "      <td>-1</td>\n",
              "    </tr>\n",
              "    <tr>\n",
              "      <th>2019-10-01 11:30:00</th>\n",
              "      <td>29217.951172</td>\n",
              "      <td>29215.621094</td>\n",
              "      <td>29203.587891</td>\n",
              "      <td>29199.449219</td>\n",
              "      <td>1</td>\n",
              "      <td>1</td>\n",
              "    </tr>\n",
              "    <tr>\n",
              "      <th>2019-10-01 11:40:00</th>\n",
              "      <td>29232.000000</td>\n",
              "      <td>29219.902344</td>\n",
              "      <td>29215.621094</td>\n",
              "      <td>29217.951172</td>\n",
              "      <td>1</td>\n",
              "      <td>1</td>\n",
              "    </tr>\n",
              "    <tr>\n",
              "      <th>2019-10-01 11:50:00</th>\n",
              "      <td>29200.250000</td>\n",
              "      <td>29224.316406</td>\n",
              "      <td>29219.902344</td>\n",
              "      <td>29232.000000</td>\n",
              "      <td>1</td>\n",
              "      <td>-1</td>\n",
              "    </tr>\n",
              "    <tr>\n",
              "      <th>2019-10-01 12:00:00</th>\n",
              "      <td>29162.050781</td>\n",
              "      <td>29226.869141</td>\n",
              "      <td>29224.316406</td>\n",
              "      <td>29200.250000</td>\n",
              "      <td>1</td>\n",
              "      <td>-1</td>\n",
              "    </tr>\n",
              "    <tr>\n",
              "      <th>2019-10-01 12:10:00</th>\n",
              "      <td>29101.851562</td>\n",
              "      <td>29231.599609</td>\n",
              "      <td>29226.869141</td>\n",
              "      <td>29162.050781</td>\n",
              "      <td>1</td>\n",
              "      <td>-1</td>\n",
              "    </tr>\n",
              "    <tr>\n",
              "      <th>2019-10-01 12:20:00</th>\n",
              "      <td>29113.550781</td>\n",
              "      <td>29216.810547</td>\n",
              "      <td>29231.599609</td>\n",
              "      <td>29101.851562</td>\n",
              "      <td>-1</td>\n",
              "      <td>1</td>\n",
              "    </tr>\n",
              "    <tr>\n",
              "      <th>2019-10-01 12:30:00</th>\n",
              "      <td>29054.451172</td>\n",
              "      <td>29200.505859</td>\n",
              "      <td>29216.810547</td>\n",
              "      <td>29113.550781</td>\n",
              "      <td>-1</td>\n",
              "      <td>-1</td>\n",
              "    </tr>\n",
              "    <tr>\n",
              "      <th>2019-10-01 12:40:00</th>\n",
              "      <td>29166.201172</td>\n",
              "      <td>29174.119141</td>\n",
              "      <td>29200.505859</td>\n",
              "      <td>29054.451172</td>\n",
              "      <td>-1</td>\n",
              "      <td>1</td>\n",
              "    </tr>\n",
              "    <tr>\n",
              "      <th>2019-10-01 12:50:00</th>\n",
              "      <td>29104.798828</td>\n",
              "      <td>29159.533203</td>\n",
              "      <td>29174.119141</td>\n",
              "      <td>29166.201172</td>\n",
              "      <td>-1</td>\n",
              "      <td>-1</td>\n",
              "    </tr>\n",
              "    <tr>\n",
              "      <th>2019-10-01 13:00:00</th>\n",
              "      <td>29101.501953</td>\n",
              "      <td>29146.306641</td>\n",
              "      <td>29159.533203</td>\n",
              "      <td>29104.798828</td>\n",
              "      <td>-1</td>\n",
              "      <td>-1</td>\n",
              "    </tr>\n",
              "    <tr>\n",
              "      <th>2019-10-01 13:10:00</th>\n",
              "      <td>29058.699219</td>\n",
              "      <td>29134.269531</td>\n",
              "      <td>29146.306641</td>\n",
              "      <td>29101.501953</td>\n",
              "      <td>-1</td>\n",
              "      <td>-1</td>\n",
              "    </tr>\n",
              "    <tr>\n",
              "      <th>2019-10-01 13:20:00</th>\n",
              "      <td>28959.949219</td>\n",
              "      <td>29135.050781</td>\n",
              "      <td>29134.269531</td>\n",
              "      <td>29058.699219</td>\n",
              "      <td>1</td>\n",
              "      <td>-1</td>\n",
              "    </tr>\n",
              "    <tr>\n",
              "      <th>2019-10-01 13:30:00</th>\n",
              "      <td>28758.250000</td>\n",
              "      <td>29114.818359</td>\n",
              "      <td>29135.050781</td>\n",
              "      <td>28959.949219</td>\n",
              "      <td>-1</td>\n",
              "      <td>-1</td>\n",
              "    </tr>\n",
              "    <tr>\n",
              "      <th>2019-10-01 13:40:00</th>\n",
              "      <td>28563.900391</td>\n",
              "      <td>29071.162109</td>\n",
              "      <td>29114.818359</td>\n",
              "      <td>28758.250000</td>\n",
              "      <td>-1</td>\n",
              "      <td>-1</td>\n",
              "    </tr>\n",
              "    <tr>\n",
              "      <th>2019-10-01 13:50:00</th>\n",
              "      <td>28542.798828</td>\n",
              "      <td>29005.652344</td>\n",
              "      <td>29071.162109</td>\n",
              "      <td>28563.900391</td>\n",
              "      <td>-1</td>\n",
              "      <td>-1</td>\n",
              "    </tr>\n",
              "    <tr>\n",
              "      <th>2019-10-01 14:00:00</th>\n",
              "      <td>28389.250000</td>\n",
              "      <td>28940.123047</td>\n",
              "      <td>29005.652344</td>\n",
              "      <td>28542.798828</td>\n",
              "      <td>-1</td>\n",
              "      <td>-1</td>\n",
              "    </tr>\n",
              "    <tr>\n",
              "      <th>2019-10-01 14:10:00</th>\n",
              "      <td>28290.050781</td>\n",
              "      <td>28888.085938</td>\n",
              "      <td>28940.123047</td>\n",
              "      <td>28389.250000</td>\n",
              "      <td>-1</td>\n",
              "      <td>-1</td>\n",
              "    </tr>\n",
              "    <tr>\n",
              "      <th>2019-10-01 14:20:00</th>\n",
              "      <td>28463.550781</td>\n",
              "      <td>28802.263672</td>\n",
              "      <td>28888.085938</td>\n",
              "      <td>28290.050781</td>\n",
              "      <td>-1</td>\n",
              "      <td>1</td>\n",
              "    </tr>\n",
              "    <tr>\n",
              "      <th>2019-10-01 14:30:00</th>\n",
              "      <td>28368.298828</td>\n",
              "      <td>28756.328125</td>\n",
              "      <td>28802.263672</td>\n",
              "      <td>28463.550781</td>\n",
              "      <td>-1</td>\n",
              "      <td>-1</td>\n",
              "    </tr>\n",
              "  </tbody>\n",
              "</table>\n",
              "</div>"
            ],
            "text/plain": [
              "                             test          pred  ...  position  position_act\n",
              "datetime                                         ...                        \n",
              "2019-09-30 11:00:00  29211.701172  29611.185547  ...        -1             1\n",
              "2019-09-30 11:10:00  29179.849609  29593.371094  ...        -1            -1\n",
              "2019-09-30 11:20:00  29161.199219  29576.556641  ...        -1            -1\n",
              "2019-09-30 11:30:00  29151.199219  29553.341797  ...        -1            -1\n",
              "2019-09-30 11:40:00  29226.001953  29522.302734  ...        -1             1\n",
              "2019-09-30 11:50:00  29198.349609  29491.601562  ...        -1            -1\n",
              "2019-09-30 12:00:00  29170.701172  29472.636719  ...        -1            -1\n",
              "2019-09-30 12:10:00  29101.900391  29451.253906  ...        -1            -1\n",
              "2019-09-30 12:20:00  29057.750000  29415.572266  ...        -1            -1\n",
              "2019-09-30 12:30:00  29054.550781  29377.900391  ...        -1            -1\n",
              "2019-09-30 12:40:00  29019.101562  29334.314453  ...        -1            -1\n",
              "2019-09-30 12:50:00  29056.650391  29296.306641  ...        -1             1\n",
              "2019-09-30 13:00:00  29130.748047  29264.160156  ...        -1             1\n",
              "2019-09-30 13:10:00  29177.250000  29249.130859  ...        -1             1\n",
              "2019-09-30 13:20:00  29074.900391  29246.093750  ...        -1            -1\n",
              "2019-09-30 13:30:00  29086.699219  29251.882812  ...         1             1\n",
              "2019-09-30 13:40:00  29052.849609  29248.734375  ...        -1            -1\n",
              "2019-09-30 13:50:00  29080.750000  29237.755859  ...        -1             1\n",
              "2019-09-30 14:00:00  29087.802734  29229.187500  ...        -1             1\n",
              "2019-09-30 14:10:00  29188.347656  29224.574219  ...        -1             1\n",
              "2019-09-30 14:20:00  29325.498047  29217.777344  ...        -1             1\n",
              "2019-09-30 14:30:00  29181.101562  29238.679688  ...         1            -1\n",
              "2019-09-30 14:40:00  29140.199219  29259.097656  ...         1            -1\n",
              "2019-09-30 14:50:00  29084.951172  29262.490234  ...         1            -1\n",
              "2019-09-30 15:00:00  29102.451172  29241.039062  ...        -1             1\n",
              "2019-09-30 15:10:00  29122.099609  29224.070312  ...        -1             1\n",
              "2019-09-30 15:20:00  29098.300781  29217.345703  ...        -1            -1\n",
              "2019-10-01 09:10:00  29478.900391  29201.857422  ...        -1             1\n",
              "2019-10-01 09:20:00  29442.800781  29212.865234  ...         1            -1\n",
              "2019-10-01 09:30:00  29467.599609  29237.619141  ...         1             1\n",
              "2019-10-01 09:40:00  29229.951172  29275.904297  ...         1            -1\n",
              "2019-10-01 09:50:00  29087.349609  29284.152344  ...         1            -1\n",
              "2019-10-01 10:00:00  28892.052734  29269.244141  ...        -1            -1\n",
              "2019-10-01 10:10:00  29064.802734  29228.068359  ...        -1             1\n",
              "2019-10-01 10:20:00  28982.800781  29192.605469  ...        -1            -1\n",
              "2019-10-01 10:30:00  29072.248047  29160.519531  ...        -1             1\n",
              "2019-10-01 10:40:00  29247.451172  29146.441406  ...        -1             1\n",
              "2019-10-01 10:50:00  29231.250000  29150.812500  ...         1            -1\n",
              "2019-10-01 11:00:00  29250.650391  29169.447266  ...         1             1\n",
              "2019-10-01 11:10:00  29203.751953  29190.490234  ...         1            -1\n",
              "2019-10-01 11:20:00  29199.449219  29203.587891  ...         1            -1\n",
              "2019-10-01 11:30:00  29217.951172  29215.621094  ...         1             1\n",
              "2019-10-01 11:40:00  29232.000000  29219.902344  ...         1             1\n",
              "2019-10-01 11:50:00  29200.250000  29224.316406  ...         1            -1\n",
              "2019-10-01 12:00:00  29162.050781  29226.869141  ...         1            -1\n",
              "2019-10-01 12:10:00  29101.851562  29231.599609  ...         1            -1\n",
              "2019-10-01 12:20:00  29113.550781  29216.810547  ...        -1             1\n",
              "2019-10-01 12:30:00  29054.451172  29200.505859  ...        -1            -1\n",
              "2019-10-01 12:40:00  29166.201172  29174.119141  ...        -1             1\n",
              "2019-10-01 12:50:00  29104.798828  29159.533203  ...        -1            -1\n",
              "2019-10-01 13:00:00  29101.501953  29146.306641  ...        -1            -1\n",
              "2019-10-01 13:10:00  29058.699219  29134.269531  ...        -1            -1\n",
              "2019-10-01 13:20:00  28959.949219  29135.050781  ...         1            -1\n",
              "2019-10-01 13:30:00  28758.250000  29114.818359  ...        -1            -1\n",
              "2019-10-01 13:40:00  28563.900391  29071.162109  ...        -1            -1\n",
              "2019-10-01 13:50:00  28542.798828  29005.652344  ...        -1            -1\n",
              "2019-10-01 14:00:00  28389.250000  28940.123047  ...        -1            -1\n",
              "2019-10-01 14:10:00  28290.050781  28888.085938  ...        -1            -1\n",
              "2019-10-01 14:20:00  28463.550781  28802.263672  ...        -1             1\n",
              "2019-10-01 14:30:00  28368.298828  28756.328125  ...        -1            -1\n",
              "\n",
              "[60 rows x 6 columns]"
            ]
          },
          "metadata": {
            "tags": []
          },
          "execution_count": 405
        }
      ]
    },
    {
      "cell_type": "code",
      "metadata": {
        "id": "Egigded9oS9j"
      },
      "source": [
        "p_list=[]\r\n",
        "for i in range(len(testX)):\r\n",
        "  p1=model.predict(textX[i])\r\n",
        "  p_list.append(p1)\r\n",
        "  if(len(p_list)>1):\r\n",
        "    if(p[-1]>p[-2]):\r\n",
        "      position.append(1)\r\n",
        "\r\n"
      ],
      "id": "Egigded9oS9j",
      "execution_count": null,
      "outputs": []
    },
    {
      "cell_type": "code",
      "metadata": {
        "id": "b06vAO_2i90A"
      },
      "source": [
        "df['returns']=df['test'].pct_change()"
      ],
      "id": "b06vAO_2i90A",
      "execution_count": 406,
      "outputs": []
    },
    {
      "cell_type": "code",
      "metadata": {
        "id": "ItDcVOYjjLuJ"
      },
      "source": [
        "df=df.dropna()"
      ],
      "id": "ItDcVOYjjLuJ",
      "execution_count": 407,
      "outputs": []
    },
    {
      "cell_type": "code",
      "metadata": {
        "id": "strong-senator"
      },
      "source": [
        "from sklearn.metrics import accuracy_score"
      ],
      "id": "strong-senator",
      "execution_count": 284,
      "outputs": []
    },
    {
      "cell_type": "code",
      "metadata": {
        "id": "lesser-memphis",
        "colab": {
          "base_uri": "https://localhost:8080/"
        },
        "outputId": "9fba7519-234b-428d-c2aa-99b2a36bf7be"
      },
      "source": [
        "accuracy_score(df['position_act'],df['position'])"
      ],
      "id": "lesser-memphis",
      "execution_count": 408,
      "outputs": [
        {
          "output_type": "execute_result",
          "data": {
            "text/plain": [
              "0.49377668756246024"
            ]
          },
          "metadata": {
            "tags": []
          },
          "execution_count": 408
        }
      ]
    },
    {
      "cell_type": "code",
      "metadata": {
        "id": "A_gD2Agmgi_d"
      },
      "source": [
        ""
      ],
      "id": "A_gD2Agmgi_d",
      "execution_count": null,
      "outputs": []
    },
    {
      "cell_type": "code",
      "metadata": {
        "id": "brutal-differential"
      },
      "source": [
        "df[\"strategy\"] = df[\"position\"] * df[\"returns\"]\n",
        "#df.dropna(inplace=True)\n",
        "df[\"creturns\"] = (1+df[\"returns\"]).cumprod()-1\n",
        "df[\"cstrategy\"] = (1+df[\"strategy\"]).cumprod()-1\n",
        "\n",
        "# absolute performance of the strategy\n",
        "perf = df[\"cstrategy\"].iloc[-1]"
      ],
      "id": "brutal-differential",
      "execution_count": 409,
      "outputs": []
    },
    {
      "cell_type": "code",
      "metadata": {
        "colab": {
          "base_uri": "https://localhost:8080/"
        },
        "id": "8cd1DcKO6-Fm",
        "outputId": "ab162c64-1d4f-4c0e-c4d6-ad56934acafc"
      },
      "source": [
        "perf"
      ],
      "id": "8cd1DcKO6-Fm",
      "execution_count": 327,
      "outputs": [
        {
          "output_type": "execute_result",
          "data": {
            "text/plain": [
              "0.48945466241272473"
            ]
          },
          "metadata": {
            "tags": []
          },
          "execution_count": 327
        }
      ]
    },
    {
      "cell_type": "code",
      "metadata": {
        "colab": {
          "base_uri": "https://localhost:8080/"
        },
        "id": "j_RFt77x2V_Q",
        "outputId": "badc0e03-8832-45f3-92e8-1c564da48c65"
      },
      "source": [
        "perf"
      ],
      "id": "j_RFt77x2V_Q",
      "execution_count": 410,
      "outputs": [
        {
          "output_type": "execute_result",
          "data": {
            "text/plain": [
              "0.4722705352902923"
            ]
          },
          "metadata": {
            "tags": []
          },
          "execution_count": 410
        }
      ]
    },
    {
      "cell_type": "code",
      "metadata": {
        "colab": {
          "base_uri": "https://localhost:8080/",
          "height": 228
        },
        "id": "XVngV5fx1-y7",
        "outputId": "390d7258-b4b6-4954-8281-803fa3b02923"
      },
      "source": [
        "df.head()"
      ],
      "id": "XVngV5fx1-y7",
      "execution_count": 412,
      "outputs": [
        {
          "output_type": "execute_result",
          "data": {
            "text/html": [
              "<div>\n",
              "<style scoped>\n",
              "    .dataframe tbody tr th:only-of-type {\n",
              "        vertical-align: middle;\n",
              "    }\n",
              "\n",
              "    .dataframe tbody tr th {\n",
              "        vertical-align: top;\n",
              "    }\n",
              "\n",
              "    .dataframe thead th {\n",
              "        text-align: right;\n",
              "    }\n",
              "</style>\n",
              "<table border=\"1\" class=\"dataframe\">\n",
              "  <thead>\n",
              "    <tr style=\"text-align: right;\">\n",
              "      <th></th>\n",
              "      <th>test</th>\n",
              "      <th>pred</th>\n",
              "      <th>pred_lag</th>\n",
              "      <th>test_lag</th>\n",
              "      <th>position</th>\n",
              "      <th>position_act</th>\n",
              "      <th>returns</th>\n",
              "      <th>strategy</th>\n",
              "      <th>creturns</th>\n",
              "      <th>cstrategy</th>\n",
              "    </tr>\n",
              "    <tr>\n",
              "      <th>datetime</th>\n",
              "      <th></th>\n",
              "      <th></th>\n",
              "      <th></th>\n",
              "      <th></th>\n",
              "      <th></th>\n",
              "      <th></th>\n",
              "      <th></th>\n",
              "      <th></th>\n",
              "      <th></th>\n",
              "      <th></th>\n",
              "    </tr>\n",
              "  </thead>\n",
              "  <tbody>\n",
              "    <tr>\n",
              "      <th>2019-09-30 11:10:00</th>\n",
              "      <td>29179.849609</td>\n",
              "      <td>29593.371094</td>\n",
              "      <td>29611.185547</td>\n",
              "      <td>29211.701172</td>\n",
              "      <td>-1</td>\n",
              "      <td>-1</td>\n",
              "      <td>-0.001090</td>\n",
              "      <td>0.001090</td>\n",
              "      <td>-0.001090</td>\n",
              "      <td>0.001090</td>\n",
              "    </tr>\n",
              "    <tr>\n",
              "      <th>2019-09-30 11:20:00</th>\n",
              "      <td>29161.199219</td>\n",
              "      <td>29576.556641</td>\n",
              "      <td>29593.371094</td>\n",
              "      <td>29179.849609</td>\n",
              "      <td>-1</td>\n",
              "      <td>-1</td>\n",
              "      <td>-0.000639</td>\n",
              "      <td>0.000639</td>\n",
              "      <td>-0.001729</td>\n",
              "      <td>0.001730</td>\n",
              "    </tr>\n",
              "    <tr>\n",
              "      <th>2019-09-30 11:30:00</th>\n",
              "      <td>29151.199219</td>\n",
              "      <td>29553.341797</td>\n",
              "      <td>29576.556641</td>\n",
              "      <td>29161.199219</td>\n",
              "      <td>-1</td>\n",
              "      <td>-1</td>\n",
              "      <td>-0.000343</td>\n",
              "      <td>0.000343</td>\n",
              "      <td>-0.002071</td>\n",
              "      <td>0.002074</td>\n",
              "    </tr>\n",
              "    <tr>\n",
              "      <th>2019-09-30 11:40:00</th>\n",
              "      <td>29226.001953</td>\n",
              "      <td>29522.302734</td>\n",
              "      <td>29553.341797</td>\n",
              "      <td>29151.199219</td>\n",
              "      <td>-1</td>\n",
              "      <td>1</td>\n",
              "      <td>0.002566</td>\n",
              "      <td>-0.002566</td>\n",
              "      <td>0.000490</td>\n",
              "      <td>-0.000498</td>\n",
              "    </tr>\n",
              "    <tr>\n",
              "      <th>2019-09-30 11:50:00</th>\n",
              "      <td>29198.349609</td>\n",
              "      <td>29491.601562</td>\n",
              "      <td>29522.302734</td>\n",
              "      <td>29226.001953</td>\n",
              "      <td>-1</td>\n",
              "      <td>-1</td>\n",
              "      <td>-0.000946</td>\n",
              "      <td>0.000946</td>\n",
              "      <td>-0.000457</td>\n",
              "      <td>0.000448</td>\n",
              "    </tr>\n",
              "  </tbody>\n",
              "</table>\n",
              "</div>"
            ],
            "text/plain": [
              "                             test          pred  ...  creturns  cstrategy\n",
              "datetime                                         ...                     \n",
              "2019-09-30 11:10:00  29179.849609  29593.371094  ... -0.001090   0.001090\n",
              "2019-09-30 11:20:00  29161.199219  29576.556641  ... -0.001729   0.001730\n",
              "2019-09-30 11:30:00  29151.199219  29553.341797  ... -0.002071   0.002074\n",
              "2019-09-30 11:40:00  29226.001953  29522.302734  ...  0.000490  -0.000498\n",
              "2019-09-30 11:50:00  29198.349609  29491.601562  ... -0.000457   0.000448\n",
              "\n",
              "[5 rows x 10 columns]"
            ]
          },
          "metadata": {
            "tags": []
          },
          "execution_count": 412
        }
      ]
    },
    {
      "cell_type": "code",
      "metadata": {
        "id": "ZZrIrWON9irG"
      },
      "source": [
        "df=df.reset_index(drop=False)"
      ],
      "id": "ZZrIrWON9irG",
      "execution_count": 413,
      "outputs": []
    },
    {
      "cell_type": "code",
      "metadata": {
        "colab": {
          "base_uri": "https://localhost:8080/",
          "height": 285
        },
        "id": "Of_A0ga69qoX",
        "outputId": "90676684-7496-45fa-b0ac-36257d8a07ff"
      },
      "source": [
        "df.head()"
      ],
      "id": "Of_A0ga69qoX",
      "execution_count": 416,
      "outputs": [
        {
          "output_type": "execute_result",
          "data": {
            "text/html": [
              "<div>\n",
              "<style scoped>\n",
              "    .dataframe tbody tr th:only-of-type {\n",
              "        vertical-align: middle;\n",
              "    }\n",
              "\n",
              "    .dataframe tbody tr th {\n",
              "        vertical-align: top;\n",
              "    }\n",
              "\n",
              "    .dataframe thead th {\n",
              "        text-align: right;\n",
              "    }\n",
              "</style>\n",
              "<table border=\"1\" class=\"dataframe\">\n",
              "  <thead>\n",
              "    <tr style=\"text-align: right;\">\n",
              "      <th></th>\n",
              "      <th>datetime</th>\n",
              "      <th>test</th>\n",
              "      <th>pred</th>\n",
              "      <th>pred_lag</th>\n",
              "      <th>test_lag</th>\n",
              "      <th>position</th>\n",
              "      <th>position_act</th>\n",
              "      <th>returns</th>\n",
              "      <th>strategy</th>\n",
              "      <th>creturns</th>\n",
              "      <th>cstrategy</th>\n",
              "      <th>date</th>\n",
              "    </tr>\n",
              "  </thead>\n",
              "  <tbody>\n",
              "    <tr>\n",
              "      <th>0</th>\n",
              "      <td>2019-09-30 11:10:00</td>\n",
              "      <td>29179.849609</td>\n",
              "      <td>29593.371094</td>\n",
              "      <td>29611.185547</td>\n",
              "      <td>29211.701172</td>\n",
              "      <td>-1</td>\n",
              "      <td>-1</td>\n",
              "      <td>-0.001090</td>\n",
              "      <td>0.001090</td>\n",
              "      <td>-0.001090</td>\n",
              "      <td>0.001090</td>\n",
              "      <td>2019-09-30</td>\n",
              "    </tr>\n",
              "    <tr>\n",
              "      <th>1</th>\n",
              "      <td>2019-09-30 11:20:00</td>\n",
              "      <td>29161.199219</td>\n",
              "      <td>29576.556641</td>\n",
              "      <td>29593.371094</td>\n",
              "      <td>29179.849609</td>\n",
              "      <td>-1</td>\n",
              "      <td>-1</td>\n",
              "      <td>-0.000639</td>\n",
              "      <td>0.000639</td>\n",
              "      <td>-0.001729</td>\n",
              "      <td>0.001730</td>\n",
              "      <td>2019-09-30</td>\n",
              "    </tr>\n",
              "    <tr>\n",
              "      <th>2</th>\n",
              "      <td>2019-09-30 11:30:00</td>\n",
              "      <td>29151.199219</td>\n",
              "      <td>29553.341797</td>\n",
              "      <td>29576.556641</td>\n",
              "      <td>29161.199219</td>\n",
              "      <td>-1</td>\n",
              "      <td>-1</td>\n",
              "      <td>-0.000343</td>\n",
              "      <td>0.000343</td>\n",
              "      <td>-0.002071</td>\n",
              "      <td>0.002074</td>\n",
              "      <td>2019-09-30</td>\n",
              "    </tr>\n",
              "    <tr>\n",
              "      <th>3</th>\n",
              "      <td>2019-09-30 11:40:00</td>\n",
              "      <td>29226.001953</td>\n",
              "      <td>29522.302734</td>\n",
              "      <td>29553.341797</td>\n",
              "      <td>29151.199219</td>\n",
              "      <td>-1</td>\n",
              "      <td>1</td>\n",
              "      <td>0.002566</td>\n",
              "      <td>-0.002566</td>\n",
              "      <td>0.000490</td>\n",
              "      <td>-0.000498</td>\n",
              "      <td>2019-09-30</td>\n",
              "    </tr>\n",
              "    <tr>\n",
              "      <th>4</th>\n",
              "      <td>2019-09-30 11:50:00</td>\n",
              "      <td>29198.349609</td>\n",
              "      <td>29491.601562</td>\n",
              "      <td>29522.302734</td>\n",
              "      <td>29226.001953</td>\n",
              "      <td>-1</td>\n",
              "      <td>-1</td>\n",
              "      <td>-0.000946</td>\n",
              "      <td>0.000946</td>\n",
              "      <td>-0.000457</td>\n",
              "      <td>0.000448</td>\n",
              "      <td>2019-09-30</td>\n",
              "    </tr>\n",
              "  </tbody>\n",
              "</table>\n",
              "</div>"
            ],
            "text/plain": [
              "             datetime          test  ...  cstrategy        date\n",
              "0 2019-09-30 11:10:00  29179.849609  ...   0.001090  2019-09-30\n",
              "1 2019-09-30 11:20:00  29161.199219  ...   0.001730  2019-09-30\n",
              "2 2019-09-30 11:30:00  29151.199219  ...   0.002074  2019-09-30\n",
              "3 2019-09-30 11:40:00  29226.001953  ...  -0.000498  2019-09-30\n",
              "4 2019-09-30 11:50:00  29198.349609  ...   0.000448  2019-09-30\n",
              "\n",
              "[5 rows x 12 columns]"
            ]
          },
          "metadata": {
            "tags": []
          },
          "execution_count": 416
        }
      ]
    },
    {
      "cell_type": "code",
      "metadata": {
        "id": "7v1QgsBL9tG9"
      },
      "source": [
        "df['date']=df['datetime'].dt.date\r\n",
        "df['hour']=df['datetime'].dt.hour\r\n",
        "df['min']=df['datetime'].dt.minute"
      ],
      "id": "7v1QgsBL9tG9",
      "execution_count": 417,
      "outputs": []
    },
    {
      "cell_type": "code",
      "metadata": {
        "colab": {
          "base_uri": "https://localhost:8080/",
          "height": 391
        },
        "id": "dGxZTRDO-IMt",
        "outputId": "58237bf1-f2fe-44cc-cce2-97f35f167aae"
      },
      "source": [
        "df.head()"
      ],
      "id": "dGxZTRDO-IMt",
      "execution_count": 418,
      "outputs": [
        {
          "output_type": "execute_result",
          "data": {
            "text/html": [
              "<div>\n",
              "<style scoped>\n",
              "    .dataframe tbody tr th:only-of-type {\n",
              "        vertical-align: middle;\n",
              "    }\n",
              "\n",
              "    .dataframe tbody tr th {\n",
              "        vertical-align: top;\n",
              "    }\n",
              "\n",
              "    .dataframe thead th {\n",
              "        text-align: right;\n",
              "    }\n",
              "</style>\n",
              "<table border=\"1\" class=\"dataframe\">\n",
              "  <thead>\n",
              "    <tr style=\"text-align: right;\">\n",
              "      <th></th>\n",
              "      <th>datetime</th>\n",
              "      <th>test</th>\n",
              "      <th>pred</th>\n",
              "      <th>pred_lag</th>\n",
              "      <th>test_lag</th>\n",
              "      <th>position</th>\n",
              "      <th>position_act</th>\n",
              "      <th>returns</th>\n",
              "      <th>strategy</th>\n",
              "      <th>creturns</th>\n",
              "      <th>cstrategy</th>\n",
              "      <th>date</th>\n",
              "      <th>hour</th>\n",
              "      <th>min</th>\n",
              "    </tr>\n",
              "  </thead>\n",
              "  <tbody>\n",
              "    <tr>\n",
              "      <th>0</th>\n",
              "      <td>2019-09-30 11:10:00</td>\n",
              "      <td>29179.849609</td>\n",
              "      <td>29593.371094</td>\n",
              "      <td>29611.185547</td>\n",
              "      <td>29211.701172</td>\n",
              "      <td>-1</td>\n",
              "      <td>-1</td>\n",
              "      <td>-0.001090</td>\n",
              "      <td>0.001090</td>\n",
              "      <td>-0.001090</td>\n",
              "      <td>0.001090</td>\n",
              "      <td>2019-09-30</td>\n",
              "      <td>11</td>\n",
              "      <td>10</td>\n",
              "    </tr>\n",
              "    <tr>\n",
              "      <th>1</th>\n",
              "      <td>2019-09-30 11:20:00</td>\n",
              "      <td>29161.199219</td>\n",
              "      <td>29576.556641</td>\n",
              "      <td>29593.371094</td>\n",
              "      <td>29179.849609</td>\n",
              "      <td>-1</td>\n",
              "      <td>-1</td>\n",
              "      <td>-0.000639</td>\n",
              "      <td>0.000639</td>\n",
              "      <td>-0.001729</td>\n",
              "      <td>0.001730</td>\n",
              "      <td>2019-09-30</td>\n",
              "      <td>11</td>\n",
              "      <td>20</td>\n",
              "    </tr>\n",
              "    <tr>\n",
              "      <th>2</th>\n",
              "      <td>2019-09-30 11:30:00</td>\n",
              "      <td>29151.199219</td>\n",
              "      <td>29553.341797</td>\n",
              "      <td>29576.556641</td>\n",
              "      <td>29161.199219</td>\n",
              "      <td>-1</td>\n",
              "      <td>-1</td>\n",
              "      <td>-0.000343</td>\n",
              "      <td>0.000343</td>\n",
              "      <td>-0.002071</td>\n",
              "      <td>0.002074</td>\n",
              "      <td>2019-09-30</td>\n",
              "      <td>11</td>\n",
              "      <td>30</td>\n",
              "    </tr>\n",
              "    <tr>\n",
              "      <th>3</th>\n",
              "      <td>2019-09-30 11:40:00</td>\n",
              "      <td>29226.001953</td>\n",
              "      <td>29522.302734</td>\n",
              "      <td>29553.341797</td>\n",
              "      <td>29151.199219</td>\n",
              "      <td>-1</td>\n",
              "      <td>1</td>\n",
              "      <td>0.002566</td>\n",
              "      <td>-0.002566</td>\n",
              "      <td>0.000490</td>\n",
              "      <td>-0.000498</td>\n",
              "      <td>2019-09-30</td>\n",
              "      <td>11</td>\n",
              "      <td>40</td>\n",
              "    </tr>\n",
              "    <tr>\n",
              "      <th>4</th>\n",
              "      <td>2019-09-30 11:50:00</td>\n",
              "      <td>29198.349609</td>\n",
              "      <td>29491.601562</td>\n",
              "      <td>29522.302734</td>\n",
              "      <td>29226.001953</td>\n",
              "      <td>-1</td>\n",
              "      <td>-1</td>\n",
              "      <td>-0.000946</td>\n",
              "      <td>0.000946</td>\n",
              "      <td>-0.000457</td>\n",
              "      <td>0.000448</td>\n",
              "      <td>2019-09-30</td>\n",
              "      <td>11</td>\n",
              "      <td>50</td>\n",
              "    </tr>\n",
              "  </tbody>\n",
              "</table>\n",
              "</div>"
            ],
            "text/plain": [
              "             datetime          test          pred  ...        date  hour  min\n",
              "0 2019-09-30 11:10:00  29179.849609  29593.371094  ...  2019-09-30    11   10\n",
              "1 2019-09-30 11:20:00  29161.199219  29576.556641  ...  2019-09-30    11   20\n",
              "2 2019-09-30 11:30:00  29151.199219  29553.341797  ...  2019-09-30    11   30\n",
              "3 2019-09-30 11:40:00  29226.001953  29522.302734  ...  2019-09-30    11   40\n",
              "4 2019-09-30 11:50:00  29198.349609  29491.601562  ...  2019-09-30    11   50\n",
              "\n",
              "[5 rows x 14 columns]"
            ]
          },
          "metadata": {
            "tags": []
          },
          "execution_count": 418
        }
      ]
    },
    {
      "cell_type": "code",
      "metadata": {
        "id": "_5PQESX_otII"
      },
      "source": [
        "call=[]\r\n",
        "p=0\r\n",
        "for i in range(2,len(df)):\r\n",
        "  if(df['position'][i]==1 and df['position'][i-1]==1 and df['position'][i-2]==-1):\r\n",
        "    call.append('buy')\r\n",
        "    p=1\r\n",
        "  elif(df['position'][i]==-1 and df['position'][i-1]==-1 and df['position'][i-2]==1):\r\n",
        "    call.append('sell')\r\n",
        "    p=-1\r\n",
        "  elif((df['position'][i]==-1 and df['position'][i-1]==1) or (df['position'][i]==1 and df['position'][i-1]==-1)):\r\n",
        "    call.append('Exit')\r\n",
        "    p=0\r\n",
        "  elif(df['position'][i]==1 and p==1):\r\n",
        "    call.append('buy hold')\r\n",
        "    \r\n",
        "  elif(df['position'][i]==-1 and p==-1):\r\n",
        "    call.append('sell hold')\r\n",
        "    \r\n",
        "  else:\r\n",
        "    call.append('No trade')"
      ],
      "id": "_5PQESX_otII",
      "execution_count": 345,
      "outputs": []
    },
    {
      "cell_type": "code",
      "metadata": {
        "id": "q8N1Z5HXuVUI"
      },
      "source": [
        "call.insert(0,'No trade')\r\n",
        "call.insert(0,'No trade')"
      ],
      "id": "q8N1Z5HXuVUI",
      "execution_count": 346,
      "outputs": []
    },
    {
      "cell_type": "code",
      "metadata": {
        "id": "2PVTKTdCudX2"
      },
      "source": [
        "df['calls']=call"
      ],
      "id": "2PVTKTdCudX2",
      "execution_count": 347,
      "outputs": []
    },
    {
      "cell_type": "code",
      "metadata": {
        "id": "PEl6hoRr_m-9"
      },
      "source": [
        "# testing phase\r\n",
        "call=[]\r\n",
        "p=0\r\n",
        "for i in range(2,len(df)):\r\n",
        "  if(df['position'][i]==1 and df['position'][i-1]==1 and df['position'][i-2]==-1):\r\n",
        "    call.append('buy')\r\n",
        "    p=1\r\n",
        "  elif(df['position'][i]==-1 and df['position'][i-1]==-1 and df['position'][i-2]==1):\r\n",
        "    call.append('sell')\r\n",
        "    p=-1\r\n",
        "  elif((df['position'][i]==-1 and df['position'][i-1]==1) or (df['position'][i]==1 and df['position'][i-1]==-1)):\r\n",
        "    call.append('Exit')\r\n",
        "    p=0\r\n",
        "  elif(df['position'][i]==1 and p==1):\r\n",
        "    call.append('buy hold')\r\n",
        "    \r\n",
        "  elif(df['position'][i]==-1 and p==-1):\r\n",
        "    call.append('sell hold')\r\n",
        "  elif(df['hour'][i]>15 and df['min'][i]>15):\r\n",
        "    call.append('exit or no trade')\r\n",
        "  else:\r\n",
        "    call.append('No trade')\r\n",
        "  if(df['hour'][i]>15 and df['min'][i]>25):\r\n",
        "    p=0"
      ],
      "id": "PEl6hoRr_m-9",
      "execution_count": 419,
      "outputs": []
    },
    {
      "cell_type": "code",
      "metadata": {
        "id": "Y-6EzGUSAcNf"
      },
      "source": [
        "#testing phase\r\n",
        "call.insert(0,'No trade')\r\n",
        "call.insert(0,'No trade')"
      ],
      "id": "Y-6EzGUSAcNf",
      "execution_count": 420,
      "outputs": []
    },
    {
      "cell_type": "code",
      "metadata": {
        "id": "9TAMNKTxAkm3"
      },
      "source": [
        "df['calls']=call"
      ],
      "id": "9TAMNKTxAkm3",
      "execution_count": 421,
      "outputs": []
    },
    {
      "cell_type": "code",
      "metadata": {
        "colab": {
          "base_uri": "https://localhost:8080/",
          "height": 1000
        },
        "id": "jE73fVDJuiPu",
        "outputId": "24796d30-0bbe-44c5-8c51-6947d7dda9ec"
      },
      "source": [
        "df.head(60)"
      ],
      "id": "jE73fVDJuiPu",
      "execution_count": 422,
      "outputs": [
        {
          "output_type": "execute_result",
          "data": {
            "text/html": [
              "<div>\n",
              "<style scoped>\n",
              "    .dataframe tbody tr th:only-of-type {\n",
              "        vertical-align: middle;\n",
              "    }\n",
              "\n",
              "    .dataframe tbody tr th {\n",
              "        vertical-align: top;\n",
              "    }\n",
              "\n",
              "    .dataframe thead th {\n",
              "        text-align: right;\n",
              "    }\n",
              "</style>\n",
              "<table border=\"1\" class=\"dataframe\">\n",
              "  <thead>\n",
              "    <tr style=\"text-align: right;\">\n",
              "      <th></th>\n",
              "      <th>datetime</th>\n",
              "      <th>test</th>\n",
              "      <th>pred</th>\n",
              "      <th>pred_lag</th>\n",
              "      <th>test_lag</th>\n",
              "      <th>position</th>\n",
              "      <th>position_act</th>\n",
              "      <th>returns</th>\n",
              "      <th>strategy</th>\n",
              "      <th>creturns</th>\n",
              "      <th>cstrategy</th>\n",
              "      <th>date</th>\n",
              "      <th>hour</th>\n",
              "      <th>min</th>\n",
              "      <th>calls</th>\n",
              "    </tr>\n",
              "  </thead>\n",
              "  <tbody>\n",
              "    <tr>\n",
              "      <th>0</th>\n",
              "      <td>2019-09-30 11:10:00</td>\n",
              "      <td>29179.849609</td>\n",
              "      <td>29593.371094</td>\n",
              "      <td>29611.185547</td>\n",
              "      <td>29211.701172</td>\n",
              "      <td>-1</td>\n",
              "      <td>-1</td>\n",
              "      <td>-0.001090</td>\n",
              "      <td>0.001090</td>\n",
              "      <td>-0.001090</td>\n",
              "      <td>0.001090</td>\n",
              "      <td>2019-09-30</td>\n",
              "      <td>11</td>\n",
              "      <td>10</td>\n",
              "      <td>No trade</td>\n",
              "    </tr>\n",
              "    <tr>\n",
              "      <th>1</th>\n",
              "      <td>2019-09-30 11:20:00</td>\n",
              "      <td>29161.199219</td>\n",
              "      <td>29576.556641</td>\n",
              "      <td>29593.371094</td>\n",
              "      <td>29179.849609</td>\n",
              "      <td>-1</td>\n",
              "      <td>-1</td>\n",
              "      <td>-0.000639</td>\n",
              "      <td>0.000639</td>\n",
              "      <td>-0.001729</td>\n",
              "      <td>0.001730</td>\n",
              "      <td>2019-09-30</td>\n",
              "      <td>11</td>\n",
              "      <td>20</td>\n",
              "      <td>No trade</td>\n",
              "    </tr>\n",
              "    <tr>\n",
              "      <th>2</th>\n",
              "      <td>2019-09-30 11:30:00</td>\n",
              "      <td>29151.199219</td>\n",
              "      <td>29553.341797</td>\n",
              "      <td>29576.556641</td>\n",
              "      <td>29161.199219</td>\n",
              "      <td>-1</td>\n",
              "      <td>-1</td>\n",
              "      <td>-0.000343</td>\n",
              "      <td>0.000343</td>\n",
              "      <td>-0.002071</td>\n",
              "      <td>0.002074</td>\n",
              "      <td>2019-09-30</td>\n",
              "      <td>11</td>\n",
              "      <td>30</td>\n",
              "      <td>No trade</td>\n",
              "    </tr>\n",
              "    <tr>\n",
              "      <th>3</th>\n",
              "      <td>2019-09-30 11:40:00</td>\n",
              "      <td>29226.001953</td>\n",
              "      <td>29522.302734</td>\n",
              "      <td>29553.341797</td>\n",
              "      <td>29151.199219</td>\n",
              "      <td>-1</td>\n",
              "      <td>1</td>\n",
              "      <td>0.002566</td>\n",
              "      <td>-0.002566</td>\n",
              "      <td>0.000490</td>\n",
              "      <td>-0.000498</td>\n",
              "      <td>2019-09-30</td>\n",
              "      <td>11</td>\n",
              "      <td>40</td>\n",
              "      <td>No trade</td>\n",
              "    </tr>\n",
              "    <tr>\n",
              "      <th>4</th>\n",
              "      <td>2019-09-30 11:50:00</td>\n",
              "      <td>29198.349609</td>\n",
              "      <td>29491.601562</td>\n",
              "      <td>29522.302734</td>\n",
              "      <td>29226.001953</td>\n",
              "      <td>-1</td>\n",
              "      <td>-1</td>\n",
              "      <td>-0.000946</td>\n",
              "      <td>0.000946</td>\n",
              "      <td>-0.000457</td>\n",
              "      <td>0.000448</td>\n",
              "      <td>2019-09-30</td>\n",
              "      <td>11</td>\n",
              "      <td>50</td>\n",
              "      <td>No trade</td>\n",
              "    </tr>\n",
              "    <tr>\n",
              "      <th>5</th>\n",
              "      <td>2019-09-30 12:00:00</td>\n",
              "      <td>29170.701172</td>\n",
              "      <td>29472.636719</td>\n",
              "      <td>29491.601562</td>\n",
              "      <td>29198.349609</td>\n",
              "      <td>-1</td>\n",
              "      <td>-1</td>\n",
              "      <td>-0.000947</td>\n",
              "      <td>0.000947</td>\n",
              "      <td>-0.001404</td>\n",
              "      <td>0.001395</td>\n",
              "      <td>2019-09-30</td>\n",
              "      <td>12</td>\n",
              "      <td>0</td>\n",
              "      <td>No trade</td>\n",
              "    </tr>\n",
              "    <tr>\n",
              "      <th>6</th>\n",
              "      <td>2019-09-30 12:10:00</td>\n",
              "      <td>29101.900391</td>\n",
              "      <td>29451.253906</td>\n",
              "      <td>29472.636719</td>\n",
              "      <td>29170.701172</td>\n",
              "      <td>-1</td>\n",
              "      <td>-1</td>\n",
              "      <td>-0.002359</td>\n",
              "      <td>0.002359</td>\n",
              "      <td>-0.003759</td>\n",
              "      <td>0.003757</td>\n",
              "      <td>2019-09-30</td>\n",
              "      <td>12</td>\n",
              "      <td>10</td>\n",
              "      <td>No trade</td>\n",
              "    </tr>\n",
              "    <tr>\n",
              "      <th>7</th>\n",
              "      <td>2019-09-30 12:20:00</td>\n",
              "      <td>29057.750000</td>\n",
              "      <td>29415.572266</td>\n",
              "      <td>29451.253906</td>\n",
              "      <td>29101.900391</td>\n",
              "      <td>-1</td>\n",
              "      <td>-1</td>\n",
              "      <td>-0.001517</td>\n",
              "      <td>0.001517</td>\n",
              "      <td>-0.005270</td>\n",
              "      <td>0.005280</td>\n",
              "      <td>2019-09-30</td>\n",
              "      <td>12</td>\n",
              "      <td>20</td>\n",
              "      <td>No trade</td>\n",
              "    </tr>\n",
              "    <tr>\n",
              "      <th>8</th>\n",
              "      <td>2019-09-30 12:30:00</td>\n",
              "      <td>29054.550781</td>\n",
              "      <td>29377.900391</td>\n",
              "      <td>29415.572266</td>\n",
              "      <td>29057.750000</td>\n",
              "      <td>-1</td>\n",
              "      <td>-1</td>\n",
              "      <td>-0.000110</td>\n",
              "      <td>0.000110</td>\n",
              "      <td>-0.005380</td>\n",
              "      <td>0.005391</td>\n",
              "      <td>2019-09-30</td>\n",
              "      <td>12</td>\n",
              "      <td>30</td>\n",
              "      <td>No trade</td>\n",
              "    </tr>\n",
              "    <tr>\n",
              "      <th>9</th>\n",
              "      <td>2019-09-30 12:40:00</td>\n",
              "      <td>29019.101562</td>\n",
              "      <td>29334.314453</td>\n",
              "      <td>29377.900391</td>\n",
              "      <td>29054.550781</td>\n",
              "      <td>-1</td>\n",
              "      <td>-1</td>\n",
              "      <td>-0.001220</td>\n",
              "      <td>0.001220</td>\n",
              "      <td>-0.006593</td>\n",
              "      <td>0.006617</td>\n",
              "      <td>2019-09-30</td>\n",
              "      <td>12</td>\n",
              "      <td>40</td>\n",
              "      <td>No trade</td>\n",
              "    </tr>\n",
              "    <tr>\n",
              "      <th>10</th>\n",
              "      <td>2019-09-30 12:50:00</td>\n",
              "      <td>29056.650391</td>\n",
              "      <td>29296.306641</td>\n",
              "      <td>29334.314453</td>\n",
              "      <td>29019.101562</td>\n",
              "      <td>-1</td>\n",
              "      <td>1</td>\n",
              "      <td>0.001294</td>\n",
              "      <td>-0.001294</td>\n",
              "      <td>-0.005308</td>\n",
              "      <td>0.005315</td>\n",
              "      <td>2019-09-30</td>\n",
              "      <td>12</td>\n",
              "      <td>50</td>\n",
              "      <td>No trade</td>\n",
              "    </tr>\n",
              "    <tr>\n",
              "      <th>11</th>\n",
              "      <td>2019-09-30 13:00:00</td>\n",
              "      <td>29130.748047</td>\n",
              "      <td>29264.160156</td>\n",
              "      <td>29296.306641</td>\n",
              "      <td>29056.650391</td>\n",
              "      <td>-1</td>\n",
              "      <td>1</td>\n",
              "      <td>0.002550</td>\n",
              "      <td>-0.002550</td>\n",
              "      <td>-0.002771</td>\n",
              "      <td>0.002751</td>\n",
              "      <td>2019-09-30</td>\n",
              "      <td>13</td>\n",
              "      <td>0</td>\n",
              "      <td>No trade</td>\n",
              "    </tr>\n",
              "    <tr>\n",
              "      <th>12</th>\n",
              "      <td>2019-09-30 13:10:00</td>\n",
              "      <td>29177.250000</td>\n",
              "      <td>29249.130859</td>\n",
              "      <td>29264.160156</td>\n",
              "      <td>29130.748047</td>\n",
              "      <td>-1</td>\n",
              "      <td>1</td>\n",
              "      <td>0.001596</td>\n",
              "      <td>-0.001596</td>\n",
              "      <td>-0.001179</td>\n",
              "      <td>0.001151</td>\n",
              "      <td>2019-09-30</td>\n",
              "      <td>13</td>\n",
              "      <td>10</td>\n",
              "      <td>No trade</td>\n",
              "    </tr>\n",
              "    <tr>\n",
              "      <th>13</th>\n",
              "      <td>2019-09-30 13:20:00</td>\n",
              "      <td>29074.900391</td>\n",
              "      <td>29246.093750</td>\n",
              "      <td>29249.130859</td>\n",
              "      <td>29177.250000</td>\n",
              "      <td>-1</td>\n",
              "      <td>-1</td>\n",
              "      <td>-0.003508</td>\n",
              "      <td>0.003508</td>\n",
              "      <td>-0.004683</td>\n",
              "      <td>0.004662</td>\n",
              "      <td>2019-09-30</td>\n",
              "      <td>13</td>\n",
              "      <td>20</td>\n",
              "      <td>No trade</td>\n",
              "    </tr>\n",
              "    <tr>\n",
              "      <th>14</th>\n",
              "      <td>2019-09-30 13:30:00</td>\n",
              "      <td>29086.699219</td>\n",
              "      <td>29251.882812</td>\n",
              "      <td>29246.093750</td>\n",
              "      <td>29074.900391</td>\n",
              "      <td>1</td>\n",
              "      <td>1</td>\n",
              "      <td>0.000406</td>\n",
              "      <td>0.000406</td>\n",
              "      <td>-0.004279</td>\n",
              "      <td>0.005070</td>\n",
              "      <td>2019-09-30</td>\n",
              "      <td>13</td>\n",
              "      <td>30</td>\n",
              "      <td>Exit</td>\n",
              "    </tr>\n",
              "    <tr>\n",
              "      <th>15</th>\n",
              "      <td>2019-09-30 13:40:00</td>\n",
              "      <td>29052.849609</td>\n",
              "      <td>29248.734375</td>\n",
              "      <td>29251.882812</td>\n",
              "      <td>29086.699219</td>\n",
              "      <td>-1</td>\n",
              "      <td>-1</td>\n",
              "      <td>-0.001164</td>\n",
              "      <td>0.001164</td>\n",
              "      <td>-0.005438</td>\n",
              "      <td>0.006240</td>\n",
              "      <td>2019-09-30</td>\n",
              "      <td>13</td>\n",
              "      <td>40</td>\n",
              "      <td>Exit</td>\n",
              "    </tr>\n",
              "    <tr>\n",
              "      <th>16</th>\n",
              "      <td>2019-09-30 13:50:00</td>\n",
              "      <td>29080.750000</td>\n",
              "      <td>29237.755859</td>\n",
              "      <td>29248.734375</td>\n",
              "      <td>29052.849609</td>\n",
              "      <td>-1</td>\n",
              "      <td>1</td>\n",
              "      <td>0.000960</td>\n",
              "      <td>-0.000960</td>\n",
              "      <td>-0.004483</td>\n",
              "      <td>0.005273</td>\n",
              "      <td>2019-09-30</td>\n",
              "      <td>13</td>\n",
              "      <td>50</td>\n",
              "      <td>sell</td>\n",
              "    </tr>\n",
              "    <tr>\n",
              "      <th>17</th>\n",
              "      <td>2019-09-30 14:00:00</td>\n",
              "      <td>29087.802734</td>\n",
              "      <td>29229.187500</td>\n",
              "      <td>29237.755859</td>\n",
              "      <td>29080.750000</td>\n",
              "      <td>-1</td>\n",
              "      <td>1</td>\n",
              "      <td>0.000243</td>\n",
              "      <td>-0.000243</td>\n",
              "      <td>-0.004241</td>\n",
              "      <td>0.005030</td>\n",
              "      <td>2019-09-30</td>\n",
              "      <td>14</td>\n",
              "      <td>0</td>\n",
              "      <td>sell hold</td>\n",
              "    </tr>\n",
              "    <tr>\n",
              "      <th>18</th>\n",
              "      <td>2019-09-30 14:10:00</td>\n",
              "      <td>29188.347656</td>\n",
              "      <td>29224.574219</td>\n",
              "      <td>29229.187500</td>\n",
              "      <td>29087.802734</td>\n",
              "      <td>-1</td>\n",
              "      <td>1</td>\n",
              "      <td>0.003457</td>\n",
              "      <td>-0.003457</td>\n",
              "      <td>-0.000799</td>\n",
              "      <td>0.001556</td>\n",
              "      <td>2019-09-30</td>\n",
              "      <td>14</td>\n",
              "      <td>10</td>\n",
              "      <td>sell hold</td>\n",
              "    </tr>\n",
              "    <tr>\n",
              "      <th>19</th>\n",
              "      <td>2019-09-30 14:20:00</td>\n",
              "      <td>29325.498047</td>\n",
              "      <td>29217.777344</td>\n",
              "      <td>29224.574219</td>\n",
              "      <td>29188.347656</td>\n",
              "      <td>-1</td>\n",
              "      <td>1</td>\n",
              "      <td>0.004699</td>\n",
              "      <td>-0.004699</td>\n",
              "      <td>0.003896</td>\n",
              "      <td>-0.003150</td>\n",
              "      <td>2019-09-30</td>\n",
              "      <td>14</td>\n",
              "      <td>20</td>\n",
              "      <td>sell hold</td>\n",
              "    </tr>\n",
              "    <tr>\n",
              "      <th>20</th>\n",
              "      <td>2019-09-30 14:30:00</td>\n",
              "      <td>29181.101562</td>\n",
              "      <td>29238.679688</td>\n",
              "      <td>29217.777344</td>\n",
              "      <td>29325.498047</td>\n",
              "      <td>1</td>\n",
              "      <td>-1</td>\n",
              "      <td>-0.004924</td>\n",
              "      <td>-0.004924</td>\n",
              "      <td>-0.001048</td>\n",
              "      <td>-0.008059</td>\n",
              "      <td>2019-09-30</td>\n",
              "      <td>14</td>\n",
              "      <td>30</td>\n",
              "      <td>Exit</td>\n",
              "    </tr>\n",
              "    <tr>\n",
              "      <th>21</th>\n",
              "      <td>2019-09-30 14:40:00</td>\n",
              "      <td>29140.199219</td>\n",
              "      <td>29259.097656</td>\n",
              "      <td>29238.679688</td>\n",
              "      <td>29181.101562</td>\n",
              "      <td>1</td>\n",
              "      <td>-1</td>\n",
              "      <td>-0.001402</td>\n",
              "      <td>-0.001402</td>\n",
              "      <td>-0.002448</td>\n",
              "      <td>-0.009449</td>\n",
              "      <td>2019-09-30</td>\n",
              "      <td>14</td>\n",
              "      <td>40</td>\n",
              "      <td>buy</td>\n",
              "    </tr>\n",
              "    <tr>\n",
              "      <th>22</th>\n",
              "      <td>2019-09-30 14:50:00</td>\n",
              "      <td>29084.951172</td>\n",
              "      <td>29262.490234</td>\n",
              "      <td>29259.097656</td>\n",
              "      <td>29140.199219</td>\n",
              "      <td>1</td>\n",
              "      <td>-1</td>\n",
              "      <td>-0.001896</td>\n",
              "      <td>-0.001896</td>\n",
              "      <td>-0.004339</td>\n",
              "      <td>-0.011327</td>\n",
              "      <td>2019-09-30</td>\n",
              "      <td>14</td>\n",
              "      <td>50</td>\n",
              "      <td>buy hold</td>\n",
              "    </tr>\n",
              "    <tr>\n",
              "      <th>23</th>\n",
              "      <td>2019-09-30 15:00:00</td>\n",
              "      <td>29102.451172</td>\n",
              "      <td>29241.039062</td>\n",
              "      <td>29262.490234</td>\n",
              "      <td>29084.951172</td>\n",
              "      <td>-1</td>\n",
              "      <td>1</td>\n",
              "      <td>0.000602</td>\n",
              "      <td>-0.000602</td>\n",
              "      <td>-0.003740</td>\n",
              "      <td>-0.011922</td>\n",
              "      <td>2019-09-30</td>\n",
              "      <td>15</td>\n",
              "      <td>0</td>\n",
              "      <td>Exit</td>\n",
              "    </tr>\n",
              "    <tr>\n",
              "      <th>24</th>\n",
              "      <td>2019-09-30 15:10:00</td>\n",
              "      <td>29122.099609</td>\n",
              "      <td>29224.070312</td>\n",
              "      <td>29241.039062</td>\n",
              "      <td>29102.451172</td>\n",
              "      <td>-1</td>\n",
              "      <td>1</td>\n",
              "      <td>0.000675</td>\n",
              "      <td>-0.000675</td>\n",
              "      <td>-0.003067</td>\n",
              "      <td>-0.012589</td>\n",
              "      <td>2019-09-30</td>\n",
              "      <td>15</td>\n",
              "      <td>10</td>\n",
              "      <td>sell</td>\n",
              "    </tr>\n",
              "    <tr>\n",
              "      <th>25</th>\n",
              "      <td>2019-09-30 15:20:00</td>\n",
              "      <td>29098.300781</td>\n",
              "      <td>29217.345703</td>\n",
              "      <td>29224.070312</td>\n",
              "      <td>29122.099609</td>\n",
              "      <td>-1</td>\n",
              "      <td>-1</td>\n",
              "      <td>-0.000817</td>\n",
              "      <td>0.000817</td>\n",
              "      <td>-0.003882</td>\n",
              "      <td>-0.011782</td>\n",
              "      <td>2019-09-30</td>\n",
              "      <td>15</td>\n",
              "      <td>20</td>\n",
              "      <td>sell hold</td>\n",
              "    </tr>\n",
              "    <tr>\n",
              "      <th>26</th>\n",
              "      <td>2019-10-01 09:10:00</td>\n",
              "      <td>29478.900391</td>\n",
              "      <td>29201.857422</td>\n",
              "      <td>29217.345703</td>\n",
              "      <td>29098.300781</td>\n",
              "      <td>-1</td>\n",
              "      <td>1</td>\n",
              "      <td>0.013080</td>\n",
              "      <td>-0.013080</td>\n",
              "      <td>0.009147</td>\n",
              "      <td>-0.024708</td>\n",
              "      <td>2019-10-01</td>\n",
              "      <td>9</td>\n",
              "      <td>10</td>\n",
              "      <td>sell hold</td>\n",
              "    </tr>\n",
              "    <tr>\n",
              "      <th>27</th>\n",
              "      <td>2019-10-01 09:20:00</td>\n",
              "      <td>29442.800781</td>\n",
              "      <td>29212.865234</td>\n",
              "      <td>29201.857422</td>\n",
              "      <td>29478.900391</td>\n",
              "      <td>1</td>\n",
              "      <td>-1</td>\n",
              "      <td>-0.001225</td>\n",
              "      <td>-0.001225</td>\n",
              "      <td>0.007911</td>\n",
              "      <td>-0.025902</td>\n",
              "      <td>2019-10-01</td>\n",
              "      <td>9</td>\n",
              "      <td>20</td>\n",
              "      <td>Exit</td>\n",
              "    </tr>\n",
              "    <tr>\n",
              "      <th>28</th>\n",
              "      <td>2019-10-01 09:30:00</td>\n",
              "      <td>29467.599609</td>\n",
              "      <td>29237.619141</td>\n",
              "      <td>29212.865234</td>\n",
              "      <td>29442.800781</td>\n",
              "      <td>1</td>\n",
              "      <td>1</td>\n",
              "      <td>0.000842</td>\n",
              "      <td>0.000842</td>\n",
              "      <td>0.008760</td>\n",
              "      <td>-0.025082</td>\n",
              "      <td>2019-10-01</td>\n",
              "      <td>9</td>\n",
              "      <td>30</td>\n",
              "      <td>buy</td>\n",
              "    </tr>\n",
              "    <tr>\n",
              "      <th>29</th>\n",
              "      <td>2019-10-01 09:40:00</td>\n",
              "      <td>29229.951172</td>\n",
              "      <td>29275.904297</td>\n",
              "      <td>29237.619141</td>\n",
              "      <td>29467.599609</td>\n",
              "      <td>1</td>\n",
              "      <td>-1</td>\n",
              "      <td>-0.008065</td>\n",
              "      <td>-0.008065</td>\n",
              "      <td>0.000625</td>\n",
              "      <td>-0.032944</td>\n",
              "      <td>2019-10-01</td>\n",
              "      <td>9</td>\n",
              "      <td>40</td>\n",
              "      <td>buy hold</td>\n",
              "    </tr>\n",
              "    <tr>\n",
              "      <th>30</th>\n",
              "      <td>2019-10-01 09:50:00</td>\n",
              "      <td>29087.349609</td>\n",
              "      <td>29284.152344</td>\n",
              "      <td>29275.904297</td>\n",
              "      <td>29229.951172</td>\n",
              "      <td>1</td>\n",
              "      <td>-1</td>\n",
              "      <td>-0.004879</td>\n",
              "      <td>-0.004879</td>\n",
              "      <td>-0.004257</td>\n",
              "      <td>-0.037662</td>\n",
              "      <td>2019-10-01</td>\n",
              "      <td>9</td>\n",
              "      <td>50</td>\n",
              "      <td>buy hold</td>\n",
              "    </tr>\n",
              "    <tr>\n",
              "      <th>31</th>\n",
              "      <td>2019-10-01 10:00:00</td>\n",
              "      <td>28892.052734</td>\n",
              "      <td>29269.244141</td>\n",
              "      <td>29284.152344</td>\n",
              "      <td>29087.349609</td>\n",
              "      <td>-1</td>\n",
              "      <td>-1</td>\n",
              "      <td>-0.006714</td>\n",
              "      <td>0.006714</td>\n",
              "      <td>-0.010942</td>\n",
              "      <td>-0.031201</td>\n",
              "      <td>2019-10-01</td>\n",
              "      <td>10</td>\n",
              "      <td>0</td>\n",
              "      <td>Exit</td>\n",
              "    </tr>\n",
              "    <tr>\n",
              "      <th>32</th>\n",
              "      <td>2019-10-01 10:10:00</td>\n",
              "      <td>29064.802734</td>\n",
              "      <td>29228.068359</td>\n",
              "      <td>29269.244141</td>\n",
              "      <td>28892.052734</td>\n",
              "      <td>-1</td>\n",
              "      <td>1</td>\n",
              "      <td>0.005979</td>\n",
              "      <td>-0.005979</td>\n",
              "      <td>-0.005029</td>\n",
              "      <td>-0.036994</td>\n",
              "      <td>2019-10-01</td>\n",
              "      <td>10</td>\n",
              "      <td>10</td>\n",
              "      <td>sell</td>\n",
              "    </tr>\n",
              "    <tr>\n",
              "      <th>33</th>\n",
              "      <td>2019-10-01 10:20:00</td>\n",
              "      <td>28982.800781</td>\n",
              "      <td>29192.605469</td>\n",
              "      <td>29228.068359</td>\n",
              "      <td>29064.802734</td>\n",
              "      <td>-1</td>\n",
              "      <td>-1</td>\n",
              "      <td>-0.002821</td>\n",
              "      <td>0.002821</td>\n",
              "      <td>-0.007836</td>\n",
              "      <td>-0.034277</td>\n",
              "      <td>2019-10-01</td>\n",
              "      <td>10</td>\n",
              "      <td>20</td>\n",
              "      <td>sell hold</td>\n",
              "    </tr>\n",
              "    <tr>\n",
              "      <th>34</th>\n",
              "      <td>2019-10-01 10:30:00</td>\n",
              "      <td>29072.248047</td>\n",
              "      <td>29160.519531</td>\n",
              "      <td>29192.605469</td>\n",
              "      <td>28982.800781</td>\n",
              "      <td>-1</td>\n",
              "      <td>1</td>\n",
              "      <td>0.003086</td>\n",
              "      <td>-0.003086</td>\n",
              "      <td>-0.004774</td>\n",
              "      <td>-0.037257</td>\n",
              "      <td>2019-10-01</td>\n",
              "      <td>10</td>\n",
              "      <td>30</td>\n",
              "      <td>sell hold</td>\n",
              "    </tr>\n",
              "    <tr>\n",
              "      <th>35</th>\n",
              "      <td>2019-10-01 10:40:00</td>\n",
              "      <td>29247.451172</td>\n",
              "      <td>29146.441406</td>\n",
              "      <td>29160.519531</td>\n",
              "      <td>29072.248047</td>\n",
              "      <td>-1</td>\n",
              "      <td>1</td>\n",
              "      <td>0.006026</td>\n",
              "      <td>-0.006026</td>\n",
              "      <td>0.001224</td>\n",
              "      <td>-0.043059</td>\n",
              "      <td>2019-10-01</td>\n",
              "      <td>10</td>\n",
              "      <td>40</td>\n",
              "      <td>sell hold</td>\n",
              "    </tr>\n",
              "    <tr>\n",
              "      <th>36</th>\n",
              "      <td>2019-10-01 10:50:00</td>\n",
              "      <td>29231.250000</td>\n",
              "      <td>29150.812500</td>\n",
              "      <td>29146.441406</td>\n",
              "      <td>29247.451172</td>\n",
              "      <td>1</td>\n",
              "      <td>-1</td>\n",
              "      <td>-0.000554</td>\n",
              "      <td>-0.000554</td>\n",
              "      <td>0.000669</td>\n",
              "      <td>-0.043589</td>\n",
              "      <td>2019-10-01</td>\n",
              "      <td>10</td>\n",
              "      <td>50</td>\n",
              "      <td>Exit</td>\n",
              "    </tr>\n",
              "    <tr>\n",
              "      <th>37</th>\n",
              "      <td>2019-10-01 11:00:00</td>\n",
              "      <td>29250.650391</td>\n",
              "      <td>29169.447266</td>\n",
              "      <td>29150.812500</td>\n",
              "      <td>29231.250000</td>\n",
              "      <td>1</td>\n",
              "      <td>1</td>\n",
              "      <td>0.000664</td>\n",
              "      <td>0.000664</td>\n",
              "      <td>0.001333</td>\n",
              "      <td>-0.042954</td>\n",
              "      <td>2019-10-01</td>\n",
              "      <td>11</td>\n",
              "      <td>0</td>\n",
              "      <td>buy</td>\n",
              "    </tr>\n",
              "    <tr>\n",
              "      <th>38</th>\n",
              "      <td>2019-10-01 11:10:00</td>\n",
              "      <td>29203.751953</td>\n",
              "      <td>29190.490234</td>\n",
              "      <td>29169.447266</td>\n",
              "      <td>29250.650391</td>\n",
              "      <td>1</td>\n",
              "      <td>-1</td>\n",
              "      <td>-0.001603</td>\n",
              "      <td>-0.001603</td>\n",
              "      <td>-0.000272</td>\n",
              "      <td>-0.044489</td>\n",
              "      <td>2019-10-01</td>\n",
              "      <td>11</td>\n",
              "      <td>10</td>\n",
              "      <td>buy hold</td>\n",
              "    </tr>\n",
              "    <tr>\n",
              "      <th>39</th>\n",
              "      <td>2019-10-01 11:20:00</td>\n",
              "      <td>29199.449219</td>\n",
              "      <td>29203.587891</td>\n",
              "      <td>29190.490234</td>\n",
              "      <td>29203.751953</td>\n",
              "      <td>1</td>\n",
              "      <td>-1</td>\n",
              "      <td>-0.000147</td>\n",
              "      <td>-0.000147</td>\n",
              "      <td>-0.000419</td>\n",
              "      <td>-0.044629</td>\n",
              "      <td>2019-10-01</td>\n",
              "      <td>11</td>\n",
              "      <td>20</td>\n",
              "      <td>buy hold</td>\n",
              "    </tr>\n",
              "    <tr>\n",
              "      <th>40</th>\n",
              "      <td>2019-10-01 11:30:00</td>\n",
              "      <td>29217.951172</td>\n",
              "      <td>29215.621094</td>\n",
              "      <td>29203.587891</td>\n",
              "      <td>29199.449219</td>\n",
              "      <td>1</td>\n",
              "      <td>1</td>\n",
              "      <td>0.000634</td>\n",
              "      <td>0.000634</td>\n",
              "      <td>0.000214</td>\n",
              "      <td>-0.044024</td>\n",
              "      <td>2019-10-01</td>\n",
              "      <td>11</td>\n",
              "      <td>30</td>\n",
              "      <td>buy hold</td>\n",
              "    </tr>\n",
              "    <tr>\n",
              "      <th>41</th>\n",
              "      <td>2019-10-01 11:40:00</td>\n",
              "      <td>29232.000000</td>\n",
              "      <td>29219.902344</td>\n",
              "      <td>29215.621094</td>\n",
              "      <td>29217.951172</td>\n",
              "      <td>1</td>\n",
              "      <td>1</td>\n",
              "      <td>0.000481</td>\n",
              "      <td>0.000481</td>\n",
              "      <td>0.000695</td>\n",
              "      <td>-0.043564</td>\n",
              "      <td>2019-10-01</td>\n",
              "      <td>11</td>\n",
              "      <td>40</td>\n",
              "      <td>buy hold</td>\n",
              "    </tr>\n",
              "    <tr>\n",
              "      <th>42</th>\n",
              "      <td>2019-10-01 11:50:00</td>\n",
              "      <td>29200.250000</td>\n",
              "      <td>29224.316406</td>\n",
              "      <td>29219.902344</td>\n",
              "      <td>29232.000000</td>\n",
              "      <td>1</td>\n",
              "      <td>-1</td>\n",
              "      <td>-0.001086</td>\n",
              "      <td>-0.001086</td>\n",
              "      <td>-0.000392</td>\n",
              "      <td>-0.044603</td>\n",
              "      <td>2019-10-01</td>\n",
              "      <td>11</td>\n",
              "      <td>50</td>\n",
              "      <td>buy hold</td>\n",
              "    </tr>\n",
              "    <tr>\n",
              "      <th>43</th>\n",
              "      <td>2019-10-01 12:00:00</td>\n",
              "      <td>29162.050781</td>\n",
              "      <td>29226.869141</td>\n",
              "      <td>29224.316406</td>\n",
              "      <td>29200.250000</td>\n",
              "      <td>1</td>\n",
              "      <td>-1</td>\n",
              "      <td>-0.001308</td>\n",
              "      <td>-0.001308</td>\n",
              "      <td>-0.001700</td>\n",
              "      <td>-0.045853</td>\n",
              "      <td>2019-10-01</td>\n",
              "      <td>12</td>\n",
              "      <td>0</td>\n",
              "      <td>buy hold</td>\n",
              "    </tr>\n",
              "    <tr>\n",
              "      <th>44</th>\n",
              "      <td>2019-10-01 12:10:00</td>\n",
              "      <td>29101.851562</td>\n",
              "      <td>29231.599609</td>\n",
              "      <td>29226.869141</td>\n",
              "      <td>29162.050781</td>\n",
              "      <td>1</td>\n",
              "      <td>-1</td>\n",
              "      <td>-0.002064</td>\n",
              "      <td>-0.002064</td>\n",
              "      <td>-0.003760</td>\n",
              "      <td>-0.047823</td>\n",
              "      <td>2019-10-01</td>\n",
              "      <td>12</td>\n",
              "      <td>10</td>\n",
              "      <td>buy hold</td>\n",
              "    </tr>\n",
              "    <tr>\n",
              "      <th>45</th>\n",
              "      <td>2019-10-01 12:20:00</td>\n",
              "      <td>29113.550781</td>\n",
              "      <td>29216.810547</td>\n",
              "      <td>29231.599609</td>\n",
              "      <td>29101.851562</td>\n",
              "      <td>-1</td>\n",
              "      <td>1</td>\n",
              "      <td>0.000402</td>\n",
              "      <td>-0.000402</td>\n",
              "      <td>-0.003360</td>\n",
              "      <td>-0.048206</td>\n",
              "      <td>2019-10-01</td>\n",
              "      <td>12</td>\n",
              "      <td>20</td>\n",
              "      <td>Exit</td>\n",
              "    </tr>\n",
              "    <tr>\n",
              "      <th>46</th>\n",
              "      <td>2019-10-01 12:30:00</td>\n",
              "      <td>29054.451172</td>\n",
              "      <td>29200.505859</td>\n",
              "      <td>29216.810547</td>\n",
              "      <td>29113.550781</td>\n",
              "      <td>-1</td>\n",
              "      <td>-1</td>\n",
              "      <td>-0.002030</td>\n",
              "      <td>0.002030</td>\n",
              "      <td>-0.005383</td>\n",
              "      <td>-0.046273</td>\n",
              "      <td>2019-10-01</td>\n",
              "      <td>12</td>\n",
              "      <td>30</td>\n",
              "      <td>sell</td>\n",
              "    </tr>\n",
              "    <tr>\n",
              "      <th>47</th>\n",
              "      <td>2019-10-01 12:40:00</td>\n",
              "      <td>29166.201172</td>\n",
              "      <td>29174.119141</td>\n",
              "      <td>29200.505859</td>\n",
              "      <td>29054.451172</td>\n",
              "      <td>-1</td>\n",
              "      <td>1</td>\n",
              "      <td>0.003846</td>\n",
              "      <td>-0.003846</td>\n",
              "      <td>-0.001558</td>\n",
              "      <td>-0.049942</td>\n",
              "      <td>2019-10-01</td>\n",
              "      <td>12</td>\n",
              "      <td>40</td>\n",
              "      <td>sell hold</td>\n",
              "    </tr>\n",
              "    <tr>\n",
              "      <th>48</th>\n",
              "      <td>2019-10-01 12:50:00</td>\n",
              "      <td>29104.798828</td>\n",
              "      <td>29159.533203</td>\n",
              "      <td>29174.119141</td>\n",
              "      <td>29166.201172</td>\n",
              "      <td>-1</td>\n",
              "      <td>-1</td>\n",
              "      <td>-0.002105</td>\n",
              "      <td>0.002105</td>\n",
              "      <td>-0.003660</td>\n",
              "      <td>-0.047942</td>\n",
              "      <td>2019-10-01</td>\n",
              "      <td>12</td>\n",
              "      <td>50</td>\n",
              "      <td>sell hold</td>\n",
              "    </tr>\n",
              "    <tr>\n",
              "      <th>49</th>\n",
              "      <td>2019-10-01 13:00:00</td>\n",
              "      <td>29101.501953</td>\n",
              "      <td>29146.306641</td>\n",
              "      <td>29159.533203</td>\n",
              "      <td>29104.798828</td>\n",
              "      <td>-1</td>\n",
              "      <td>-1</td>\n",
              "      <td>-0.000113</td>\n",
              "      <td>0.000113</td>\n",
              "      <td>-0.003772</td>\n",
              "      <td>-0.047834</td>\n",
              "      <td>2019-10-01</td>\n",
              "      <td>13</td>\n",
              "      <td>0</td>\n",
              "      <td>sell hold</td>\n",
              "    </tr>\n",
              "    <tr>\n",
              "      <th>50</th>\n",
              "      <td>2019-10-01 13:10:00</td>\n",
              "      <td>29058.699219</td>\n",
              "      <td>29134.269531</td>\n",
              "      <td>29146.306641</td>\n",
              "      <td>29101.501953</td>\n",
              "      <td>-1</td>\n",
              "      <td>-1</td>\n",
              "      <td>-0.001471</td>\n",
              "      <td>0.001471</td>\n",
              "      <td>-0.005238</td>\n",
              "      <td>-0.046433</td>\n",
              "      <td>2019-10-01</td>\n",
              "      <td>13</td>\n",
              "      <td>10</td>\n",
              "      <td>sell hold</td>\n",
              "    </tr>\n",
              "    <tr>\n",
              "      <th>51</th>\n",
              "      <td>2019-10-01 13:20:00</td>\n",
              "      <td>28959.949219</td>\n",
              "      <td>29135.050781</td>\n",
              "      <td>29134.269531</td>\n",
              "      <td>29058.699219</td>\n",
              "      <td>1</td>\n",
              "      <td>-1</td>\n",
              "      <td>-0.003398</td>\n",
              "      <td>-0.003398</td>\n",
              "      <td>-0.008618</td>\n",
              "      <td>-0.049674</td>\n",
              "      <td>2019-10-01</td>\n",
              "      <td>13</td>\n",
              "      <td>20</td>\n",
              "      <td>Exit</td>\n",
              "    </tr>\n",
              "    <tr>\n",
              "      <th>52</th>\n",
              "      <td>2019-10-01 13:30:00</td>\n",
              "      <td>28758.250000</td>\n",
              "      <td>29114.818359</td>\n",
              "      <td>29135.050781</td>\n",
              "      <td>28959.949219</td>\n",
              "      <td>-1</td>\n",
              "      <td>-1</td>\n",
              "      <td>-0.006965</td>\n",
              "      <td>0.006965</td>\n",
              "      <td>-0.015523</td>\n",
              "      <td>-0.043055</td>\n",
              "      <td>2019-10-01</td>\n",
              "      <td>13</td>\n",
              "      <td>30</td>\n",
              "      <td>Exit</td>\n",
              "    </tr>\n",
              "    <tr>\n",
              "      <th>53</th>\n",
              "      <td>2019-10-01 13:40:00</td>\n",
              "      <td>28563.900391</td>\n",
              "      <td>29071.162109</td>\n",
              "      <td>29114.818359</td>\n",
              "      <td>28758.250000</td>\n",
              "      <td>-1</td>\n",
              "      <td>-1</td>\n",
              "      <td>-0.006758</td>\n",
              "      <td>0.006758</td>\n",
              "      <td>-0.022176</td>\n",
              "      <td>-0.036588</td>\n",
              "      <td>2019-10-01</td>\n",
              "      <td>13</td>\n",
              "      <td>40</td>\n",
              "      <td>sell</td>\n",
              "    </tr>\n",
              "    <tr>\n",
              "      <th>54</th>\n",
              "      <td>2019-10-01 13:50:00</td>\n",
              "      <td>28542.798828</td>\n",
              "      <td>29005.652344</td>\n",
              "      <td>29071.162109</td>\n",
              "      <td>28563.900391</td>\n",
              "      <td>-1</td>\n",
              "      <td>-1</td>\n",
              "      <td>-0.000739</td>\n",
              "      <td>0.000739</td>\n",
              "      <td>-0.022898</td>\n",
              "      <td>-0.035876</td>\n",
              "      <td>2019-10-01</td>\n",
              "      <td>13</td>\n",
              "      <td>50</td>\n",
              "      <td>sell hold</td>\n",
              "    </tr>\n",
              "    <tr>\n",
              "      <th>55</th>\n",
              "      <td>2019-10-01 14:00:00</td>\n",
              "      <td>28389.250000</td>\n",
              "      <td>28940.123047</td>\n",
              "      <td>29005.652344</td>\n",
              "      <td>28542.798828</td>\n",
              "      <td>-1</td>\n",
              "      <td>-1</td>\n",
              "      <td>-0.005380</td>\n",
              "      <td>0.005380</td>\n",
              "      <td>-0.028155</td>\n",
              "      <td>-0.030690</td>\n",
              "      <td>2019-10-01</td>\n",
              "      <td>14</td>\n",
              "      <td>0</td>\n",
              "      <td>sell hold</td>\n",
              "    </tr>\n",
              "    <tr>\n",
              "      <th>56</th>\n",
              "      <td>2019-10-01 14:10:00</td>\n",
              "      <td>28290.050781</td>\n",
              "      <td>28888.085938</td>\n",
              "      <td>28940.123047</td>\n",
              "      <td>28389.250000</td>\n",
              "      <td>-1</td>\n",
              "      <td>-1</td>\n",
              "      <td>-0.003494</td>\n",
              "      <td>0.003494</td>\n",
              "      <td>-0.031551</td>\n",
              "      <td>-0.027303</td>\n",
              "      <td>2019-10-01</td>\n",
              "      <td>14</td>\n",
              "      <td>10</td>\n",
              "      <td>sell hold</td>\n",
              "    </tr>\n",
              "    <tr>\n",
              "      <th>57</th>\n",
              "      <td>2019-10-01 14:20:00</td>\n",
              "      <td>28463.550781</td>\n",
              "      <td>28802.263672</td>\n",
              "      <td>28888.085938</td>\n",
              "      <td>28290.050781</td>\n",
              "      <td>-1</td>\n",
              "      <td>1</td>\n",
              "      <td>0.006133</td>\n",
              "      <td>-0.006133</td>\n",
              "      <td>-0.025611</td>\n",
              "      <td>-0.033268</td>\n",
              "      <td>2019-10-01</td>\n",
              "      <td>14</td>\n",
              "      <td>20</td>\n",
              "      <td>sell hold</td>\n",
              "    </tr>\n",
              "    <tr>\n",
              "      <th>58</th>\n",
              "      <td>2019-10-01 14:30:00</td>\n",
              "      <td>28368.298828</td>\n",
              "      <td>28756.328125</td>\n",
              "      <td>28802.263672</td>\n",
              "      <td>28463.550781</td>\n",
              "      <td>-1</td>\n",
              "      <td>-1</td>\n",
              "      <td>-0.003346</td>\n",
              "      <td>0.003346</td>\n",
              "      <td>-0.028872</td>\n",
              "      <td>-0.030033</td>\n",
              "      <td>2019-10-01</td>\n",
              "      <td>14</td>\n",
              "      <td>30</td>\n",
              "      <td>sell hold</td>\n",
              "    </tr>\n",
              "    <tr>\n",
              "      <th>59</th>\n",
              "      <td>2019-10-01 14:40:00</td>\n",
              "      <td>28445.300781</td>\n",
              "      <td>28720.523438</td>\n",
              "      <td>28756.328125</td>\n",
              "      <td>28368.298828</td>\n",
              "      <td>-1</td>\n",
              "      <td>1</td>\n",
              "      <td>0.002714</td>\n",
              "      <td>-0.002714</td>\n",
              "      <td>-0.026236</td>\n",
              "      <td>-0.032666</td>\n",
              "      <td>2019-10-01</td>\n",
              "      <td>14</td>\n",
              "      <td>40</td>\n",
              "      <td>sell hold</td>\n",
              "    </tr>\n",
              "  </tbody>\n",
              "</table>\n",
              "</div>"
            ],
            "text/plain": [
              "              datetime          test          pred  ...  hour  min      calls\n",
              "0  2019-09-30 11:10:00  29179.849609  29593.371094  ...    11   10   No trade\n",
              "1  2019-09-30 11:20:00  29161.199219  29576.556641  ...    11   20   No trade\n",
              "2  2019-09-30 11:30:00  29151.199219  29553.341797  ...    11   30   No trade\n",
              "3  2019-09-30 11:40:00  29226.001953  29522.302734  ...    11   40   No trade\n",
              "4  2019-09-30 11:50:00  29198.349609  29491.601562  ...    11   50   No trade\n",
              "5  2019-09-30 12:00:00  29170.701172  29472.636719  ...    12    0   No trade\n",
              "6  2019-09-30 12:10:00  29101.900391  29451.253906  ...    12   10   No trade\n",
              "7  2019-09-30 12:20:00  29057.750000  29415.572266  ...    12   20   No trade\n",
              "8  2019-09-30 12:30:00  29054.550781  29377.900391  ...    12   30   No trade\n",
              "9  2019-09-30 12:40:00  29019.101562  29334.314453  ...    12   40   No trade\n",
              "10 2019-09-30 12:50:00  29056.650391  29296.306641  ...    12   50   No trade\n",
              "11 2019-09-30 13:00:00  29130.748047  29264.160156  ...    13    0   No trade\n",
              "12 2019-09-30 13:10:00  29177.250000  29249.130859  ...    13   10   No trade\n",
              "13 2019-09-30 13:20:00  29074.900391  29246.093750  ...    13   20   No trade\n",
              "14 2019-09-30 13:30:00  29086.699219  29251.882812  ...    13   30       Exit\n",
              "15 2019-09-30 13:40:00  29052.849609  29248.734375  ...    13   40       Exit\n",
              "16 2019-09-30 13:50:00  29080.750000  29237.755859  ...    13   50       sell\n",
              "17 2019-09-30 14:00:00  29087.802734  29229.187500  ...    14    0  sell hold\n",
              "18 2019-09-30 14:10:00  29188.347656  29224.574219  ...    14   10  sell hold\n",
              "19 2019-09-30 14:20:00  29325.498047  29217.777344  ...    14   20  sell hold\n",
              "20 2019-09-30 14:30:00  29181.101562  29238.679688  ...    14   30       Exit\n",
              "21 2019-09-30 14:40:00  29140.199219  29259.097656  ...    14   40        buy\n",
              "22 2019-09-30 14:50:00  29084.951172  29262.490234  ...    14   50   buy hold\n",
              "23 2019-09-30 15:00:00  29102.451172  29241.039062  ...    15    0       Exit\n",
              "24 2019-09-30 15:10:00  29122.099609  29224.070312  ...    15   10       sell\n",
              "25 2019-09-30 15:20:00  29098.300781  29217.345703  ...    15   20  sell hold\n",
              "26 2019-10-01 09:10:00  29478.900391  29201.857422  ...     9   10  sell hold\n",
              "27 2019-10-01 09:20:00  29442.800781  29212.865234  ...     9   20       Exit\n",
              "28 2019-10-01 09:30:00  29467.599609  29237.619141  ...     9   30        buy\n",
              "29 2019-10-01 09:40:00  29229.951172  29275.904297  ...     9   40   buy hold\n",
              "30 2019-10-01 09:50:00  29087.349609  29284.152344  ...     9   50   buy hold\n",
              "31 2019-10-01 10:00:00  28892.052734  29269.244141  ...    10    0       Exit\n",
              "32 2019-10-01 10:10:00  29064.802734  29228.068359  ...    10   10       sell\n",
              "33 2019-10-01 10:20:00  28982.800781  29192.605469  ...    10   20  sell hold\n",
              "34 2019-10-01 10:30:00  29072.248047  29160.519531  ...    10   30  sell hold\n",
              "35 2019-10-01 10:40:00  29247.451172  29146.441406  ...    10   40  sell hold\n",
              "36 2019-10-01 10:50:00  29231.250000  29150.812500  ...    10   50       Exit\n",
              "37 2019-10-01 11:00:00  29250.650391  29169.447266  ...    11    0        buy\n",
              "38 2019-10-01 11:10:00  29203.751953  29190.490234  ...    11   10   buy hold\n",
              "39 2019-10-01 11:20:00  29199.449219  29203.587891  ...    11   20   buy hold\n",
              "40 2019-10-01 11:30:00  29217.951172  29215.621094  ...    11   30   buy hold\n",
              "41 2019-10-01 11:40:00  29232.000000  29219.902344  ...    11   40   buy hold\n",
              "42 2019-10-01 11:50:00  29200.250000  29224.316406  ...    11   50   buy hold\n",
              "43 2019-10-01 12:00:00  29162.050781  29226.869141  ...    12    0   buy hold\n",
              "44 2019-10-01 12:10:00  29101.851562  29231.599609  ...    12   10   buy hold\n",
              "45 2019-10-01 12:20:00  29113.550781  29216.810547  ...    12   20       Exit\n",
              "46 2019-10-01 12:30:00  29054.451172  29200.505859  ...    12   30       sell\n",
              "47 2019-10-01 12:40:00  29166.201172  29174.119141  ...    12   40  sell hold\n",
              "48 2019-10-01 12:50:00  29104.798828  29159.533203  ...    12   50  sell hold\n",
              "49 2019-10-01 13:00:00  29101.501953  29146.306641  ...    13    0  sell hold\n",
              "50 2019-10-01 13:10:00  29058.699219  29134.269531  ...    13   10  sell hold\n",
              "51 2019-10-01 13:20:00  28959.949219  29135.050781  ...    13   20       Exit\n",
              "52 2019-10-01 13:30:00  28758.250000  29114.818359  ...    13   30       Exit\n",
              "53 2019-10-01 13:40:00  28563.900391  29071.162109  ...    13   40       sell\n",
              "54 2019-10-01 13:50:00  28542.798828  29005.652344  ...    13   50  sell hold\n",
              "55 2019-10-01 14:00:00  28389.250000  28940.123047  ...    14    0  sell hold\n",
              "56 2019-10-01 14:10:00  28290.050781  28888.085938  ...    14   10  sell hold\n",
              "57 2019-10-01 14:20:00  28463.550781  28802.263672  ...    14   20  sell hold\n",
              "58 2019-10-01 14:30:00  28368.298828  28756.328125  ...    14   30  sell hold\n",
              "59 2019-10-01 14:40:00  28445.300781  28720.523438  ...    14   40  sell hold\n",
              "\n",
              "[60 rows x 15 columns]"
            ]
          },
          "metadata": {
            "tags": []
          },
          "execution_count": 422
        }
      ]
    },
    {
      "cell_type": "code",
      "metadata": {
        "id": "hhC170mOzrjA"
      },
      "source": [
        "pos=[]\r\n",
        "for i in range(len(df)):\r\n",
        "  if(df['calls'][i]=='buy' or df['calls'][i]=='buy hold'):\r\n",
        "    pos.append(1)\r\n",
        "  elif(df['calls'][i]=='sell' or df['calls'][i]=='sell hold'):\r\n",
        "    pos.append(-1)\r\n",
        "  else:\r\n",
        "    pos.append(0)\r\n"
      ],
      "id": "hhC170mOzrjA",
      "execution_count": 423,
      "outputs": []
    },
    {
      "cell_type": "code",
      "metadata": {
        "id": "wFD3-lt21l4C"
      },
      "source": [
        "df['position2']=pos"
      ],
      "id": "wFD3-lt21l4C",
      "execution_count": 424,
      "outputs": []
    },
    {
      "cell_type": "code",
      "metadata": {
        "id": "aj3TrDaq1vY1"
      },
      "source": [
        "df[\"strategy\"] = df[\"position2\"] * df[\"returns\"]\r\n",
        "#df.dropna(inplace=True)\r\n",
        "df[\"creturns\"] = (1+df[\"returns\"]).cumprod()-1\r\n",
        "df[\"cstrategy\"] = (1+df[\"strategy\"]).cumprod()-1\r\n",
        "\r\n",
        "# absolute performance of the strategy\r\n",
        "perf = df[\"cstrategy\"].iloc[-1]"
      ],
      "id": "aj3TrDaq1vY1",
      "execution_count": 425,
      "outputs": []
    },
    {
      "cell_type": "code",
      "metadata": {
        "colab": {
          "base_uri": "https://localhost:8080/"
        },
        "id": "oYXmlJN717t5",
        "outputId": "1a78a467-a0b0-4406-cbb8-35a501ab2341"
      },
      "source": [
        "perf"
      ],
      "id": "oYXmlJN717t5",
      "execution_count": 352,
      "outputs": [
        {
          "output_type": "execute_result",
          "data": {
            "text/plain": [
              "0.6357177553242095"
            ]
          },
          "metadata": {
            "tags": []
          },
          "execution_count": 352
        }
      ]
    },
    {
      "cell_type": "code",
      "metadata": {
        "colab": {
          "base_uri": "https://localhost:8080/"
        },
        "id": "GIdfkp5R1L-i",
        "outputId": "e7bc5721-b390-4d4b-abce-1ed788410612"
      },
      "source": [
        "perf"
      ],
      "id": "GIdfkp5R1L-i",
      "execution_count": 426,
      "outputs": [
        {
          "output_type": "execute_result",
          "data": {
            "text/plain": [
              "0.5949958622931832"
            ]
          },
          "metadata": {
            "tags": []
          },
          "execution_count": 426
        }
      ]
    },
    {
      "cell_type": "code",
      "metadata": {
        "id": "4tI1ZXfs5ze2"
      },
      "source": [
        "import seaborn as sns"
      ],
      "id": "4tI1ZXfs5ze2",
      "execution_count": null,
      "outputs": []
    },
    {
      "cell_type": "code",
      "metadata": {
        "colab": {
          "base_uri": "https://localhost:8080/",
          "height": 282
        },
        "id": "hDm0JCmm5-G1",
        "outputId": "75c5efc2-9a49-400d-c542-c8786f4aeaa1"
      },
      "source": [
        "df['cstrategy'].plot()"
      ],
      "id": "hDm0JCmm5-G1",
      "execution_count": 427,
      "outputs": [
        {
          "output_type": "execute_result",
          "data": {
            "text/plain": [
              "<matplotlib.axes._subplots.AxesSubplot at 0x7f76ac27eed0>"
            ]
          },
          "metadata": {
            "tags": []
          },
          "execution_count": 427
        },
        {
          "output_type": "display_data",
          "data": {
            "image/png": "[encoded data removed]",
            "text/plain": [
              "<Figure size 432x288 with 1 Axes>"
            ]
          },
          "metadata": {
            "tags": [],
            "needs_background": "light"
          }
        }
      ]
    },
    {
      "cell_type": "code",
      "metadata": {
        "id": "KlV9puLauGQk"
      },
      "source": [
        "lits=[]\r\n",
        "for i in range(len(df)-1):\r\n",
        "    if((df['position'][i]==-1) and (df['position'][i+1]==1)):\r\n",
        "        lits.append('buy')\r\n",
        "    elif((df['position'][i]==1) and (df['position'][i+1]==-1)):\r\n",
        "        lits.append('sell')\r\n",
        "    elif(df['position'][i]==-1):\r\n",
        "        lits.append('hold')\r\n",
        "        \r\n",
        "lits.append('over')"
      ],
      "id": "KlV9puLauGQk",
      "execution_count": null,
      "outputs": []
    },
    {
      "cell_type": "code",
      "metadata": {
        "id": "4qNzbfJ7vUrq"
      },
      "source": [
        "wealth_index=1000*(1+df['strategy']).cumprod()\r\n",
        "previous_peak=wealth_index.cummax()\r\n",
        "drawdown=(wealth_index-previous_peak)/previous_peak"
      ],
      "id": "4qNzbfJ7vUrq",
      "execution_count": 428,
      "outputs": []
    },
    {
      "cell_type": "code",
      "metadata": {
        "colab": {
          "base_uri": "https://localhost:8080/"
        },
        "id": "JrF9nFGRKWXO",
        "outputId": "661c6649-2eee-4612-d0fe-bbc774ca0a44"
      },
      "source": [
        "min(drawdown)"
      ],
      "id": "JrF9nFGRKWXO",
      "execution_count": 429,
      "outputs": [
        {
          "output_type": "execute_result",
          "data": {
            "text/plain": [
              "-0.18898238974776826"
            ]
          },
          "metadata": {
            "tags": []
          },
          "execution_count": 429
        }
      ]
    },
    {
      "cell_type": "code",
      "metadata": {
        "id": "qBNLYO-XLeB0"
      },
      "source": [
        ""
      ],
      "id": "qBNLYO-XLeB0",
      "execution_count": null,
      "outputs": []
    },
    {
      "cell_type": "code",
      "metadata": {
        "id": "-Gqvezbvj2ul",
        "colab": {
          "base_uri": "https://localhost:8080/"
        },
        "outputId": "ae602b92-0088-42a8-e168-437696fa95c4"
      },
      "source": [
        "df[\"creturns\"].iloc[-1]"
      ],
      "id": "-Gqvezbvj2ul",
      "execution_count": null,
      "outputs": [
        {
          "output_type": "execute_result",
          "data": {
            "text/plain": [
              "0.012304199751778988"
            ]
          },
          "metadata": {
            "tags": []
          },
          "execution_count": 104
        }
      ]
    },
    {
      "cell_type": "code",
      "metadata": {
        "id": "MCM61tP2jxeZ",
        "colab": {
          "base_uri": "https://localhost:8080/"
        },
        "outputId": "723cb4bc-06f6-4d49-a19a-ee71ccaed8b2"
      },
      "source": [
        "perf"
      ],
      "id": "MCM61tP2jxeZ",
      "execution_count": null,
      "outputs": [
        {
          "output_type": "execute_result",
          "data": {
            "text/plain": [
              "6.32220009520673"
            ]
          },
          "metadata": {
            "tags": []
          },
          "execution_count": 101
        }
      ]
    },
    {
      "cell_type": "code",
      "metadata": {
        "id": "8-3lysYLaXN6"
      },
      "source": [
        ""
      ],
      "id": "8-3lysYLaXN6",
      "execution_count": null,
      "outputs": []
    }
  ]
}