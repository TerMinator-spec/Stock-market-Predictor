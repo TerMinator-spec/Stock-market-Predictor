{
  "nbformat": 4,
  "nbformat_minor": 5,
  "metadata": {
    "kernelspec": {
      "display_name": "Python 3",
      "language": "python",
      "name": "python3"
    },
    "language_info": {
      "codemirror_mode": {
        "name": "ipython",
        "version": 3
      },
      "file_extension": ".py",
      "mimetype": "text/x-python",
      "name": "python",
      "nbconvert_exporter": "python",
      "pygments_lexer": "ipython3",
      "version": "3.5.2"
    },
    "colab": {
      "name": "Copy of gpu_lstm.ipynb",
      "provenance": [],
      "include_colab_link": true
    },
    "accelerator": "TPU"
  },
  "cells": [
    {
      "cell_type": "markdown",
      "metadata": {
        "id": "view-in-github",
        "colab_type": "text"
      },
      "source": [
        "<a href=\"https://colab.research.google.com/github/TerMinator-spec/Stock-market-predictor/blob/master/Copy_of_gpu_lstm.ipynb\" target=\"_parent\"><img src=\"https://colab.research.google.com/assets/colab-badge.svg\" alt=\"Open In Colab\"/></a>"
      ]
    },
    {
      "cell_type": "code",
      "metadata": {
        "id": "br5byCgciJwi",
        "colab": {
          "base_uri": "https://localhost:8080/"
        },
        "outputId": "326a3ad4-5dd3-4400-cdd2-b2346323dc66"
      },
      "source": [
        "from google.colab import drive\r\n",
        "drive.mount('/content/gdrive')"
      ],
      "id": "br5byCgciJwi",
      "execution_count": null,
      "outputs": [
        {
          "output_type": "stream",
          "text": [
            "Mounted at /content/gdrive\n"
          ],
          "name": "stdout"
        }
      ]
    },
    {
      "cell_type": "code",
      "metadata": {
        "id": "NnLSZ7teiuJQ",
        "colab": {
          "base_uri": "https://localhost:8080/"
        },
        "outputId": "a5d8e4a3-7837-44f2-b910-41322940b05d"
      },
      "source": [
        "import os\r\n",
        "%cd /content/gdrive/My Drive"
      ],
      "id": "NnLSZ7teiuJQ",
      "execution_count": null,
      "outputs": [
        {
          "output_type": "stream",
          "text": [
            "/content/gdrive/My Drive\n"
          ],
          "name": "stdout"
        }
      ]
    },
    {
      "cell_type": "code",
      "metadata": {
        "id": "respected-belfast"
      },
      "source": [
        "from keras.models import Sequential\n",
        "from keras.layers import Dense, Dropout, Activation, Input, LSTM, Dense, merge, Flatten\n",
        "from keras.models import load_model\n",
        "from sklearn.preprocessing import MinMaxScaler\n",
        "from sklearn.metrics import mean_squared_error\n",
        "from sklearn.decomposition import PCA, KernelPCA\n",
        "import pandas as pd\n",
        "import numpy as np\n",
        "import matplotlib.pyplot as plt\n",
        "import seaborn as sns\n",
        "from pyti.exponential_moving_average import exponential_moving_average as ema\n",
        "from pyti.relative_strength_index import relative_strength_index as rsi\n",
        "from pyti.moving_average_convergence_divergence import moving_average_convergence_divergence as macd\n",
        "#Used TA-Lib for creating additional features. More on this later.\n",
        "# from talib.abstract import *\n",
        "# from talib import MA_Type"
      ],
      "id": "respected-belfast",
      "execution_count": null,
      "outputs": []
    },
    {
      "cell_type": "code",
      "metadata": {
        "id": "mature-sensitivity",
        "colab": {
          "base_uri": "https://localhost:8080/"
        },
        "outputId": "b381a527-556e-4099-87a5-327169f25cca"
      },
      "source": [
        "!pip install pyti"
      ],
      "id": "mature-sensitivity",
      "execution_count": null,
      "outputs": [
        {
          "output_type": "stream",
          "text": [
            "Collecting pyti\n",
            "  Downloading https://files.pythonhosted.org/packages/0f/9a/913e5bc3c3e812b490338fc9096b608cf0e19d1c3cd5b1c2b58b77b69b85/pyti-0.2.2-py2.py3-none-any.whl\n",
            "Requirement already satisfied: pandas in /usr/local/lib/python3.7/dist-packages (from pyti) (1.1.5)\n",
            "Requirement already satisfied: numpy in /usr/local/lib/python3.7/dist-packages (from pyti) (1.19.5)\n",
            "Requirement already satisfied: pytz>=2017.2 in /usr/local/lib/python3.7/dist-packages (from pandas->pyti) (2018.9)\n",
            "Requirement already satisfied: python-dateutil>=2.7.3 in /usr/local/lib/python3.7/dist-packages (from pandas->pyti) (2.8.1)\n",
            "Requirement already satisfied: six>=1.5 in /usr/local/lib/python3.7/dist-packages (from python-dateutil>=2.7.3->pandas->pyti) (1.15.0)\n",
            "Installing collected packages: pyti\n",
            "Successfully installed pyti-0.2.2\n"
          ],
          "name": "stdout"
        }
      ]
    },
    {
      "cell_type": "code",
      "metadata": {
        "id": "adolescent-swift",
        "outputId": "12d990a6-1a6a-47d6-cc4b-0996f9bd1634"
      },
      "source": [
        "# import tensorflow as tf\n",
        "# sess = tf.compat.v1.Session(config=tf.compat.v1.ConfigProto(log_device_placement=True))\n"
      ],
      "id": "adolescent-swift",
      "execution_count": null,
      "outputs": [
        {
          "output_type": "stream",
          "text": [
            "Device mapping:\n",
            "/job:localhost/replica:0/task:0/device:XLA_CPU:0 -> device: XLA_CPU device\n",
            "/job:localhost/replica:0/task:0/device:XLA_GPU:0 -> device: XLA_GPU device\n",
            "\n"
          ],
          "name": "stdout"
        }
      ]
    },
    {
      "cell_type": "code",
      "metadata": {
        "id": "static-terrain"
      },
      "source": [
        "def resample_stock_data(df, timedelta):\n",
        "    # make a copy\n",
        "        df = df.copy()\n",
        "\n",
        "        # convert index to datetime\n",
        "        df.index = pd.to_datetime(df.index)\n",
        "\n",
        "        # sort the index (evidently required by resample())\n",
        "        df = df.sort_index()\n",
        "\n",
        "        aggregation_dict = {\n",
        "             'open': 'first', \n",
        "             'high': 'max',\n",
        "             'low': 'min',\n",
        "             'close': 'last',\n",
        "\n",
        "        }\n",
        "\n",
        "        rename_dict = {\n",
        "            'open': 'open',\n",
        "            'high': 'high',\n",
        "            'low': 'low',\n",
        "            'close': 'close',\n",
        "\n",
        "        }\n",
        "\n",
        "\n",
        "        return (df\n",
        "          .resample(timedelta)\n",
        "          .agg(aggregation_dict)\n",
        "          .rename(columns=rename_dict)\n",
        "        )"
      ],
      "id": "static-terrain",
      "execution_count": null,
      "outputs": []
    },
    {
      "cell_type": "code",
      "metadata": {
        "id": "initial-corrections"
      },
      "source": [
        "import pandas as pd\n",
        "import numpy as np\n",
        "data=pd.read_csv('bankniftyoneminutefinal.csv')"
      ],
      "id": "initial-corrections",
      "execution_count": null,
      "outputs": []
    },
    {
      "cell_type": "code",
      "metadata": {
        "id": "ecological-turkey"
      },
      "source": [
        "data['date_time']=pd.to_datetime(data['date'] + ' ' + data['time'])"
      ],
      "id": "ecological-turkey",
      "execution_count": null,
      "outputs": []
    },
    {
      "cell_type": "code",
      "metadata": {
        "id": "demonstrated-feelings"
      },
      "source": [
        "data=data.drop('Unnamed: 6',axis=1)"
      ],
      "id": "demonstrated-feelings",
      "execution_count": null,
      "outputs": []
    },
    {
      "cell_type": "code",
      "metadata": {
        "id": "major-first"
      },
      "source": [
        "data=data.set_index('date_time')"
      ],
      "id": "major-first",
      "execution_count": null,
      "outputs": []
    },
    {
      "cell_type": "code",
      "metadata": {
        "id": "missing-warrior"
      },
      "source": [
        "data_10=resample_stock_data(data,'10min')"
      ],
      "id": "missing-warrior",
      "execution_count": null,
      "outputs": []
    },
    {
      "cell_type": "code",
      "metadata": {
        "id": "beneficial-grave"
      },
      "source": [
        "data_10=data_10.dropna()"
      ],
      "id": "beneficial-grave",
      "execution_count": null,
      "outputs": []
    },
    {
      "cell_type": "code",
      "metadata": {
        "id": "immune-labor",
        "colab": {
          "base_uri": "https://localhost:8080/",
          "height": 225
        },
        "outputId": "20f830c3-03e9-4483-d034-e5c92e178b37"
      },
      "source": [
        "data_10.head()"
      ],
      "id": "immune-labor",
      "execution_count": null,
      "outputs": [
        {
          "output_type": "execute_result",
          "data": {
            "text/html": [
              "<div>\n",
              "<style scoped>\n",
              "    .dataframe tbody tr th:only-of-type {\n",
              "        vertical-align: middle;\n",
              "    }\n",
              "\n",
              "    .dataframe tbody tr th {\n",
              "        vertical-align: top;\n",
              "    }\n",
              "\n",
              "    .dataframe thead th {\n",
              "        text-align: right;\n",
              "    }\n",
              "</style>\n",
              "<table border=\"1\" class=\"dataframe\">\n",
              "  <thead>\n",
              "    <tr style=\"text-align: right;\">\n",
              "      <th></th>\n",
              "      <th>open</th>\n",
              "      <th>high</th>\n",
              "      <th>low</th>\n",
              "      <th>close</th>\n",
              "    </tr>\n",
              "    <tr>\n",
              "      <th>date_time</th>\n",
              "      <th></th>\n",
              "      <th></th>\n",
              "      <th></th>\n",
              "      <th></th>\n",
              "    </tr>\n",
              "  </thead>\n",
              "  <tbody>\n",
              "    <tr>\n",
              "      <th>2015-01-09 09:10:00</th>\n",
              "      <td>18845.90</td>\n",
              "      <td>18864.00</td>\n",
              "      <td>18790.2</td>\n",
              "      <td>18849.25</td>\n",
              "    </tr>\n",
              "    <tr>\n",
              "      <th>2015-01-09 09:20:00</th>\n",
              "      <td>18849.25</td>\n",
              "      <td>18859.65</td>\n",
              "      <td>18799.4</td>\n",
              "      <td>18815.15</td>\n",
              "    </tr>\n",
              "    <tr>\n",
              "      <th>2015-01-09 09:30:00</th>\n",
              "      <td>18815.15</td>\n",
              "      <td>18821.40</td>\n",
              "      <td>18772.9</td>\n",
              "      <td>18800.05</td>\n",
              "    </tr>\n",
              "    <tr>\n",
              "      <th>2015-01-09 09:40:00</th>\n",
              "      <td>18800.05</td>\n",
              "      <td>18814.25</td>\n",
              "      <td>18758.5</td>\n",
              "      <td>18779.40</td>\n",
              "    </tr>\n",
              "    <tr>\n",
              "      <th>2015-01-09 09:50:00</th>\n",
              "      <td>18783.05</td>\n",
              "      <td>18808.30</td>\n",
              "      <td>18761.1</td>\n",
              "      <td>18802.90</td>\n",
              "    </tr>\n",
              "  </tbody>\n",
              "</table>\n",
              "</div>"
            ],
            "text/plain": [
              "                         open      high      low     close\n",
              "date_time                                                 \n",
              "2015-01-09 09:10:00  18845.90  18864.00  18790.2  18849.25\n",
              "2015-01-09 09:20:00  18849.25  18859.65  18799.4  18815.15\n",
              "2015-01-09 09:30:00  18815.15  18821.40  18772.9  18800.05\n",
              "2015-01-09 09:40:00  18800.05  18814.25  18758.5  18779.40\n",
              "2015-01-09 09:50:00  18783.05  18808.30  18761.1  18802.90"
            ]
          },
          "metadata": {
            "tags": []
          },
          "execution_count": 21
        }
      ]
    },
    {
      "cell_type": "code",
      "metadata": {
        "id": "close-exemption"
      },
      "source": [
        "DATA=data_10"
      ],
      "id": "close-exemption",
      "execution_count": null,
      "outputs": []
    },
    {
      "cell_type": "code",
      "metadata": {
        "id": "surrounded-worth",
        "colab": {
          "base_uri": "https://localhost:8080/"
        },
        "outputId": "013dab7e-589f-42b1-afa2-44d291a79af8"
      },
      "source": [
        "DATA['hour'] = DATA.index.hour\n",
        "DATA['day']  = DATA.index.weekday\n",
        "DATA['week'] = DATA.index.week\n",
        "\n",
        "DATA['close']  = pd.to_numeric(DATA['close'])\n",
        "DATA['open']   = pd.to_numeric(DATA['open'])\n",
        "\n",
        "DATA['avg_price']  = (DATA['low'] + DATA['high'])/2\n",
        "DATA['range']      = DATA['high'] - DATA['low']\n",
        "DATA['ohlc_price'] = (DATA['low'] + DATA['high'] + DATA['open'] + DATA['close'])/4\n",
        "DATA['oc_diff']      = DATA['open'] - DATA['close']\n",
        "DATA['RSI'] = rsi(DATA['close'],  14)\n",
        "DATA['MACD'] = macd(DATA['close'], 12, 26)\n",
        "\n",
        "# inputs = {\n",
        "#     'open'   : DATA['open'].values,\n",
        "#     'high'   : DATA['high'].values,\n",
        "#     'low'    : DATA['low'].values,\n",
        "#     'close'  : DATA['close'].values,\n",
        "    \n",
        "# }\n",
        "DATA['ema'] = ema(DATA[\"close\"], 15)\n",
        "#DATA['ema'] = MA(inputs, timeperiod=15, matype=MA_Type.T3)\n",
        "DATA['bear_power'] = DATA['low'] - DATA['ema']\n",
        "DATA['bull_power'] = DATA['high'] - DATA['ema']\n",
        "# Since computing EMA leave some of the rows empty, we want to remove them. (EMA is a lagging indicator)\n",
        "DATA.dropna(inplace=True)\n",
        "# Add 1D PCA vector as a feature as well. This helped increasing the accuracy by adding more variance to the feature set\n",
        "pca_input = DATA.drop('close',1).copy()\n",
        "pca_features = pca_input.columns.tolist()\n",
        "pca = PCA(n_components=1)\n",
        "DATA['pca'] = pca.fit_transform(pca_input.values.astype('float32'))"
      ],
      "id": "surrounded-worth",
      "execution_count": null,
      "outputs": [
        {
          "output_type": "stream",
          "text": [
            "/usr/local/lib/python3.7/dist-packages/ipykernel_launcher.py:3: FutureWarning: weekofyear and week have been deprecated, please use DatetimeIndex.isocalendar().week instead, which returns a Series.  To exactly reproduce the behavior of week and weekofyear and return an Index, you may call pd.Int64Index(idx.isocalendar().week)\n",
            "  This is separate from the ipykernel package so we can avoid doing imports until\n"
          ],
          "name": "stderr"
        }
      ]
    },
    {
      "cell_type": "code",
      "metadata": {
        "id": "dental-exhibit",
        "colab": {
          "base_uri": "https://localhost:8080/",
          "height": 309
        },
        "outputId": "3e6f5784-f1ed-4aec-a620-b1d07f691f85"
      },
      "source": [
        "DATA.head()"
      ],
      "id": "dental-exhibit",
      "execution_count": null,
      "outputs": [
        {
          "output_type": "execute_result",
          "data": {
            "text/html": [
              "<div>\n",
              "<style scoped>\n",
              "    .dataframe tbody tr th:only-of-type {\n",
              "        vertical-align: middle;\n",
              "    }\n",
              "\n",
              "    .dataframe tbody tr th {\n",
              "        vertical-align: top;\n",
              "    }\n",
              "\n",
              "    .dataframe thead th {\n",
              "        text-align: right;\n",
              "    }\n",
              "</style>\n",
              "<table border=\"1\" class=\"dataframe\">\n",
              "  <thead>\n",
              "    <tr style=\"text-align: right;\">\n",
              "      <th></th>\n",
              "      <th>open</th>\n",
              "      <th>high</th>\n",
              "      <th>low</th>\n",
              "      <th>close</th>\n",
              "      <th>hour</th>\n",
              "      <th>day</th>\n",
              "      <th>week</th>\n",
              "      <th>avg_price</th>\n",
              "      <th>range</th>\n",
              "      <th>ohlc_price</th>\n",
              "      <th>oc_diff</th>\n",
              "      <th>RSI</th>\n",
              "      <th>MACD</th>\n",
              "      <th>ema</th>\n",
              "      <th>bear_power</th>\n",
              "      <th>bull_power</th>\n",
              "      <th>pca</th>\n",
              "    </tr>\n",
              "    <tr>\n",
              "      <th>date_time</th>\n",
              "      <th></th>\n",
              "      <th></th>\n",
              "      <th></th>\n",
              "      <th></th>\n",
              "      <th></th>\n",
              "      <th></th>\n",
              "      <th></th>\n",
              "      <th></th>\n",
              "      <th></th>\n",
              "      <th></th>\n",
              "      <th></th>\n",
              "      <th></th>\n",
              "      <th></th>\n",
              "      <th></th>\n",
              "      <th></th>\n",
              "      <th></th>\n",
              "      <th></th>\n",
              "    </tr>\n",
              "  </thead>\n",
              "  <tbody>\n",
              "    <tr>\n",
              "      <th>2015-01-09 13:20:00</th>\n",
              "      <td>18597.30</td>\n",
              "      <td>18606.10</td>\n",
              "      <td>18570.30</td>\n",
              "      <td>18600.15</td>\n",
              "      <td>13</td>\n",
              "      <td>4</td>\n",
              "      <td>2</td>\n",
              "      <td>18588.200</td>\n",
              "      <td>35.80</td>\n",
              "      <td>18593.4625</td>\n",
              "      <td>-2.85</td>\n",
              "      <td>35.446717</td>\n",
              "      <td>-57.375399</td>\n",
              "      <td>18621.286213</td>\n",
              "      <td>-50.986213</td>\n",
              "      <td>-15.186213</td>\n",
              "      <td>-10850.140625</td>\n",
              "    </tr>\n",
              "    <tr>\n",
              "      <th>2015-01-09 13:30:00</th>\n",
              "      <td>18600.15</td>\n",
              "      <td>18605.85</td>\n",
              "      <td>18568.80</td>\n",
              "      <td>18588.25</td>\n",
              "      <td>13</td>\n",
              "      <td>4</td>\n",
              "      <td>2</td>\n",
              "      <td>18587.325</td>\n",
              "      <td>37.05</td>\n",
              "      <td>18590.7625</td>\n",
              "      <td>11.90</td>\n",
              "      <td>34.374929</td>\n",
              "      <td>-54.296261</td>\n",
              "      <td>18613.478461</td>\n",
              "      <td>-44.678461</td>\n",
              "      <td>-7.628461</td>\n",
              "      <td>-10854.420898</td>\n",
              "    </tr>\n",
              "    <tr>\n",
              "      <th>2015-01-09 13:40:00</th>\n",
              "      <td>18590.00</td>\n",
              "      <td>18597.50</td>\n",
              "      <td>18571.30</td>\n",
              "      <td>18582.35</td>\n",
              "      <td>13</td>\n",
              "      <td>4</td>\n",
              "      <td>2</td>\n",
              "      <td>18584.400</td>\n",
              "      <td>26.20</td>\n",
              "      <td>18585.2875</td>\n",
              "      <td>7.65</td>\n",
              "      <td>33.828783</td>\n",
              "      <td>-52.099189</td>\n",
              "      <td>18606.025190</td>\n",
              "      <td>-34.725190</td>\n",
              "      <td>-8.525190</td>\n",
              "      <td>-10867.429688</td>\n",
              "    </tr>\n",
              "    <tr>\n",
              "      <th>2015-01-09 13:50:00</th>\n",
              "      <td>18578.00</td>\n",
              "      <td>18592.00</td>\n",
              "      <td>18493.80</td>\n",
              "      <td>18519.10</td>\n",
              "      <td>13</td>\n",
              "      <td>4</td>\n",
              "      <td>2</td>\n",
              "      <td>18542.900</td>\n",
              "      <td>98.20</td>\n",
              "      <td>18545.7250</td>\n",
              "      <td>58.90</td>\n",
              "      <td>28.585470</td>\n",
              "      <td>-55.830937</td>\n",
              "      <td>18590.966579</td>\n",
              "      <td>-97.166579</td>\n",
              "      <td>1.033421</td>\n",
              "      <td>-10945.403320</td>\n",
              "    </tr>\n",
              "    <tr>\n",
              "      <th>2015-01-09 14:00:00</th>\n",
              "      <td>18519.10</td>\n",
              "      <td>18529.30</td>\n",
              "      <td>18479.65</td>\n",
              "      <td>18521.25</td>\n",
              "      <td>14</td>\n",
              "      <td>4</td>\n",
              "      <td>2</td>\n",
              "      <td>18504.475</td>\n",
              "      <td>49.65</td>\n",
              "      <td>18512.3250</td>\n",
              "      <td>-2.15</td>\n",
              "      <td>28.988383</td>\n",
              "      <td>-55.531696</td>\n",
              "      <td>18578.798979</td>\n",
              "      <td>-99.148979</td>\n",
              "      <td>-49.498979</td>\n",
              "      <td>-11035.163086</td>\n",
              "    </tr>\n",
              "  </tbody>\n",
              "</table>\n",
              "</div>"
            ],
            "text/plain": [
              "                         open      high  ...  bull_power           pca\n",
              "date_time                                ...                          \n",
              "2015-01-09 13:20:00  18597.30  18606.10  ...  -15.186213 -10850.140625\n",
              "2015-01-09 13:30:00  18600.15  18605.85  ...   -7.628461 -10854.420898\n",
              "2015-01-09 13:40:00  18590.00  18597.50  ...   -8.525190 -10867.429688\n",
              "2015-01-09 13:50:00  18578.00  18592.00  ...    1.033421 -10945.403320\n",
              "2015-01-09 14:00:00  18519.10  18529.30  ...  -49.498979 -11035.163086\n",
              "\n",
              "[5 rows x 17 columns]"
            ]
          },
          "metadata": {
            "tags": []
          },
          "execution_count": 24
        }
      ]
    },
    {
      "cell_type": "code",
      "metadata": {
        "id": "designing-contributor"
      },
      "source": [
        "dates=DATA.index"
      ],
      "id": "designing-contributor",
      "execution_count": null,
      "outputs": []
    },
    {
      "cell_type": "code",
      "metadata": {
        "id": "suspected-store",
        "colab": {
          "base_uri": "https://localhost:8080/"
        },
        "outputId": "d3e1f5c6-1921-41f8-a66f-3d656bfe5df1"
      },
      "source": [
        "dates"
      ],
      "id": "suspected-store",
      "execution_count": null,
      "outputs": [
        {
          "output_type": "execute_result",
          "data": {
            "text/plain": [
              "DatetimeIndex(['2015-01-09 13:20:00', '2015-01-09 13:30:00',\n",
              "               '2015-01-09 13:40:00', '2015-01-09 13:50:00',\n",
              "               '2015-01-09 14:00:00', '2015-01-09 14:10:00',\n",
              "               '2015-01-09 14:20:00', '2015-01-09 14:30:00',\n",
              "               '2015-01-09 14:40:00', '2015-01-09 14:50:00',\n",
              "               ...\n",
              "               '2020-11-27 13:50:00', '2020-11-27 14:00:00',\n",
              "               '2020-11-27 14:10:00', '2020-11-27 14:20:00',\n",
              "               '2020-11-27 14:30:00', '2020-11-27 14:40:00',\n",
              "               '2020-11-27 14:50:00', '2020-11-27 15:00:00',\n",
              "               '2020-11-27 15:10:00', '2020-11-27 15:20:00'],\n",
              "              dtype='datetime64[ns]', name='date_time', length=55075, freq=None)"
            ]
          },
          "metadata": {
            "tags": []
          },
          "execution_count": 23
        }
      ]
    },
    {
      "cell_type": "code",
      "metadata": {
        "id": "employed-interstate",
        "colab": {
          "base_uri": "https://localhost:8080/",
          "height": 385
        },
        "outputId": "594d0628-526e-4014-a10c-b427eb28440b"
      },
      "source": [
        "t = DATA[['close', 'bull_power', 'bear_power']].copy()\n",
        "t['pct_change'] = t['close'].pct_change()\n",
        "t.dropna(inplace=True)\n",
        "corr =  t.corr()\n",
        "mask = np.zeros_like(corr, dtype=np.bool)\n",
        "mask[np.triu_indices_from(mask)] = True\n",
        "f, ax = plt.subplots(figsize=(5, 5))\n",
        "cmap = sns.diverging_palette(220, 10, as_cmap=True)\n",
        "sns.heatmap(corr, mask=mask, cmap=cmap, ax=ax)"
      ],
      "id": "employed-interstate",
      "execution_count": null,
      "outputs": [
        {
          "output_type": "execute_result",
          "data": {
            "text/plain": [
              "<matplotlib.axes._subplots.AxesSubplot at 0x7f82951ea110>"
            ]
          },
          "metadata": {
            "tags": []
          },
          "execution_count": 42
        },
        {
          "output_type": "display_data",
          "data": {
            "image/png": "[encoded data removed]",
            "text/plain": [
              "<Figure size 360x360 with 2 Axes>"
            ]
          },
          "metadata": {
            "tags": [],
            "needs_background": "light"
          }
        }
      ]
    },
    {
      "cell_type": "code",
      "metadata": {
        "id": "substantial-haven"
      },
      "source": [
        "def create_dataset(dataset, look_back=10):\n",
        "    dataX, dataY = [], []\n",
        "    for i in range(len(dataset)-look_back-1):\n",
        "        a = dataset[i:(i+look_back)]\n",
        "        dataX.append(a)\n",
        "        dataY.append(dataset[i + look_back])\n",
        "    return np.array(dataX), np.array(dataY)"
      ],
      "id": "substantial-haven",
      "execution_count": null,
      "outputs": []
    },
    {
      "cell_type": "code",
      "metadata": {
        "id": "wicked-compiler"
      },
      "source": [
        "#TARGET     = 'USD_CAD'\n",
        "#granuality = 'H1'\n",
        "LOOK_BACK  = 20\n",
        "SPLIT      = 0.80     # data split ration for training and testing"
      ],
      "id": "wicked-compiler",
      "execution_count": null,
      "outputs": []
    },
    {
      "cell_type": "code",
      "metadata": {
        "id": "searching-privacy"
      },
      "source": [
        "# Create scalers\n",
        "scaler = MinMaxScaler()\n",
        "scaled = pd.DataFrame(scaler.fit_transform(DATA), columns=DATA.columns)\n",
        "x_scaler = MinMaxScaler(feature_range=(0, 1))\n",
        "x_scaler = x_scaler.fit(DATA.drop('high', axis=1).values.astype('float32'))\n",
        "y_scaler = MinMaxScaler(feature_range=(0, 1))\n",
        "y_scaler = y_scaler.fit(DATA['high'].values.astype('float32').reshape(-1,1))\n"
      ],
      "id": "searching-privacy",
      "execution_count": null,
      "outputs": []
    },
    {
      "cell_type": "code",
      "metadata": {
        "id": "agreed-smile",
        "outputId": "0f0cb5b9-ef57-4c45-b37e-73ce152f183f"
      },
      "source": [
        "y_scaler"
      ],
      "id": "agreed-smile",
      "execution_count": null,
      "outputs": [
        {
          "output_type": "execute_result",
          "data": {
            "text/plain": [
              "MinMaxScaler(copy=True, feature_range=(0, 1))"
            ]
          },
          "metadata": {
            "tags": []
          },
          "execution_count": 24
        }
      ]
    },
    {
      "cell_type": "code",
      "metadata": {
        "id": "sorted-raleigh",
        "outputId": "c4d8374b-3e10-470d-80f2-26410259e337"
      },
      "source": [
        "scaled.columns.tolist().index('high')"
      ],
      "id": "sorted-raleigh",
      "execution_count": null,
      "outputs": [
        {
          "output_type": "execute_result",
          "data": {
            "text/plain": [
              "2"
            ]
          },
          "metadata": {
            "tags": []
          },
          "execution_count": 25
        }
      ]
    },
    {
      "cell_type": "code",
      "metadata": {
        "id": "stainless-bruce"
      },
      "source": [
        "# Create dataset\n",
        "target_index = scaled.columns.tolist().index('high')\n",
        "dataset = scaled.values.astype('float32')\n",
        "X, y = create_dataset(dataset, look_back=LOOK_BACK)\n",
        "y = y[:,target_index]\n",
        "train_size = int(len(X) * SPLIT)\n",
        "trainX = X[:train_size]\n",
        "trainY = y[:train_size]\n",
        "testX = X[train_size:]\n",
        "testY = y[train_size:]"
      ],
      "id": "stainless-bruce",
      "execution_count": null,
      "outputs": []
    },
    {
      "cell_type": "code",
      "metadata": {
        "id": "peripheral-watershed",
        "colab": {
          "base_uri": "https://localhost:8080/"
        },
        "outputId": "1b2a8306-d999-49f6-ec69-c63ea1337652"
      },
      "source": [
        "testX.shape"
      ],
      "id": "peripheral-watershed",
      "execution_count": null,
      "outputs": [
        {
          "output_type": "execute_result",
          "data": {
            "text/plain": [
              "(11011, 20, 17)"
            ]
          },
          "metadata": {
            "tags": []
          },
          "execution_count": 76
        }
      ]
    },
    {
      "cell_type": "code",
      "metadata": {
        "id": "filled-correlation"
      },
      "source": [
        "model = Sequential()\n",
        "model.add(LSTM(20, input_shape=(X.shape[1], X.shape[2]), return_sequences=True))\n",
        "model.add(LSTM(20, return_sequences=True))\n",
        "#model.add(LSTM(10, return_sequences=True))\n",
        "model.add(Dropout(0.2))\n",
        "model.add(LSTM(10, return_sequences=False))\n",
        "model.add(Dense(4, kernel_initializer='random_uniform', activation='relu'))\n",
        "model.add(Dense(1, kernel_initializer='random_uniform', activation='relu'))"
      ],
      "id": "filled-correlation",
      "execution_count": null,
      "outputs": []
    },
    {
      "cell_type": "code",
      "metadata": {
        "id": "fitted-stylus"
      },
      "source": [
        "model = Sequential()\n",
        "model.add(LSTM(50, input_shape=(X.shape[1], X.shape[2]), return_sequences=True))\n",
        "model.add(LSTM(50, return_sequences=True))\n",
        "model.add(LSTM(30, return_sequences=True))\n",
        "model.add(Dropout(0.2))\n",
        "model.add(LSTM(10, return_sequences=False))\n",
        "model.add(Dense(4, kernel_initializer='random_uniform', activation='relu'))\n",
        "model.add(Dense(1, kernel_initializer='random_uniform', activation='relu'))"
      ],
      "id": "fitted-stylus",
      "execution_count": null,
      "outputs": []
    },
    {
      "cell_type": "code",
      "metadata": {
        "id": "drawn-sunglasses"
      },
      "source": [
        "from keras.callbacks import ModelCheckpoint\n",
        "from keras.callbacks import TensorBoard as tensorboard"
      ],
      "id": "drawn-sunglasses",
      "execution_count": null,
      "outputs": []
    },
    {
      "cell_type": "code",
      "metadata": {
        "id": "verified-appendix"
      },
      "source": [
        "model.compile(loss='mean_squared_error', optimizer='adam', metrics=['mae', 'mse'])"
      ],
      "id": "verified-appendix",
      "execution_count": null,
      "outputs": []
    },
    {
      "cell_type": "code",
      "metadata": {
        "id": "fiscal-first",
        "colab": {
          "base_uri": "https://localhost:8080/"
        },
        "outputId": "80244496-c815-4026-dbeb-3a765e819ff6"
      },
      "source": [
        "filepath=\"weights.best.hdf5\"\n",
        "checkpoint = ModelCheckpoint(filepath, monitor='val_mean_squared_error', verbose=1, save_best_only=True, mode='min')\n",
        "# Enable this line if you want to monitor the trianing progress via TensorBoard\n",
        "# tensorboard = TensorBoard(log_dir=\"logs/{}\".format(time()))\n",
        "callbacks_list = [checkpoint]\n",
        "history = model.fit(trainX, trainY, epochs=100, batch_size=500, callbacks=callbacks_list, validation_split=0.1)"
      ],
      "id": "fiscal-first",
      "execution_count": null,
      "outputs": [
        {
          "output_type": "stream",
          "text": [
            "Epoch 1/100\n",
            "80/80 [==============================] - 14s 99ms/step - loss: 0.2051 - mae: 0.3969 - mse: 0.2051 - val_loss: 0.2841 - val_mae: 0.5281 - val_mse: 0.2841\n",
            "WARNING:tensorflow:Can save best model only with val_mean_squared_error available, skipping.\n",
            "Epoch 2/100\n",
            "80/80 [==============================] - 7s 82ms/step - loss: 0.0491 - mae: 0.1961 - mse: 0.0491 - val_loss: 0.1794 - val_mae: 0.4173 - val_mse: 0.1794\n",
            "WARNING:tensorflow:Can save best model only with val_mean_squared_error available, skipping.\n",
            "Epoch 3/100\n",
            "80/80 [==============================] - 6s 80ms/step - loss: 0.0372 - mae: 0.1659 - mse: 0.0372 - val_loss: 0.0304 - val_mae: 0.1593 - val_mse: 0.0304\n",
            "WARNING:tensorflow:Can save best model only with val_mean_squared_error available, skipping.\n",
            "Epoch 4/100\n",
            "80/80 [==============================] - 6s 78ms/step - loss: 7.9765e-04 - mae: 0.0168 - mse: 7.9765e-04 - val_loss: 0.0132 - val_mae: 0.0953 - val_mse: 0.0132\n",
            "WARNING:tensorflow:Can save best model only with val_mean_squared_error available, skipping.\n",
            "Epoch 5/100\n",
            "80/80 [==============================] - 6s 80ms/step - loss: 3.2959e-04 - mae: 0.0111 - mse: 3.2959e-04 - val_loss: 0.0084 - val_mae: 0.0734 - val_mse: 0.0084\n",
            "WARNING:tensorflow:Can save best model only with val_mean_squared_error available, skipping.\n",
            "Epoch 6/100\n",
            "80/80 [==============================] - 6s 79ms/step - loss: 2.3101e-04 - mae: 0.0099 - mse: 2.3101e-04 - val_loss: 0.0055 - val_mae: 0.0578 - val_mse: 0.0055\n",
            "WARNING:tensorflow:Can save best model only with val_mean_squared_error available, skipping.\n",
            "Epoch 7/100\n",
            "80/80 [==============================] - 6s 78ms/step - loss: 1.6229e-04 - mae: 0.0088 - mse: 1.6229e-04 - val_loss: 0.0038 - val_mae: 0.0462 - val_mse: 0.0038\n",
            "WARNING:tensorflow:Can save best model only with val_mean_squared_error available, skipping.\n",
            "Epoch 8/100\n",
            "80/80 [==============================] - 6s 76ms/step - loss: 1.1662e-04 - mae: 0.0078 - mse: 1.1662e-04 - val_loss: 0.0026 - val_mae: 0.0380 - val_mse: 0.0026\n",
            "WARNING:tensorflow:Can save best model only with val_mean_squared_error available, skipping.\n",
            "Epoch 9/100\n",
            "80/80 [==============================] - 6s 76ms/step - loss: 9.1938e-05 - mae: 0.0071 - mse: 9.1938e-05 - val_loss: 0.0020 - val_mae: 0.0323 - val_mse: 0.0020\n",
            "WARNING:tensorflow:Can save best model only with val_mean_squared_error available, skipping.\n",
            "Epoch 10/100\n",
            "80/80 [==============================] - 6s 75ms/step - loss: 8.0069e-05 - mae: 0.0068 - mse: 8.0069e-05 - val_loss: 0.0016 - val_mae: 0.0288 - val_mse: 0.0016\n",
            "WARNING:tensorflow:Can save best model only with val_mean_squared_error available, skipping.\n",
            "Epoch 11/100\n",
            "80/80 [==============================] - 6s 75ms/step - loss: 6.8763e-05 - mae: 0.0063 - mse: 6.8763e-05 - val_loss: 0.0014 - val_mae: 0.0270 - val_mse: 0.0014\n",
            "WARNING:tensorflow:Can save best model only with val_mean_squared_error available, skipping.\n",
            "Epoch 12/100\n",
            "80/80 [==============================] - 6s 74ms/step - loss: 6.7176e-05 - mae: 0.0063 - mse: 6.7176e-05 - val_loss: 0.0012 - val_mae: 0.0250 - val_mse: 0.0012\n",
            "WARNING:tensorflow:Can save best model only with val_mean_squared_error available, skipping.\n",
            "Epoch 13/100\n",
            "80/80 [==============================] - 6s 76ms/step - loss: 5.8622e-05 - mae: 0.0058 - mse: 5.8622e-05 - val_loss: 0.0011 - val_mae: 0.0236 - val_mse: 0.0011\n",
            "WARNING:tensorflow:Can save best model only with val_mean_squared_error available, skipping.\n",
            "Epoch 14/100\n",
            "80/80 [==============================] - 6s 76ms/step - loss: 5.6084e-05 - mae: 0.0057 - mse: 5.6084e-05 - val_loss: 9.7723e-04 - val_mae: 0.0221 - val_mse: 9.7723e-04\n",
            "WARNING:tensorflow:Can save best model only with val_mean_squared_error available, skipping.\n",
            "Epoch 15/100\n",
            "80/80 [==============================] - 6s 78ms/step - loss: 5.4920e-05 - mae: 0.0057 - mse: 5.4920e-05 - val_loss: 9.2272e-04 - val_mae: 0.0218 - val_mse: 9.2272e-04\n",
            "WARNING:tensorflow:Can save best model only with val_mean_squared_error available, skipping.\n",
            "Epoch 16/100\n",
            "80/80 [==============================] - 6s 77ms/step - loss: 5.5608e-05 - mae: 0.0057 - mse: 5.5608e-05 - val_loss: 8.5990e-04 - val_mae: 0.0209 - val_mse: 8.5990e-04\n",
            "WARNING:tensorflow:Can save best model only with val_mean_squared_error available, skipping.\n",
            "Epoch 17/100\n",
            "80/80 [==============================] - 6s 79ms/step - loss: 4.9589e-05 - mae: 0.0053 - mse: 4.9589e-05 - val_loss: 8.1851e-04 - val_mae: 0.0207 - val_mse: 8.1851e-04\n",
            "WARNING:tensorflow:Can save best model only with val_mean_squared_error available, skipping.\n",
            "Epoch 18/100\n",
            "80/80 [==============================] - 6s 79ms/step - loss: 4.8898e-05 - mae: 0.0053 - mse: 4.8898e-05 - val_loss: 7.7326e-04 - val_mae: 0.0195 - val_mse: 7.7326e-04\n",
            "WARNING:tensorflow:Can save best model only with val_mean_squared_error available, skipping.\n",
            "Epoch 19/100\n",
            "80/80 [==============================] - 6s 79ms/step - loss: 4.6202e-05 - mae: 0.0052 - mse: 4.6202e-05 - val_loss: 7.4117e-04 - val_mae: 0.0196 - val_mse: 7.4117e-04\n",
            "WARNING:tensorflow:Can save best model only with val_mean_squared_error available, skipping.\n",
            "Epoch 20/100\n",
            "80/80 [==============================] - 7s 84ms/step - loss: 4.5154e-05 - mae: 0.0051 - mse: 4.5154e-05 - val_loss: 7.0581e-04 - val_mae: 0.0187 - val_mse: 7.0581e-04\n",
            "WARNING:tensorflow:Can save best model only with val_mean_squared_error available, skipping.\n",
            "Epoch 21/100\n",
            "80/80 [==============================] - 7s 81ms/step - loss: 4.6416e-05 - mae: 0.0052 - mse: 4.6416e-05 - val_loss: 6.7902e-04 - val_mae: 0.0180 - val_mse: 6.7902e-04\n",
            "WARNING:tensorflow:Can save best model only with val_mean_squared_error available, skipping.\n",
            "Epoch 22/100\n",
            "80/80 [==============================] - 6s 79ms/step - loss: 4.2141e-05 - mae: 0.0049 - mse: 4.2141e-05 - val_loss: 6.7647e-04 - val_mae: 0.0192 - val_mse: 6.7647e-04\n",
            "WARNING:tensorflow:Can save best model only with val_mean_squared_error available, skipping.\n",
            "Epoch 23/100\n",
            "80/80 [==============================] - 6s 79ms/step - loss: 4.9144e-05 - mae: 0.0054 - mse: 4.9144e-05 - val_loss: 6.4000e-04 - val_mae: 0.0178 - val_mse: 6.4000e-04\n",
            "WARNING:tensorflow:Can save best model only with val_mean_squared_error available, skipping.\n",
            "Epoch 24/100\n",
            "80/80 [==============================] - 6s 80ms/step - loss: 4.0280e-05 - mae: 0.0048 - mse: 4.0280e-05 - val_loss: 6.1294e-04 - val_mae: 0.0171 - val_mse: 6.1294e-04\n",
            "WARNING:tensorflow:Can save best model only with val_mean_squared_error available, skipping.\n",
            "Epoch 25/100\n",
            "80/80 [==============================] - 6s 78ms/step - loss: 3.9994e-05 - mae: 0.0048 - mse: 3.9994e-05 - val_loss: 5.9679e-04 - val_mae: 0.0169 - val_mse: 5.9679e-04\n",
            "WARNING:tensorflow:Can save best model only with val_mean_squared_error available, skipping.\n",
            "Epoch 26/100\n",
            "80/80 [==============================] - 6s 77ms/step - loss: 3.9195e-05 - mae: 0.0047 - mse: 3.9195e-05 - val_loss: 5.9059e-04 - val_mae: 0.0166 - val_mse: 5.9059e-04\n",
            "WARNING:tensorflow:Can save best model only with val_mean_squared_error available, skipping.\n",
            "Epoch 27/100\n",
            "80/80 [==============================] - 6s 77ms/step - loss: 3.6339e-05 - mae: 0.0045 - mse: 3.6339e-05 - val_loss: 5.6862e-04 - val_mae: 0.0160 - val_mse: 5.6862e-04\n",
            "WARNING:tensorflow:Can save best model only with val_mean_squared_error available, skipping.\n",
            "Epoch 28/100\n",
            "80/80 [==============================] - 6s 78ms/step - loss: 3.7289e-05 - mae: 0.0046 - mse: 3.7289e-05 - val_loss: 5.4986e-04 - val_mae: 0.0159 - val_mse: 5.4986e-04\n",
            "WARNING:tensorflow:Can save best model only with val_mean_squared_error available, skipping.\n",
            "Epoch 29/100\n",
            "80/80 [==============================] - 6s 77ms/step - loss: 3.6780e-05 - mae: 0.0046 - mse: 3.6780e-05 - val_loss: 5.3438e-04 - val_mae: 0.0157 - val_mse: 5.3438e-04\n",
            "WARNING:tensorflow:Can save best model only with val_mean_squared_error available, skipping.\n",
            "Epoch 30/100\n",
            "80/80 [==============================] - 6s 80ms/step - loss: 3.3861e-05 - mae: 0.0044 - mse: 3.3861e-05 - val_loss: 5.3646e-04 - val_mae: 0.0160 - val_mse: 5.3646e-04\n",
            "WARNING:tensorflow:Can save best model only with val_mean_squared_error available, skipping.\n",
            "Epoch 31/100\n",
            "80/80 [==============================] - 6s 79ms/step - loss: 3.5416e-05 - mae: 0.0045 - mse: 3.5416e-05 - val_loss: 5.2746e-04 - val_mae: 0.0157 - val_mse: 5.2746e-04\n",
            "WARNING:tensorflow:Can save best model only with val_mean_squared_error available, skipping.\n",
            "Epoch 32/100\n",
            "80/80 [==============================] - 7s 83ms/step - loss: 3.6495e-05 - mae: 0.0045 - mse: 3.6495e-05 - val_loss: 5.3444e-04 - val_mae: 0.0163 - val_mse: 5.3444e-04\n",
            "WARNING:tensorflow:Can save best model only with val_mean_squared_error available, skipping.\n",
            "Epoch 33/100\n",
            "80/80 [==============================] - 7s 84ms/step - loss: 3.3656e-05 - mae: 0.0044 - mse: 3.3656e-05 - val_loss: 5.1706e-04 - val_mae: 0.0157 - val_mse: 5.1706e-04\n",
            "WARNING:tensorflow:Can save best model only with val_mean_squared_error available, skipping.\n",
            "Epoch 34/100\n",
            "80/80 [==============================] - 6s 80ms/step - loss: 3.3479e-05 - mae: 0.0043 - mse: 3.3479e-05 - val_loss: 5.1632e-04 - val_mae: 0.0155 - val_mse: 5.1632e-04\n",
            "WARNING:tensorflow:Can save best model only with val_mean_squared_error available, skipping.\n",
            "Epoch 35/100\n",
            "80/80 [==============================] - 7s 85ms/step - loss: 3.5423e-05 - mae: 0.0045 - mse: 3.5423e-05 - val_loss: 4.9759e-04 - val_mae: 0.0152 - val_mse: 4.9759e-04\n",
            "WARNING:tensorflow:Can save best model only with val_mean_squared_error available, skipping.\n",
            "Epoch 36/100\n",
            "80/80 [==============================] - 7s 86ms/step - loss: 3.4467e-05 - mae: 0.0044 - mse: 3.4467e-05 - val_loss: 4.8933e-04 - val_mae: 0.0148 - val_mse: 4.8933e-04\n",
            "WARNING:tensorflow:Can save best model only with val_mean_squared_error available, skipping.\n",
            "Epoch 37/100\n",
            "80/80 [==============================] - 7s 83ms/step - loss: 3.5793e-05 - mae: 0.0046 - mse: 3.5793e-05 - val_loss: 4.9179e-04 - val_mae: 0.0153 - val_mse: 4.9179e-04\n",
            "WARNING:tensorflow:Can save best model only with val_mean_squared_error available, skipping.\n",
            "Epoch 38/100\n",
            "80/80 [==============================] - 7s 82ms/step - loss: 3.3735e-05 - mae: 0.0044 - mse: 3.3735e-05 - val_loss: 4.8592e-04 - val_mae: 0.0146 - val_mse: 4.8592e-04\n",
            "WARNING:tensorflow:Can save best model only with val_mean_squared_error available, skipping.\n",
            "Epoch 39/100\n",
            "80/80 [==============================] - 6s 80ms/step - loss: 3.2209e-05 - mae: 0.0043 - mse: 3.2209e-05 - val_loss: 5.0077e-04 - val_mae: 0.0160 - val_mse: 5.0077e-04\n",
            "WARNING:tensorflow:Can save best model only with val_mean_squared_error available, skipping.\n",
            "Epoch 40/100\n",
            "80/80 [==============================] - 6s 78ms/step - loss: 3.4064e-05 - mae: 0.0044 - mse: 3.4064e-05 - val_loss: 4.7723e-04 - val_mae: 0.0146 - val_mse: 4.7723e-04\n",
            "WARNING:tensorflow:Can save best model only with val_mean_squared_error available, skipping.\n",
            "Epoch 41/100\n",
            "80/80 [==============================] - 6s 78ms/step - loss: 2.8499e-05 - mae: 0.0040 - mse: 2.8499e-05 - val_loss: 4.6684e-04 - val_mae: 0.0146 - val_mse: 4.6684e-04\n",
            "WARNING:tensorflow:Can save best model only with val_mean_squared_error available, skipping.\n",
            "Epoch 42/100\n",
            "80/80 [==============================] - 6s 81ms/step - loss: 3.1228e-05 - mae: 0.0042 - mse: 3.1228e-05 - val_loss: 4.7322e-04 - val_mae: 0.0143 - val_mse: 4.7322e-04\n",
            "WARNING:tensorflow:Can save best model only with val_mean_squared_error available, skipping.\n",
            "Epoch 43/100\n",
            "80/80 [==============================] - 6s 80ms/step - loss: 2.8263e-05 - mae: 0.0040 - mse: 2.8263e-05 - val_loss: 4.6430e-04 - val_mae: 0.0143 - val_mse: 4.6430e-04\n",
            "WARNING:tensorflow:Can save best model only with val_mean_squared_error available, skipping.\n",
            "Epoch 44/100\n",
            "80/80 [==============================] - 6s 80ms/step - loss: 3.0327e-05 - mae: 0.0041 - mse: 3.0327e-05 - val_loss: 4.7102e-04 - val_mae: 0.0147 - val_mse: 4.7102e-04\n",
            "WARNING:tensorflow:Can save best model only with val_mean_squared_error available, skipping.\n",
            "Epoch 45/100\n",
            "80/80 [==============================] - 6s 79ms/step - loss: 2.9427e-05 - mae: 0.0041 - mse: 2.9427e-05 - val_loss: 4.5783e-04 - val_mae: 0.0144 - val_mse: 4.5783e-04\n",
            "WARNING:tensorflow:Can save best model only with val_mean_squared_error available, skipping.\n",
            "Epoch 46/100\n",
            "80/80 [==============================] - 6s 79ms/step - loss: 2.9909e-05 - mae: 0.0041 - mse: 2.9909e-05 - val_loss: 4.6239e-04 - val_mae: 0.0147 - val_mse: 4.6239e-04\n",
            "WARNING:tensorflow:Can save best model only with val_mean_squared_error available, skipping.\n",
            "Epoch 47/100\n",
            "80/80 [==============================] - 6s 77ms/step - loss: 3.1742e-05 - mae: 0.0042 - mse: 3.1742e-05 - val_loss: 4.6827e-04 - val_mae: 0.0146 - val_mse: 4.6827e-04\n",
            "WARNING:tensorflow:Can save best model only with val_mean_squared_error available, skipping.\n",
            "Epoch 48/100\n",
            "80/80 [==============================] - 6s 78ms/step - loss: 2.8427e-05 - mae: 0.0040 - mse: 2.8427e-05 - val_loss: 4.5464e-04 - val_mae: 0.0144 - val_mse: 4.5464e-04\n",
            "WARNING:tensorflow:Can save best model only with val_mean_squared_error available, skipping.\n",
            "Epoch 49/100\n",
            "80/80 [==============================] - 6s 78ms/step - loss: 2.7311e-05 - mae: 0.0039 - mse: 2.7311e-05 - val_loss: 4.5235e-04 - val_mae: 0.0140 - val_mse: 4.5235e-04\n",
            "WARNING:tensorflow:Can save best model only with val_mean_squared_error available, skipping.\n",
            "Epoch 50/100\n",
            "80/80 [==============================] - 6s 80ms/step - loss: 2.9481e-05 - mae: 0.0041 - mse: 2.9481e-05 - val_loss: 4.5277e-04 - val_mae: 0.0143 - val_mse: 4.5277e-04\n",
            "WARNING:tensorflow:Can save best model only with val_mean_squared_error available, skipping.\n",
            "Epoch 51/100\n",
            "80/80 [==============================] - 6s 80ms/step - loss: 2.6381e-05 - mae: 0.0038 - mse: 2.6381e-05 - val_loss: 4.5153e-04 - val_mae: 0.0141 - val_mse: 4.5153e-04\n",
            "WARNING:tensorflow:Can save best model only with val_mean_squared_error available, skipping.\n",
            "Epoch 52/100\n",
            "80/80 [==============================] - 6s 79ms/step - loss: 2.7728e-05 - mae: 0.0039 - mse: 2.7728e-05 - val_loss: 4.3449e-04 - val_mae: 0.0137 - val_mse: 4.3449e-04\n",
            "WARNING:tensorflow:Can save best model only with val_mean_squared_error available, skipping.\n",
            "Epoch 53/100\n",
            "80/80 [==============================] - 6s 79ms/step - loss: 2.5498e-05 - mae: 0.0038 - mse: 2.5498e-05 - val_loss: 4.4502e-04 - val_mae: 0.0144 - val_mse: 4.4502e-04\n",
            "WARNING:tensorflow:Can save best model only with val_mean_squared_error available, skipping.\n",
            "Epoch 54/100\n",
            "80/80 [==============================] - 6s 80ms/step - loss: 2.7042e-05 - mae: 0.0039 - mse: 2.7042e-05 - val_loss: 4.3348e-04 - val_mae: 0.0137 - val_mse: 4.3348e-04\n",
            "WARNING:tensorflow:Can save best model only with val_mean_squared_error available, skipping.\n",
            "Epoch 55/100\n",
            "80/80 [==============================] - 6s 81ms/step - loss: 2.6310e-05 - mae: 0.0038 - mse: 2.6310e-05 - val_loss: 4.3271e-04 - val_mae: 0.0138 - val_mse: 4.3271e-04\n",
            "WARNING:tensorflow:Can save best model only with val_mean_squared_error available, skipping.\n",
            "Epoch 56/100\n",
            "80/80 [==============================] - 6s 81ms/step - loss: 2.7139e-05 - mae: 0.0039 - mse: 2.7139e-05 - val_loss: 4.5349e-04 - val_mae: 0.0145 - val_mse: 4.5349e-04\n",
            "WARNING:tensorflow:Can save best model only with val_mean_squared_error available, skipping.\n",
            "Epoch 57/100\n",
            "80/80 [==============================] - 6s 80ms/step - loss: 2.7588e-05 - mae: 0.0039 - mse: 2.7588e-05 - val_loss: 4.4508e-04 - val_mae: 0.0145 - val_mse: 4.4508e-04\n",
            "WARNING:tensorflow:Can save best model only with val_mean_squared_error available, skipping.\n",
            "Epoch 58/100\n",
            "80/80 [==============================] - 7s 82ms/step - loss: 2.9001e-05 - mae: 0.0041 - mse: 2.9001e-05 - val_loss: 4.4823e-04 - val_mae: 0.0150 - val_mse: 4.4823e-04\n",
            "WARNING:tensorflow:Can save best model only with val_mean_squared_error available, skipping.\n",
            "Epoch 59/100\n",
            "80/80 [==============================] - 7s 82ms/step - loss: 2.6791e-05 - mae: 0.0039 - mse: 2.6791e-05 - val_loss: 4.3421e-04 - val_mae: 0.0142 - val_mse: 4.3421e-04\n",
            "WARNING:tensorflow:Can save best model only with val_mean_squared_error available, skipping.\n",
            "Epoch 60/100\n",
            "80/80 [==============================] - 7s 82ms/step - loss: 2.6949e-05 - mae: 0.0039 - mse: 2.6949e-05 - val_loss: 4.3690e-04 - val_mae: 0.0139 - val_mse: 4.3690e-04\n",
            "WARNING:tensorflow:Can save best model only with val_mean_squared_error available, skipping.\n",
            "Epoch 61/100\n",
            "80/80 [==============================] - 7s 82ms/step - loss: 2.5172e-05 - mae: 0.0038 - mse: 2.5172e-05 - val_loss: 4.3586e-04 - val_mae: 0.0137 - val_mse: 4.3586e-04\n",
            "WARNING:tensorflow:Can save best model only with val_mean_squared_error available, skipping.\n",
            "Epoch 62/100\n",
            "80/80 [==============================] - 6s 81ms/step - loss: 2.3300e-05 - mae: 0.0036 - mse: 2.3300e-05 - val_loss: 4.2000e-04 - val_mae: 0.0133 - val_mse: 4.2000e-04\n",
            "WARNING:tensorflow:Can save best model only with val_mean_squared_error available, skipping.\n",
            "Epoch 63/100\n",
            "80/80 [==============================] - 6s 79ms/step - loss: 2.6055e-05 - mae: 0.0038 - mse: 2.6055e-05 - val_loss: 4.2587e-04 - val_mae: 0.0138 - val_mse: 4.2587e-04\n",
            "WARNING:tensorflow:Can save best model only with val_mean_squared_error available, skipping.\n",
            "Epoch 64/100\n",
            "80/80 [==============================] - 7s 83ms/step - loss: 2.3265e-05 - mae: 0.0036 - mse: 2.3265e-05 - val_loss: 4.0222e-04 - val_mae: 0.0131 - val_mse: 4.0222e-04\n",
            "WARNING:tensorflow:Can save best model only with val_mean_squared_error available, skipping.\n",
            "Epoch 65/100\n",
            "80/80 [==============================] - 7s 84ms/step - loss: 2.3128e-05 - mae: 0.0036 - mse: 2.3128e-05 - val_loss: 4.1218e-04 - val_mae: 0.0130 - val_mse: 4.1218e-04\n",
            "WARNING:tensorflow:Can save best model only with val_mean_squared_error available, skipping.\n",
            "Epoch 66/100\n",
            "80/80 [==============================] - 7s 82ms/step - loss: 2.3627e-05 - mae: 0.0036 - mse: 2.3627e-05 - val_loss: 4.1223e-04 - val_mae: 0.0132 - val_mse: 4.1223e-04\n",
            "WARNING:tensorflow:Can save best model only with val_mean_squared_error available, skipping.\n",
            "Epoch 67/100\n",
            "80/80 [==============================] - 6s 80ms/step - loss: 2.2694e-05 - mae: 0.0035 - mse: 2.2694e-05 - val_loss: 4.2797e-04 - val_mae: 0.0134 - val_mse: 4.2797e-04\n",
            "WARNING:tensorflow:Can save best model only with val_mean_squared_error available, skipping.\n",
            "Epoch 68/100\n",
            "80/80 [==============================] - 6s 78ms/step - loss: 2.3524e-05 - mae: 0.0036 - mse: 2.3524e-05 - val_loss: 4.2050e-04 - val_mae: 0.0140 - val_mse: 4.2050e-04\n",
            "WARNING:tensorflow:Can save best model only with val_mean_squared_error available, skipping.\n",
            "Epoch 69/100\n",
            "80/80 [==============================] - 7s 81ms/step - loss: 2.3050e-05 - mae: 0.0036 - mse: 2.3050e-05 - val_loss: 4.1566e-04 - val_mae: 0.0133 - val_mse: 4.1566e-04\n",
            "WARNING:tensorflow:Can save best model only with val_mean_squared_error available, skipping.\n",
            "Epoch 70/100\n",
            "80/80 [==============================] - 6s 79ms/step - loss: 2.4731e-05 - mae: 0.0037 - mse: 2.4731e-05 - val_loss: 3.9026e-04 - val_mae: 0.0128 - val_mse: 3.9026e-04\n",
            "WARNING:tensorflow:Can save best model only with val_mean_squared_error available, skipping.\n",
            "Epoch 71/100\n",
            "80/80 [==============================] - 6s 79ms/step - loss: 2.1539e-05 - mae: 0.0035 - mse: 2.1539e-05 - val_loss: 4.1602e-04 - val_mae: 0.0142 - val_mse: 4.1602e-04\n",
            "WARNING:tensorflow:Can save best model only with val_mean_squared_error available, skipping.\n",
            "Epoch 72/100\n",
            "80/80 [==============================] - 6s 81ms/step - loss: 2.5554e-05 - mae: 0.0038 - mse: 2.5554e-05 - val_loss: 4.3079e-04 - val_mae: 0.0133 - val_mse: 4.3079e-04\n",
            "WARNING:tensorflow:Can save best model only with val_mean_squared_error available, skipping.\n",
            "Epoch 73/100\n",
            "80/80 [==============================] - 7s 82ms/step - loss: 2.2167e-05 - mae: 0.0035 - mse: 2.2167e-05 - val_loss: 4.2127e-04 - val_mae: 0.0142 - val_mse: 4.2127e-04\n",
            "WARNING:tensorflow:Can save best model only with val_mean_squared_error available, skipping.\n",
            "Epoch 74/100\n",
            "80/80 [==============================] - 6s 81ms/step - loss: 2.0684e-05 - mae: 0.0034 - mse: 2.0684e-05 - val_loss: 3.9247e-04 - val_mae: 0.0126 - val_mse: 3.9247e-04\n",
            "WARNING:tensorflow:Can save best model only with val_mean_squared_error available, skipping.\n",
            "Epoch 75/100\n",
            "80/80 [==============================] - 6s 79ms/step - loss: 2.1709e-05 - mae: 0.0035 - mse: 2.1709e-05 - val_loss: 3.9036e-04 - val_mae: 0.0134 - val_mse: 3.9036e-04\n",
            "WARNING:tensorflow:Can save best model only with val_mean_squared_error available, skipping.\n",
            "Epoch 76/100\n",
            "80/80 [==============================] - 6s 80ms/step - loss: 2.1319e-05 - mae: 0.0034 - mse: 2.1319e-05 - val_loss: 3.9970e-04 - val_mae: 0.0137 - val_mse: 3.9970e-04\n",
            "WARNING:tensorflow:Can save best model only with val_mean_squared_error available, skipping.\n",
            "Epoch 77/100\n",
            "80/80 [==============================] - 6s 77ms/step - loss: 1.9918e-05 - mae: 0.0033 - mse: 1.9918e-05 - val_loss: 4.2048e-04 - val_mae: 0.0138 - val_mse: 4.2048e-04\n",
            "WARNING:tensorflow:Can save best model only with val_mean_squared_error available, skipping.\n",
            "Epoch 78/100\n",
            "80/80 [==============================] - 6s 79ms/step - loss: 2.2799e-05 - mae: 0.0036 - mse: 2.2799e-05 - val_loss: 3.8981e-04 - val_mae: 0.0134 - val_mse: 3.8981e-04\n",
            "WARNING:tensorflow:Can save best model only with val_mean_squared_error available, skipping.\n",
            "Epoch 79/100\n",
            "80/80 [==============================] - 6s 80ms/step - loss: 2.3886e-05 - mae: 0.0037 - mse: 2.3886e-05 - val_loss: 3.8817e-04 - val_mae: 0.0127 - val_mse: 3.8817e-04\n",
            "WARNING:tensorflow:Can save best model only with val_mean_squared_error available, skipping.\n",
            "Epoch 80/100\n",
            "80/80 [==============================] - 7s 89ms/step - loss: 1.9275e-05 - mae: 0.0032 - mse: 1.9275e-05 - val_loss: 4.0475e-04 - val_mae: 0.0133 - val_mse: 4.0475e-04\n",
            "WARNING:tensorflow:Can save best model only with val_mean_squared_error available, skipping.\n",
            "Epoch 81/100\n",
            "80/80 [==============================] - 6s 80ms/step - loss: 2.2698e-05 - mae: 0.0036 - mse: 2.2698e-05 - val_loss: 3.8826e-04 - val_mae: 0.0129 - val_mse: 3.8826e-04\n",
            "WARNING:tensorflow:Can save best model only with val_mean_squared_error available, skipping.\n",
            "Epoch 82/100\n",
            "80/80 [==============================] - 7s 81ms/step - loss: 1.9588e-05 - mae: 0.0033 - mse: 1.9588e-05 - val_loss: 3.7553e-04 - val_mae: 0.0122 - val_mse: 3.7553e-04\n",
            "WARNING:tensorflow:Can save best model only with val_mean_squared_error available, skipping.\n",
            "Epoch 83/100\n",
            "80/80 [==============================] - 6s 81ms/step - loss: 1.8414e-05 - mae: 0.0032 - mse: 1.8414e-05 - val_loss: 3.9431e-04 - val_mae: 0.0127 - val_mse: 3.9431e-04\n",
            "WARNING:tensorflow:Can save best model only with val_mean_squared_error available, skipping.\n",
            "Epoch 84/100\n",
            "80/80 [==============================] - 6s 81ms/step - loss: 1.8836e-05 - mae: 0.0032 - mse: 1.8836e-05 - val_loss: 3.7196e-04 - val_mae: 0.0128 - val_mse: 3.7196e-04\n",
            "WARNING:tensorflow:Can save best model only with val_mean_squared_error available, skipping.\n",
            "Epoch 85/100\n",
            "80/80 [==============================] - 7s 81ms/step - loss: 1.9438e-05 - mae: 0.0033 - mse: 1.9438e-05 - val_loss: 3.7087e-04 - val_mae: 0.0124 - val_mse: 3.7087e-04\n",
            "WARNING:tensorflow:Can save best model only with val_mean_squared_error available, skipping.\n",
            "Epoch 86/100\n",
            "80/80 [==============================] - 7s 83ms/step - loss: 2.2889e-05 - mae: 0.0037 - mse: 2.2889e-05 - val_loss: 3.9531e-04 - val_mae: 0.0135 - val_mse: 3.9531e-04\n",
            "WARNING:tensorflow:Can save best model only with val_mean_squared_error available, skipping.\n",
            "Epoch 87/100\n",
            "80/80 [==============================] - 7s 83ms/step - loss: 1.9964e-05 - mae: 0.0033 - mse: 1.9964e-05 - val_loss: 3.8089e-04 - val_mae: 0.0129 - val_mse: 3.8089e-04\n",
            "WARNING:tensorflow:Can save best model only with val_mean_squared_error available, skipping.\n",
            "Epoch 88/100\n",
            "80/80 [==============================] - 7s 83ms/step - loss: 2.1214e-05 - mae: 0.0035 - mse: 2.1214e-05 - val_loss: 3.7842e-04 - val_mae: 0.0125 - val_mse: 3.7842e-04\n",
            "WARNING:tensorflow:Can save best model only with val_mean_squared_error available, skipping.\n",
            "Epoch 89/100\n",
            "80/80 [==============================] - 7s 82ms/step - loss: 1.7607e-05 - mae: 0.0031 - mse: 1.7607e-05 - val_loss: 3.6026e-04 - val_mae: 0.0120 - val_mse: 3.6026e-04\n",
            "WARNING:tensorflow:Can save best model only with val_mean_squared_error available, skipping.\n",
            "Epoch 90/100\n",
            "80/80 [==============================] - 7s 83ms/step - loss: 1.7906e-05 - mae: 0.0031 - mse: 1.7906e-05 - val_loss: 3.7103e-04 - val_mae: 0.0123 - val_mse: 3.7103e-04\n",
            "WARNING:tensorflow:Can save best model only with val_mean_squared_error available, skipping.\n",
            "Epoch 91/100\n",
            "80/80 [==============================] - 7s 85ms/step - loss: 2.0178e-05 - mae: 0.0034 - mse: 2.0178e-05 - val_loss: 3.7003e-04 - val_mae: 0.0125 - val_mse: 3.7003e-04\n",
            "WARNING:tensorflow:Can save best model only with val_mean_squared_error available, skipping.\n",
            "Epoch 92/100\n",
            "80/80 [==============================] - 7s 84ms/step - loss: 1.9465e-05 - mae: 0.0033 - mse: 1.9465e-05 - val_loss: 3.6642e-04 - val_mae: 0.0134 - val_mse: 3.6642e-04\n",
            "WARNING:tensorflow:Can save best model only with val_mean_squared_error available, skipping.\n",
            "Epoch 93/100\n",
            "80/80 [==============================] - 7s 83ms/step - loss: 2.1854e-05 - mae: 0.0035 - mse: 2.1854e-05 - val_loss: 3.5845e-04 - val_mae: 0.0120 - val_mse: 3.5845e-04\n",
            "WARNING:tensorflow:Can save best model only with val_mean_squared_error available, skipping.\n",
            "Epoch 94/100\n",
            "80/80 [==============================] - 7s 89ms/step - loss: 1.8951e-05 - mae: 0.0033 - mse: 1.8951e-05 - val_loss: 3.8242e-04 - val_mae: 0.0121 - val_mse: 3.8242e-04\n",
            "WARNING:tensorflow:Can save best model only with val_mean_squared_error available, skipping.\n",
            "Epoch 95/100\n",
            "80/80 [==============================] - 7s 82ms/step - loss: 2.1541e-05 - mae: 0.0035 - mse: 2.1541e-05 - val_loss: 3.7449e-04 - val_mae: 0.0123 - val_mse: 3.7449e-04\n",
            "WARNING:tensorflow:Can save best model only with val_mean_squared_error available, skipping.\n",
            "Epoch 96/100\n",
            "80/80 [==============================] - 6s 81ms/step - loss: 1.7220e-05 - mae: 0.0031 - mse: 1.7220e-05 - val_loss: 3.7701e-04 - val_mae: 0.0128 - val_mse: 3.7701e-04\n",
            "WARNING:tensorflow:Can save best model only with val_mean_squared_error available, skipping.\n",
            "Epoch 97/100\n",
            "80/80 [==============================] - 7s 84ms/step - loss: 1.6441e-05 - mae: 0.0030 - mse: 1.6441e-05 - val_loss: 3.6120e-04 - val_mae: 0.0133 - val_mse: 3.6120e-04\n",
            "WARNING:tensorflow:Can save best model only with val_mean_squared_error available, skipping.\n",
            "Epoch 98/100\n",
            "80/80 [==============================] - 7s 82ms/step - loss: 1.7049e-05 - mae: 0.0031 - mse: 1.7049e-05 - val_loss: 3.6160e-04 - val_mae: 0.0120 - val_mse: 3.6160e-04\n",
            "WARNING:tensorflow:Can save best model only with val_mean_squared_error available, skipping.\n",
            "Epoch 99/100\n",
            "80/80 [==============================] - 6s 79ms/step - loss: 1.7594e-05 - mae: 0.0031 - mse: 1.7594e-05 - val_loss: 3.6230e-04 - val_mae: 0.0121 - val_mse: 3.6230e-04\n",
            "WARNING:tensorflow:Can save best model only with val_mean_squared_error available, skipping.\n",
            "Epoch 100/100\n",
            "80/80 [==============================] - 6s 78ms/step - loss: 2.1536e-05 - mae: 0.0035 - mse: 2.1536e-05 - val_loss: 3.5411e-04 - val_mae: 0.0124 - val_mse: 3.5411e-04\n",
            "WARNING:tensorflow:Can save best model only with val_mean_squared_error available, skipping.\n"
          ],
          "name": "stdout"
        }
      ]
    },
    {
      "cell_type": "code",
      "metadata": {
        "id": "fantastic-switzerland",
        "colab": {
          "base_uri": "https://localhost:8080/",
          "height": 295
        },
        "outputId": "2ce103ee-12ef-42cf-ce04-ffe5e7960d4e"
      },
      "source": [
        "loss_train = history.history['loss']\n",
        "loss_val = history.history['val_loss']\n",
        "epochs = range(1,101)\n",
        "plt.plot(epochs, loss_train, 'g', label='Training loss')\n",
        "plt.plot(epochs, loss_val, 'b', label='validation loss')\n",
        "plt.title('Training and Validation loss')\n",
        "plt.xlabel('Epochs')\n",
        "plt.ylabel('Loss')\n",
        "plt.legend()\n",
        "plt.show()"
      ],
      "id": "fantastic-switzerland",
      "execution_count": null,
      "outputs": [
        {
          "output_type": "display_data",
          "data": {
            "image/png": "[encoded data removed]",
            "text/plain": [
              "<Figure size 432x288 with 1 Axes>"
            ]
          },
          "metadata": {
            "tags": [],
            "needs_background": "light"
          }
        }
      ]
    },
    {
      "cell_type": "code",
      "metadata": {
        "id": "working-synthetic",
        "outputId": "a7203602-7083-44fc-8994-b292b6168602"
      },
      "source": [
        "from keras.callbacks import LearningRateScheduler\n",
        "import keras.backend as K\n",
        "\n",
        "def scheduler(epoch):\n",
        "    if epoch%10==0 and epoch!=0:\n",
        "        lr = K.get_value(model.optimizer.lr)\n",
        "        K.set_value(model.optimizer.lr, lr*.9)\n",
        "        print(\"lr changed to {}\".format(lr*.9))\n",
        "    return K.get_value(model.optimizer.lr)\n",
        "lr_decay = LearningRateScheduler(scheduler)\n",
        "callbacks_list = [checkpoint, lr_decay]\n",
        "history = model.fit(trainX, trainY, epochs=100, batch_size=500, callbacks=callbacks_list, validation_split=0.1)"
      ],
      "id": "working-synthetic",
      "execution_count": null,
      "outputs": [
        {
          "output_type": "stream",
          "text": [
            "Epoch 1/100\n",
            "89/90 [============================>.] - ETA: 0s - mae: 0.3450 - loss: 0.1742 - mse: 0.1742WARNING:tensorflow:Can save best model only with val_mean_squared_error available, skipping.\n",
            "90/90 [==============================] - 8s 88ms/step - mae: 0.3448 - loss: 0.1740 - mse: 0.1740 - val_loss: 0.2023 - val_mse: 0.2023 - val_mae: 0.4055\n",
            "Epoch 2/100\n",
            "89/90 [============================>.] - ETA: 0s - mae: 0.2190 - loss: 0.0587 - mse: 0.0587WARNING:tensorflow:Can save best model only with val_mean_squared_error available, skipping.\n",
            "90/90 [==============================] - 7s 81ms/step - mae: 0.2190 - loss: 0.0587 - mse: 0.0587 - val_loss: 0.1557 - val_mse: 0.1557 - val_mae: 0.3670\n",
            "Epoch 3/100\n",
            "89/90 [============================>.] - ETA: 0s - mae: 0.2189 - loss: 0.0583 - mse: 0.0583WARNING:tensorflow:Can save best model only with val_mean_squared_error available, skipping.\n",
            "90/90 [==============================] - 8s 84ms/step - mae: 0.2189 - loss: 0.0583 - mse: 0.0583 - val_loss: 0.1534 - val_mse: 0.1534 - val_mae: 0.3649\n",
            "Epoch 4/100\n",
            "89/90 [============================>.] - ETA: 0s - mae: 0.2189 - loss: 0.0583 - mse: 0.0583WARNING:tensorflow:Can save best model only with val_mean_squared_error available, skipping.\n",
            "90/90 [==============================] - 8s 84ms/step - mae: 0.2189 - loss: 0.0583 - mse: 0.0583 - val_loss: 0.1541 - val_mse: 0.1541 - val_mae: 0.3655\n",
            "Epoch 5/100\n",
            "89/90 [============================>.] - ETA: 0s - mae: 0.0837 - loss: 0.0174 - mse: 0.0174WARNING:tensorflow:Can save best model only with val_mean_squared_error available, skipping.\n",
            "90/90 [==============================] - 7s 78ms/step - mae: 0.0836 - loss: 0.0174 - mse: 0.0174 - val_loss: 0.0108 - val_mse: 0.0108 - val_mae: 0.0896\n",
            "Epoch 6/100\n",
            "89/90 [============================>.] - ETA: 0s - mae: 0.0139 - loss: 4.4015e-04 - mse: 4.4015e-04WARNING:tensorflow:Can save best model only with val_mean_squared_error available, skipping.\n",
            "90/90 [==============================] - 7s 77ms/step - mae: 0.0139 - loss: 4.3998e-04 - mse: 4.3998e-04 - val_loss: 0.0035 - val_mse: 0.0035 - val_mae: 0.0481\n",
            "Epoch 7/100\n",
            "89/90 [============================>.] - ETA: 0s - mae: 0.0115 - loss: 2.6604e-04 - mse: 2.6604e-04WARNING:tensorflow:Can save best model only with val_mean_squared_error available, skipping.\n",
            "90/90 [==============================] - 7s 77ms/step - mae: 0.0115 - loss: 2.6585e-04 - mse: 2.6585e-04 - val_loss: 0.0021 - val_mse: 0.0021 - val_mae: 0.0360\n",
            "Epoch 8/100\n",
            "89/90 [============================>.] - ETA: 0s - mae: 0.0104 - loss: 2.2186e-04 - mse: 2.2186e-04WARNING:tensorflow:Can save best model only with val_mean_squared_error available, skipping.\n",
            "90/90 [==============================] - 7s 79ms/step - mae: 0.0104 - loss: 2.2191e-04 - mse: 2.2191e-04 - val_loss: 0.0016 - val_mse: 0.0016 - val_mae: 0.0303\n",
            "Epoch 9/100\n",
            "89/90 [============================>.] - ETA: 0s - mae: 0.0099 - loss: 2.0038e-04 - mse: 2.0038e-04WARNING:tensorflow:Can save best model only with val_mean_squared_error available, skipping.\n",
            "90/90 [==============================] - 7s 77ms/step - mae: 0.0099 - loss: 2.0038e-04 - mse: 2.0038e-04 - val_loss: 0.0013 - val_mse: 0.0013 - val_mae: 0.0271\n",
            "Epoch 10/100\n",
            "89/90 [============================>.] - ETA: 0s - mae: 0.0091 - loss: 1.7741e-04 - mse: 1.7741e-04WARNING:tensorflow:Can save best model only with val_mean_squared_error available, skipping.\n",
            "90/90 [==============================] - 7s 78ms/step - mae: 0.0091 - loss: 1.7740e-04 - mse: 1.7740e-04 - val_loss: 0.0011 - val_mse: 0.0011 - val_mae: 0.0248\n",
            "lr changed to 0.0009000000427477062\n",
            "Epoch 11/100\n",
            "89/90 [============================>.] - ETA: 0s - mae: 0.0087 - loss: 1.6333e-04 - mse: 1.6333e-04WARNING:tensorflow:Can save best model only with val_mean_squared_error available, skipping.\n",
            "90/90 [==============================] - 7s 78ms/step - mae: 0.0087 - loss: 1.6346e-04 - mse: 1.6346e-04 - val_loss: 9.4287e-04 - val_mse: 9.4287e-04 - val_mae: 0.0230\n",
            "Epoch 12/100\n",
            "89/90 [============================>.] - ETA: 0s - mae: 0.0085 - loss: 1.5656e-04 - mse: 1.5656e-04WARNING:tensorflow:Can save best model only with val_mean_squared_error available, skipping.\n",
            "90/90 [==============================] - 7s 78ms/step - mae: 0.0085 - loss: 1.5670e-04 - mse: 1.5670e-04 - val_loss: 8.6126e-04 - val_mse: 8.6126e-04 - val_mae: 0.0220\n",
            "Epoch 13/100\n",
            "89/90 [============================>.] - ETA: 0s - mae: 0.0081 - loss: 1.4480e-04 - mse: 1.4480e-04WARNING:tensorflow:Can save best model only with val_mean_squared_error available, skipping.\n",
            "90/90 [==============================] - 7s 78ms/step - mae: 0.0081 - loss: 1.4476e-04 - mse: 1.4476e-04 - val_loss: 7.9692e-04 - val_mse: 7.9692e-04 - val_mae: 0.0210\n",
            "Epoch 14/100\n",
            "89/90 [============================>.] - ETA: 0s - mae: 0.0078 - loss: 1.3606e-04 - mse: 1.3606e-04WARNING:tensorflow:Can save best model only with val_mean_squared_error available, skipping.\n",
            "90/90 [==============================] - 7s 78ms/step - mae: 0.0078 - loss: 1.3597e-04 - mse: 1.3597e-04 - val_loss: 7.6835e-04 - val_mse: 7.6835e-04 - val_mae: 0.0205\n",
            "Epoch 15/100\n",
            "89/90 [============================>.] - ETA: 0s - mae: 0.0076 - loss: 1.2886e-04 - mse: 1.2886e-04WARNING:tensorflow:Can save best model only with val_mean_squared_error available, skipping.\n",
            "90/90 [==============================] - 7s 77ms/step - mae: 0.0076 - loss: 1.2880e-04 - mse: 1.2880e-04 - val_loss: 7.0950e-04 - val_mse: 7.0950e-04 - val_mae: 0.0200\n",
            "Epoch 16/100\n",
            "89/90 [============================>.] - ETA: 0s - mae: 0.0080 - loss: 1.3543e-04 - mse: 1.3543e-04WARNING:tensorflow:Can save best model only with val_mean_squared_error available, skipping.\n",
            "90/90 [==============================] - 7s 80ms/step - mae: 0.0080 - loss: 1.3535e-04 - mse: 1.3535e-04 - val_loss: 6.8613e-04 - val_mse: 6.8613e-04 - val_mae: 0.0193\n",
            "Epoch 17/100\n",
            "89/90 [============================>.] - ETA: 0s - mae: 0.0071 - loss: 1.1633e-04 - mse: 1.1633e-04WARNING:tensorflow:Can save best model only with val_mean_squared_error available, skipping.\n",
            "90/90 [==============================] - 7s 79ms/step - mae: 0.0071 - loss: 1.1640e-04 - mse: 1.1640e-04 - val_loss: 6.4158e-04 - val_mse: 6.4158e-04 - val_mae: 0.0185\n",
            "Epoch 18/100\n",
            "89/90 [============================>.] - ETA: 0s - mae: 0.0069 - loss: 1.1104e-04 - mse: 1.1104e-04WARNING:tensorflow:Can save best model only with val_mean_squared_error available, skipping.\n",
            "90/90 [==============================] - 7s 78ms/step - mae: 0.0069 - loss: 1.1115e-04 - mse: 1.1115e-04 - val_loss: 6.1249e-04 - val_mse: 6.1249e-04 - val_mae: 0.0181\n",
            "Epoch 19/100\n",
            "89/90 [============================>.] - ETA: 0s - mae: 0.0068 - loss: 1.0732e-04 - mse: 1.0732e-04WARNING:tensorflow:Can save best model only with val_mean_squared_error available, skipping.\n",
            "90/90 [==============================] - 7s 81ms/step - mae: 0.0068 - loss: 1.0736e-04 - mse: 1.0736e-04 - val_loss: 6.2969e-04 - val_mse: 6.2969e-04 - val_mae: 0.0187\n",
            "Epoch 20/100\n",
            "89/90 [============================>.] - ETA: 0s - mae: 0.0069 - loss: 1.0593e-04 - mse: 1.0593e-04WARNING:tensorflow:Can save best model only with val_mean_squared_error available, skipping.\n",
            "90/90 [==============================] - 7s 79ms/step - mae: 0.0069 - loss: 1.0602e-04 - mse: 1.0602e-04 - val_loss: 6.0203e-04 - val_mse: 6.0203e-04 - val_mae: 0.0179\n",
            "lr changed to 0.0008100000384729356\n",
            "Epoch 21/100\n",
            "89/90 [============================>.] - ETA: 0s - mae: 0.0069 - loss: 1.0419e-04 - mse: 1.0419e-04WARNING:tensorflow:Can save best model only with val_mean_squared_error available, skipping.\n",
            "90/90 [==============================] - 7s 79ms/step - mae: 0.0069 - loss: 1.0420e-04 - mse: 1.0420e-04 - val_loss: 5.4840e-04 - val_mse: 5.4840e-04 - val_mae: 0.0168\n",
            "Epoch 22/100\n",
            "89/90 [============================>.] - ETA: 0s - mae: 0.0064 - loss: 9.5942e-05 - mse: 9.5942e-05WARNING:tensorflow:Can save best model only with val_mean_squared_error available, skipping.\n",
            "90/90 [==============================] - 8s 84ms/step - mae: 0.0064 - loss: 9.5846e-05 - mse: 9.5846e-05 - val_loss: 5.6858e-04 - val_mse: 5.6858e-04 - val_mae: 0.0174\n",
            "Epoch 23/100\n"
          ],
          "name": "stdout"
        },
        {
          "output_type": "stream",
          "text": [
            "89/90 [============================>.] - ETA: 0s - mae: 0.0064 - loss: 9.3246e-05 - mse: 9.3246e-05WARNING:tensorflow:Can save best model only with val_mean_squared_error available, skipping.\n",
            "90/90 [==============================] - 7s 82ms/step - mae: 0.0064 - loss: 9.3163e-05 - mse: 9.3163e-05 - val_loss: 5.1147e-04 - val_mse: 5.1147e-04 - val_mae: 0.0161\n",
            "Epoch 24/100\n",
            "89/90 [============================>.] - ETA: 0s - mae: 0.0061 - loss: 8.7189e-05 - mse: 8.7189e-05WARNING:tensorflow:Can save best model only with val_mean_squared_error available, skipping.\n",
            "90/90 [==============================] - 7s 82ms/step - mae: 0.0062 - loss: 8.7347e-05 - mse: 8.7347e-05 - val_loss: 4.9690e-04 - val_mse: 4.9690e-04 - val_mae: 0.0162\n",
            "Epoch 25/100\n",
            "89/90 [============================>.] - ETA: 0s - mae: 0.0062 - loss: 8.6946e-05 - mse: 8.6946e-05WARNING:tensorflow:Can save best model only with val_mean_squared_error available, skipping.\n",
            "90/90 [==============================] - 7s 82ms/step - mae: 0.0062 - loss: 8.6961e-05 - mse: 8.6961e-05 - val_loss: 4.8745e-04 - val_mse: 4.8745e-04 - val_mae: 0.0158\n",
            "Epoch 26/100\n",
            "89/90 [============================>.] - ETA: 0s - mae: 0.0060 - loss: 8.1626e-05 - mse: 8.1626e-05- ETA: 0s - mae: 0.0060 - loss: 8.1382e-05 - mse: 8.13WARNING:tensorflow:Can save best model only with val_mean_squared_error available, skipping.\n",
            "90/90 [==============================] - 8s 88ms/step - mae: 0.0060 - loss: 8.1666e-05 - mse: 8.1666e-05 - val_loss: 4.7070e-04 - val_mse: 4.7070e-04 - val_mae: 0.0154\n",
            "Epoch 27/100\n",
            "89/90 [============================>.] - ETA: 0s - mae: 0.0058 - loss: 7.7389e-05 - mse: 7.7389e-05- ETA: 3s - mae: 0.005WARNING:tensorflow:Can save best model only with val_mean_squared_error available, skipping.\n",
            "90/90 [==============================] - 8s 89ms/step - mae: 0.0058 - loss: 7.7367e-05 - mse: 7.7367e-05 - val_loss: 4.8025e-04 - val_mse: 4.8025e-04 - val_mae: 0.0159\n",
            "Epoch 28/100\n",
            "89/90 [============================>.] - ETA: 0s - mae: 0.0060 - loss: 7.9843e-05 - mse: 7.9843e-05WARNING:tensorflow:Can save best model only with val_mean_squared_error available, skipping.\n",
            "90/90 [==============================] - 8s 89ms/step - mae: 0.0060 - loss: 7.9860e-05 - mse: 7.9860e-05 - val_loss: 4.6270e-04 - val_mse: 4.6270e-04 - val_mae: 0.0154\n",
            "Epoch 29/100\n",
            "89/90 [============================>.] - ETA: 0s - mae: 0.0058 - loss: 7.4003e-05 - mse: 7.4003e-05WARNING:tensorflow:Can save best model only with val_mean_squared_error available, skipping.\n",
            "90/90 [==============================] - 8s 84ms/step - mae: 0.0058 - loss: 7.3997e-05 - mse: 7.3997e-05 - val_loss: 4.2869e-04 - val_mse: 4.2869e-04 - val_mae: 0.0145\n",
            "Epoch 30/100\n",
            "89/90 [============================>.] - ETA: 0s - mae: 0.0055 - loss: 6.9199e-05 - mse: 6.9199e-05WARNING:tensorflow:Can save best model only with val_mean_squared_error available, skipping.\n",
            "90/90 [==============================] - 7s 83ms/step - mae: 0.0055 - loss: 6.9126e-05 - mse: 6.9126e-05 - val_loss: 4.3268e-04 - val_mse: 4.3268e-04 - val_mae: 0.0148\n",
            "lr changed to 0.0007290000503417104\n",
            "Epoch 31/100\n",
            "89/90 [============================>.] - ETA: 0s - mae: 0.0057 - loss: 7.0184e-05 - mse: 7.0184e-05WARNING:tensorflow:Can save best model only with val_mean_squared_error available, skipping.\n",
            "90/90 [==============================] - 8s 84ms/step - mae: 0.0057 - loss: 7.0133e-05 - mse: 7.0133e-05 - val_loss: 4.1465e-04 - val_mse: 4.1465e-04 - val_mae: 0.0142\n",
            "Epoch 32/100\n",
            "89/90 [============================>.] - ETA: 0s - mae: 0.0055 - loss: 6.6061e-05 - mse: 6.6061e-05WARNING:tensorflow:Can save best model only with val_mean_squared_error available, skipping.\n",
            "90/90 [==============================] - 7s 78ms/step - mae: 0.0055 - loss: 6.6002e-05 - mse: 6.6002e-05 - val_loss: 4.0377e-04 - val_mse: 4.0377e-04 - val_mae: 0.0140\n",
            "Epoch 33/100\n",
            "89/90 [============================>.] - ETA: 0s - mae: 0.0052 - loss: 6.1159e-05 - mse: 6.1159e-05WARNING:tensorflow:Can save best model only with val_mean_squared_error available, skipping.\n",
            "90/90 [==============================] - 8s 85ms/step - mae: 0.0052 - loss: 6.1131e-05 - mse: 6.1131e-05 - val_loss: 3.8211e-04 - val_mse: 3.8211e-04 - val_mae: 0.0135\n",
            "Epoch 34/100\n",
            "89/90 [============================>.] - ETA: 0s - mae: 0.0055 - loss: 6.4034e-05 - mse: 6.4034e-05WARNING:tensorflow:Can save best model only with val_mean_squared_error available, skipping.\n",
            "90/90 [==============================] - 7s 83ms/step - mae: 0.0055 - loss: 6.4029e-05 - mse: 6.4029e-05 - val_loss: 3.8914e-04 - val_mse: 3.8914e-04 - val_mae: 0.0138\n",
            "Epoch 35/100\n",
            "89/90 [============================>.] - ETA: 0s - mae: 0.0052 - loss: 5.9867e-05 - mse: 5.9867e-05WARNING:tensorflow:Can save best model only with val_mean_squared_error available, skipping.\n",
            "90/90 [==============================] - 8s 85ms/step - mae: 0.0052 - loss: 5.9885e-05 - mse: 5.9885e-05 - val_loss: 3.8561e-04 - val_mse: 3.8561e-04 - val_mae: 0.0138\n",
            "Epoch 36/100\n",
            "89/90 [============================>.] - ETA: 0s - mae: 0.0051 - loss: 5.6972e-05 - mse: 5.6972e-05WARNING:tensorflow:Can save best model only with val_mean_squared_error available, skipping.\n",
            "90/90 [==============================] - 7s 81ms/step - mae: 0.0051 - loss: 5.7015e-05 - mse: 5.7015e-05 - val_loss: 3.7533e-04 - val_mse: 3.7533e-04 - val_mae: 0.0135\n",
            "Epoch 37/100\n",
            "89/90 [============================>.] - ETA: 0s - mae: 0.0051 - loss: 5.6367e-05 - mse: 5.6367e-05WARNING:tensorflow:Can save best model only with val_mean_squared_error available, skipping.\n",
            "90/90 [==============================] - 8s 87ms/step - mae: 0.0051 - loss: 5.6381e-05 - mse: 5.6381e-05 - val_loss: 3.6466e-04 - val_mse: 3.6466e-04 - val_mae: 0.0131\n",
            "Epoch 38/100\n",
            "89/90 [============================>.] - ETA: 0s - mae: 0.0051 - loss: 5.5246e-05 - mse: 5.5246e-05WARNING:tensorflow:Can save best model only with val_mean_squared_error available, skipping.\n",
            "90/90 [==============================] - 7s 80ms/step - mae: 0.0051 - loss: 5.5235e-05 - mse: 5.5235e-05 - val_loss: 3.6479e-04 - val_mse: 3.6479e-04 - val_mae: 0.0132\n",
            "Epoch 39/100\n",
            "89/90 [============================>.] - ETA: 0s - mae: 0.0048 - loss: 5.0544e-05 - mse: 5.0544e-05WARNING:tensorflow:Can save best model only with val_mean_squared_error available, skipping.\n",
            "90/90 [==============================] - 7s 79ms/step - mae: 0.0048 - loss: 5.0524e-05 - mse: 5.0524e-05 - val_loss: 3.7285e-04 - val_mse: 3.7285e-04 - val_mae: 0.0138\n",
            "Epoch 40/100\n",
            "89/90 [============================>.] - ETA: 0s - mae: 0.0051 - loss: 5.3293e-05 - mse: 5.3293e-05WARNING:tensorflow:Can save best model only with val_mean_squared_error available, skipping.\n",
            "90/90 [==============================] - 7s 80ms/step - mae: 0.0051 - loss: 5.3259e-05 - mse: 5.3259e-05 - val_loss: 3.6576e-04 - val_mse: 3.6576e-04 - val_mae: 0.0137\n",
            "lr changed to 0.0006561000715009868\n",
            "Epoch 41/100\n",
            "89/90 [============================>.] - ETA: 0s - mae: 0.0048 - loss: 4.7921e-05 - mse: 4.7921e-05WARNING:tensorflow:Can save best model only with val_mean_squared_error available, skipping.\n",
            "90/90 [==============================] - 7s 80ms/step - mae: 0.0048 - loss: 4.7982e-05 - mse: 4.7982e-05 - val_loss: 3.3590e-04 - val_mse: 3.3590e-04 - val_mae: 0.0125\n",
            "Epoch 42/100\n",
            "89/90 [============================>.] - ETA: 0s - mae: 0.0047 - loss: 4.6978e-05 - mse: 4.6978e-05WARNING:tensorflow:Can save best model only with val_mean_squared_error available, skipping.\n",
            "90/90 [==============================] - 7s 82ms/step - mae: 0.0047 - loss: 4.6958e-05 - mse: 4.6958e-05 - val_loss: 3.3728e-04 - val_mse: 3.3728e-04 - val_mae: 0.0128\n",
            "Epoch 43/100\n",
            "89/90 [============================>.] - ETA: 0s - mae: 0.0047 - loss: 4.5771e-05 - mse: 4.5771e-05WARNING:tensorflow:Can save best model only with val_mean_squared_error available, skipping.\n",
            "90/90 [==============================] - 7s 81ms/step - mae: 0.0047 - loss: 4.5784e-05 - mse: 4.5784e-05 - val_loss: 3.2565e-04 - val_mse: 3.2565e-04 - val_mae: 0.0124\n",
            "Epoch 44/100\n",
            "89/90 [============================>.] - ETA: 0s - mae: 0.0047 - loss: 4.5265e-05 - mse: 4.5265e-05WARNING:tensorflow:Can save best model only with val_mean_squared_error available, skipping.\n",
            "90/90 [==============================] - 7s 79ms/step - mae: 0.0047 - loss: 4.5236e-05 - mse: 4.5236e-05 - val_loss: 3.3250e-04 - val_mse: 3.3250e-04 - val_mae: 0.0127\n"
          ],
          "name": "stdout"
        },
        {
          "output_type": "stream",
          "text": [
            "Epoch 45/100\n",
            "89/90 [============================>.] - ETA: 0s - mae: 0.0047 - loss: 4.4730e-05 - mse: 4.4730e-05WARNING:tensorflow:Can save best model only with val_mean_squared_error available, skipping.\n",
            "90/90 [==============================] - 8s 87ms/step - mae: 0.0047 - loss: 4.4715e-05 - mse: 4.4715e-05 - val_loss: 3.1578e-04 - val_mse: 3.1578e-04 - val_mae: 0.0121\n",
            "Epoch 46/100\n",
            "89/90 [============================>.] - ETA: 0s - mae: 0.0045 - loss: 4.1698e-05 - mse: 4.1698e-05WARNING:tensorflow:Can save best model only with val_mean_squared_error available, skipping.\n",
            "90/90 [==============================] - 7s 80ms/step - mae: 0.0045 - loss: 4.1760e-05 - mse: 4.1760e-05 - val_loss: 3.0858e-04 - val_mse: 3.0858e-04 - val_mae: 0.0119\n",
            "Epoch 47/100\n",
            "89/90 [============================>.] - ETA: 0s - mae: 0.0046 - loss: 4.2204e-05 - mse: 4.2204e-05WARNING:tensorflow:Can save best model only with val_mean_squared_error available, skipping.\n",
            "90/90 [==============================] - 7s 80ms/step - mae: 0.0046 - loss: 4.2167e-05 - mse: 4.2167e-05 - val_loss: 3.0731e-04 - val_mse: 3.0731e-04 - val_mae: 0.0119\n",
            "Epoch 48/100\n",
            "89/90 [============================>.] - ETA: 0s - mae: 0.0046 - loss: 4.1760e-05 - mse: 4.1760e-05WARNING:tensorflow:Can save best model only with val_mean_squared_error available, skipping.\n",
            "90/90 [==============================] - 7s 77ms/step - mae: 0.0046 - loss: 4.1749e-05 - mse: 4.1749e-05 - val_loss: 3.0955e-04 - val_mse: 3.0955e-04 - val_mae: 0.0120\n",
            "Epoch 49/100\n",
            "89/90 [============================>.] - ETA: 0s - mae: 0.0044 - loss: 3.8851e-05 - mse: 3.8851e-05WARNING:tensorflow:Can save best model only with val_mean_squared_error available, skipping.\n",
            "90/90 [==============================] - 7s 78ms/step - mae: 0.0044 - loss: 3.8821e-05 - mse: 3.8821e-05 - val_loss: 2.9854e-04 - val_mse: 2.9854e-04 - val_mae: 0.0117\n",
            "Epoch 50/100\n",
            "89/90 [============================>.] - ETA: 0s - mae: 0.0045 - loss: 4.0109e-05 - mse: 4.0109e-05- ETA: 2s - mae: 0.0043 - losWARNING:tensorflow:Can save best model only with val_mean_squared_error available, skipping.\n",
            "90/90 [==============================] - 8s 92ms/step - mae: 0.0045 - loss: 4.0089e-05 - mse: 4.0089e-05 - val_loss: 2.9948e-04 - val_mse: 2.9948e-04 - val_mae: 0.0117\n",
            "lr changed to 0.0005904900433961303\n",
            "Epoch 51/100\n",
            "89/90 [============================>.] - ETA: 0s - mae: 0.0044 - loss: 3.7605e-05 - mse: 3.7605e-05- ETWARNING:tensorflow:Can save best model only with val_mean_squared_error available, skipping.\n",
            "90/90 [==============================] - 8s 87ms/step - mae: 0.0044 - loss: 3.7587e-05 - mse: 3.7587e-05 - val_loss: 3.0898e-04 - val_mse: 3.0898e-04 - val_mae: 0.0125\n",
            "Epoch 52/100\n",
            "89/90 [============================>.] - ETA: 0s - mae: 0.0044 - loss: 3.7015e-05 - mse: 3.7015e-05WARNING:tensorflow:Can save best model only with val_mean_squared_error available, skipping.\n",
            "90/90 [==============================] - 8s 87ms/step - mae: 0.0044 - loss: 3.7050e-05 - mse: 3.7050e-05 - val_loss: 2.8641e-04 - val_mse: 2.8641e-04 - val_mae: 0.0113\n",
            "Epoch 53/100\n",
            "89/90 [============================>.] - ETA: 0s - mae: 0.0043 - loss: 3.5492e-05 - mse: 3.5492e-05- ETA: 0s - mae: 0.0043 - loss: 3.5827e-05 - mse: 3.WARNING:tensorflow:Can save best model only with val_mean_squared_error available, skipping.\n",
            "90/90 [==============================] - 8s 90ms/step - mae: 0.0043 - loss: 3.5468e-05 - mse: 3.5468e-05 - val_loss: 2.8633e-04 - val_mse: 2.8633e-04 - val_mae: 0.0115\n",
            "Epoch 54/100\n",
            "89/90 [============================>.] - ETA: 0s - mae: 0.0043 - loss: 3.5416e-05 - mse: 3.5416e-05WARNING:tensorflow:Can save best model only with val_mean_squared_error available, skipping.\n",
            "90/90 [==============================] - 7s 83ms/step - mae: 0.0043 - loss: 3.5400e-05 - mse: 3.5400e-05 - val_loss: 2.8296e-04 - val_mse: 2.8296e-04 - val_mae: 0.0116\n",
            "Epoch 55/100\n",
            "89/90 [============================>.] - ETA: 0s - mae: 0.0042 - loss: 3.3744e-05 - mse: 3.3744e-05WARNING:tensorflow:Can save best model only with val_mean_squared_error available, skipping.\n",
            "90/90 [==============================] - 7s 77ms/step - mae: 0.0042 - loss: 3.3752e-05 - mse: 3.3752e-05 - val_loss: 2.7256e-04 - val_mse: 2.7256e-04 - val_mae: 0.0112\n",
            "Epoch 56/100\n",
            "89/90 [============================>.] - ETA: 0s - mae: 0.0042 - loss: 3.4485e-05 - mse: 3.4485e-05WARNING:tensorflow:Can save best model only with val_mean_squared_error available, skipping.\n",
            "90/90 [==============================] - 8s 85ms/step - mae: 0.0042 - loss: 3.4489e-05 - mse: 3.4489e-05 - val_loss: 2.9398e-04 - val_mse: 2.9398e-04 - val_mae: 0.0123\n",
            "Epoch 57/100\n",
            "89/90 [============================>.] - ETA: 0s - mae: 0.0043 - loss: 3.4732e-05 - mse: 3.4732e-05WARNING:tensorflow:Can save best model only with val_mean_squared_error available, skipping.\n",
            "90/90 [==============================] - 7s 80ms/step - mae: 0.0043 - loss: 3.4711e-05 - mse: 3.4711e-05 - val_loss: 2.7708e-04 - val_mse: 2.7708e-04 - val_mae: 0.0116\n",
            "Epoch 58/100\n",
            "89/90 [============================>.] - ETA: 0s - mae: 0.0041 - loss: 3.2574e-05 - mse: 3.2574e-05WARNING:tensorflow:Can save best model only with val_mean_squared_error available, skipping.\n",
            "90/90 [==============================] - 7s 81ms/step - mae: 0.0041 - loss: 3.2582e-05 - mse: 3.2582e-05 - val_loss: 2.7311e-04 - val_mse: 2.7311e-04 - val_mae: 0.0110\n",
            "Epoch 59/100\n",
            "89/90 [============================>.] - ETA: 0s - mae: 0.0042 - loss: 3.2845e-05 - mse: 3.2845e-05WARNING:tensorflow:Can save best model only with val_mean_squared_error available, skipping.\n",
            "90/90 [==============================] - 7s 79ms/step - mae: 0.0042 - loss: 3.2844e-05 - mse: 3.2844e-05 - val_loss: 2.6682e-04 - val_mse: 2.6682e-04 - val_mae: 0.0108\n",
            "Epoch 60/100\n",
            "89/90 [============================>.] - ETA: 0s - mae: 0.0040 - loss: 3.0247e-05 - mse: 3.0247e-05WARNING:tensorflow:Can save best model only with val_mean_squared_error available, skipping.\n",
            "90/90 [==============================] - 8s 88ms/step - mae: 0.0040 - loss: 3.0280e-05 - mse: 3.0280e-05 - val_loss: 2.6918e-04 - val_mse: 2.6918e-04 - val_mae: 0.0113\n",
            "lr changed to 0.0005314410547725857\n",
            "Epoch 61/100\n",
            "89/90 [============================>.] - ETA: 0s - mae: 0.0040 - loss: 3.0655e-05 - mse: 3.0655e-05WARNING:tensorflow:Can save best model only with val_mean_squared_error available, skipping.\n",
            "90/90 [==============================] - 7s 79ms/step - mae: 0.0040 - loss: 3.0656e-05 - mse: 3.0656e-05 - val_loss: 2.5744e-04 - val_mse: 2.5744e-04 - val_mae: 0.0105\n",
            "Epoch 62/100\n",
            "89/90 [============================>.] - ETA: 0s - mae: 0.0039 - loss: 2.9627e-05 - mse: 2.9627e-05WARNING:tensorflow:Can save best model only with val_mean_squared_error available, skipping.\n",
            "90/90 [==============================] - 7s 81ms/step - mae: 0.0039 - loss: 2.9623e-05 - mse: 2.9623e-05 - val_loss: 2.6343e-04 - val_mse: 2.6343e-04 - val_mae: 0.0110\n",
            "Epoch 63/100\n",
            "89/90 [============================>.] - ETA: 0s - mae: 0.0041 - loss: 3.0583e-05 - mse: 3.0583e-05WARNING:tensorflow:Can save best model only with val_mean_squared_error available, skipping.\n",
            "90/90 [==============================] - 8s 87ms/step - mae: 0.0041 - loss: 3.0605e-05 - mse: 3.0605e-05 - val_loss: 2.5927e-04 - val_mse: 2.5927e-04 - val_mae: 0.0110\n",
            "Epoch 64/100\n",
            "89/90 [============================>.] - ETA: 0s - mae: 0.0039 - loss: 2.8894e-05 - mse: 2.8894e-05WARNING:tensorflow:Can save best model only with val_mean_squared_error available, skipping.\n",
            "90/90 [==============================] - 7s 80ms/step - mae: 0.0039 - loss: 2.8861e-05 - mse: 2.8861e-05 - val_loss: 2.7947e-04 - val_mse: 2.7947e-04 - val_mae: 0.0123\n",
            "Epoch 65/100\n",
            "89/90 [============================>.] - ETA: 0s - mae: 0.0040 - loss: 2.9232e-05 - mse: 2.9232e-05WARNING:tensorflow:Can save best model only with val_mean_squared_error available, skipping.\n",
            "90/90 [==============================] - 7s 80ms/step - mae: 0.0040 - loss: 2.9229e-05 - mse: 2.9229e-05 - val_loss: 2.5504e-04 - val_mse: 2.5504e-04 - val_mae: 0.0106\n",
            "Epoch 66/100\n",
            "89/90 [============================>.] - ETA: 0s - mae: 0.0039 - loss: 2.8522e-05 - mse: 2.8522e-05WARNING:tensorflow:Can save best model only with val_mean_squared_error available, skipping.\n"
          ],
          "name": "stdout"
        },
        {
          "output_type": "stream",
          "text": [
            "90/90 [==============================] - 7s 81ms/step - mae: 0.0039 - loss: 2.8543e-05 - mse: 2.8543e-05 - val_loss: 2.6766e-04 - val_mse: 2.6766e-04 - val_mae: 0.0115\n",
            "Epoch 67/100\n",
            "89/90 [============================>.] - ETA: 0s - mae: 0.0039 - loss: 2.7801e-05 - mse: 2.7801e-05WARNING:tensorflow:Can save best model only with val_mean_squared_error available, skipping.\n",
            "90/90 [==============================] - 7s 79ms/step - mae: 0.0039 - loss: 2.7806e-05 - mse: 2.7806e-05 - val_loss: 2.4828e-04 - val_mse: 2.4828e-04 - val_mae: 0.0106\n",
            "Epoch 68/100\n",
            "89/90 [============================>.] - ETA: 0s - mae: 0.0039 - loss: 2.8060e-05 - mse: 2.8060e-05WARNING:tensorflow:Can save best model only with val_mean_squared_error available, skipping.\n",
            "90/90 [==============================] - 8s 85ms/step - mae: 0.0039 - loss: 2.8083e-05 - mse: 2.8083e-05 - val_loss: 2.4995e-04 - val_mse: 2.4995e-04 - val_mae: 0.0107\n",
            "Epoch 69/100\n",
            "89/90 [============================>.] - ETA: 0s - mae: 0.0041 - loss: 3.0138e-05 - mse: 3.0138e-05WARNING:tensorflow:Can save best model only with val_mean_squared_error available, skipping.\n",
            "90/90 [==============================] - 8s 85ms/step - mae: 0.0041 - loss: 3.0142e-05 - mse: 3.0142e-05 - val_loss: 2.4947e-04 - val_mse: 2.4947e-04 - val_mae: 0.0105\n",
            "Epoch 70/100\n",
            "89/90 [============================>.] - ETA: 0s - mae: 0.0038 - loss: 2.6475e-05 - mse: 2.6475e-05WARNING:tensorflow:Can save best model only with val_mean_squared_error available, skipping.\n",
            "90/90 [==============================] - 8s 91ms/step - mae: 0.0038 - loss: 2.6469e-05 - mse: 2.6469e-05 - val_loss: 2.4045e-04 - val_mse: 2.4045e-04 - val_mae: 0.0103\n",
            "lr changed to 0.00047829695977270604\n",
            "Epoch 71/100\n",
            "89/90 [============================>.] - ETA: 0s - mae: 0.0036 - loss: 2.4861e-05 - mse: 2.4861e-05WARNING:tensorflow:Can save best model only with val_mean_squared_error available, skipping.\n",
            "90/90 [==============================] - 8s 90ms/step - mae: 0.0036 - loss: 2.4847e-05 - mse: 2.4847e-05 - val_loss: 2.4161e-04 - val_mse: 2.4161e-04 - val_mae: 0.0100\n",
            "Epoch 72/100\n",
            "89/90 [============================>.] - ETA: 0s - mae: 0.0037 - loss: 2.5001e-05 - mse: 2.5001e-05- ETA: 5s - mae: - ETA: 1s - mae: 0.0035 - loss: 2.3687eWARNING:tensorflow:Can save best model only with val_mean_squared_error available, skipping.\n",
            "90/90 [==============================] - 8s 93ms/step - mae: 0.0037 - loss: 2.5004e-05 - mse: 2.5004e-05 - val_loss: 2.3659e-04 - val_mse: 2.3659e-04 - val_mae: 0.0103\n",
            "Epoch 73/100\n",
            "89/90 [============================>.] - ETA: 0s - mae: 0.0037 - loss: 2.5194e-05 - mse: 2.5194e-05WARNING:tensorflow:Can save best model only with val_mean_squared_error available, skipping.\n",
            "90/90 [==============================] - 8s 85ms/step - mae: 0.0037 - loss: 2.5213e-05 - mse: 2.5213e-05 - val_loss: 2.3349e-04 - val_mse: 2.3349e-04 - val_mae: 0.0099\n",
            "Epoch 74/100\n",
            "89/90 [============================>.] - ETA: 0s - mae: 0.0036 - loss: 2.4665e-05 - mse: 2.4665e-05WARNING:tensorflow:Can save best model only with val_mean_squared_error available, skipping.\n",
            "90/90 [==============================] - 8s 92ms/step - mae: 0.0036 - loss: 2.4653e-05 - mse: 2.4653e-05 - val_loss: 2.3551e-04 - val_mse: 2.3551e-04 - val_mae: 0.0101\n",
            "Epoch 75/100\n",
            "89/90 [============================>.] - ETA: 0s - mae: 0.0038 - loss: 2.5615e-05 - mse: 2.5615e-05WARNING:tensorflow:Can save best model only with val_mean_squared_error available, skipping.\n",
            "90/90 [==============================] - 8s 88ms/step - mae: 0.0038 - loss: 2.5627e-05 - mse: 2.5627e-05 - val_loss: 2.3119e-04 - val_mse: 2.3119e-04 - val_mae: 0.0099\n",
            "Epoch 76/100\n",
            "89/90 [============================>.] - ETA: 0s - mae: 0.0037 - loss: 2.4625e-05 - mse: 2.4625e-05WARNING:tensorflow:Can save best model only with val_mean_squared_error available, skipping.\n",
            "90/90 [==============================] - 8s 93ms/step - mae: 0.0037 - loss: 2.4623e-05 - mse: 2.4623e-05 - val_loss: 2.5495e-04 - val_mse: 2.5495e-04 - val_mae: 0.0114\n",
            "Epoch 77/100\n",
            "89/90 [============================>.] - ETA: 0s - mae: 0.0036 - loss: 2.3619e-05 - mse: 2.3619e-05WARNING:tensorflow:Can save best model only with val_mean_squared_error available, skipping.\n",
            "90/90 [==============================] - 7s 82ms/step - mae: 0.0036 - loss: 2.3605e-05 - mse: 2.3605e-05 - val_loss: 2.3379e-04 - val_mse: 2.3379e-04 - val_mae: 0.0099\n",
            "Epoch 78/100\n",
            "89/90 [============================>.] - ETA: 0s - mae: 0.0035 - loss: 2.2872e-05 - mse: 2.2872e-05WARNING:tensorflow:Can save best model only with val_mean_squared_error available, skipping.\n",
            "90/90 [==============================] - 8s 86ms/step - mae: 0.0035 - loss: 2.2866e-05 - mse: 2.2866e-05 - val_loss: 2.2705e-04 - val_mse: 2.2705e-04 - val_mae: 0.0096\n",
            "Epoch 79/100\n",
            "89/90 [============================>.] - ETA: 0s - mae: 0.0036 - loss: 2.4149e-05 - mse: 2.4149e-05WARNING:tensorflow:Can save best model only with val_mean_squared_error available, skipping.\n",
            "90/90 [==============================] - 8s 86ms/step - mae: 0.0036 - loss: 2.4123e-05 - mse: 2.4123e-05 - val_loss: 2.2626e-04 - val_mse: 2.2626e-04 - val_mae: 0.0099\n",
            "Epoch 80/100\n",
            "89/90 [============================>.] - ETA: 0s - mae: 0.0035 - loss: 2.2145e-05 - mse: 2.2145e-05- ETA: 5s - mae: - ETA: 1s - mae: 0.0035 - loss: 2.2210e-05 - WARNING:tensorflow:Can save best model only with val_mean_squared_error available, skipping.\n",
            "90/90 [==============================] - 8s 92ms/step - mae: 0.0035 - loss: 2.2132e-05 - mse: 2.2132e-05 - val_loss: 2.2120e-04 - val_mse: 2.2120e-04 - val_mae: 0.0096\n",
            "lr changed to 0.0004304672533180565\n",
            "Epoch 81/100\n",
            "89/90 [============================>.] - ETA: 0s - mae: 0.0035 - loss: 2.2772e-05 - mse: 2.2772e-05WARNING:tensorflow:Can save best model only with val_mean_squared_error available, skipping.\n",
            "90/90 [==============================] - 8s 91ms/step - mae: 0.0035 - loss: 2.2759e-05 - mse: 2.2759e-05 - val_loss: 2.1959e-04 - val_mse: 2.1959e-04 - val_mae: 0.0095\n",
            "Epoch 82/100\n",
            "89/90 [============================>.] - ETA: 0s - mae: 0.0034 - loss: 2.1808e-05 - mse: 2.1808e-05WARNING:tensorflow:Can save best model only with val_mean_squared_error available, skipping.\n",
            "90/90 [==============================] - 8s 89ms/step - mae: 0.0034 - loss: 2.1798e-05 - mse: 2.1798e-05 - val_loss: 2.1489e-04 - val_mse: 2.1489e-04 - val_mae: 0.0094\n",
            "Epoch 83/100\n",
            "89/90 [============================>.] - ETA: 0s - mae: 0.0035 - loss: 2.2611e-05 - mse: 2.2611e-05WARNING:tensorflow:Can save best model only with val_mean_squared_error available, skipping.\n",
            "90/90 [==============================] - 8s 91ms/step - mae: 0.0035 - loss: 2.2610e-05 - mse: 2.2610e-05 - val_loss: 2.1248e-04 - val_mse: 2.1248e-04 - val_mae: 0.0099\n",
            "Epoch 84/100\n",
            "89/90 [============================>.] - ETA: 0s - mae: 0.0036 - loss: 2.3785e-05 - mse: 2.3785e-05WARNING:tensorflow:Can save best model only with val_mean_squared_error available, skipping.\n",
            "90/90 [==============================] - 8s 90ms/step - mae: 0.0036 - loss: 2.3802e-05 - mse: 2.3802e-05 - val_loss: 2.1755e-04 - val_mse: 2.1755e-04 - val_mae: 0.0097\n",
            "Epoch 85/100\n",
            "89/90 [============================>.] - ETA: 0s - mae: 0.0036 - loss: 2.3095e-05 - mse: 2.3095e-05WARNING:tensorflow:Can save best model only with val_mean_squared_error available, skipping.\n",
            "90/90 [==============================] - 7s 81ms/step - mae: 0.0036 - loss: 2.3121e-05 - mse: 2.3121e-05 - val_loss: 2.3203e-04 - val_mse: 2.3203e-04 - val_mae: 0.0108\n",
            "Epoch 86/100\n",
            "89/90 [============================>.] - ETA: 0s - mae: 0.0034 - loss: 2.0998e-05 - mse: 2.0998e-05WARNING:tensorflow:Can save best model only with val_mean_squared_error available, skipping.\n",
            "90/90 [==============================] - 7s 82ms/step - mae: 0.0034 - loss: 2.0995e-05 - mse: 2.0995e-05 - val_loss: 2.1363e-04 - val_mse: 2.1363e-04 - val_mae: 0.0094\n",
            "Epoch 87/100\n",
            "89/90 [============================>.] - ETA: 0s - mae: 0.0033 - loss: 2.0042e-05 - mse: 2.0042e-05WARNING:tensorflow:Can save best model only with val_mean_squared_error available, skipping.\n",
            "90/90 [==============================] - 7s 80ms/step - mae: 0.0033 - loss: 2.0038e-05 - mse: 2.0038e-05 - val_loss: 2.1136e-04 - val_mse: 2.1136e-04 - val_mae: 0.0092\n",
            "Epoch 88/100\n"
          ],
          "name": "stdout"
        },
        {
          "output_type": "stream",
          "text": [
            "89/90 [============================>.] - ETA: 0s - mae: 0.0034 - loss: 2.0849e-05 - mse: 2.0849e-05WARNING:tensorflow:Can save best model only with val_mean_squared_error available, skipping.\n",
            "90/90 [==============================] - 7s 80ms/step - mae: 0.0034 - loss: 2.0847e-05 - mse: 2.0847e-05 - val_loss: 2.0686e-04 - val_mse: 2.0686e-04 - val_mae: 0.0092\n",
            "Epoch 89/100\n",
            "89/90 [============================>.] - ETA: 0s - mae: 0.0034 - loss: 2.0770e-05 - mse: 2.0770e-05WARNING:tensorflow:Can save best model only with val_mean_squared_error available, skipping.\n",
            "90/90 [==============================] - 7s 81ms/step - mae: 0.0034 - loss: 2.0786e-05 - mse: 2.0786e-05 - val_loss: 2.1533e-04 - val_mse: 2.1533e-04 - val_mae: 0.0094\n",
            "Epoch 90/100\n",
            "89/90 [============================>.] - ETA: 0s - mae: 0.0033 - loss: 2.0075e-05 - mse: 2.0075e-05WARNING:tensorflow:Can save best model only with val_mean_squared_error available, skipping.\n",
            "90/90 [==============================] - 7s 83ms/step - mae: 0.0033 - loss: 2.0070e-05 - mse: 2.0070e-05 - val_loss: 2.1011e-04 - val_mse: 2.1011e-04 - val_mae: 0.0098\n",
            "lr changed to 0.00038742052274756136\n",
            "Epoch 91/100\n",
            "89/90 [============================>.] - ETA: 0s - mae: 0.0033 - loss: 1.9958e-05 - mse: 1.9958e-05WARNING:tensorflow:Can save best model only with val_mean_squared_error available, skipping.\n",
            "90/90 [==============================] - 7s 79ms/step - mae: 0.0033 - loss: 1.9953e-05 - mse: 1.9953e-05 - val_loss: 2.0231e-04 - val_mse: 2.0231e-04 - val_mae: 0.0092\n",
            "Epoch 92/100\n",
            "89/90 [============================>.] - ETA: 0s - mae: 0.0033 - loss: 2.0350e-05 - mse: 2.0350e-05WARNING:tensorflow:Can save best model only with val_mean_squared_error available, skipping.\n",
            "90/90 [==============================] - 7s 80ms/step - mae: 0.0033 - loss: 2.0338e-05 - mse: 2.0338e-05 - val_loss: 1.9573e-04 - val_mse: 1.9573e-04 - val_mae: 0.0091\n",
            "Epoch 93/100\n",
            "89/90 [============================>.] - ETA: 0s - mae: 0.0031 - loss: 1.8369e-05 - mse: 1.8369e-05- ETA: 3s - mae:WARNING:tensorflow:Can save best model only with val_mean_squared_error available, skipping.\n",
            "90/90 [==============================] - 8s 87ms/step - mae: 0.0031 - loss: 1.8370e-05 - mse: 1.8370e-05 - val_loss: 2.0143e-04 - val_mse: 2.0143e-04 - val_mae: 0.0092\n",
            "Epoch 94/100\n",
            "89/90 [============================>.] - ETA: 0s - mae: 0.0032 - loss: 1.8936e-05 - mse: 1.8936e-05WARNING:tensorflow:Can save best model only with val_mean_squared_error available, skipping.\n",
            "90/90 [==============================] - 7s 78ms/step - mae: 0.0032 - loss: 1.8946e-05 - mse: 1.8946e-05 - val_loss: 2.0398e-04 - val_mse: 2.0398e-04 - val_mae: 0.0097\n",
            "Epoch 95/100\n",
            "89/90 [============================>.] - ETA: 0s - mae: 0.0033 - loss: 2.0146e-05 - mse: 2.0146e-05WARNING:tensorflow:Can save best model only with val_mean_squared_error available, skipping.\n",
            "90/90 [==============================] - 7s 82ms/step - mae: 0.0033 - loss: 2.0144e-05 - mse: 2.0144e-05 - val_loss: 1.9127e-04 - val_mse: 1.9127e-04 - val_mae: 0.0090\n",
            "Epoch 96/100\n",
            "89/90 [============================>.] - ETA: 0s - mae: 0.0031 - loss: 1.8212e-05 - mse: 1.8212e-05WARNING:tensorflow:Can save best model only with val_mean_squared_error available, skipping.\n",
            "90/90 [==============================] - 8s 85ms/step - mae: 0.0031 - loss: 1.8222e-05 - mse: 1.8222e-05 - val_loss: 1.8665e-04 - val_mse: 1.8665e-04 - val_mae: 0.0088\n",
            "Epoch 97/100\n",
            "89/90 [============================>.] - ETA: 0s - mae: 0.0033 - loss: 1.9295e-05 - mse: 1.9295e-05WARNING:tensorflow:Can save best model only with val_mean_squared_error available, skipping.\n",
            "90/90 [==============================] - 7s 82ms/step - mae: 0.0033 - loss: 1.9278e-05 - mse: 1.9278e-05 - val_loss: 2.0020e-04 - val_mse: 2.0020e-04 - val_mae: 0.0099\n",
            "Epoch 98/100\n",
            "89/90 [============================>.] - ETA: 0s - mae: 0.0033 - loss: 1.9378e-05 - mse: 1.9378e-05WARNING:tensorflow:Can save best model only with val_mean_squared_error available, skipping.\n",
            "90/90 [==============================] - 7s 83ms/step - mae: 0.0033 - loss: 1.9364e-05 - mse: 1.9364e-05 - val_loss: 1.9079e-04 - val_mse: 1.9079e-04 - val_mae: 0.0089\n",
            "Epoch 99/100\n",
            "89/90 [============================>.] - ETA: 0s - mae: 0.0031 - loss: 1.8137e-05 - mse: 1.8137e-05WARNING:tensorflow:Can save best model only with val_mean_squared_error available, skipping.\n",
            "90/90 [==============================] - 7s 83ms/step - mae: 0.0031 - loss: 1.8137e-05 - mse: 1.8137e-05 - val_loss: 1.9739e-04 - val_mse: 1.9739e-04 - val_mae: 0.0094\n",
            "Epoch 100/100\n",
            "89/90 [============================>.] - ETA: 0s - mae: 0.0033 - loss: 1.9568e-05 - mse: 1.9568e-05WARNING:tensorflow:Can save best model only with val_mean_squared_error available, skipping.\n",
            "90/90 [==============================] - 8s 84ms/step - mae: 0.0033 - loss: 1.9568e-05 - mse: 1.9568e-05 - val_loss: 1.8808e-04 - val_mse: 1.8808e-04 - val_mae: 0.0089\n"
          ],
          "name": "stdout"
        }
      ]
    },
    {
      "cell_type": "code",
      "metadata": {
        "id": "fossil-austin"
      },
      "source": [
        "pred=model.predict(testX)"
      ],
      "id": "fossil-austin",
      "execution_count": null,
      "outputs": []
    },
    {
      "cell_type": "code",
      "metadata": {
        "id": "clinical-survey"
      },
      "source": [
        "test2=y_scaler.inverse_transform(testY.reshape(-1,1))"
      ],
      "id": "clinical-survey",
      "execution_count": null,
      "outputs": []
    },
    {
      "cell_type": "code",
      "metadata": {
        "id": "engaging-journal"
      },
      "source": [
        "pred2=y_scaler.inverse_transform(pred.reshape(-1,1))"
      ],
      "id": "engaging-journal",
      "execution_count": null,
      "outputs": []
    },
    {
      "cell_type": "code",
      "metadata": {
        "id": "spiritual-bryan",
        "outputId": "84553efe-2b0f-4260-c0d6-c151f151c74e"
      },
      "source": [
        "pred2"
      ],
      "id": "spiritual-bryan",
      "execution_count": null,
      "outputs": [
        {
          "output_type": "execute_result",
          "data": {
            "text/plain": [
              "array([[19292.383],\n",
              "       [19248.344],\n",
              "       [19274.38 ],\n",
              "       ...,\n",
              "       [29605.65 ],\n",
              "       [29597.336],\n",
              "       [29622.723]], dtype=float32)"
            ]
          },
          "metadata": {
            "tags": []
          },
          "execution_count": 85
        }
      ]
    },
    {
      "cell_type": "code",
      "metadata": {
        "id": "ecological-electron",
        "outputId": "7e8c23ed-bb6b-4f8b-f4d7-86aa5b7001fe"
      },
      "source": [
        "test2"
      ],
      "id": "ecological-electron",
      "execution_count": null,
      "outputs": [
        {
          "output_type": "execute_result",
          "data": {
            "text/plain": [
              "array([[19055.8  ],\n",
              "       [19453.25 ],\n",
              "       [19483.049],\n",
              "       ...,\n",
              "       [29586.6  ],\n",
              "       [29644.15 ],\n",
              "       [29643.049]], dtype=float32)"
            ]
          },
          "metadata": {
            "tags": []
          },
          "execution_count": 86
        }
      ]
    },
    {
      "cell_type": "code",
      "metadata": {
        "id": "pacific-sessions"
      },
      "source": [
        "from sklearn.metrics import mean_squared_error\n",
        "mse=mean_squared_error(test2,pred2)"
      ],
      "id": "pacific-sessions",
      "execution_count": null,
      "outputs": []
    },
    {
      "cell_type": "code",
      "metadata": {
        "id": "interested-secretary",
        "colab": {
          "base_uri": "https://localhost:8080/",
          "height": 162
        },
        "outputId": "3cbe65ed-5689-4e75-8f33-046eb7b3094e"
      },
      "source": [
        "mse"
      ],
      "id": "interested-secretary",
      "execution_count": null,
      "outputs": [
        {
          "output_type": "error",
          "ename": "NameError",
          "evalue": "ignored",
          "traceback": [
            "\u001b[0;31m---------------------------------------------------------------------------\u001b[0m",
            "\u001b[0;31mNameError\u001b[0m                                 Traceback (most recent call last)",
            "\u001b[0;32m<ipython-input-3-8ba39e77e893>\u001b[0m in \u001b[0;36m<module>\u001b[0;34m()\u001b[0m\n\u001b[0;32m----> 1\u001b[0;31m \u001b[0mmse\u001b[0m\u001b[0;34m\u001b[0m\u001b[0;34m\u001b[0m\u001b[0m\n\u001b[0m",
            "\u001b[0;31mNameError\u001b[0m: name 'mse' is not defined"
          ]
        }
      ]
    },
    {
      "cell_type": "code",
      "metadata": {
        "id": "3wUux8Ds6rxw"
      },
      "source": [
        "from sklearn.model_selection import GridSearchCV\r\n",
        "from keras.wrappers.scikit_learn import KerasRegressor"
      ],
      "id": "3wUux8Ds6rxw",
      "execution_count": null,
      "outputs": []
    },
    {
      "cell_type": "code",
      "metadata": {
        "id": "FhNg6DvPCpL-"
      },
      "source": [
        "def create_model(dropout_rate=0.0, optimizer=\"adam\"):\r\n",
        "  model = Sequential()\r\n",
        "  model.add(LSTM(20, input_shape=(X.shape[1], X.shape[2]), return_sequences=True))\r\n",
        "  model.add(LSTM(20, return_sequences=True))\r\n",
        "  #model.add(LSTM(10, return_sequences=True))\r\n",
        "  model.add(Dropout(dropout_rate))\r\n",
        "  model.add(LSTM(10, return_sequences=False))\r\n",
        "  model.add(Dense(4, kernel_initializer='random_uniform', activation='relu'))\r\n",
        "  model.add(Dense(1, kernel_initializer='random_uniform', activation='relu'))\r\n",
        "  model.compile(optimizer = optimizer, loss='mean_squared_error', metrics=['mae', 'mse'])\r\n",
        "  return model"
      ],
      "id": "FhNg6DvPCpL-",
      "execution_count": null,
      "outputs": []
    },
    {
      "cell_type": "code",
      "metadata": {
        "id": "9yVC7lKhD_YW"
      },
      "source": [
        "seed = 7\r\n",
        "np.random.seed(seed)\r\n",
        "model = KerasRegressor(build_fn=create_model, verbose=0)"
      ],
      "id": "9yVC7lKhD_YW",
      "execution_count": null,
      "outputs": []
    },
    {
      "cell_type": "code",
      "metadata": {
        "id": "KaHrYAag6kOp"
      },
      "source": [
        "batch_size = [ 25, 100, 300]\r\n",
        "epochs = [20, 40, 90]\r\n",
        "optimizer = ['SGD', 'RMSprop', 'Adam']\r\n",
        "dropout_rate = [0.2, 0.3, 0.4]\r\n",
        "\r\n",
        "param_grid = dict(batch_size=batch_size, epochs=epochs, optimizer=optimizer, dropout_rate=dropout_rate)\r\n",
        "grid = GridSearchCV(estimator=model, param_grid=param_grid, n_jobs=-1)\r\n",
        "grid_result = grid.fit(trainX, trainY)"
      ],
      "id": "KaHrYAag6kOp",
      "execution_count": null,
      "outputs": []
    },
    {
      "cell_type": "code",
      "metadata": {
        "id": "FvruYi_OEWzG"
      },
      "source": [
        "print(\"Best: %f using %s\" % (grid_result.best_score_, grid_result.best_params_))"
      ],
      "id": "FvruYi_OEWzG",
      "execution_count": null,
      "outputs": []
    },
    {
      "cell_type": "code",
      "metadata": {
        "id": "turned-gabriel"
      },
      "source": [
        "import seaborn as sns"
      ],
      "id": "turned-gabriel",
      "execution_count": null,
      "outputs": []
    },
    {
      "cell_type": "code",
      "metadata": {
        "id": "freelance-minute"
      },
      "source": [
        "import matplotlib.pyplot as plt"
      ],
      "id": "freelance-minute",
      "execution_count": null,
      "outputs": []
    },
    {
      "cell_type": "code",
      "metadata": {
        "id": "similar-attachment",
        "outputId": "e9250df7-fd04-4c23-9e44-8f1f65ad8ff8"
      },
      "source": [
        "plt.plot(df[-100:])"
      ],
      "id": "similar-attachment",
      "execution_count": null,
      "outputs": [
        {
          "output_type": "execute_result",
          "data": {
            "text/plain": [
              "[<matplotlib.lines.Line2D at 0x17ac2d2cef0>,\n",
              " <matplotlib.lines.Line2D at 0x17ac2d2c588>]"
            ]
          },
          "metadata": {
            "tags": []
          },
          "execution_count": 43
        },
        {
          "output_type": "display_data",
          "data": {
            "image/png": "[encoded data removed]",
            "text/plain": [
              "<Figure size 432x288 with 1 Axes>"
            ]
          },
          "metadata": {
            "tags": [],
            "needs_background": "light"
          }
        }
      ]
    },
    {
      "cell_type": "code",
      "metadata": {
        "id": "former-pointer",
        "outputId": "7f94abdc-39e6-4363-efb6-fe4a20dc2781"
      },
      "source": [
        "regressor.save('my_model')"
      ],
      "id": "former-pointer",
      "execution_count": null,
      "outputs": [
        {
          "output_type": "stream",
          "text": [
            "WARNING:tensorflow:From c:\\users\\harneet singh\\anaconda3\\envs\\tensorflow-gpu\\lib\\site-packages\\tensorflow\\python\\training\\tracking\\tracking.py:111: Model.state_updates (from tensorflow.python.keras.engine.training) is deprecated and will be removed in a future version.\n",
            "Instructions for updating:\n",
            "This property should not be used in TensorFlow 2.0, as updates are applied automatically.\n",
            "WARNING:tensorflow:From c:\\users\\harneet singh\\anaconda3\\envs\\tensorflow-gpu\\lib\\site-packages\\tensorflow\\python\\training\\tracking\\tracking.py:111: Layer.updates (from tensorflow.python.keras.engine.base_layer) is deprecated and will be removed in a future version.\n",
            "Instructions for updating:\n",
            "This property should not be used in TensorFlow 2.0, as updates are applied automatically.\n",
            "INFO:tensorflow:Assets written to: my_model\\assets\n"
          ],
          "name": "stdout"
        }
      ]
    },
    {
      "cell_type": "code",
      "metadata": {
        "id": "comfortable-canal"
      },
      "source": [
        "model.save(\"model.h5\")"
      ],
      "id": "comfortable-canal",
      "execution_count": null,
      "outputs": []
    },
    {
      "cell_type": "code",
      "metadata": {
        "id": "latter-berry"
      },
      "source": [
        "from keras.models import load_model"
      ],
      "id": "latter-berry",
      "execution_count": null,
      "outputs": []
    },
    {
      "cell_type": "code",
      "metadata": {
        "id": "sexual-forge"
      },
      "source": [
        "model = load_model('model.h5')"
      ],
      "id": "sexual-forge",
      "execution_count": null,
      "outputs": []
    },
    {
      "cell_type": "code",
      "metadata": {
        "id": "optical-uncle"
      },
      "source": [
        "pred=model.predict(X_test)"
      ],
      "id": "optical-uncle",
      "execution_count": null,
      "outputs": []
    },
    {
      "cell_type": "code",
      "metadata": {
        "id": "legislative-piece",
        "outputId": "66623fc3-9d8e-4f57-d666-551c49c6f62c"
      },
      "source": [
        "len(y_test_dates[120:])"
      ],
      "id": "legislative-piece",
      "execution_count": null,
      "outputs": [
        {
          "output_type": "execute_result",
          "data": {
            "text/plain": [
              "10900"
            ]
          },
          "metadata": {
            "tags": []
          },
          "execution_count": 27
        }
      ]
    },
    {
      "cell_type": "code",
      "metadata": {
        "id": "secure-chapter"
      },
      "source": [
        "dicts={\"test\":list(test2.reshape(len(test2),)), 'pred': list(pred2.reshape(len(pred2),))}"
      ],
      "id": "secure-chapter",
      "execution_count": null,
      "outputs": []
    },
    {
      "cell_type": "code",
      "metadata": {
        "id": "democratic-disposition"
      },
      "source": [
        "df=pd.DataFrame(dicts)"
      ],
      "id": "democratic-disposition",
      "execution_count": null,
      "outputs": []
    },
    {
      "cell_type": "code",
      "metadata": {
        "id": "assured-puppy",
        "colab": {
          "base_uri": "https://localhost:8080/",
          "height": 1000
        },
        "outputId": "fba2813a-e161-4fa2-e6ce-c494f49d7080"
      },
      "source": [
        "df.head(60)"
      ],
      "id": "assured-puppy",
      "execution_count": null,
      "outputs": [
        {
          "output_type": "execute_result",
          "data": {
            "text/html": [
              "<div>\n",
              "<style scoped>\n",
              "    .dataframe tbody tr th:only-of-type {\n",
              "        vertical-align: middle;\n",
              "    }\n",
              "\n",
              "    .dataframe tbody tr th {\n",
              "        vertical-align: top;\n",
              "    }\n",
              "\n",
              "    .dataframe thead th {\n",
              "        text-align: right;\n",
              "    }\n",
              "</style>\n",
              "<table border=\"1\" class=\"dataframe\">\n",
              "  <thead>\n",
              "    <tr style=\"text-align: right;\">\n",
              "      <th></th>\n",
              "      <th>test</th>\n",
              "      <th>pred</th>\n",
              "    </tr>\n",
              "  </thead>\n",
              "  <tbody>\n",
              "    <tr>\n",
              "      <th>0</th>\n",
              "      <td>29211.650391</td>\n",
              "      <td>29967.412109</td>\n",
              "    </tr>\n",
              "    <tr>\n",
              "      <th>1</th>\n",
              "      <td>29282.748047</td>\n",
              "      <td>29895.167969</td>\n",
              "    </tr>\n",
              "    <tr>\n",
              "      <th>2</th>\n",
              "      <td>29262.500000</td>\n",
              "      <td>29818.068359</td>\n",
              "    </tr>\n",
              "    <tr>\n",
              "      <th>3</th>\n",
              "      <td>29240.498047</td>\n",
              "      <td>29734.003906</td>\n",
              "    </tr>\n",
              "    <tr>\n",
              "      <th>4</th>\n",
              "      <td>29223.000000</td>\n",
              "      <td>29655.375000</td>\n",
              "    </tr>\n",
              "    <tr>\n",
              "      <th>5</th>\n",
              "      <td>29177.898438</td>\n",
              "      <td>29578.054688</td>\n",
              "    </tr>\n",
              "    <tr>\n",
              "      <th>6</th>\n",
              "      <td>29198.699219</td>\n",
              "      <td>29508.037109</td>\n",
              "    </tr>\n",
              "    <tr>\n",
              "      <th>7</th>\n",
              "      <td>29273.400391</td>\n",
              "      <td>29447.232422</td>\n",
              "    </tr>\n",
              "    <tr>\n",
              "      <th>8</th>\n",
              "      <td>29248.548828</td>\n",
              "      <td>29408.281250</td>\n",
              "    </tr>\n",
              "    <tr>\n",
              "      <th>9</th>\n",
              "      <td>29205.597656</td>\n",
              "      <td>29376.982422</td>\n",
              "    </tr>\n",
              "    <tr>\n",
              "      <th>10</th>\n",
              "      <td>29200.550781</td>\n",
              "      <td>29356.707031</td>\n",
              "    </tr>\n",
              "    <tr>\n",
              "      <th>11</th>\n",
              "      <td>29116.798828</td>\n",
              "      <td>29353.248047</td>\n",
              "    </tr>\n",
              "    <tr>\n",
              "      <th>12</th>\n",
              "      <td>29095.451172</td>\n",
              "      <td>29363.630859</td>\n",
              "    </tr>\n",
              "    <tr>\n",
              "      <th>13</th>\n",
              "      <td>29074.148438</td>\n",
              "      <td>29353.310547</td>\n",
              "    </tr>\n",
              "    <tr>\n",
              "      <th>14</th>\n",
              "      <td>29081.298828</td>\n",
              "      <td>29355.472656</td>\n",
              "    </tr>\n",
              "    <tr>\n",
              "      <th>15</th>\n",
              "      <td>29170.748047</td>\n",
              "      <td>29362.955078</td>\n",
              "    </tr>\n",
              "    <tr>\n",
              "      <th>16</th>\n",
              "      <td>29236.798828</td>\n",
              "      <td>29362.972656</td>\n",
              "    </tr>\n",
              "    <tr>\n",
              "      <th>17</th>\n",
              "      <td>29182.947266</td>\n",
              "      <td>29355.449219</td>\n",
              "    </tr>\n",
              "    <tr>\n",
              "      <th>18</th>\n",
              "      <td>29110.099609</td>\n",
              "      <td>29349.857422</td>\n",
              "    </tr>\n",
              "    <tr>\n",
              "      <th>19</th>\n",
              "      <td>29132.597656</td>\n",
              "      <td>29349.382812</td>\n",
              "    </tr>\n",
              "    <tr>\n",
              "      <th>20</th>\n",
              "      <td>29111.101562</td>\n",
              "      <td>29334.925781</td>\n",
              "    </tr>\n",
              "    <tr>\n",
              "      <th>21</th>\n",
              "      <td>29106.500000</td>\n",
              "      <td>29320.777344</td>\n",
              "    </tr>\n",
              "    <tr>\n",
              "      <th>22</th>\n",
              "      <td>29200.798828</td>\n",
              "      <td>29302.388672</td>\n",
              "    </tr>\n",
              "    <tr>\n",
              "      <th>23</th>\n",
              "      <td>29353.199219</td>\n",
              "      <td>29295.882812</td>\n",
              "    </tr>\n",
              "    <tr>\n",
              "      <th>24</th>\n",
              "      <td>29340.449219</td>\n",
              "      <td>29291.519531</td>\n",
              "    </tr>\n",
              "    <tr>\n",
              "      <th>25</th>\n",
              "      <td>29183.998047</td>\n",
              "      <td>29285.630859</td>\n",
              "    </tr>\n",
              "    <tr>\n",
              "      <th>26</th>\n",
              "      <td>29167.849609</td>\n",
              "      <td>29276.628906</td>\n",
              "    </tr>\n",
              "    <tr>\n",
              "      <th>27</th>\n",
              "      <td>29138.101562</td>\n",
              "      <td>29266.203125</td>\n",
              "    </tr>\n",
              "    <tr>\n",
              "      <th>28</th>\n",
              "      <td>29123.849609</td>\n",
              "      <td>29255.888672</td>\n",
              "    </tr>\n",
              "    <tr>\n",
              "      <th>29</th>\n",
              "      <td>29127.298828</td>\n",
              "      <td>29254.962891</td>\n",
              "    </tr>\n",
              "    <tr>\n",
              "      <th>30</th>\n",
              "      <td>29493.949219</td>\n",
              "      <td>29256.779297</td>\n",
              "    </tr>\n",
              "    <tr>\n",
              "      <th>31</th>\n",
              "      <td>29501.101562</td>\n",
              "      <td>29285.496094</td>\n",
              "    </tr>\n",
              "    <tr>\n",
              "      <th>32</th>\n",
              "      <td>29524.900391</td>\n",
              "      <td>29306.042969</td>\n",
              "    </tr>\n",
              "    <tr>\n",
              "      <th>33</th>\n",
              "      <td>29478.599609</td>\n",
              "      <td>29320.253906</td>\n",
              "    </tr>\n",
              "    <tr>\n",
              "      <th>34</th>\n",
              "      <td>29240.248047</td>\n",
              "      <td>29332.212891</td>\n",
              "    </tr>\n",
              "    <tr>\n",
              "      <th>35</th>\n",
              "      <td>29082.849609</td>\n",
              "      <td>29332.304688</td>\n",
              "    </tr>\n",
              "    <tr>\n",
              "      <th>36</th>\n",
              "      <td>29089.599609</td>\n",
              "      <td>29326.978516</td>\n",
              "    </tr>\n",
              "    <tr>\n",
              "      <th>37</th>\n",
              "      <td>29071.500000</td>\n",
              "      <td>29325.873047</td>\n",
              "    </tr>\n",
              "    <tr>\n",
              "      <th>38</th>\n",
              "      <td>29081.849609</td>\n",
              "      <td>29326.238281</td>\n",
              "    </tr>\n",
              "    <tr>\n",
              "      <th>39</th>\n",
              "      <td>29249.800781</td>\n",
              "      <td>29312.744141</td>\n",
              "    </tr>\n",
              "    <tr>\n",
              "      <th>40</th>\n",
              "      <td>29279.849609</td>\n",
              "      <td>29301.253906</td>\n",
              "    </tr>\n",
              "    <tr>\n",
              "      <th>41</th>\n",
              "      <td>29303.150391</td>\n",
              "      <td>29280.029297</td>\n",
              "    </tr>\n",
              "    <tr>\n",
              "      <th>42</th>\n",
              "      <td>29272.349609</td>\n",
              "      <td>29258.476562</td>\n",
              "    </tr>\n",
              "    <tr>\n",
              "      <th>43</th>\n",
              "      <td>29224.199219</td>\n",
              "      <td>29232.625000</td>\n",
              "    </tr>\n",
              "    <tr>\n",
              "      <th>44</th>\n",
              "      <td>29244.847656</td>\n",
              "      <td>29211.121094</td>\n",
              "    </tr>\n",
              "    <tr>\n",
              "      <th>45</th>\n",
              "      <td>29298.648438</td>\n",
              "      <td>29213.175781</td>\n",
              "    </tr>\n",
              "    <tr>\n",
              "      <th>46</th>\n",
              "      <td>29250.949219</td>\n",
              "      <td>29212.984375</td>\n",
              "    </tr>\n",
              "    <tr>\n",
              "      <th>47</th>\n",
              "      <td>29202.650391</td>\n",
              "      <td>29215.708984</td>\n",
              "    </tr>\n",
              "    <tr>\n",
              "      <th>48</th>\n",
              "      <td>29164.398438</td>\n",
              "      <td>29212.750000</td>\n",
              "    </tr>\n",
              "    <tr>\n",
              "      <th>49</th>\n",
              "      <td>29116.748047</td>\n",
              "      <td>29209.060547</td>\n",
              "    </tr>\n",
              "    <tr>\n",
              "      <th>50</th>\n",
              "      <td>29117.148438</td>\n",
              "      <td>29204.044922</td>\n",
              "    </tr>\n",
              "    <tr>\n",
              "      <th>51</th>\n",
              "      <td>29196.349609</td>\n",
              "      <td>29186.884766</td>\n",
              "    </tr>\n",
              "    <tr>\n",
              "      <th>52</th>\n",
              "      <td>29168.701172</td>\n",
              "      <td>29196.521484</td>\n",
              "    </tr>\n",
              "    <tr>\n",
              "      <th>53</th>\n",
              "      <td>29158.798828</td>\n",
              "      <td>29203.091797</td>\n",
              "    </tr>\n",
              "    <tr>\n",
              "      <th>54</th>\n",
              "      <td>29128.548828</td>\n",
              "      <td>29235.576172</td>\n",
              "    </tr>\n",
              "    <tr>\n",
              "      <th>55</th>\n",
              "      <td>29073.798828</td>\n",
              "      <td>29254.794922</td>\n",
              "    </tr>\n",
              "    <tr>\n",
              "      <th>56</th>\n",
              "      <td>28965.599609</td>\n",
              "      <td>29271.080078</td>\n",
              "    </tr>\n",
              "    <tr>\n",
              "      <th>57</th>\n",
              "      <td>28805.199219</td>\n",
              "      <td>29254.177734</td>\n",
              "    </tr>\n",
              "    <tr>\n",
              "      <th>58</th>\n",
              "      <td>28647.601562</td>\n",
              "      <td>29237.367188</td>\n",
              "    </tr>\n",
              "    <tr>\n",
              "      <th>59</th>\n",
              "      <td>28543.351562</td>\n",
              "      <td>29198.417969</td>\n",
              "    </tr>\n",
              "  </tbody>\n",
              "</table>\n",
              "</div>"
            ],
            "text/plain": [
              "            test          pred\n",
              "0   29211.650391  29967.412109\n",
              "1   29282.748047  29895.167969\n",
              "2   29262.500000  29818.068359\n",
              "3   29240.498047  29734.003906\n",
              "4   29223.000000  29655.375000\n",
              "5   29177.898438  29578.054688\n",
              "6   29198.699219  29508.037109\n",
              "7   29273.400391  29447.232422\n",
              "8   29248.548828  29408.281250\n",
              "9   29205.597656  29376.982422\n",
              "10  29200.550781  29356.707031\n",
              "11  29116.798828  29353.248047\n",
              "12  29095.451172  29363.630859\n",
              "13  29074.148438  29353.310547\n",
              "14  29081.298828  29355.472656\n",
              "15  29170.748047  29362.955078\n",
              "16  29236.798828  29362.972656\n",
              "17  29182.947266  29355.449219\n",
              "18  29110.099609  29349.857422\n",
              "19  29132.597656  29349.382812\n",
              "20  29111.101562  29334.925781\n",
              "21  29106.500000  29320.777344\n",
              "22  29200.798828  29302.388672\n",
              "23  29353.199219  29295.882812\n",
              "24  29340.449219  29291.519531\n",
              "25  29183.998047  29285.630859\n",
              "26  29167.849609  29276.628906\n",
              "27  29138.101562  29266.203125\n",
              "28  29123.849609  29255.888672\n",
              "29  29127.298828  29254.962891\n",
              "30  29493.949219  29256.779297\n",
              "31  29501.101562  29285.496094\n",
              "32  29524.900391  29306.042969\n",
              "33  29478.599609  29320.253906\n",
              "34  29240.248047  29332.212891\n",
              "35  29082.849609  29332.304688\n",
              "36  29089.599609  29326.978516\n",
              "37  29071.500000  29325.873047\n",
              "38  29081.849609  29326.238281\n",
              "39  29249.800781  29312.744141\n",
              "40  29279.849609  29301.253906\n",
              "41  29303.150391  29280.029297\n",
              "42  29272.349609  29258.476562\n",
              "43  29224.199219  29232.625000\n",
              "44  29244.847656  29211.121094\n",
              "45  29298.648438  29213.175781\n",
              "46  29250.949219  29212.984375\n",
              "47  29202.650391  29215.708984\n",
              "48  29164.398438  29212.750000\n",
              "49  29116.748047  29209.060547\n",
              "50  29117.148438  29204.044922\n",
              "51  29196.349609  29186.884766\n",
              "52  29168.701172  29196.521484\n",
              "53  29158.798828  29203.091797\n",
              "54  29128.548828  29235.576172\n",
              "55  29073.798828  29254.794922\n",
              "56  28965.599609  29271.080078\n",
              "57  28805.199219  29254.177734\n",
              "58  28647.601562  29237.367188\n",
              "59  28543.351562  29198.417969"
            ]
          },
          "metadata": {
            "tags": []
          },
          "execution_count": 88
        }
      ]
    },
    {
      "cell_type": "code",
      "metadata": {
        "id": "laughing-perth",
        "outputId": "c8d90177-3051-4fa0-da1a-2b2569ec53ae"
      },
      "source": [
        "import matplotlib.pyplot as plt\n",
        "import seaborn as sns\n",
        "sns.set_style('whitegrid')\n",
        "sns.set_context('poster')\n",
        "fig = plt.figure(figsize = (20,7))\n",
        "\n",
        "sns.lineplot(x = \"date\", y = \"pred\", data=df[-200:],\n",
        "             palette = \"hot\"\n",
        "             ,color=\"green\"\n",
        "            )\n",
        "sns.lineplot(x = \"date\", y = \"test\", data=df[-200:],\n",
        "             palette = \"hot\"\n",
        "             ,color=\"blue\"\n",
        "            )\n",
        "\n",
        "fig.autofmt_xdate()\n",
        "\n",
        "plt.title(\"LSTM-10-minutes\") # for title\n",
        "plt.xlabel(\"Date\") # label for x-axis\n",
        "plt.ylabel(\"Closing price\") # label for y-axis\n",
        "plt.show()"
      ],
      "id": "laughing-perth",
      "execution_count": null,
      "outputs": [
        {
          "output_type": "display_data",
          "data": {
            "image/png": "[encoded data removed]",
            "text/plain": [
              "<Figure size 1440x504 with 1 Axes>"
            ]
          },
          "metadata": {
            "tags": []
          }
        }
      ]
    },
    {
      "cell_type": "code",
      "metadata": {
        "id": "middle-township"
      },
      "source": [
        "df['pred_lag']=df['pred'].shift(1)"
      ],
      "id": "middle-township",
      "execution_count": null,
      "outputs": []
    },
    {
      "cell_type": "code",
      "metadata": {
        "id": "multiple-cookie"
      },
      "source": [
        "df['test_lag']=df['test'].shift(1)"
      ],
      "id": "multiple-cookie",
      "execution_count": null,
      "outputs": []
    },
    {
      "cell_type": "code",
      "metadata": {
        "id": "behind-permit"
      },
      "source": [
        "df=df.dropna()"
      ],
      "id": "behind-permit",
      "execution_count": null,
      "outputs": []
    },
    {
      "cell_type": "code",
      "metadata": {
        "id": "optical-hamilton"
      },
      "source": [
        "r=0"
      ],
      "id": "optical-hamilton",
      "execution_count": null,
      "outputs": []
    },
    {
      "cell_type": "code",
      "metadata": {
        "id": "rotary-battle"
      },
      "source": [
        "df['position'] = np.where(df['pred']> (1+r)*df['pred_lag'], 1, 0) "
      ],
      "id": "rotary-battle",
      "execution_count": null,
      "outputs": []
    },
    {
      "cell_type": "code",
      "metadata": {
        "id": "worldwide-screw"
      },
      "source": [
        "df['position_act']= np.where(df['test']> (1+r)*df['test_lag'], 1, 0) "
      ],
      "id": "worldwide-screw",
      "execution_count": null,
      "outputs": []
    },
    {
      "cell_type": "code",
      "metadata": {
        "id": "raised-fortune",
        "colab": {
          "base_uri": "https://localhost:8080/",
          "height": 1000
        },
        "outputId": "54f03425-c13f-4721-fe6d-5291f6de9574"
      },
      "source": [
        "df.head(60)"
      ],
      "id": "raised-fortune",
      "execution_count": null,
      "outputs": [
        {
          "output_type": "execute_result",
          "data": {
            "text/html": [
              "<div>\n",
              "<style scoped>\n",
              "    .dataframe tbody tr th:only-of-type {\n",
              "        vertical-align: middle;\n",
              "    }\n",
              "\n",
              "    .dataframe tbody tr th {\n",
              "        vertical-align: top;\n",
              "    }\n",
              "\n",
              "    .dataframe thead th {\n",
              "        text-align: right;\n",
              "    }\n",
              "</style>\n",
              "<table border=\"1\" class=\"dataframe\">\n",
              "  <thead>\n",
              "    <tr style=\"text-align: right;\">\n",
              "      <th></th>\n",
              "      <th>test</th>\n",
              "      <th>pred</th>\n",
              "      <th>pred_lag</th>\n",
              "      <th>test_lag</th>\n",
              "      <th>position</th>\n",
              "      <th>position_act</th>\n",
              "      <th>returns</th>\n",
              "    </tr>\n",
              "  </thead>\n",
              "  <tbody>\n",
              "    <tr>\n",
              "      <th>2</th>\n",
              "      <td>29262.500000</td>\n",
              "      <td>29818.068359</td>\n",
              "      <td>29895.167969</td>\n",
              "      <td>29282.748047</td>\n",
              "      <td>0</td>\n",
              "      <td>0</td>\n",
              "      <td>-0.000691</td>\n",
              "    </tr>\n",
              "    <tr>\n",
              "      <th>3</th>\n",
              "      <td>29240.498047</td>\n",
              "      <td>29734.003906</td>\n",
              "      <td>29818.068359</td>\n",
              "      <td>29262.500000</td>\n",
              "      <td>0</td>\n",
              "      <td>0</td>\n",
              "      <td>-0.000752</td>\n",
              "    </tr>\n",
              "    <tr>\n",
              "      <th>4</th>\n",
              "      <td>29223.000000</td>\n",
              "      <td>29655.375000</td>\n",
              "      <td>29734.003906</td>\n",
              "      <td>29240.498047</td>\n",
              "      <td>0</td>\n",
              "      <td>0</td>\n",
              "      <td>-0.000598</td>\n",
              "    </tr>\n",
              "    <tr>\n",
              "      <th>5</th>\n",
              "      <td>29177.898438</td>\n",
              "      <td>29578.054688</td>\n",
              "      <td>29655.375000</td>\n",
              "      <td>29223.000000</td>\n",
              "      <td>0</td>\n",
              "      <td>0</td>\n",
              "      <td>-0.001543</td>\n",
              "    </tr>\n",
              "    <tr>\n",
              "      <th>6</th>\n",
              "      <td>29198.699219</td>\n",
              "      <td>29508.037109</td>\n",
              "      <td>29578.054688</td>\n",
              "      <td>29177.898438</td>\n",
              "      <td>0</td>\n",
              "      <td>1</td>\n",
              "      <td>0.000713</td>\n",
              "    </tr>\n",
              "    <tr>\n",
              "      <th>7</th>\n",
              "      <td>29273.400391</td>\n",
              "      <td>29447.232422</td>\n",
              "      <td>29508.037109</td>\n",
              "      <td>29198.699219</td>\n",
              "      <td>0</td>\n",
              "      <td>1</td>\n",
              "      <td>0.002558</td>\n",
              "    </tr>\n",
              "    <tr>\n",
              "      <th>8</th>\n",
              "      <td>29248.548828</td>\n",
              "      <td>29408.281250</td>\n",
              "      <td>29447.232422</td>\n",
              "      <td>29273.400391</td>\n",
              "      <td>0</td>\n",
              "      <td>0</td>\n",
              "      <td>-0.000849</td>\n",
              "    </tr>\n",
              "    <tr>\n",
              "      <th>9</th>\n",
              "      <td>29205.597656</td>\n",
              "      <td>29376.982422</td>\n",
              "      <td>29408.281250</td>\n",
              "      <td>29248.548828</td>\n",
              "      <td>0</td>\n",
              "      <td>0</td>\n",
              "      <td>-0.001468</td>\n",
              "    </tr>\n",
              "    <tr>\n",
              "      <th>10</th>\n",
              "      <td>29200.550781</td>\n",
              "      <td>29356.707031</td>\n",
              "      <td>29376.982422</td>\n",
              "      <td>29205.597656</td>\n",
              "      <td>0</td>\n",
              "      <td>0</td>\n",
              "      <td>-0.000173</td>\n",
              "    </tr>\n",
              "    <tr>\n",
              "      <th>11</th>\n",
              "      <td>29116.798828</td>\n",
              "      <td>29353.248047</td>\n",
              "      <td>29356.707031</td>\n",
              "      <td>29200.550781</td>\n",
              "      <td>0</td>\n",
              "      <td>0</td>\n",
              "      <td>-0.002868</td>\n",
              "    </tr>\n",
              "    <tr>\n",
              "      <th>12</th>\n",
              "      <td>29095.451172</td>\n",
              "      <td>29363.630859</td>\n",
              "      <td>29353.248047</td>\n",
              "      <td>29116.798828</td>\n",
              "      <td>1</td>\n",
              "      <td>0</td>\n",
              "      <td>-0.000733</td>\n",
              "    </tr>\n",
              "    <tr>\n",
              "      <th>13</th>\n",
              "      <td>29074.148438</td>\n",
              "      <td>29353.310547</td>\n",
              "      <td>29363.630859</td>\n",
              "      <td>29095.451172</td>\n",
              "      <td>0</td>\n",
              "      <td>0</td>\n",
              "      <td>-0.000732</td>\n",
              "    </tr>\n",
              "    <tr>\n",
              "      <th>14</th>\n",
              "      <td>29081.298828</td>\n",
              "      <td>29355.472656</td>\n",
              "      <td>29353.310547</td>\n",
              "      <td>29074.148438</td>\n",
              "      <td>1</td>\n",
              "      <td>1</td>\n",
              "      <td>0.000246</td>\n",
              "    </tr>\n",
              "    <tr>\n",
              "      <th>15</th>\n",
              "      <td>29170.748047</td>\n",
              "      <td>29362.955078</td>\n",
              "      <td>29355.472656</td>\n",
              "      <td>29081.298828</td>\n",
              "      <td>1</td>\n",
              "      <td>1</td>\n",
              "      <td>0.003076</td>\n",
              "    </tr>\n",
              "    <tr>\n",
              "      <th>16</th>\n",
              "      <td>29236.798828</td>\n",
              "      <td>29362.972656</td>\n",
              "      <td>29362.955078</td>\n",
              "      <td>29170.748047</td>\n",
              "      <td>1</td>\n",
              "      <td>1</td>\n",
              "      <td>0.002264</td>\n",
              "    </tr>\n",
              "    <tr>\n",
              "      <th>17</th>\n",
              "      <td>29182.947266</td>\n",
              "      <td>29355.449219</td>\n",
              "      <td>29362.972656</td>\n",
              "      <td>29236.798828</td>\n",
              "      <td>0</td>\n",
              "      <td>0</td>\n",
              "      <td>-0.001842</td>\n",
              "    </tr>\n",
              "    <tr>\n",
              "      <th>18</th>\n",
              "      <td>29110.099609</td>\n",
              "      <td>29349.857422</td>\n",
              "      <td>29355.449219</td>\n",
              "      <td>29182.947266</td>\n",
              "      <td>0</td>\n",
              "      <td>0</td>\n",
              "      <td>-0.002496</td>\n",
              "    </tr>\n",
              "    <tr>\n",
              "      <th>19</th>\n",
              "      <td>29132.597656</td>\n",
              "      <td>29349.382812</td>\n",
              "      <td>29349.857422</td>\n",
              "      <td>29110.099609</td>\n",
              "      <td>0</td>\n",
              "      <td>1</td>\n",
              "      <td>0.000773</td>\n",
              "    </tr>\n",
              "    <tr>\n",
              "      <th>20</th>\n",
              "      <td>29111.101562</td>\n",
              "      <td>29334.925781</td>\n",
              "      <td>29349.382812</td>\n",
              "      <td>29132.597656</td>\n",
              "      <td>0</td>\n",
              "      <td>0</td>\n",
              "      <td>-0.000738</td>\n",
              "    </tr>\n",
              "    <tr>\n",
              "      <th>21</th>\n",
              "      <td>29106.500000</td>\n",
              "      <td>29320.777344</td>\n",
              "      <td>29334.925781</td>\n",
              "      <td>29111.101562</td>\n",
              "      <td>0</td>\n",
              "      <td>0</td>\n",
              "      <td>-0.000158</td>\n",
              "    </tr>\n",
              "    <tr>\n",
              "      <th>22</th>\n",
              "      <td>29200.798828</td>\n",
              "      <td>29302.388672</td>\n",
              "      <td>29320.777344</td>\n",
              "      <td>29106.500000</td>\n",
              "      <td>0</td>\n",
              "      <td>1</td>\n",
              "      <td>0.003240</td>\n",
              "    </tr>\n",
              "    <tr>\n",
              "      <th>23</th>\n",
              "      <td>29353.199219</td>\n",
              "      <td>29295.882812</td>\n",
              "      <td>29302.388672</td>\n",
              "      <td>29200.798828</td>\n",
              "      <td>0</td>\n",
              "      <td>1</td>\n",
              "      <td>0.005219</td>\n",
              "    </tr>\n",
              "    <tr>\n",
              "      <th>24</th>\n",
              "      <td>29340.449219</td>\n",
              "      <td>29291.519531</td>\n",
              "      <td>29295.882812</td>\n",
              "      <td>29353.199219</td>\n",
              "      <td>0</td>\n",
              "      <td>0</td>\n",
              "      <td>-0.000434</td>\n",
              "    </tr>\n",
              "    <tr>\n",
              "      <th>25</th>\n",
              "      <td>29183.998047</td>\n",
              "      <td>29285.630859</td>\n",
              "      <td>29291.519531</td>\n",
              "      <td>29340.449219</td>\n",
              "      <td>0</td>\n",
              "      <td>0</td>\n",
              "      <td>-0.005332</td>\n",
              "    </tr>\n",
              "    <tr>\n",
              "      <th>26</th>\n",
              "      <td>29167.849609</td>\n",
              "      <td>29276.628906</td>\n",
              "      <td>29285.630859</td>\n",
              "      <td>29183.998047</td>\n",
              "      <td>0</td>\n",
              "      <td>0</td>\n",
              "      <td>-0.000553</td>\n",
              "    </tr>\n",
              "    <tr>\n",
              "      <th>27</th>\n",
              "      <td>29138.101562</td>\n",
              "      <td>29266.203125</td>\n",
              "      <td>29276.628906</td>\n",
              "      <td>29167.849609</td>\n",
              "      <td>0</td>\n",
              "      <td>0</td>\n",
              "      <td>-0.001020</td>\n",
              "    </tr>\n",
              "    <tr>\n",
              "      <th>28</th>\n",
              "      <td>29123.849609</td>\n",
              "      <td>29255.888672</td>\n",
              "      <td>29266.203125</td>\n",
              "      <td>29138.101562</td>\n",
              "      <td>0</td>\n",
              "      <td>0</td>\n",
              "      <td>-0.000489</td>\n",
              "    </tr>\n",
              "    <tr>\n",
              "      <th>29</th>\n",
              "      <td>29127.298828</td>\n",
              "      <td>29254.962891</td>\n",
              "      <td>29255.888672</td>\n",
              "      <td>29123.849609</td>\n",
              "      <td>0</td>\n",
              "      <td>1</td>\n",
              "      <td>0.000118</td>\n",
              "    </tr>\n",
              "    <tr>\n",
              "      <th>30</th>\n",
              "      <td>29493.949219</td>\n",
              "      <td>29256.779297</td>\n",
              "      <td>29254.962891</td>\n",
              "      <td>29127.298828</td>\n",
              "      <td>1</td>\n",
              "      <td>1</td>\n",
              "      <td>0.012588</td>\n",
              "    </tr>\n",
              "    <tr>\n",
              "      <th>31</th>\n",
              "      <td>29501.101562</td>\n",
              "      <td>29285.496094</td>\n",
              "      <td>29256.779297</td>\n",
              "      <td>29493.949219</td>\n",
              "      <td>1</td>\n",
              "      <td>1</td>\n",
              "      <td>0.000243</td>\n",
              "    </tr>\n",
              "    <tr>\n",
              "      <th>32</th>\n",
              "      <td>29524.900391</td>\n",
              "      <td>29306.042969</td>\n",
              "      <td>29285.496094</td>\n",
              "      <td>29501.101562</td>\n",
              "      <td>1</td>\n",
              "      <td>1</td>\n",
              "      <td>0.000807</td>\n",
              "    </tr>\n",
              "    <tr>\n",
              "      <th>33</th>\n",
              "      <td>29478.599609</td>\n",
              "      <td>29320.253906</td>\n",
              "      <td>29306.042969</td>\n",
              "      <td>29524.900391</td>\n",
              "      <td>1</td>\n",
              "      <td>0</td>\n",
              "      <td>-0.001568</td>\n",
              "    </tr>\n",
              "    <tr>\n",
              "      <th>34</th>\n",
              "      <td>29240.248047</td>\n",
              "      <td>29332.212891</td>\n",
              "      <td>29320.253906</td>\n",
              "      <td>29478.599609</td>\n",
              "      <td>1</td>\n",
              "      <td>0</td>\n",
              "      <td>-0.008086</td>\n",
              "    </tr>\n",
              "    <tr>\n",
              "      <th>35</th>\n",
              "      <td>29082.849609</td>\n",
              "      <td>29332.304688</td>\n",
              "      <td>29332.212891</td>\n",
              "      <td>29240.248047</td>\n",
              "      <td>1</td>\n",
              "      <td>0</td>\n",
              "      <td>-0.005383</td>\n",
              "    </tr>\n",
              "    <tr>\n",
              "      <th>36</th>\n",
              "      <td>29089.599609</td>\n",
              "      <td>29326.978516</td>\n",
              "      <td>29332.304688</td>\n",
              "      <td>29082.849609</td>\n",
              "      <td>0</td>\n",
              "      <td>1</td>\n",
              "      <td>0.000232</td>\n",
              "    </tr>\n",
              "    <tr>\n",
              "      <th>37</th>\n",
              "      <td>29071.500000</td>\n",
              "      <td>29325.873047</td>\n",
              "      <td>29326.978516</td>\n",
              "      <td>29089.599609</td>\n",
              "      <td>0</td>\n",
              "      <td>0</td>\n",
              "      <td>-0.000622</td>\n",
              "    </tr>\n",
              "    <tr>\n",
              "      <th>38</th>\n",
              "      <td>29081.849609</td>\n",
              "      <td>29326.238281</td>\n",
              "      <td>29325.873047</td>\n",
              "      <td>29071.500000</td>\n",
              "      <td>1</td>\n",
              "      <td>1</td>\n",
              "      <td>0.000356</td>\n",
              "    </tr>\n",
              "    <tr>\n",
              "      <th>39</th>\n",
              "      <td>29249.800781</td>\n",
              "      <td>29312.744141</td>\n",
              "      <td>29326.238281</td>\n",
              "      <td>29081.849609</td>\n",
              "      <td>0</td>\n",
              "      <td>1</td>\n",
              "      <td>0.005775</td>\n",
              "    </tr>\n",
              "    <tr>\n",
              "      <th>40</th>\n",
              "      <td>29279.849609</td>\n",
              "      <td>29301.253906</td>\n",
              "      <td>29312.744141</td>\n",
              "      <td>29249.800781</td>\n",
              "      <td>0</td>\n",
              "      <td>1</td>\n",
              "      <td>0.001027</td>\n",
              "    </tr>\n",
              "    <tr>\n",
              "      <th>41</th>\n",
              "      <td>29303.150391</td>\n",
              "      <td>29280.029297</td>\n",
              "      <td>29301.253906</td>\n",
              "      <td>29279.849609</td>\n",
              "      <td>0</td>\n",
              "      <td>1</td>\n",
              "      <td>0.000796</td>\n",
              "    </tr>\n",
              "    <tr>\n",
              "      <th>42</th>\n",
              "      <td>29272.349609</td>\n",
              "      <td>29258.476562</td>\n",
              "      <td>29280.029297</td>\n",
              "      <td>29303.150391</td>\n",
              "      <td>0</td>\n",
              "      <td>0</td>\n",
              "      <td>-0.001051</td>\n",
              "    </tr>\n",
              "    <tr>\n",
              "      <th>43</th>\n",
              "      <td>29224.199219</td>\n",
              "      <td>29232.625000</td>\n",
              "      <td>29258.476562</td>\n",
              "      <td>29272.349609</td>\n",
              "      <td>0</td>\n",
              "      <td>0</td>\n",
              "      <td>-0.001645</td>\n",
              "    </tr>\n",
              "    <tr>\n",
              "      <th>44</th>\n",
              "      <td>29244.847656</td>\n",
              "      <td>29211.121094</td>\n",
              "      <td>29232.625000</td>\n",
              "      <td>29224.199219</td>\n",
              "      <td>0</td>\n",
              "      <td>1</td>\n",
              "      <td>0.000707</td>\n",
              "    </tr>\n",
              "    <tr>\n",
              "      <th>45</th>\n",
              "      <td>29298.648438</td>\n",
              "      <td>29213.175781</td>\n",
              "      <td>29211.121094</td>\n",
              "      <td>29244.847656</td>\n",
              "      <td>1</td>\n",
              "      <td>1</td>\n",
              "      <td>0.001840</td>\n",
              "    </tr>\n",
              "    <tr>\n",
              "      <th>46</th>\n",
              "      <td>29250.949219</td>\n",
              "      <td>29212.984375</td>\n",
              "      <td>29213.175781</td>\n",
              "      <td>29298.648438</td>\n",
              "      <td>0</td>\n",
              "      <td>0</td>\n",
              "      <td>-0.001628</td>\n",
              "    </tr>\n",
              "    <tr>\n",
              "      <th>47</th>\n",
              "      <td>29202.650391</td>\n",
              "      <td>29215.708984</td>\n",
              "      <td>29212.984375</td>\n",
              "      <td>29250.949219</td>\n",
              "      <td>1</td>\n",
              "      <td>0</td>\n",
              "      <td>-0.001651</td>\n",
              "    </tr>\n",
              "    <tr>\n",
              "      <th>48</th>\n",
              "      <td>29164.398438</td>\n",
              "      <td>29212.750000</td>\n",
              "      <td>29215.708984</td>\n",
              "      <td>29202.650391</td>\n",
              "      <td>0</td>\n",
              "      <td>0</td>\n",
              "      <td>-0.001310</td>\n",
              "    </tr>\n",
              "    <tr>\n",
              "      <th>49</th>\n",
              "      <td>29116.748047</td>\n",
              "      <td>29209.060547</td>\n",
              "      <td>29212.750000</td>\n",
              "      <td>29164.398438</td>\n",
              "      <td>0</td>\n",
              "      <td>0</td>\n",
              "      <td>-0.001634</td>\n",
              "    </tr>\n",
              "    <tr>\n",
              "      <th>50</th>\n",
              "      <td>29117.148438</td>\n",
              "      <td>29204.044922</td>\n",
              "      <td>29209.060547</td>\n",
              "      <td>29116.748047</td>\n",
              "      <td>0</td>\n",
              "      <td>1</td>\n",
              "      <td>0.000014</td>\n",
              "    </tr>\n",
              "    <tr>\n",
              "      <th>51</th>\n",
              "      <td>29196.349609</td>\n",
              "      <td>29186.884766</td>\n",
              "      <td>29204.044922</td>\n",
              "      <td>29117.148438</td>\n",
              "      <td>0</td>\n",
              "      <td>1</td>\n",
              "      <td>0.002720</td>\n",
              "    </tr>\n",
              "    <tr>\n",
              "      <th>52</th>\n",
              "      <td>29168.701172</td>\n",
              "      <td>29196.521484</td>\n",
              "      <td>29186.884766</td>\n",
              "      <td>29196.349609</td>\n",
              "      <td>1</td>\n",
              "      <td>0</td>\n",
              "      <td>-0.000947</td>\n",
              "    </tr>\n",
              "    <tr>\n",
              "      <th>53</th>\n",
              "      <td>29158.798828</td>\n",
              "      <td>29203.091797</td>\n",
              "      <td>29196.521484</td>\n",
              "      <td>29168.701172</td>\n",
              "      <td>1</td>\n",
              "      <td>0</td>\n",
              "      <td>-0.000339</td>\n",
              "    </tr>\n",
              "    <tr>\n",
              "      <th>54</th>\n",
              "      <td>29128.548828</td>\n",
              "      <td>29235.576172</td>\n",
              "      <td>29203.091797</td>\n",
              "      <td>29158.798828</td>\n",
              "      <td>1</td>\n",
              "      <td>0</td>\n",
              "      <td>-0.001037</td>\n",
              "    </tr>\n",
              "    <tr>\n",
              "      <th>55</th>\n",
              "      <td>29073.798828</td>\n",
              "      <td>29254.794922</td>\n",
              "      <td>29235.576172</td>\n",
              "      <td>29128.548828</td>\n",
              "      <td>1</td>\n",
              "      <td>0</td>\n",
              "      <td>-0.001880</td>\n",
              "    </tr>\n",
              "    <tr>\n",
              "      <th>56</th>\n",
              "      <td>28965.599609</td>\n",
              "      <td>29271.080078</td>\n",
              "      <td>29254.794922</td>\n",
              "      <td>29073.798828</td>\n",
              "      <td>1</td>\n",
              "      <td>0</td>\n",
              "      <td>-0.003722</td>\n",
              "    </tr>\n",
              "    <tr>\n",
              "      <th>57</th>\n",
              "      <td>28805.199219</td>\n",
              "      <td>29254.177734</td>\n",
              "      <td>29271.080078</td>\n",
              "      <td>28965.599609</td>\n",
              "      <td>0</td>\n",
              "      <td>0</td>\n",
              "      <td>-0.005538</td>\n",
              "    </tr>\n",
              "    <tr>\n",
              "      <th>58</th>\n",
              "      <td>28647.601562</td>\n",
              "      <td>29237.367188</td>\n",
              "      <td>29254.177734</td>\n",
              "      <td>28805.199219</td>\n",
              "      <td>0</td>\n",
              "      <td>0</td>\n",
              "      <td>-0.005471</td>\n",
              "    </tr>\n",
              "    <tr>\n",
              "      <th>59</th>\n",
              "      <td>28543.351562</td>\n",
              "      <td>29198.417969</td>\n",
              "      <td>29237.367188</td>\n",
              "      <td>28647.601562</td>\n",
              "      <td>0</td>\n",
              "      <td>0</td>\n",
              "      <td>-0.003639</td>\n",
              "    </tr>\n",
              "    <tr>\n",
              "      <th>60</th>\n",
              "      <td>28396.199219</td>\n",
              "      <td>29145.736328</td>\n",
              "      <td>29198.417969</td>\n",
              "      <td>28543.351562</td>\n",
              "      <td>0</td>\n",
              "      <td>0</td>\n",
              "      <td>-0.005155</td>\n",
              "    </tr>\n",
              "    <tr>\n",
              "      <th>61</th>\n",
              "      <td>28475.449219</td>\n",
              "      <td>29092.908203</td>\n",
              "      <td>29145.736328</td>\n",
              "      <td>28396.199219</td>\n",
              "      <td>0</td>\n",
              "      <td>1</td>\n",
              "      <td>0.002791</td>\n",
              "    </tr>\n",
              "  </tbody>\n",
              "</table>\n",
              "</div>"
            ],
            "text/plain": [
              "            test          pred      pred_lag  ...  position  position_act   returns\n",
              "2   29262.500000  29818.068359  29895.167969  ...         0             0 -0.000691\n",
              "3   29240.498047  29734.003906  29818.068359  ...         0             0 -0.000752\n",
              "4   29223.000000  29655.375000  29734.003906  ...         0             0 -0.000598\n",
              "5   29177.898438  29578.054688  29655.375000  ...         0             0 -0.001543\n",
              "6   29198.699219  29508.037109  29578.054688  ...         0             1  0.000713\n",
              "7   29273.400391  29447.232422  29508.037109  ...         0             1  0.002558\n",
              "8   29248.548828  29408.281250  29447.232422  ...         0             0 -0.000849\n",
              "9   29205.597656  29376.982422  29408.281250  ...         0             0 -0.001468\n",
              "10  29200.550781  29356.707031  29376.982422  ...         0             0 -0.000173\n",
              "11  29116.798828  29353.248047  29356.707031  ...         0             0 -0.002868\n",
              "12  29095.451172  29363.630859  29353.248047  ...         1             0 -0.000733\n",
              "13  29074.148438  29353.310547  29363.630859  ...         0             0 -0.000732\n",
              "14  29081.298828  29355.472656  29353.310547  ...         1             1  0.000246\n",
              "15  29170.748047  29362.955078  29355.472656  ...         1             1  0.003076\n",
              "16  29236.798828  29362.972656  29362.955078  ...         1             1  0.002264\n",
              "17  29182.947266  29355.449219  29362.972656  ...         0             0 -0.001842\n",
              "18  29110.099609  29349.857422  29355.449219  ...         0             0 -0.002496\n",
              "19  29132.597656  29349.382812  29349.857422  ...         0             1  0.000773\n",
              "20  29111.101562  29334.925781  29349.382812  ...         0             0 -0.000738\n",
              "21  29106.500000  29320.777344  29334.925781  ...         0             0 -0.000158\n",
              "22  29200.798828  29302.388672  29320.777344  ...         0             1  0.003240\n",
              "23  29353.199219  29295.882812  29302.388672  ...         0             1  0.005219\n",
              "24  29340.449219  29291.519531  29295.882812  ...         0             0 -0.000434\n",
              "25  29183.998047  29285.630859  29291.519531  ...         0             0 -0.005332\n",
              "26  29167.849609  29276.628906  29285.630859  ...         0             0 -0.000553\n",
              "27  29138.101562  29266.203125  29276.628906  ...         0             0 -0.001020\n",
              "28  29123.849609  29255.888672  29266.203125  ...         0             0 -0.000489\n",
              "29  29127.298828  29254.962891  29255.888672  ...         0             1  0.000118\n",
              "30  29493.949219  29256.779297  29254.962891  ...         1             1  0.012588\n",
              "31  29501.101562  29285.496094  29256.779297  ...         1             1  0.000243\n",
              "32  29524.900391  29306.042969  29285.496094  ...         1             1  0.000807\n",
              "33  29478.599609  29320.253906  29306.042969  ...         1             0 -0.001568\n",
              "34  29240.248047  29332.212891  29320.253906  ...         1             0 -0.008086\n",
              "35  29082.849609  29332.304688  29332.212891  ...         1             0 -0.005383\n",
              "36  29089.599609  29326.978516  29332.304688  ...         0             1  0.000232\n",
              "37  29071.500000  29325.873047  29326.978516  ...         0             0 -0.000622\n",
              "38  29081.849609  29326.238281  29325.873047  ...         1             1  0.000356\n",
              "39  29249.800781  29312.744141  29326.238281  ...         0             1  0.005775\n",
              "40  29279.849609  29301.253906  29312.744141  ...         0             1  0.001027\n",
              "41  29303.150391  29280.029297  29301.253906  ...         0             1  0.000796\n",
              "42  29272.349609  29258.476562  29280.029297  ...         0             0 -0.001051\n",
              "43  29224.199219  29232.625000  29258.476562  ...         0             0 -0.001645\n",
              "44  29244.847656  29211.121094  29232.625000  ...         0             1  0.000707\n",
              "45  29298.648438  29213.175781  29211.121094  ...         1             1  0.001840\n",
              "46  29250.949219  29212.984375  29213.175781  ...         0             0 -0.001628\n",
              "47  29202.650391  29215.708984  29212.984375  ...         1             0 -0.001651\n",
              "48  29164.398438  29212.750000  29215.708984  ...         0             0 -0.001310\n",
              "49  29116.748047  29209.060547  29212.750000  ...         0             0 -0.001634\n",
              "50  29117.148438  29204.044922  29209.060547  ...         0             1  0.000014\n",
              "51  29196.349609  29186.884766  29204.044922  ...         0             1  0.002720\n",
              "52  29168.701172  29196.521484  29186.884766  ...         1             0 -0.000947\n",
              "53  29158.798828  29203.091797  29196.521484  ...         1             0 -0.000339\n",
              "54  29128.548828  29235.576172  29203.091797  ...         1             0 -0.001037\n",
              "55  29073.798828  29254.794922  29235.576172  ...         1             0 -0.001880\n",
              "56  28965.599609  29271.080078  29254.794922  ...         1             0 -0.003722\n",
              "57  28805.199219  29254.177734  29271.080078  ...         0             0 -0.005538\n",
              "58  28647.601562  29237.367188  29254.177734  ...         0             0 -0.005471\n",
              "59  28543.351562  29198.417969  29237.367188  ...         0             0 -0.003639\n",
              "60  28396.199219  29145.736328  29198.417969  ...         0             0 -0.005155\n",
              "61  28475.449219  29092.908203  29145.736328  ...         0             1  0.002791\n",
              "\n",
              "[60 rows x 7 columns]"
            ]
          },
          "metadata": {
            "tags": []
          },
          "execution_count": 99
        }
      ]
    },
    {
      "cell_type": "code",
      "metadata": {
        "id": "b06vAO_2i90A"
      },
      "source": [
        "df['returns']=df['test'].pct_change()"
      ],
      "id": "b06vAO_2i90A",
      "execution_count": null,
      "outputs": []
    },
    {
      "cell_type": "code",
      "metadata": {
        "id": "ItDcVOYjjLuJ"
      },
      "source": [
        "df=df.dropna()"
      ],
      "id": "ItDcVOYjjLuJ",
      "execution_count": null,
      "outputs": []
    },
    {
      "cell_type": "code",
      "metadata": {
        "id": "strong-senator"
      },
      "source": [
        "from sklearn.metrics import accuracy_score"
      ],
      "id": "strong-senator",
      "execution_count": null,
      "outputs": []
    },
    {
      "cell_type": "code",
      "metadata": {
        "id": "lesser-memphis",
        "colab": {
          "base_uri": "https://localhost:8080/"
        },
        "outputId": "a097ca15-1acc-487b-abe1-bb8217724356"
      },
      "source": [
        "accuracy_score(df['position_act'],df['position'])"
      ],
      "id": "lesser-memphis",
      "execution_count": null,
      "outputs": [
        {
          "output_type": "execute_result",
          "data": {
            "text/plain": [
              "0.5510445049954587"
            ]
          },
          "metadata": {
            "tags": []
          },
          "execution_count": 132
        }
      ]
    },
    {
      "cell_type": "code",
      "metadata": {
        "id": "A_gD2Agmgi_d"
      },
      "source": [
        ""
      ],
      "id": "A_gD2Agmgi_d",
      "execution_count": null,
      "outputs": []
    },
    {
      "cell_type": "code",
      "metadata": {
        "id": "brutal-differential"
      },
      "source": [
        "df[\"strategy\"] = df[\"position\"] * df[\"returns\"]\n",
        "df.dropna(inplace=True)\n",
        "df[\"creturns\"] = (1+df[\"returns\"]).cumprod()-1\n",
        "df[\"cstrategy\"] = (1+df[\"strategy\"]).cumprod()-1\n",
        "\n",
        "# absolute performance of the strategy\n",
        "perf = df[\"cstrategy\"].iloc[-1]"
      ],
      "id": "brutal-differential",
      "execution_count": null,
      "outputs": []
    },
    {
      "cell_type": "code",
      "metadata": {
        "id": "-Gqvezbvj2ul",
        "colab": {
          "base_uri": "https://localhost:8080/"
        },
        "outputId": "ae602b92-0088-42a8-e168-437696fa95c4"
      },
      "source": [
        "df[\"creturns\"].iloc[-1]"
      ],
      "id": "-Gqvezbvj2ul",
      "execution_count": null,
      "outputs": [
        {
          "output_type": "execute_result",
          "data": {
            "text/plain": [
              "0.012304199751778988"
            ]
          },
          "metadata": {
            "tags": []
          },
          "execution_count": 104
        }
      ]
    },
    {
      "cell_type": "code",
      "metadata": {
        "id": "MCM61tP2jxeZ",
        "colab": {
          "base_uri": "https://localhost:8080/"
        },
        "outputId": "723cb4bc-06f6-4d49-a19a-ee71ccaed8b2"
      },
      "source": [
        "perf"
      ],
      "id": "MCM61tP2jxeZ",
      "execution_count": null,
      "outputs": [
        {
          "output_type": "execute_result",
          "data": {
            "text/plain": [
              "6.32220009520673"
            ]
          },
          "metadata": {
            "tags": []
          },
          "execution_count": 101
        }
      ]
    }
  ]
}